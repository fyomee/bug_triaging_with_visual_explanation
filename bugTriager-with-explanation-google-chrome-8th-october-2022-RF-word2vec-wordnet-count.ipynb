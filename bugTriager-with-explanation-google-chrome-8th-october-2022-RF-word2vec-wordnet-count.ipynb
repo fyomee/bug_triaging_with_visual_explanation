{
 "cells": [
  {
   "cell_type": "code",
   "execution_count": 1,
   "id": "f00b496e",
   "metadata": {},
   "outputs": [],
   "source": [
    "# !pip3 install shap\n",
    "# !pip3 install pyexplainer\n",
    "# !pip3 install lime\n",
    "# !pip3 install gensim\n",
    "# !pip3 install keras\n",
    "# !pip3 install tensorflow\n",
    "# !pip3 install sklearn\n",
    "# !pip3 install nltk\n",
    "# import nltk\n",
    "# nltk.download('omw-1.4')\n",
    "# nltk.download('punkt')\n",
    "# nltk.download('wordnet')\n",
    "# nltk.download('stopwords')\n",
    "# !pip install wordcloud"
   ]
  },
  {
   "cell_type": "code",
   "execution_count": 2,
   "id": "cad976b8",
   "metadata": {},
   "outputs": [],
   "source": [
    "import numpy as np\n",
    "import json, re, nltk, string, os, sys\n",
    "from os.path import abspath\n",
    "from sklearn.feature_extraction.text import TfidfVectorizer\n",
    "from nltk.corpus import wordnet\n",
    "from gensim.models import Word2Vec\n",
    "from keras.utils import np_utils\n",
    "from nltk.corpus import stopwords\n",
    "from sklearn.ensemble import RandomForestClassifier\n",
    "from sklearn.metrics import accuracy_score\n",
    "\n",
    "import matplotlib.pyplot as plt\n",
    "import time"
   ]
  },
  {
   "cell_type": "code",
   "execution_count": 3,
   "id": "01a43f9a",
   "metadata": {},
   "outputs": [],
   "source": [
    "bug_reports = os.path.join(sys.path[0],\"data/GoogleChromium/train_test_json/classifier_data_20.json\")\n",
    "deep_data = os.path.join(sys.path[0],\"data/GoogleChromium/deep_data.json\")"
   ]
  },
  {
   "cell_type": "code",
   "execution_count": 4,
   "id": "b7e50417",
   "metadata": {},
   "outputs": [],
   "source": [
    "#========================================================================================\n",
    "# Initializing Hyper parameter\n",
    "#========================================================================================\n",
    "#1. Word2vec parameters\n",
    "min_word_frequency = 5\n",
    "embed_size_word2vec = 300\n",
    "context_window_word2vec = 5\n",
    "\n",
    "#2. Classifier hyperparameters\n",
    "numCV = 10\n",
    "max_sentence_len = 50\n",
    "min_sentence_length = 15\n",
    "rankK = 10\n",
    "batch_size = 32"
   ]
  },
  {
   "cell_type": "code",
   "execution_count": 5,
   "id": "77663291",
   "metadata": {},
   "outputs": [],
   "source": [
    "def contains_letters(phrase):\n",
    "    return bool(re.search('[a-zA-Z]', phrase))"
   ]
  },
  {
   "cell_type": "code",
   "execution_count": 6,
   "id": "ce20291e",
   "metadata": {},
   "outputs": [],
   "source": [
    "def getProcessedData(bug_reports):\n",
    "    with open(bug_reports) as data_file:\n",
    "        data = json.load(data_file, strict=False)\n",
    "\n",
    "    i = 0\n",
    "    \n",
    "    raw_data = []\n",
    "    all_data = []\n",
    "    all_owner = []\n",
    "    for item in data:\n",
    "        \n",
    "        data = 'Title:' + item['issue_title'] + '\\n Description: ' + item['description']\n",
    "        raw_data.append(data) \n",
    "\n",
    "        #1. Remove \\r\n",
    "        current_title = item['issue_title'].replace('\\r', ' ')\n",
    "        current_desc = item['description'].replace('\\r', ' ')\n",
    "\n",
    "        #2. Remove URLs\n",
    "        current_desc = re.sub(r'http[s]?://(?:[a-zA-Z]|[0-9]|[$-_@.&+]|[!*\\(\\),]|(?:%[0-9a-fA-F][0-9a-fA-F]))+', ' ', current_desc)\n",
    "\n",
    "        #3. Remove Stack Trace\n",
    "        start_loc = current_desc.find(\"Stack trace:\")\n",
    "        current_desc = current_desc[:start_loc]\n",
    "\n",
    "        #4. Change to lower case & Remove hex code\n",
    "        current_data = current_title.lower() + ' ' + current_desc.lower()\n",
    "        current_data = re.sub(r'(\\w+)0x\\w+', ' ', current_data)\n",
    "        current_data = re.sub(r'[^\\w\\s]', ' ', current_data)\n",
    "        \n",
    "        #5. Remove digits\n",
    "        current_data = re.sub(r'[0-9]', '', current_data)\n",
    "\n",
    "        #6. Tokenize\n",
    "        current_data_tokens = [w for w in nltk.word_tokenize(current_data) if contains_letters(w) and len(w) > 1]\n",
    "\n",
    "        #7. Remove stop words\n",
    "        stop_words = set(stopwords.words('english'))\n",
    "        current_data_filter = [w for w in current_data_tokens if not w in stop_words]\n",
    "\n",
    "        all_data.append(current_data_filter)\n",
    "        all_owner.append(item['owner'])\n",
    "        \n",
    "        i = i + 1\n",
    "        if i == 20000:\n",
    "            break\n",
    "\n",
    "    return raw_data, all_data, all_owner"
   ]
  },
  {
   "cell_type": "code",
   "execution_count": 7,
   "id": "f00c50fb",
   "metadata": {},
   "outputs": [],
   "source": [
    "raw_data, all_data, all_owner = getProcessedData(bug_reports)"
   ]
  },
  {
   "cell_type": "code",
   "execution_count": 8,
   "id": "c34b36ac",
   "metadata": {},
   "outputs": [
    {
     "data": {
      "text/plain": [
       "20000"
      ]
     },
     "execution_count": 8,
     "metadata": {},
     "output_type": "execute_result"
    }
   ],
   "source": [
    "len(raw_data)\n",
    "len(all_data)\n",
    "len(all_owner)"
   ]
  },
  {
   "cell_type": "code",
   "execution_count": 9,
   "id": "90859705",
   "metadata": {},
   "outputs": [],
   "source": [
    "def getRandomForestClassifierAccuracy(X_train, Y_train, X_test, Y_test):\n",
    "    start = time.time()\n",
    "\n",
    "    rfc_model = RandomForestClassifier(n_estimators = 1000, max_depth = 300, n_jobs = -1, random_state=1)\n",
    "    \n",
    "    rfc_model.fit(X_train, Y_train) \n",
    "    \n",
    "    y_pred = rfc_model.predict_proba(X_test)\n",
    "    \n",
    "    end = time.time()\n",
    "    \n",
    "    elapsedTime = end - start\n",
    "    \n",
    "    classes = rfc_model.classes_\n",
    "    sortedIndices = []\n",
    "    pred_classes = []\n",
    "    index_pred_classes = []\n",
    "    rfc_accuracy = []\n",
    "    index = 0  \n",
    "    for ll in y_pred:\n",
    "        sortedIndices.append(sorted(range(len(ll)), key=lambda ii: ll[ii], reverse=True))  \n",
    "    for k in range(1, rankK+1):\n",
    "        id = 0\n",
    "        trueNum = 0\n",
    "        pred_class_no=0\n",
    "        for sortedInd in sortedIndices:\n",
    "            if Y_test[id] in classes[sortedInd[:k]]:\n",
    "                trueNum += 1\n",
    "                pred_classes.append(classes[sortedInd[:k]])\n",
    "                pred_class_no = trueNum\n",
    "                if index < 9 and k == 1:\n",
    "                    index = id\n",
    "                    index_pred_classes.append(classes[sortedInd[:k]])\n",
    "            id += 1\n",
    "        rfc_accuracy.append(float('{0:.2f}'.format((float(trueNum) / len(y_pred)) * 100)))\n",
    "\n",
    "    return rfc_model, rfc_accuracy, classes, index, elapsedTime"
   ]
  },
  {
   "cell_type": "code",
   "execution_count": 10,
   "id": "b55cfea7",
   "metadata": {},
   "outputs": [],
   "source": [
    "def average(lst):\n",
    "    return sum(lst) / len(lst)"
   ]
  },
  {
   "cell_type": "code",
   "execution_count": 11,
   "id": "b68435b8",
   "metadata": {},
   "outputs": [],
   "source": [
    "def getRank1_5_10_data(accuracy_cv10_with_avg):\n",
    "    rank1=''\n",
    "    rank5=''\n",
    "    rank10=''\n",
    "    for i in range(0, 11):\n",
    "        rank1 = rank1 + str(accuracy_cv10_with_avg[i][0])\n",
    "        rank5 = rank5 + str(accuracy_cv10_with_avg[i][4])\n",
    "        rank10 = rank10 + str(accuracy_cv10_with_avg[i][9])\n",
    "\n",
    "        if i!=10:\n",
    "            rank1 = rank1 + '  '\n",
    "            rank5 = rank5 + '  '\n",
    "            rank10 = rank10 + '  '\n",
    "\n",
    "\n",
    "    return rank1, rank5, rank10"
   ]
  },
  {
   "cell_type": "code",
   "execution_count": 12,
   "id": "20478908",
   "metadata": {},
   "outputs": [],
   "source": [
    "def getProcessedDeepData(deep_data):\n",
    "    with open(deep_data) as data_file:\n",
    "        data = json.load(data_file, strict=False)\n",
    "\n",
    "    all_data = []\n",
    "    for item in data:\n",
    "\n",
    "        #1. Remove \\r\n",
    "        current_title = item['issue_title'].replace('\\r', ' ')\n",
    "        current_desc = item['description'].replace('\\r', ' ')\n",
    "\n",
    "        #2. Remove URLs\n",
    "        current_desc = re.sub(r'http[s]?://(?:[a-zA-Z]|[0-9]|[$-_@.&+]|[!*\\(\\),]|(?:%[0-9a-fA-F][0-9a-fA-F]))+', ' ', current_desc)\n",
    "\n",
    "        #3. Remove Stack Trace\n",
    "        start_loc = current_desc.find(\"Stack trace:\")\n",
    "        current_desc = current_desc[:start_loc]\n",
    "\n",
    "        #4. Change to lower case & Remove hex code\n",
    "        current_data = current_title.lower() + ' ' + current_desc.lower()\n",
    "        current_data = re.sub(r'(\\w+)0x\\w+', ' ', current_data)\n",
    " \n",
    "        current_data = re.sub(r'[^\\w\\s]', ' ', current_data)\n",
    "        \n",
    "        #5. Remove digits\n",
    "        current_data = re.sub(r'[0-9]', '', current_data)\n",
    "\n",
    "        #6. Tokenize\n",
    "        current_data_tokens = [w for w in nltk.word_tokenize(current_data) if contains_letters(w) and len(w) > 1]\n",
    "\n",
    "        #7. Remove stop words\n",
    "        stop_words = set(stopwords.words('english'))\n",
    "        current_data_filter = [w for w in current_data_tokens if not w in stop_words]\n",
    "\n",
    "        all_data.append(current_data_filter)\n",
    "\n",
    "    return all_data"
   ]
  },
  {
   "cell_type": "code",
   "execution_count": 13,
   "id": "701f422a",
   "metadata": {},
   "outputs": [],
   "source": [
    "def getSynonyms(word):\n",
    "    synonyms = []\n",
    "    synsets = wordnet.synsets(word)\n",
    "    if (len(synsets) == 0):\n",
    "        return []\n",
    "    synset = synsets[0]\n",
    "    lemma_names = synset.lemma_names()\n",
    "    for lemma_name in lemma_names:\n",
    "        lemma_name = lemma_name.lower().replace('_', ' ')\n",
    "        if (lemma_name != word and lemma_name not in synonyms):\n",
    "            synonyms.append(lemma_name)\n",
    "    return set(synonyms)"
   ]
  },
  {
   "cell_type": "code",
   "execution_count": 14,
   "id": "f3186ca9",
   "metadata": {},
   "outputs": [],
   "source": [
    "def makeFeatureVecWithWordNet(bugReport, model, num_features, list_of_syn_data):\n",
    "    # Function to average all of the word vectors in a given\n",
    "    # paragraph\n",
    "    #\n",
    "    # Pre-initialize an empty numpy array (for speed)\n",
    "    featureVec = np.zeros((num_features,),dtype=\"float32\")\n",
    "    #\n",
    "    nwords = 0\n",
    "    synCounter = 0\n",
    "    norCounter = 0\n",
    "    elseTest = 0\n",
    "    # \n",
    "    # Index2word is a list that contains the names of the words in \n",
    "    # the model's vocabulary. Convert it to a set, for speed \n",
    "    index2word_set = set(model.wv.index_to_key)\n",
    "    #\n",
    "    # Loop over each word in the bugreport and, if it is in the model's\n",
    "    # vocaublary, add its feature vector to the total\n",
    "    for word in bugReport:\n",
    "        found = False\n",
    "        if word in index2word_set: \n",
    "            norCounter = norCounter+1\n",
    "            nwords = nwords + 1\n",
    "            featureVec = np.add(featureVec,model.wv[word])\n",
    "            if nwords == max_sentence_len-1:\n",
    "                break\n",
    "        else:\n",
    "            elseTest = elseTest + 1\n",
    "            for synonym in getSynonyms(word):\n",
    "                if synonym in index2word_set:\n",
    "                    list_of_syn_data.append(word + ' : ' + synonym)\n",
    "                    synCounter = synCounter + 1\n",
    "                    nwords = nwords + 1\n",
    "                    featureVec = np.add(featureVec, model.wv[synonym])\n",
    "                    found = True\n",
    "                    break\n",
    "            if nwords == max_sentence_len-1:\n",
    "                break\n",
    "    # \n",
    "    # Divide the result by the number of words to get the average\n",
    "    featureVec = np.divide(featureVec,nwords)\n",
    "    return elseTest, synCounter, norCounter, featureVec\n",
    "\n",
    "\n",
    "def getAvgFeatureVecsWithWordNet(bugReports, model, num_features):\n",
    "    # Given a set of reviews (each one a list of words), calculate \n",
    "    # the average feature vector for each one and return a 2D numpy array \n",
    "    # \n",
    "    # Initialize a counter\n",
    "    counter = 0\n",
    "    synonymCounter = 0\n",
    "    normalCounter = 0\n",
    "    elseTest1=0\n",
    "    list_of_syn_data = []\n",
    "    # \n",
    "    # Preallocate a 2D numpy array, for speed\n",
    "    bugReportsVecs = np.zeros((len(bugReports),num_features),dtype=\"float32\")\n",
    "    # \n",
    "    # Loop through the reviews\n",
    "    for bugReport in bugReports:\n",
    "        # Call the function (defined above) that makes average feature vectors\n",
    "        elseTest, synCounter, norCounter, bugReportsVecs[counter] = makeFeatureVecWithWordNet(\n",
    "            bugReport, model, num_features, list_of_syn_data)\n",
    "        \n",
    "        synonymCounter = synonymCounter + synCounter \n",
    "        normalCounter = normalCounter + norCounter\n",
    "        elseTest1 = elseTest1 + elseTest\n",
    "        #\n",
    "        # Increment the counter\n",
    "        counter = counter + 1\n",
    "        \n",
    "    print('elseTest1,', elseTest1)\n",
    "#     print('list_of_syn_data,', list_of_syn_data)\n",
    "    return synonymCounter, normalCounter, bugReportsVecs\n"
   ]
  },
  {
   "cell_type": "code",
   "execution_count": 15,
   "id": "22840424",
   "metadata": {},
   "outputs": [],
   "source": [
    "def makeFeatureVec(bugReport, model, num_features):\n",
    "    # Function to average all of the word vectors in a given\n",
    "    # paragraph\n",
    "    #\n",
    "    # Pre-initialize an empty numpy array (for speed)\n",
    "    featureVec = np.zeros((num_features,),dtype=\"float32\")\n",
    "    #\n",
    "    nwords = 0.\n",
    "    # \n",
    "    # Index2word is a list that contains the names of the words in \n",
    "    # the model's vocabulary. Convert it to a set, for speed \n",
    "    index2word_set = set(model.wv.index_to_key)\n",
    "    #\n",
    "    # Loop over each word in the bugreport and, if it is in the model's\n",
    "    # vocaublary, add its feature vector to the total\n",
    "    for word in bugReport:\n",
    "        found = False\n",
    "        if word in index2word_set: \n",
    "            nwords = nwords + 1.\n",
    "            featureVec = np.add(featureVec,model.wv[word])\n",
    "            if nwords == max_sentence_len-1:\n",
    "                break\n",
    "    # \n",
    "    # Divide the result by the number of words to get the average\n",
    "    featureVec = np.divide(featureVec,nwords)\n",
    "    return featureVec\n",
    "\n",
    "\n",
    "def getAvgFeatureVecs(bugReports, model, num_features):\n",
    "    # Given a set of reviews (each one a list of words), calculate \n",
    "    # the average feature vector for each one and return a 2D numpy array \n",
    "    # \n",
    "    # Initialize a counter\n",
    "    counter = 0\n",
    "    # \n",
    "    # Preallocate a 2D numpy array, for speed\n",
    "    bugReportsVecs = np.zeros((len(bugReports),num_features),dtype=\"float32\")\n",
    "    # \n",
    "    # Loop through the bugreport\n",
    "    for bugReport in bugReports:\n",
    "        # Call the function (defined above) that makes average feature vectors\n",
    "        bugReportsVecs[counter] = makeFeatureVec(bugReport, model, num_features)\n",
    "        #\n",
    "        # Increment the counter\n",
    "        counter = counter + 1\n",
    "    return bugReportsVecs"
   ]
  },
  {
   "cell_type": "code",
   "execution_count": 16,
   "id": "e552c778",
   "metadata": {},
   "outputs": [],
   "source": [
    "deep_data_list = getProcessedDeepData(deep_data)"
   ]
  },
  {
   "cell_type": "code",
   "execution_count": 17,
   "id": "02389e86",
   "metadata": {},
   "outputs": [],
   "source": [
    "def getFilteredDataForWordnet(train_data, test_data, vocabulary):\n",
    "    updated_raw_train_data = []\n",
    "    updated_raw_test_data = []\n",
    "    updated_train_data = []\n",
    "    updated_train_owner = []\n",
    "    final_raw_test_data = []\n",
    "    final_test_data = []\n",
    "    final_test_owner = []\n",
    "    train_word_count = 0\n",
    "    test_word_count = 0\n",
    "    updated_train_word_count = 0\n",
    "    updated_test_word_count = 0\n",
    "    \n",
    "    for j, item in enumerate(train_data):\n",
    "        train_word_count = train_word_count + len(item)\n",
    "        current_train_filter = [word for word in item if word in vocabulary or set(getSynonyms(word)).intersection(vocabulary)]\n",
    "        updated_train_word_count = updated_train_word_count + len(current_train_filter)\n",
    "        if len(current_train_filter)>=min_sentence_length:\n",
    "            updated_train_data.append(current_train_filter)\n",
    "            updated_train_owner.append(train_owner[j])\n",
    "            updated_raw_train_data.append(raw_train_data[j])\n",
    "\n",
    "    for j, item in enumerate(test_data):\n",
    "        test_word_count = test_word_count + len(item)\n",
    "        current_test_filter = [word for word in item if word in vocabulary or set(getSynonyms(word)).intersection(vocabulary)]\n",
    "        updated_test_word_count = updated_test_word_count + len(current_test_filter)\n",
    "        if len(current_test_filter)>=min_sentence_length:\n",
    "            final_test_data.append(current_test_filter)\n",
    "            final_test_owner.append(test_owner[j])\n",
    "            final_raw_test_data.append(raw_test_data[j])\n",
    "            \n",
    "    # Remove data from test set that is not there in train set\n",
    "    train_owner_unique = set(updated_train_owner)\n",
    "    test_owner_unique = set(final_test_owner)\n",
    "    unwanted_owner = list(test_owner_unique - train_owner_unique)\n",
    "    updated_raw_test_data = []\n",
    "    updated_test_data = []\n",
    "    updated_test_owner = []\n",
    "    for j in range(len(final_test_owner)):\n",
    "        if final_test_owner[j] not in unwanted_owner:\n",
    "            updated_test_data.append(final_test_data[j])\n",
    "            updated_test_owner.append(final_test_owner[j])\n",
    "            updated_raw_test_data.append(final_raw_test_data[j])\n",
    "\n",
    "    unique_train_label = list(set(updated_train_owner))\n",
    "    \n",
    "    return updated_raw_train_data, updated_train_data, updated_train_owner, updated_raw_test_data, updated_test_data, updated_test_owner, train_word_count, test_word_count, updated_train_word_count, updated_test_word_count\n"
   ]
  },
  {
   "cell_type": "code",
   "execution_count": 18,
   "id": "d9a569c0",
   "metadata": {},
   "outputs": [],
   "source": [
    "def getFilteredData(train_data, test_data, vocabulary):\n",
    "    updated_raw_train_data = []\n",
    "    updated_raw_test_data = []\n",
    "    updated_train_data = []\n",
    "    updated_train_owner = []\n",
    "    final_raw_test_data = []\n",
    "    final_test_data = []\n",
    "    final_test_owner = []\n",
    "    train_word_count = 0\n",
    "    test_word_count = 0\n",
    "    updated_train_word_count = 0\n",
    "    updated_test_word_count = 0\n",
    "    \n",
    "    for j, item in enumerate(train_data): \n",
    "        train_word_count = train_word_count + len(item)\n",
    "        current_train_filter = [word for word in item if word in vocabulary]\n",
    "        updated_train_word_count = updated_train_word_count + len(current_train_filter)\n",
    "        if len(current_train_filter)>=min_sentence_length:\n",
    "            updated_train_data.append(current_train_filter)\n",
    "            updated_train_owner.append(train_owner[j])\n",
    "            updated_raw_train_data.append(raw_train_data[j])\n",
    "\n",
    "    for j, item in enumerate(test_data):\n",
    "        test_word_count = test_word_count + len(item)\n",
    "        current_test_filter = [word for word in item if word in vocabulary]\n",
    "        updated_test_word_count = updated_test_word_count + len(current_test_filter)\n",
    "        if len(current_test_filter)>=min_sentence_length:\n",
    "            final_test_data.append(current_test_filter)\n",
    "            final_test_owner.append(test_owner[j])\n",
    "            final_raw_test_data.append(raw_test_data[j])\n",
    "            \n",
    "    # Remove data from test set that is not there in train set\n",
    "    train_owner_unique = set(updated_train_owner)\n",
    "    test_owner_unique = set(final_test_owner)\n",
    "    unwanted_owner = list(test_owner_unique - train_owner_unique)\n",
    "    updated_raw_test_data = []\n",
    "    updated_test_data = []\n",
    "    updated_test_owner = []\n",
    "    for j in range(len(final_test_owner)):\n",
    "        if final_test_owner[j] not in unwanted_owner:\n",
    "            updated_test_data.append(final_test_data[j])\n",
    "            updated_test_owner.append(final_test_owner[j])\n",
    "            updated_raw_test_data.append(final_raw_test_data[j])\n",
    "\n",
    "    unique_train_label = list(set(updated_train_owner))\n",
    "    \n",
    "    return updated_raw_train_data, updated_train_data, updated_train_owner, updated_raw_test_data, updated_test_data, updated_test_owner, train_word_count, test_word_count, updated_train_word_count, updated_test_word_count"
   ]
  },
  {
   "cell_type": "code",
   "execution_count": 19,
   "id": "9047c07d",
   "metadata": {},
   "outputs": [
    {
     "name": "stdout",
     "output_type": "stream",
     "text": [
      "1\n",
      "1818\n",
      "1818\n",
      "1818\n",
      "1818\n",
      "1818\n",
      "1818\n",
      "165513\n",
      "58795\n",
      "elseTest1, 49\n",
      "with wordnet\n",
      "train_word_count :  157440\n",
      "updated_train_word_count :  150058\n",
      "removed_train_word_count :  7382\n",
      "synonymCounter_training :  49\n",
      "normalCounter_training :  65486\n",
      "elseTest1, 65\n",
      "test_word_count :  153423\n",
      "updated_test_word_count :  141784\n",
      "removed_test_word_count :  11639\n",
      "synonymCounter_testing :  65\n",
      "normalCounter_testing :  56795\n",
      "Random Forest Classifier Accuracy(With Wordnet) :  [12.02, 16.62, 20.37, 22.84, 25.04, 26.38, 27.65, 28.78, 29.7, 30.62]\n",
      "without wordnet\n",
      "train_word_count :  157440\n",
      "updated_train_word_count :  149979\n",
      "removed_train_word_count :  7461\n",
      "test_word_count :  153423\n",
      "updated_test_word_count :  141667\n",
      "removed_test_word_count :  11756\n",
      "Random Forest Classifier Accuracy :  [12.31, 16.7, 20.03, 21.87, 24.2, 26.19, 27.53, 29.02, 30.71, 31.49]\n",
      "2\n",
      "3636\n",
      "1818\n",
      "3636\n",
      "1818\n",
      "3636\n",
      "1818\n",
      "167331\n",
      "59700\n",
      "elseTest1, 103\n",
      "with wordnet\n",
      "train_word_count :  310863\n",
      "updated_train_word_count :  297234\n",
      "removed_train_word_count :  13629\n",
      "synonymCounter_training :  103\n",
      "normalCounter_training :  130304\n",
      "elseTest1, 58\n",
      "test_word_count :  157264\n",
      "updated_test_word_count :  145575\n",
      "removed_test_word_count :  11689\n",
      "synonymCounter_testing :  58\n",
      "normalCounter_testing :  60038\n",
      "Random Forest Classifier Accuracy(With Wordnet) :  [11.44, 16.47, 20.04, 22.88, 25.73, 27.25, 28.44, 29.56, 30.89, 32.14]\n",
      "without wordnet\n",
      "train_word_count :  310863\n",
      "updated_train_word_count :  297074\n",
      "removed_train_word_count :  13789\n",
      "test_word_count :  157264\n",
      "updated_test_word_count :  145459\n",
      "removed_test_word_count :  11805\n",
      "Random Forest Classifier Accuracy :  [10.32, 16.02, 19.19, 22.04, 24.62, 26.27, 28.46, 29.72, 30.51, 31.37]\n",
      "3\n",
      "5454\n",
      "1818\n",
      "5454\n",
      "1818\n",
      "5454\n",
      "1818\n",
      "169149\n",
      "60606\n",
      "elseTest1, 153\n",
      "with wordnet\n",
      "train_word_count :  468127\n",
      "updated_train_word_count :  448117\n",
      "removed_train_word_count :  20010\n",
      "synonymCounter_training :  153\n",
      "normalCounter_training :  193817\n",
      "elseTest1, 62\n",
      "test_word_count :  152116\n",
      "updated_test_word_count :  141436\n",
      "removed_test_word_count :  10680\n",
      "synonymCounter_testing :  62\n",
      "normalCounter_testing :  62867\n",
      "Random Forest Classifier Accuracy(With Wordnet) :  [10.4, 16.15, 20.61, 23.74, 26.1, 28.02, 30.06, 31.72, 33.38, 34.65]\n",
      "without wordnet\n",
      "train_word_count :  468127\n",
      "updated_train_word_count :  447864\n",
      "removed_train_word_count :  20263\n",
      "test_word_count :  152116\n",
      "updated_test_word_count :  141312\n",
      "removed_test_word_count :  10804\n",
      "Random Forest Classifier Accuracy :  [10.49, 15.86, 20.27, 24.42, 26.92, 29.03, 30.88, 32.54, 34.46, 35.93]\n",
      "4\n",
      "7272\n",
      "1818\n",
      "7272\n",
      "1818\n",
      "7272\n",
      "1818\n",
      "170967\n",
      "61506\n",
      "elseTest1, 200\n",
      "with wordnet\n",
      "train_word_count :  620243\n",
      "updated_train_word_count :  594639\n",
      "removed_train_word_count :  25604\n",
      "synonymCounter_training :  200\n",
      "normalCounter_training :  258915\n",
      "elseTest1, 66\n",
      "test_word_count :  160638\n",
      "updated_test_word_count :  149409\n",
      "removed_test_word_count :  11229\n",
      "synonymCounter_testing :  66\n",
      "normalCounter_testing :  63973\n",
      "Random Forest Classifier Accuracy(With Wordnet) :  [10.18, 16.22, 20.8, 24.05, 26.65, 29.07, 31.11, 32.63, 33.97, 34.99]\n",
      "without wordnet\n",
      "train_word_count :  620243\n",
      "updated_train_word_count :  594300\n",
      "removed_train_word_count :  25943\n",
      "test_word_count :  160638\n",
      "updated_test_word_count :  149284\n",
      "removed_test_word_count :  11354\n",
      "Random Forest Classifier Accuracy :  [10.75, 16.92, 21.06, 23.85, 26.53, 27.61, 29.33, 31.42, 33.33, 35.05]\n",
      "5\n",
      "9090\n",
      "1819\n",
      "9090\n",
      "1819\n",
      "9090\n",
      "1819\n",
      "172785\n",
      "62360\n",
      "elseTest1, 251\n",
      "with wordnet\n",
      "train_word_count :  780881\n",
      "updated_train_word_count :  749227\n",
      "removed_train_word_count :  31654\n",
      "synonymCounter_training :  251\n",
      "normalCounter_training :  325359\n",
      "elseTest1, 75\n",
      "test_word_count :  169717\n",
      "updated_test_word_count :  158577\n",
      "removed_test_word_count :  11140\n",
      "synonymCounter_testing :  75\n",
      "normalCounter_testing :  64294\n",
      "Random Forest Classifier Accuracy(With Wordnet) :  [10.77, 16.66, 20.66, 23.67, 26.74, 29.43, 31.5, 33.19, 34.38, 35.44]\n",
      "without wordnet\n",
      "train_word_count :  780881\n",
      "updated_train_word_count :  748805\n",
      "removed_train_word_count :  32076\n",
      "test_word_count :  169717\n",
      "updated_test_word_count :  158417\n",
      "removed_test_word_count :  11300\n",
      "Random Forest Classifier Accuracy :  [10.33, 16.97, 21.54, 25.42, 27.3, 29.3, 31.18, 32.5, 33.88, 35.19]\n",
      "6\n",
      "10909\n",
      "1818\n",
      "10909\n",
      "1818\n",
      "10909\n",
      "1818\n",
      "174604\n",
      "63327\n",
      "elseTest1, 295\n",
      "with wordnet\n",
      "train_word_count :  950598\n",
      "updated_train_word_count :  913661\n",
      "removed_train_word_count :  36937\n",
      "synonymCounter_training :  295\n",
      "normalCounter_training :  391761\n",
      "elseTest1, 61\n",
      "test_word_count :  159196\n",
      "updated_test_word_count :  148571\n",
      "removed_test_word_count :  10625\n",
      "synonymCounter_testing :  61\n",
      "normalCounter_testing :  63612\n",
      "Random Forest Classifier Accuracy(With Wordnet) :  [12.17, 17.84, 21.75, 24.78, 27.18, 28.56, 30.26, 31.78, 33.48, 35.31]\n",
      "without wordnet\n",
      "train_word_count :  950598\n",
      "updated_train_word_count :  913163\n",
      "removed_train_word_count :  37435\n",
      "test_word_count :  159196\n",
      "updated_test_word_count :  148466\n",
      "removed_test_word_count :  10730\n",
      "Random Forest Classifier Accuracy :  [12.3, 17.85, 21.07, 23.66, 26.31, 28.58, 30.16, 31.42, 32.87, 33.82]\n",
      "7\n",
      "12727\n",
      "1818\n",
      "12727\n",
      "1818\n",
      "12727\n",
      "1818\n",
      "176422\n",
      "64185\n",
      "elseTest1, 343\n",
      "with wordnet\n",
      "train_word_count :  1109794\n",
      "updated_train_word_count :  1067301\n",
      "removed_train_word_count :  42493\n",
      "synonymCounter_training :  343\n",
      "normalCounter_training :  456841\n",
      "elseTest1, 67\n",
      "test_word_count :  154537\n",
      "updated_test_word_count :  145201\n",
      "removed_test_word_count :  9336\n",
      "synonymCounter_testing :  67\n",
      "normalCounter_testing :  64247\n",
      "Random Forest Classifier Accuracy(With Wordnet) :  [10.79, 16.34, 20.21, 23.33, 26.08, 28.45, 30.38, 31.69, 33.94, 35.5]\n",
      "without wordnet\n",
      "train_word_count :  1109794\n",
      "updated_train_word_count :  1066724\n",
      "removed_train_word_count :  43070\n",
      "test_word_count :  154537\n",
      "updated_test_word_count :  145088\n",
      "removed_test_word_count :  9449\n",
      "Random Forest Classifier Accuracy :  [10.74, 16.36, 19.86, 23.05, 25.67, 27.98, 29.92, 31.79, 32.79, 33.85]\n",
      "8\n",
      "14545\n",
      "1818\n",
      "14545\n",
      "1818\n",
      "14545\n",
      "1818\n",
      "178240\n",
      "64976\n",
      "elseTest1, 385\n",
      "with wordnet\n",
      "train_word_count :  1264331\n",
      "updated_train_word_count :  1216845\n",
      "removed_train_word_count :  47486\n",
      "synonymCounter_training :  385\n",
      "normalCounter_training :  522034\n",
      "elseTest1, 61\n",
      "test_word_count :  148619\n",
      "updated_test_word_count :  139275\n",
      "removed_test_word_count :  9344\n",
      "synonymCounter_testing :  61\n",
      "normalCounter_testing :  60731\n",
      "Random Forest Classifier Accuracy(With Wordnet) :  [10.82, 17.72, 22.04, 24.74, 27.38, 29.06, 31.31, 32.41, 33.57, 35.24]\n",
      "without wordnet\n",
      "train_word_count :  1264331\n",
      "updated_train_word_count :  1216208\n",
      "removed_train_word_count :  48123\n",
      "test_word_count :  148619\n",
      "updated_test_word_count :  139166\n",
      "removed_test_word_count :  9453\n",
      "Random Forest Classifier Accuracy :  [10.44, 16.76, 21.66, 23.98, 25.92, 28.76, 30.63, 32.43, 33.59, 35.14]\n",
      "9\n",
      "16363\n",
      "1818\n",
      "16363\n",
      "1818\n",
      "16363\n",
      "1818\n",
      "180058\n",
      "65737\n",
      "elseTest1, 426\n",
      "with wordnet\n",
      "train_word_count :  1412950\n",
      "updated_train_word_count :  1360274\n",
      "removed_train_word_count :  52676\n",
      "synonymCounter_training :  426\n",
      "normalCounter_training :  583914\n",
      "elseTest1, 51\n",
      "test_word_count :  143421\n",
      "updated_test_word_count :  134895\n",
      "removed_test_word_count :  8526\n",
      "synonymCounter_testing :  51\n",
      "normalCounter_testing :  63001\n",
      "Random Forest Classifier Accuracy(With Wordnet) :  [12.19, 18.81, 23.69, 26.94, 29.19, 31.56, 33.69, 35.31, 36.94, 38.31]\n",
      "without wordnet\n",
      "train_word_count :  1412950\n",
      "updated_train_word_count :  1359570\n",
      "removed_train_word_count :  53380\n",
      "test_word_count :  143421\n",
      "updated_test_word_count :  134805\n",
      "removed_test_word_count :  8616\n",
      "Random Forest Classifier Accuracy :  [13.0, 19.06, 23.88, 27.31, 30.19, 32.19, 34.06, 35.5, 37.31, 38.25]\n",
      "10\n",
      "18181\n",
      "1819\n",
      "18181\n",
      "1819\n",
      "18181\n",
      "1819\n",
      "181876\n",
      "66442\n",
      "elseTest1, 452\n",
      "with wordnet\n",
      "train_word_count :  1556371\n",
      "updated_train_word_count :  1499082\n",
      "removed_train_word_count :  57289\n",
      "synonymCounter_training :  452\n",
      "normalCounter_training :  647926\n",
      "elseTest1, 86\n",
      "test_word_count :  149952\n",
      "updated_test_word_count :  140919\n",
      "removed_test_word_count :  9033\n",
      "synonymCounter_testing :  86\n",
      "normalCounter_testing :  62927\n",
      "Random Forest Classifier Accuracy(With Wordnet) :  [11.52, 18.37, 22.48, 25.84, 28.27, 30.64, 32.81, 34.37, 35.31, 36.92]\n",
      "without wordnet\n",
      "train_word_count :  1556371\n",
      "updated_train_word_count :  1498335\n",
      "removed_train_word_count :  58036\n",
      "test_word_count :  149952\n",
      "updated_test_word_count :  140780\n",
      "removed_test_word_count :  9172\n"
     ]
    },
    {
     "name": "stdout",
     "output_type": "stream",
     "text": [
      "Random Forest Classifier Accuracy :  [11.39, 17.31, 21.73, 25.22, 28.58, 30.82, 32.81, 34.74, 35.93, 36.99]\n"
     ]
    }
   ],
   "source": [
    "totalLength = len(all_data)\n",
    "trainingTestingLength = totalLength / (numCV + 1)\n",
    "\n",
    "rfc_accuracy_cv10 = []\n",
    "m_accuracy_cv10 = []\n",
    "nn_accuracy_cv10 = []\n",
    "rfc_accuracy_with_wordnet_cv10 = []\n",
    "m_accuracy_with_wordnet_cv10 = []\n",
    "nn_accuracy_with_wordnet_cv10 = []\n",
    "rfc_with_wordnet_elapsed_time_cv10 = []\n",
    "mlp_with_wordnet_elapsed_time_cv10 = []\n",
    "rfc_elapsed_time_cv10 = []\n",
    "mlp_elapsed_time_cv10 = []\n",
    "nn_elapsed_time_cv10 = []\n",
    "\n",
    "train_word_count_for_wordnet = []\n",
    "updated_train_word_count_for_wordnet = []\n",
    "test_word_count_for_wordnet = []\n",
    "updated_test_word_count_for_wordnet = []\n",
    "synonymCounter_training_for_wordnet = []\n",
    "normalCounter_training_for_wordnet = []\n",
    "synonymCounter_test_for_wordnet = []\n",
    "normalCounter_test_for_wordnet = []\n",
    "\n",
    "train_word_count_without_wordnet = []\n",
    "updated_train_word_count_without_wordnet = []\n",
    "test_word_count_without_wordnet = []\n",
    "updated_test_word_count_without_wordnet = []\n",
    "\n",
    "\n",
    "for i in range(1, numCV+1):\n",
    "    # Split cross validation set\n",
    "    print(i)\n",
    "    raw_train_data = raw_data[:int(i*trainingTestingLength)]\n",
    "    raw_test_data = raw_data[int(i*trainingTestingLength):int((i+1)*trainingTestingLength)]\n",
    "    train_data = all_data[:int(i*trainingTestingLength)]\n",
    "    test_data = all_data[int(i*trainingTestingLength):int((i+1)*trainingTestingLength)]\n",
    "    train_owner = all_owner[:int(i*trainingTestingLength)]\n",
    "    test_owner = all_owner[int(i*trainingTestingLength):int((i+1)*trainingTestingLength)]\n",
    "    \n",
    "    print(len(raw_train_data))\n",
    "    print(len(raw_test_data))\n",
    "    print(len(train_data))\n",
    "    print(len(test_data))\n",
    "    print(len(train_owner))\n",
    "    print(len(test_owner))\n",
    "    \n",
    "    data_for_word_2_vec = deep_data_list + train_data\n",
    "    \n",
    "    print(len(data_for_word_2_vec))\n",
    "    \n",
    "    wordvec_model = Word2Vec(data_for_word_2_vec, min_count=min_word_frequency, vector_size=embed_size_word2vec, window=context_window_word2vec)\n",
    "    vocabulary = set(wordvec_model.wv.index_to_key)\n",
    "    vocab_size = len(vocabulary)\n",
    "    \n",
    "    print(vocab_size)\n",
    "    \n",
    "    \n",
    "    updated_raw_train_data, updated_train_data, updated_train_owner, updated_raw_test_data, updated_test_data, updated_test_owner, train_word_count, test_word_count, updated_train_word_count, updated_test_word_count = getFilteredDataForWordnet(train_data, test_data, vocabulary)\n",
    "    \n",
    "    synonymCounter_training = 0\n",
    "    normalCounter_training = 0\n",
    "    \n",
    "    synonymCounter_training, normalCounter_training, X_matrix_train = getAvgFeatureVecsWithWordNet(updated_train_data, wordvec_model, embed_size_word2vec)\n",
    "    \n",
    "    print('with wordnet')\n",
    "    print('train_word_count : ', train_word_count)\n",
    "    print('updated_train_word_count : ', updated_train_word_count)\n",
    "    print('removed_train_word_count : ', train_word_count - updated_train_word_count)\n",
    "    print('synonymCounter_training : ', synonymCounter_training)\n",
    "    print('normalCounter_training : ', normalCounter_training)\n",
    "    \n",
    "    synonymCounter_testing = 0\n",
    "    normalCounter_testing = 0\n",
    "    \n",
    "    synonymCounter_testing, normalCounter_testing, X_matrix_test = getAvgFeatureVecsWithWordNet(updated_test_data, wordvec_model, embed_size_word2vec)\n",
    "    \n",
    "    print('test_word_count : ', test_word_count)\n",
    "    print('updated_test_word_count : ', updated_test_word_count)\n",
    "    print('removed_test_word_count : ', test_word_count - updated_test_word_count)\n",
    "    print('synonymCounter_testing : ', synonymCounter_testing)\n",
    "    print('normalCounter_testing : ', normalCounter_testing)\n",
    "    \n",
    "    train_word_count_for_wordnet.append(train_word_count)\n",
    "    updated_train_word_count_for_wordnet.append(updated_train_word_count)\n",
    "    test_word_count_for_wordnet.append(test_word_count)\n",
    "    updated_test_word_count_for_wordnet.append(updated_test_word_count)\n",
    "    synonymCounter_training_for_wordnet.append(synonymCounter_training)\n",
    "    normalCounter_training_for_wordnet.append(normalCounter_training)\n",
    "    synonymCounter_test_for_wordnet.append(synonymCounter_testing)\n",
    "    normalCounter_test_for_wordnet.append(normalCounter_testing)\n",
    "    \n",
    "    \n",
    "    randomForestClassifier, rfc_accuracy_with_wordnet, classes, rfc_index_with_wordnet_cv10, rfc_with_wordnet_elapsed_time = getRandomForestClassifierAccuracy(X_matrix_train, updated_train_owner, \n",
    "                                                                      X_matrix_test, updated_test_owner)\n",
    "    \n",
    "\n",
    "    print('Random Forest Classifier Accuracy(With Wordnet) : ', rfc_accuracy_with_wordnet)\n",
    "    \n",
    "    del randomForestClassifier\n",
    "    \n",
    "    updated_raw_train_data, updated_train_data, updated_train_owner, updated_raw_test_data, updated_test_data, updated_test_owner, train_word_count, test_word_count, updated_train_word_count, updated_test_word_count = getFilteredData(train_data, test_data, vocabulary)\n",
    "    \n",
    "    X_matrix_train = getAvgFeatureVecs(updated_train_data, wordvec_model, embed_size_word2vec)\n",
    "    X_matrix_test = getAvgFeatureVecs(updated_test_data, wordvec_model, embed_size_word2vec)\n",
    "    \n",
    "    print('without wordnet')\n",
    "    print('train_word_count : ', train_word_count)\n",
    "    print('updated_train_word_count : ', updated_train_word_count)\n",
    "    print('removed_train_word_count : ', train_word_count - updated_train_word_count)\n",
    "    print('test_word_count : ', test_word_count)\n",
    "    print('updated_test_word_count : ', updated_test_word_count)\n",
    "    print('removed_test_word_count : ', test_word_count - updated_test_word_count)\n",
    "    \n",
    "    train_word_count_without_wordnet.append(train_word_count)\n",
    "    updated_train_word_count_without_wordnet.append(updated_train_word_count)\n",
    "    test_word_count_without_wordnet.append(test_word_count)\n",
    "    updated_test_word_count_without_wordnet.append(updated_test_word_count)\n",
    "    \n",
    "    \n",
    "    randomForestClassifier, rfc_accuracy, classes, rfc_index_cv10, rfc_elapsed_time = getRandomForestClassifierAccuracy(X_matrix_train, \n",
    "                                                                              updated_train_owner, \n",
    "                                                                              X_matrix_test, \n",
    "                                                                              updated_test_owner)\n",
    "    \n",
    "\n",
    "    print('Random Forest Classifier Accuracy : ', rfc_accuracy)\n",
    "\n",
    "    del randomForestClassifier\n",
    "    \n",
    "    rfc_accuracy_cv10.append(rfc_accuracy)\n",
    "    rfc_accuracy_with_wordnet_cv10.append(rfc_accuracy_with_wordnet)\n",
    "    \n",
    "    \n",
    "    rfc_with_wordnet_elapsed_time_cv10.append(rfc_with_wordnet_elapsed_time)\n",
    "    rfc_elapsed_time_cv10.append(rfc_elapsed_time)\n",
    "    "
   ]
  },
  {
   "cell_type": "code",
   "execution_count": 20,
   "id": "2363480d",
   "metadata": {},
   "outputs": [
    {
     "name": "stdout",
     "output_type": "stream",
     "text": [
      "train_word_count_for_wordnet:  [157440, 310863, 468127, 620243, 780881, 950598, 1109794, 1264331, 1412950, 1556371]\n",
      "updated_train_word_count_for_wordnet:  [150058, 297234, 448117, 594639, 749227, 913661, 1067301, 1216845, 1360274, 1499082]\n",
      "test_word_count_for_wordnet:  [153423, 157264, 152116, 160638, 169717, 159196, 154537, 148619, 143421, 149952]\n",
      "updated_test_word_count_for_wordnet:  [141784, 145575, 141436, 149409, 158577, 148571, 145201, 139275, 134895, 140919]\n",
      "synonymCounter_training_for_wordnet:  [49, 103, 153, 200, 251, 295, 343, 385, 426, 452]\n",
      "normalCounter_training_for_wordnet:  [65486, 130304, 193817, 258915, 325359, 391761, 456841, 522034, 583914, 647926]\n",
      "synonymCounter_test_for_wordnet:  [65, 58, 62, 66, 75, 61, 67, 61, 51, 86]\n",
      "normalCounter_test_for_wordnet:  [56795, 60038, 62867, 63973, 64294, 63612, 64247, 60731, 63001, 62927]\n",
      "train_word_count_without_wordnet:  [157440, 310863, 468127, 620243, 780881, 950598, 1109794, 1264331, 1412950, 1556371]\n",
      "updated_train_word_count_without_wordnet:  [149979, 297074, 447864, 594300, 748805, 913163, 1066724, 1216208, 1359570, 1498335]\n",
      "test_word_count_without_wordnet:  [153423, 157264, 152116, 160638, 169717, 159196, 154537, 148619, 143421, 149952]\n",
      "updated_test_word_count_without_wordnet:  [141667, 145459, 141312, 149284, 158417, 148466, 145088, 139166, 134805, 140780]\n"
     ]
    }
   ],
   "source": [
    "print('train_word_count_for_wordnet: ', train_word_count_for_wordnet)\n",
    "print('updated_train_word_count_for_wordnet: ', updated_train_word_count_for_wordnet)\n",
    "print('test_word_count_for_wordnet: ', test_word_count_for_wordnet)\n",
    "print('updated_test_word_count_for_wordnet: ', updated_test_word_count_for_wordnet)\n",
    "print('synonymCounter_training_for_wordnet: ', synonymCounter_training_for_wordnet)\n",
    "print('normalCounter_training_for_wordnet: ', normalCounter_training_for_wordnet)\n",
    "print('synonymCounter_test_for_wordnet: ', synonymCounter_test_for_wordnet)\n",
    "print('normalCounter_test_for_wordnet: ', normalCounter_test_for_wordnet)\n",
    "\n",
    "print('train_word_count_without_wordnet: ',train_word_count_without_wordnet)\n",
    "print('updated_train_word_count_without_wordnet: ', updated_train_word_count_without_wordnet)\n",
    "print('test_word_count_without_wordnet: ',test_word_count_without_wordnet)\n",
    "print('updated_test_word_count_without_wordnet: ', updated_test_word_count_without_wordnet)"
   ]
  },
  {
   "cell_type": "code",
   "execution_count": 21,
   "id": "d250872e",
   "metadata": {},
   "outputs": [
    {
     "name": "stdout",
     "output_type": "stream",
     "text": [
      "[[12.31, 16.7, 20.03, 21.87, 24.2, 26.19, 27.53, 29.02, 30.71, 31.49], [10.32, 16.02, 19.19, 22.04, 24.62, 26.27, 28.46, 29.72, 30.51, 31.37], [10.49, 15.86, 20.27, 24.42, 26.92, 29.03, 30.88, 32.54, 34.46, 35.93], [10.75, 16.92, 21.06, 23.85, 26.53, 27.61, 29.33, 31.42, 33.33, 35.05], [10.33, 16.97, 21.54, 25.42, 27.3, 29.3, 31.18, 32.5, 33.88, 35.19], [12.3, 17.85, 21.07, 23.66, 26.31, 28.58, 30.16, 31.42, 32.87, 33.82], [10.74, 16.36, 19.86, 23.05, 25.67, 27.98, 29.92, 31.79, 32.79, 33.85], [10.44, 16.76, 21.66, 23.98, 25.92, 28.76, 30.63, 32.43, 33.59, 35.14], [13.0, 19.06, 23.88, 27.31, 30.19, 32.19, 34.06, 35.5, 37.31, 38.25], [11.39, 17.31, 21.73, 25.22, 28.58, 30.82, 32.81, 34.74, 35.93, 36.99]]\n"
     ]
    }
   ],
   "source": [
    "print(rfc_accuracy_cv10)"
   ]
  },
  {
   "cell_type": "code",
   "execution_count": 22,
   "id": "c1e4a57d",
   "metadata": {},
   "outputs": [],
   "source": [
    "rfc_accuracy_cv10_with_avg = rfc_accuracy_cv10"
   ]
  },
  {
   "cell_type": "code",
   "execution_count": 23,
   "id": "850c7a32",
   "metadata": {},
   "outputs": [
    {
     "name": "stdout",
     "output_type": "stream",
     "text": [
      "[[12.02, 16.62, 20.37, 22.84, 25.04, 26.38, 27.65, 28.78, 29.7, 30.62], [11.44, 16.47, 20.04, 22.88, 25.73, 27.25, 28.44, 29.56, 30.89, 32.14], [10.4, 16.15, 20.61, 23.74, 26.1, 28.02, 30.06, 31.72, 33.38, 34.65], [10.18, 16.22, 20.8, 24.05, 26.65, 29.07, 31.11, 32.63, 33.97, 34.99], [10.77, 16.66, 20.66, 23.67, 26.74, 29.43, 31.5, 33.19, 34.38, 35.44], [12.17, 17.84, 21.75, 24.78, 27.18, 28.56, 30.26, 31.78, 33.48, 35.31], [10.79, 16.34, 20.21, 23.33, 26.08, 28.45, 30.38, 31.69, 33.94, 35.5], [10.82, 17.72, 22.04, 24.74, 27.38, 29.06, 31.31, 32.41, 33.57, 35.24], [12.19, 18.81, 23.69, 26.94, 29.19, 31.56, 33.69, 35.31, 36.94, 38.31], [11.52, 18.37, 22.48, 25.84, 28.27, 30.64, 32.81, 34.37, 35.31, 36.92]]\n"
     ]
    }
   ],
   "source": [
    "print(rfc_accuracy_with_wordnet_cv10)"
   ]
  },
  {
   "cell_type": "code",
   "execution_count": 24,
   "id": "b0323993",
   "metadata": {},
   "outputs": [],
   "source": [
    "rfc_accuracy_with_wordnet_cv10_with_avg = rfc_accuracy_with_wordnet_cv10"
   ]
  },
  {
   "cell_type": "code",
   "execution_count": 25,
   "id": "0cf8c64f",
   "metadata": {},
   "outputs": [],
   "source": [
    "rfc_accuracy_avg = [float('{0:.2f}'.format(float(sum(l))/len(l))) for l in zip(*rfc_accuracy_cv10)]\n",
    "rfc_accuracy_with_wordnet_avg = [float('{0:.2f}'.format(float(sum(l))/len(l))) for l in zip(*rfc_accuracy_with_wordnet_cv10)]"
   ]
  },
  {
   "cell_type": "code",
   "execution_count": 26,
   "id": "2d20678e",
   "metadata": {},
   "outputs": [
    {
     "name": "stdout",
     "output_type": "stream",
     "text": [
      "[11.21, 16.98, 21.03, 24.08, 26.62, 28.67, 30.5, 32.11, 33.54, 34.71]\n"
     ]
    }
   ],
   "source": [
    "print(rfc_accuracy_avg)"
   ]
  },
  {
   "cell_type": "code",
   "execution_count": 27,
   "id": "807f392d",
   "metadata": {},
   "outputs": [
    {
     "name": "stdout",
     "output_type": "stream",
     "text": [
      "[11.23, 17.12, 21.26, 24.28, 26.84, 28.84, 30.72, 32.14, 33.56, 34.91]\n"
     ]
    }
   ],
   "source": [
    "print(rfc_accuracy_with_wordnet_avg)"
   ]
  },
  {
   "cell_type": "code",
   "execution_count": 28,
   "id": "e0abc60f",
   "metadata": {},
   "outputs": [],
   "source": [
    "rfc_accuracy_cv10_with_avg.append(rfc_accuracy_avg)"
   ]
  },
  {
   "cell_type": "code",
   "execution_count": 29,
   "id": "b97d8be0",
   "metadata": {},
   "outputs": [],
   "source": [
    "rfc_accuracy_with_wordnet_cv10_with_avg.append(rfc_accuracy_with_wordnet_avg)"
   ]
  },
  {
   "cell_type": "code",
   "execution_count": 30,
   "id": "23c24880",
   "metadata": {},
   "outputs": [
    {
     "name": "stdout",
     "output_type": "stream",
     "text": [
      "12.31  10.32  10.49  10.75  10.33  12.3  10.74  10.44  13.0  11.39  11.21\n",
      "24.2  24.62  26.92  26.53  27.3  26.31  25.67  25.92  30.19  28.58  26.62\n",
      "31.49  31.37  35.93  35.05  35.19  33.82  33.85  35.14  38.25  36.99  34.71\n"
     ]
    }
   ],
   "source": [
    "rfc_accuracy_cv10_with_avg_rank1, rfc_accuracy_cv10_with_avg_rank5, rfc_accuracy_cv10_with_avg_rank10 = getRank1_5_10_data(rfc_accuracy_cv10_with_avg)         \n",
    "    \n",
    "print(rfc_accuracy_cv10_with_avg_rank1)\n",
    "print(rfc_accuracy_cv10_with_avg_rank5)\n",
    "print(rfc_accuracy_cv10_with_avg_rank10)"
   ]
  },
  {
   "cell_type": "code",
   "execution_count": 31,
   "id": "43201462",
   "metadata": {},
   "outputs": [
    {
     "name": "stdout",
     "output_type": "stream",
     "text": [
      "12.31  10.32  10.49  10.75  10.33  12.3  10.74  10.44  13.0  11.39  11.21\n",
      "24.2  24.62  26.92  26.53  27.3  26.31  25.67  25.92  30.19  28.58  26.62\n",
      "31.49  31.37  35.93  35.05  35.19  33.82  33.85  35.14  38.25  36.99  34.71\n"
     ]
    }
   ],
   "source": [
    "print(rfc_accuracy_cv10_with_avg_rank1)\n",
    "print(rfc_accuracy_cv10_with_avg_rank5)\n",
    "print(rfc_accuracy_cv10_with_avg_rank10)"
   ]
  },
  {
   "cell_type": "code",
   "execution_count": 32,
   "id": "3063643c",
   "metadata": {},
   "outputs": [
    {
     "name": "stdout",
     "output_type": "stream",
     "text": [
      "12.02  11.44  10.4  10.18  10.77  12.17  10.79  10.82  12.19  11.52  11.23\n",
      "25.04  25.73  26.1  26.65  26.74  27.18  26.08  27.38  29.19  28.27  26.84\n",
      "30.62  32.14  34.65  34.99  35.44  35.31  35.5  35.24  38.31  36.92  34.91\n"
     ]
    }
   ],
   "source": [
    "rfc_accuracy_with_wordnet_cv10_with_avg_rank1, rfc_accuracy_with_wordnet_cv10_with_avg_rank5, rfc_accuracy_with_wordnet_cv10_with_avg_rank10 = getRank1_5_10_data(rfc_accuracy_with_wordnet_cv10_with_avg)         \n",
    "    \n",
    "print(rfc_accuracy_with_wordnet_cv10_with_avg_rank1)\n",
    "print(rfc_accuracy_with_wordnet_cv10_with_avg_rank5)\n",
    "print(rfc_accuracy_with_wordnet_cv10_with_avg_rank10)"
   ]
  },
  {
   "cell_type": "code",
   "execution_count": 33,
   "id": "b9763f3c",
   "metadata": {},
   "outputs": [
    {
     "data": {
      "text/plain": [
       "[56.723308086395264,\n",
       " 143.9527988433838,\n",
       " 242.3215320110321,\n",
       " 328.6670198440552,\n",
       " 450.5411717891693,\n",
       " 588.6379120349884,\n",
       " 715.6844160556793,\n",
       " 841.7921380996704,\n",
       " 960.3720121383667,\n",
       " 1101.5880291461945]"
      ]
     },
     "execution_count": 33,
     "metadata": {},
     "output_type": "execute_result"
    }
   ],
   "source": [
    "rfc_with_wordnet_elapsed_time_cv10"
   ]
  },
  {
   "cell_type": "code",
   "execution_count": 34,
   "id": "b1672837",
   "metadata": {},
   "outputs": [
    {
     "name": "stdout",
     "output_type": "stream",
     "text": [
      "543.0280338048935\n"
     ]
    }
   ],
   "source": [
    "print(np.mean(rfc_with_wordnet_elapsed_time_cv10))"
   ]
  },
  {
   "cell_type": "code",
   "execution_count": 35,
   "id": "9511548e",
   "metadata": {},
   "outputs": [
    {
     "data": {
      "text/plain": [
       "[55.247485876083374,\n",
       " 144.85864424705505,\n",
       " 242.10588788986206,\n",
       " 329.70291900634766,\n",
       " 454.61587595939636,\n",
       " 597.0533602237701,\n",
       " 722.6414520740509,\n",
       " 843.1550831794739,\n",
       " 953.789076089859,\n",
       " 1107.5043931007385]"
      ]
     },
     "execution_count": 35,
     "metadata": {},
     "output_type": "execute_result"
    }
   ],
   "source": [
    "rfc_elapsed_time_cv10"
   ]
  },
  {
   "cell_type": "code",
   "execution_count": 36,
   "id": "d69ab58d",
   "metadata": {},
   "outputs": [
    {
     "name": "stdout",
     "output_type": "stream",
     "text": [
      "545.0674177646637\n"
     ]
    }
   ],
   "source": [
    "print(np.mean(rfc_elapsed_time_cv10))"
   ]
  },
  {
   "cell_type": "code",
   "execution_count": 37,
   "id": "2b359993",
   "metadata": {},
   "outputs": [
    {
     "name": "stdout",
     "output_type": "stream",
     "text": [
      "[11.21, 16.98, 21.03, 24.08, 26.62, 28.67, 30.5, 32.11, 33.54, 34.71]\n"
     ]
    }
   ],
   "source": [
    "print(rfc_accuracy_avg)"
   ]
  },
  {
   "cell_type": "code",
   "execution_count": 38,
   "id": "7079255c",
   "metadata": {},
   "outputs": [
    {
     "name": "stdout",
     "output_type": "stream",
     "text": [
      "[11.23, 17.12, 21.26, 24.28, 26.84, 28.84, 30.72, 32.14, 33.56, 34.91]\n"
     ]
    }
   ],
   "source": [
    "print(rfc_accuracy_with_wordnet_avg)"
   ]
  },
  {
   "cell_type": "code",
   "execution_count": 39,
   "id": "1f525997",
   "metadata": {},
   "outputs": [],
   "source": [
    "rfc_accuracy_avg = [11.21, 16.98, 21.03, 24.08, 26.62, 28.67, 30.5, 32.11, 33.54, 34.71]\n",
    "rfc_accuracy_with_wordnet_avg = [11.23, 17.12, 21.26, 24.28, 26.84, 28.84, 30.72, 32.14, 33.56, 34.91]"
   ]
  },
  {
   "cell_type": "code",
   "execution_count": 40,
   "id": "1475a498",
   "metadata": {},
   "outputs": [
    {
     "data": {
      "image/png": "[encoded data removed]",
      "text/plain": [
       "<Figure size 432x288 with 1 Axes>"
      ]
     },
     "metadata": {
      "needs_background": "light"
     },
     "output_type": "display_data"
    }
   ],
   "source": [
    "# x = range(1,12)\n",
    "y = range(0,70)\n",
    "\n",
    "plt.plot(rfc_accuracy_avg, color='red',label ='Without Wordnet')\n",
    "plt.plot(rfc_accuracy_with_wordnet_avg, color='green',label ='With Wordnet')\n",
    "plt.title('Google Chromium : With Wordnet Vs Without Wordnet.')\n",
    "plt.xlabel('Rank')\n",
    "plt.ylabel('Accuracy(%)')\n",
    "plt.xticks([r for r in range(10)],\n",
    "        ['1', '2', '3', '4', '5','6', '7', '8', '9', '10'])\n",
    "plt.yticks(np.arange(0, 80, 10))\n",
    "plt.legend()\n",
    "# plt.show()\n",
    "\n",
    "plt.savefig('rf_word2vec_gc_with_or_without_wordnet.png')"
   ]
  },
  {
   "cell_type": "code",
   "execution_count": 41,
   "id": "cd5d9b1c",
   "metadata": {},
   "outputs": [
    {
     "data": {
      "image/png": "[encoded data removed]",
      "text/plain": [
       "<Figure size 864x864 with 1 Axes>"
      ]
     },
     "metadata": {
      "needs_background": "light"
     },
     "output_type": "display_data"
    }
   ],
   "source": [
    "y = range(0,70)\n",
    "# set width of bar\n",
    "barWidth = 0.20\n",
    "fig = plt.subplots(figsize =(12, 12))\n",
    " \n",
    "# Set position of bar on X axis\n",
    "br1 = np.arange(10)\n",
    "br2 = [x + barWidth for x in br1]\n",
    "\n",
    "# Make the plot\n",
    "plt.bar(br1, rfc_accuracy_avg, color ='b', width = barWidth,\n",
    "        edgecolor ='grey', label ='Without Wordnet')\n",
    "plt.bar(br2, rfc_accuracy_with_wordnet_avg, color ='g', width = barWidth,\n",
    "        edgecolor ='grey', label ='With Wordnet')\n",
    " \n",
    "# Adding Xticks\n",
    "plt.xlabel('Rank')\n",
    "plt.ylabel('Accuracy(%)')\n",
    "plt.xticks([r + barWidth for r in range(10)],\n",
    "       ['K=1', 'K=2', 'K=3', 'K=4', 'K=5', 'K=6', 'K=7', 'K=8', 'K=9', 'K=10'])\n",
    "plt.yticks(np.arange(0, 70, 10))\n",
    "\n",
    "plt.title('Google Chromium: With Wordnet Vs Without Wordnet.')\n",
    " \n",
    "plt.legend()\n",
    "\n",
    "# plt.show()\n",
    "\n",
    "plt.savefig('gc_rf_with_or_without_wordnet.png')"
   ]
  },
  {
   "cell_type": "code",
   "execution_count": 42,
   "id": "d6bf1ffc",
   "metadata": {},
   "outputs": [],
   "source": [
    "rfc_accuracy_avg_rank = []\n",
    "rfc_accuracy_with_wordnet_avg_rank = []\n",
    "\n",
    "rfc_accuracy_avg_rank.append(rfc_accuracy_avg[0])\n",
    "rfc_accuracy_avg_rank.append(rfc_accuracy_avg[4])\n",
    "rfc_accuracy_avg_rank.append(rfc_accuracy_avg[9])\n",
    "\n",
    "rfc_accuracy_with_wordnet_avg_rank.append(rfc_accuracy_with_wordnet_avg[0])\n",
    "rfc_accuracy_with_wordnet_avg_rank.append(rfc_accuracy_with_wordnet_avg[4])\n",
    "rfc_accuracy_with_wordnet_avg_rank.append(rfc_accuracy_with_wordnet_avg[9])"
   ]
  },
  {
   "cell_type": "code",
   "execution_count": 43,
   "id": "4d169a16",
   "metadata": {},
   "outputs": [
    {
     "name": "stdout",
     "output_type": "stream",
     "text": [
      "[11.21, 26.62, 34.71]\n",
      "[11.23, 26.84, 34.91]\n"
     ]
    }
   ],
   "source": [
    "print(rfc_accuracy_avg_rank)\n",
    "print(rfc_accuracy_with_wordnet_avg_rank)"
   ]
  },
  {
   "cell_type": "code",
   "execution_count": 44,
   "id": "134d89b0",
   "metadata": {},
   "outputs": [
    {
     "data": {
      "image/png": "[encoded data removed]",
      "text/plain": [
       "<Figure size 432x576 with 1 Axes>"
      ]
     },
     "metadata": {
      "needs_background": "light"
     },
     "output_type": "display_data"
    }
   ],
   "source": [
    "# set width of bar\n",
    "barWidth = 0.15\n",
    "fig = plt.subplots(figsize =(6, 8))\n",
    " \n",
    "# Set position of bar on X axis\n",
    "br1 = np.arange(3)\n",
    "br2 = [x + barWidth for x in br1]\n",
    "\n",
    "\n",
    "# Make the plot\n",
    "plt.bar(br1, rfc_accuracy_avg_rank, color ='b', width = barWidth,\n",
    "        edgecolor ='grey', label ='rfc_accuracy')\n",
    "plt.bar(br2, rfc_accuracy_with_wordnet_avg_rank, color ='g', width = barWidth,\n",
    "        edgecolor ='grey', label ='rfc_accuracy_with_wordnet')\n",
    " \n",
    "# Adding Xticks\n",
    "plt.xlabel('X-axis', fontweight ='bold', fontsize = 15)\n",
    "plt.ylabel('Y-axis', fontweight ='bold', fontsize = 15)\n",
    "plt.xticks([r + barWidth for r in range(3)],\n",
    "        ['K=1', 'K=5', 'K=10'])\n",
    "\n",
    "# plt.title('Accuracy with or without wordnet (Rank 1, 5 and 10): BiDirectional Neural Network')\n",
    " \n",
    "plt.legend()\n",
    "\n",
    "# plt.show()\n",
    "\n",
    "plt.savefig('Accuracy_Random_Forest_with_or_without_wordnet_bar_rank_gc.png')"
   ]
  }
 ],
 "metadata": {
  "kernelspec": {
   "display_name": "Python 3 (ipykernel)",
   "language": "python",
   "name": "python3"
  },
  "language_info": {
   "codemirror_mode": {
    "name": "ipython",
    "version": 3
   },
   "file_extension": ".py",
   "mimetype": "text/x-python",
   "name": "python",
   "nbconvert_exporter": "python",
   "pygments_lexer": "ipython3",
   "version": "3.7.13"
  }
 },
 "nbformat": 4,
 "nbformat_minor": 5
}
