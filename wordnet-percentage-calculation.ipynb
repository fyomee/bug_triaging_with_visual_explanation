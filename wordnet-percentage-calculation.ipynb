{
 "cells": [
  {
   "cell_type": "code",
   "execution_count": 15,
   "id": "91b5b486",
   "metadata": {},
   "outputs": [],
   "source": [
    "import numpy as np\n",
    "\n",
    "def getAveragePercentage(train_word_count_for_wordnet, updated_train_word_count_for_wordnet, updated_train_word_count_without_wordnet):\n",
    "    subtracted_array_train_wordnet = np.subtract(train_word_count_for_wordnet, updated_train_word_count_for_wordnet)\n",
    "    subtracted_array_train_wordnet = list(subtracted_array_train_wordnet)\n",
    "    print(subtracted_array_train_wordnet)\n",
    "\n",
    "    subtracted_array_train_without_wordnet = np.subtract(train_word_count_for_wordnet, updated_train_word_count_without_wordnet)\n",
    "    subtracted_array_train_without_wordnet = list(subtracted_array_train_without_wordnet)\n",
    "    print(subtracted_array_train_without_wordnet)\n",
    "\n",
    "    subtracted_array_train_synonym = np.subtract(subtracted_array_train_without_wordnet, subtracted_array_train_wordnet)\n",
    "    subtracted_array_train_synonym = list(subtracted_array_train_synonym)\n",
    "    print(subtracted_array_train_synonym)\n",
    "\n",
    "\n",
    "#     float('{0:.2f}'.format(i / j * 100))\n",
    "    percentage = [(float('{0:.2f}'.format(i / j * 100))) for i, j in zip(subtracted_array_train_synonym, subtracted_array_train_without_wordnet)]\n",
    "    print(percentage)\n",
    "\n",
    "\n",
    "    avgPercentage = float('{0:.2f}'.format(np.mean(percentage)))\n",
    "    print(avgPercentage)\n",
    "    \n",
    "    return avgPercentage;\n"
   ]
  },
  {
   "cell_type": "code",
   "execution_count": 16,
   "id": "9fa5024f",
   "metadata": {},
   "outputs": [],
   "source": [
    "# Googgle Chrome\n",
    "\n",
    "train_word_count_for_wordnet = [157440, 310863, 468127, 620243, 780881, 950598, 1109794, 1264331, 1412950, 1556371]\n",
    "updated_train_word_count_for_wordnet = [150058, 297234, 448117, 594639, 749227, 913661, 1067301, 1216845, 1360274, 1499082]\n",
    "test_word_count_for_wordnet =  [153423, 157264, 152116, 160638, 169717, 159196, 154537, 148619, 143421, 149952]\n",
    "updated_test_word_count_for_wordnet = [141784, 145575, 141436, 149409, 158577, 148571, 145201, 139275, 134895, 140919]\n",
    "synonymCounter_training_for_wordnet = [49, 103, 153, 200, 251, 295, 343, 385, 426, 452]\n",
    "normalCounter_training_for_wordnet = [65486, 130304, 193817, 258915, 325359, 391761, 456841, 522034, 583914, 647926]\n",
    "synonymCounter_test_for_wordnet = [65, 58, 62, 66, 75, 61, 67, 61, 51, 86]\n",
    "normalCounter_test_for_wordnet = [56795, 60038, 62867, 63973, 64294, 63612, 64247, 60731, 63001, 62927]\n",
    "train_word_count_without_wordnet = [157440, 310863, 468127, 620243, 780881, 950598, 1109794, 1264331, 1412950, 1556371]\n",
    "updated_train_word_count_without_wordnet =  [149979, 297074, 447864, 594300, 748805, 913163, 1066724, 1216208, 1359570, 1498335]\n",
    "test_word_count_without_wordnet = [153423, 157264, 152116, 160638, 169717, 159196, 154537, 148619, 143421, 149952]\n",
    "updated_test_word_count_without_wordnet = [141667, 145459, 141312, 149284, 158417, 148466, 145088, 139166, 134805, 140780]"
   ]
  },
  {
   "cell_type": "code",
   "execution_count": 17,
   "id": "507c7c0e",
   "metadata": {},
   "outputs": [
    {
     "name": "stdout",
     "output_type": "stream",
     "text": [
      "[7382, 13629, 20010, 25604, 31654, 36937, 42493, 47486, 52676, 57289]\n",
      "[7461, 13789, 20263, 25943, 32076, 37435, 43070, 48123, 53380, 58036]\n",
      "[79, 160, 253, 339, 422, 498, 577, 637, 704, 747]\n",
      "[1.06, 1.16, 1.25, 1.31, 1.32, 1.33, 1.34, 1.32, 1.32, 1.29]\n",
      "1.27\n"
     ]
    },
    {
     "data": {
      "text/plain": [
       "1.27"
      ]
     },
     "execution_count": 17,
     "metadata": {},
     "output_type": "execute_result"
    }
   ],
   "source": [
    "getAveragePercentage(train_word_count_for_wordnet, updated_train_word_count_for_wordnet, updated_train_word_count_without_wordnet)"
   ]
  },
  {
   "cell_type": "code",
   "execution_count": 18,
   "id": "db45ec2a",
   "metadata": {},
   "outputs": [
    {
     "name": "stdout",
     "output_type": "stream",
     "text": [
      "[11639, 11689, 10680, 11229, 11140, 10625, 9336, 9344, 8526, 9033]\n",
      "[11756, 11805, 10804, 11354, 11300, 10730, 9449, 9453, 8616, 9172]\n",
      "[117, 116, 124, 125, 160, 105, 113, 109, 90, 139]\n",
      "[1.0, 0.98, 1.15, 1.1, 1.42, 0.98, 1.2, 1.15, 1.04, 1.52]\n",
      "1.15\n"
     ]
    },
    {
     "data": {
      "text/plain": [
       "1.15"
      ]
     },
     "execution_count": 18,
     "metadata": {},
     "output_type": "execute_result"
    }
   ],
   "source": [
    "getAveragePercentage(test_word_count_for_wordnet, updated_test_word_count_for_wordnet, updated_test_word_count_without_wordnet)"
   ]
  },
  {
   "cell_type": "code",
   "execution_count": 19,
   "id": "9951aa55",
   "metadata": {},
   "outputs": [],
   "source": [
    "# Mozilla Core\n",
    "\n",
    "train_word_count_for_wordnet = [219089, 445835, 664971, 897130, 1097561, 1318148, 1543830, 1783880, 2025834, 2276965]\n",
    "updated_train_word_count_for_wordnet = [213774, 436356, 651751, 879998, 1076318, 1292634, 1513627, 1749250, 1986449, 2233042]\n",
    "test_word_count_for_wordnet =  [226746, 219136, 232159, 200431, 220587, 225682, 240050, 241954, 251131, 241093]\n",
    "updated_test_word_count_for_wordnet = [220245, 213389, 225844, 194402, 213848, 218302, 233094, 234888, 244594, 235142]\n",
    "synonymCounter_training_for_wordnet = [117, 194, 269, 355, 431, 514, 588, 670, 735, 779]\n",
    "normalCounter_training_for_wordnet = [108051, 219097, 333025, 452248, 563208, 677267, 788413, 904377, 1020593, 1131747]\n",
    "synonymCounter_test_for_wordnet = [84, 102, 125, 97, 110, 113, 110, 97, 79, 70]\n",
    "normalCounter_test_for_wordnet = [108336, 111322, 116425, 108722, 112193, 109792, 114300, 114414, 108348, 108906]\n",
    "train_word_count_without_wordnet = [219089, 445835, 664971, 897130, 1097561, 1318148, 1543830, 1783880, 2025834, 2276965]\n",
    "updated_train_word_count_without_wordnet = [213579, 436035, 651285, 879391, 1075579, 1291696, 1512521, 1748005, 1985094, 2231573]\n",
    "test_word_count_without_wordnet = [226746, 219136, 232159, 200431, 220587, 225682, 240050, 241954, 251131, 241093]\n",
    "updated_test_word_count_without_wordnet = [220096, 213194, 225635, 194216, 213565, 218046, 232906, 234703, 244413, 235004]"
   ]
  },
  {
   "cell_type": "code",
   "execution_count": 20,
   "id": "92d4bd64",
   "metadata": {},
   "outputs": [
    {
     "name": "stdout",
     "output_type": "stream",
     "text": [
      "[5315, 9479, 13220, 17132, 21243, 25514, 30203, 34630, 39385, 43923]\n",
      "[5510, 9800, 13686, 17739, 21982, 26452, 31309, 35875, 40740, 45392]\n",
      "[195, 321, 466, 607, 739, 938, 1106, 1245, 1355, 1469]\n",
      "[3.54, 3.28, 3.4, 3.42, 3.36, 3.55, 3.53, 3.47, 3.33, 3.24]\n",
      "3.41\n"
     ]
    },
    {
     "data": {
      "text/plain": [
       "3.41"
      ]
     },
     "execution_count": 20,
     "metadata": {},
     "output_type": "execute_result"
    }
   ],
   "source": [
    "getAveragePercentage(train_word_count_for_wordnet, updated_train_word_count_for_wordnet, updated_train_word_count_without_wordnet)"
   ]
  },
  {
   "cell_type": "code",
   "execution_count": 21,
   "id": "70dd4b4e",
   "metadata": {},
   "outputs": [
    {
     "name": "stdout",
     "output_type": "stream",
     "text": [
      "[6501, 5747, 6315, 6029, 6739, 7380, 6956, 7066, 6537, 5951]\n",
      "[6650, 5942, 6524, 6215, 7022, 7636, 7144, 7251, 6718, 6089]\n",
      "[149, 195, 209, 186, 283, 256, 188, 185, 181, 138]\n",
      "[2.24, 3.28, 3.2, 2.99, 4.03, 3.35, 2.63, 2.55, 2.69, 2.27]\n",
      "2.92\n"
     ]
    },
    {
     "data": {
      "text/plain": [
       "2.92"
      ]
     },
     "execution_count": 21,
     "metadata": {},
     "output_type": "execute_result"
    }
   ],
   "source": [
    "getAveragePercentage(test_word_count_for_wordnet, updated_test_word_count_for_wordnet, updated_test_word_count_without_wordnet)"
   ]
  },
  {
   "cell_type": "code",
   "execution_count": 22,
   "id": "44644f8e",
   "metadata": {},
   "outputs": [],
   "source": [
    "# Mozilla Firefox\n",
    "\n",
    "train_word_count_for_wordnet = [133846, 224905, 327514, 431348, 516398, 606827, 711788, 822784, 937084, 1043955]\n",
    "updated_train_word_count_for_wordnet = [132180, 221722, 322906, 425599, 509369, 598406, 700952, 810474, 923364, 1028489]\n",
    "test_word_count_for_wordnet = [91059, 102609, 103834, 85050, 90429, 104961, 110996, 114300, 106871, 92581]\n",
    "updated_test_word_count_for_wordnet = [89030, 100474, 101917, 83114, 88297, 101452, 108544, 112109, 104205, 89984]\n",
    "synonymCounter_training_for_wordnet = [54, 98, 147, 203, 267, 305, 360, 388, 431, 475]\n",
    "normalCounter_training_for_wordnet = [71725, 131056, 195028, 254365, 308679, 361027, 416268, 473011, 528733, 582123]\n",
    "synonymCounter_test_for_wordnet = [60, 68, 69, 66, 53, 68, 52, 67, 76, 74]\n",
    "normalCounter_test_for_wordnet = [52544, 61612, 53441, 49415, 49015, 54581, 54908, 54519, 53133, 52849]\n",
    "train_word_count_without_wordnet = [133846, 224905, 327514, 431348, 516398, 606827, 711788, 822784, 937084, 1043955]\n",
    "updated_train_word_count_without_wordnet =  [132059, 221534, 322638, 425247, 508926, 597910, 700391, 809862, 922700, 1027763]\n",
    "test_word_count_without_wordnet =  [91059, 102609, 103834, 85050, 90429, 104961, 110996, 114300, 106871, 92581]\n",
    "updated_test_word_count_without_wordnet = [88919, 100364, 101802, 83003, 88221, 101357, 108453, 111993, 104103, 89868]"
   ]
  },
  {
   "cell_type": "code",
   "execution_count": 23,
   "id": "f4a8c0ae",
   "metadata": {},
   "outputs": [
    {
     "name": "stdout",
     "output_type": "stream",
     "text": [
      "[1666, 3183, 4608, 5749, 7029, 8421, 10836, 12310, 13720, 15466]\n",
      "[1787, 3371, 4876, 6101, 7472, 8917, 11397, 12922, 14384, 16192]\n",
      "[121, 188, 268, 352, 443, 496, 561, 612, 664, 726]\n",
      "[6.77, 5.58, 5.5, 5.77, 5.93, 5.56, 4.92, 4.74, 4.62, 4.48]\n",
      "5.39\n"
     ]
    },
    {
     "data": {
      "text/plain": [
       "5.39"
      ]
     },
     "execution_count": 23,
     "metadata": {},
     "output_type": "execute_result"
    }
   ],
   "source": [
    "getAveragePercentage(train_word_count_for_wordnet, updated_train_word_count_for_wordnet, updated_train_word_count_without_wordnet)"
   ]
  },
  {
   "cell_type": "code",
   "execution_count": 24,
   "id": "335532e8",
   "metadata": {},
   "outputs": [
    {
     "name": "stdout",
     "output_type": "stream",
     "text": [
      "[2029, 2135, 1917, 1936, 2132, 3509, 2452, 2191, 2666, 2597]\n",
      "[2140, 2245, 2032, 2047, 2208, 3604, 2543, 2307, 2768, 2713]\n",
      "[111, 110, 115, 111, 76, 95, 91, 116, 102, 116]\n",
      "[5.19, 4.9, 5.66, 5.42, 3.44, 2.64, 3.58, 5.03, 3.68, 4.28]\n",
      "4.38\n"
     ]
    },
    {
     "data": {
      "text/plain": [
       "4.38"
      ]
     },
     "execution_count": 24,
     "metadata": {},
     "output_type": "execute_result"
    }
   ],
   "source": [
    "getAveragePercentage(test_word_count_for_wordnet, updated_test_word_count_for_wordnet, updated_test_word_count_without_wordnet)"
   ]
  }
 ],
 "metadata": {
  "kernelspec": {
   "display_name": "Python 3 (ipykernel)",
   "language": "python",
   "name": "python3"
  },
  "language_info": {
   "codemirror_mode": {
    "name": "ipython",
    "version": 3
   },
   "file_extension": ".py",
   "mimetype": "text/x-python",
   "name": "python",
   "nbconvert_exporter": "python",
   "pygments_lexer": "ipython3",
   "version": "3.7.13"
  }
 },
 "nbformat": 4,
 "nbformat_minor": 5
}
