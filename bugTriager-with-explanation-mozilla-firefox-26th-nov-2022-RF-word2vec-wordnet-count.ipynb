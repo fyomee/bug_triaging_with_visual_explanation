{
 "cells": [
  {
   "cell_type": "code",
   "execution_count": 1,
   "id": "f00b496e",
   "metadata": {},
   "outputs": [],
   "source": [
    "# !pip3 install shap\n",
    "# !pip3 install pyexplainer\n",
    "# !pip3 install lime\n",
    "# !pip3 install gensim\n",
    "# !pip3 install keras\n",
    "# !pip3 install tensorflow\n",
    "# !pip3 install sklearn\n",
    "# !pip3 install nltk\n",
    "# import nltk\n",
    "# nltk.download('omw-1.4')\n",
    "# nltk.download('punkt')\n",
    "# nltk.download('wordnet')\n",
    "# nltk.download('stopwords')\n",
    "# !pip install wordcloud"
   ]
  },
  {
   "cell_type": "code",
   "execution_count": 2,
   "id": "cad976b8",
   "metadata": {},
   "outputs": [],
   "source": [
    "import numpy as np\n",
    "import json, re, nltk, string, os, sys\n",
    "from os.path import abspath\n",
    "from sklearn.feature_extraction.text import TfidfVectorizer\n",
    "from nltk.corpus import wordnet\n",
    "from gensim.models import Word2Vec\n",
    "from keras.utils import np_utils\n",
    "from nltk.corpus import stopwords\n",
    "from sklearn.ensemble import RandomForestClassifier\n",
    "from sklearn.metrics import accuracy_score\n",
    "\n",
    "import matplotlib.pyplot as plt\n",
    "import time"
   ]
  },
  {
   "cell_type": "code",
   "execution_count": 3,
   "id": "01a43f9a",
   "metadata": {},
   "outputs": [],
   "source": [
    "bug_reports = os.path.join(sys.path[0],\"data/MozillaFirefox/train_test_json/classifier_data_20.json\")\n",
    "deep_data = os.path.join(sys.path[0],\"data/MozillaFirefox/deep_data.json\")"
   ]
  },
  {
   "cell_type": "code",
   "execution_count": 4,
   "id": "b7e50417",
   "metadata": {},
   "outputs": [],
   "source": [
    "#========================================================================================\n",
    "# Initializing Hyper parameter\n",
    "#========================================================================================\n",
    "#1. Word2vec parameters\n",
    "min_word_frequency = 5\n",
    "embed_size_word2vec = 300\n",
    "context_window_word2vec = 5\n",
    "\n",
    "#2. Classifier hyperparameters\n",
    "numCV = 10\n",
    "max_sentence_len = 50\n",
    "min_sentence_length = 15\n",
    "rankK = 10\n",
    "batch_size = 32"
   ]
  },
  {
   "cell_type": "code",
   "execution_count": 5,
   "id": "77663291",
   "metadata": {},
   "outputs": [],
   "source": [
    "def contains_letters(phrase):\n",
    "    return bool(re.search('[a-zA-Z]', phrase))"
   ]
  },
  {
   "cell_type": "code",
   "execution_count": 6,
   "id": "ce20291e",
   "metadata": {},
   "outputs": [],
   "source": [
    "def getProcessedData(bug_reports):\n",
    "    with open(bug_reports) as data_file:\n",
    "        data = json.load(data_file, strict=False)\n",
    "\n",
    "#     i = 0\n",
    "    \n",
    "    raw_data = []\n",
    "    all_data = []\n",
    "    all_owner = []\n",
    "    for item in data:\n",
    "        \n",
    "        data = 'Title:' + item['issue_title'] + '\\n Description: ' + item['description']\n",
    "        raw_data.append(data) \n",
    "\n",
    "        #1. Remove \\r\n",
    "        current_title = item['issue_title'].replace('\\r', ' ')\n",
    "        current_desc = item['description'].replace('\\r', ' ')\n",
    "\n",
    "        #2. Remove URLs\n",
    "        current_desc = re.sub(r'http[s]?://(?:[a-zA-Z]|[0-9]|[$-_@.&+]|[!*\\(\\),]|(?:%[0-9a-fA-F][0-9a-fA-F]))+', ' ', current_desc)\n",
    "\n",
    "        #3. Remove Stack Trace\n",
    "        start_loc = current_desc.find(\"Stack trace:\")\n",
    "        current_desc = current_desc[:start_loc]\n",
    "\n",
    "        #4. Change to lower case & Remove hex code\n",
    "        current_data = current_title.lower() + ' ' + current_desc.lower()\n",
    "        current_data = re.sub(r'(\\w+)0x\\w+', ' ', current_data)\n",
    "        current_data = re.sub(r'[^\\w\\s]', ' ', current_data)\n",
    "        \n",
    "        #5. Remove digits\n",
    "        current_data = re.sub(r'[0-9]', '', current_data)\n",
    "\n",
    "        #6. Tokenize\n",
    "        current_data_tokens = [w for w in nltk.word_tokenize(current_data) if contains_letters(w) and len(w) > 1]\n",
    "\n",
    "        #7. Remove stop words\n",
    "        stop_words = set(stopwords.words('english'))\n",
    "        current_data_filter = [w for w in current_data_tokens if not w in stop_words]\n",
    "\n",
    "        all_data.append(current_data_filter)\n",
    "        all_owner.append(item['owner'])\n",
    "        \n",
    "#         i = i + 1\n",
    "#         if i == 20000:\n",
    "#             break\n",
    "\n",
    "    return raw_data, all_data, all_owner"
   ]
  },
  {
   "cell_type": "code",
   "execution_count": 7,
   "id": "f00c50fb",
   "metadata": {},
   "outputs": [],
   "source": [
    "raw_data, all_data, all_owner = getProcessedData(bug_reports)"
   ]
  },
  {
   "cell_type": "code",
   "execution_count": 8,
   "id": "c34b36ac",
   "metadata": {},
   "outputs": [
    {
     "data": {
      "text/plain": [
       "20417"
      ]
     },
     "execution_count": 8,
     "metadata": {},
     "output_type": "execute_result"
    }
   ],
   "source": [
    "len(raw_data)\n",
    "len(all_data)\n",
    "len(all_owner)"
   ]
  },
  {
   "cell_type": "code",
   "execution_count": 9,
   "id": "90859705",
   "metadata": {},
   "outputs": [],
   "source": [
    "def getRandomForestClassifierAccuracy(X_train, Y_train, X_test, Y_test):\n",
    "    start = time.time()\n",
    "\n",
    "    rfc_model = RandomForestClassifier(n_estimators = 1000, max_depth = 300, n_jobs = -1, random_state=1)\n",
    "    \n",
    "    rfc_model.fit(X_train, Y_train) \n",
    "    \n",
    "    y_pred = rfc_model.predict_proba(X_test)\n",
    "    \n",
    "    end = time.time()\n",
    "    \n",
    "    elapsedTime = end - start\n",
    "    \n",
    "    classes = rfc_model.classes_\n",
    "    sortedIndices = []\n",
    "    pred_classes = []\n",
    "    index_pred_classes = []\n",
    "    rfc_accuracy = []\n",
    "    index = 0  \n",
    "    for ll in y_pred:\n",
    "        sortedIndices.append(sorted(range(len(ll)), key=lambda ii: ll[ii], reverse=True))  \n",
    "    for k in range(1, rankK+1):\n",
    "        id = 0\n",
    "        trueNum = 0\n",
    "        pred_class_no=0\n",
    "        for sortedInd in sortedIndices:\n",
    "            if Y_test[id] in classes[sortedInd[:k]]:\n",
    "                trueNum += 1\n",
    "                pred_classes.append(classes[sortedInd[:k]])\n",
    "                pred_class_no = trueNum\n",
    "                if index < 9 and k == 1:\n",
    "                    index = id\n",
    "                    index_pred_classes.append(classes[sortedInd[:k]])\n",
    "            id += 1\n",
    "        rfc_accuracy.append(float('{0:.2f}'.format((float(trueNum) / len(y_pred)) * 100)))\n",
    "\n",
    "    return rfc_model, rfc_accuracy, classes, index, elapsedTime"
   ]
  },
  {
   "cell_type": "code",
   "execution_count": 10,
   "id": "b55cfea7",
   "metadata": {},
   "outputs": [],
   "source": [
    "def average(lst):\n",
    "    return sum(lst) / len(lst)"
   ]
  },
  {
   "cell_type": "code",
   "execution_count": 11,
   "id": "b68435b8",
   "metadata": {},
   "outputs": [],
   "source": [
    "def getRank1_5_10_data(accuracy_cv10_with_avg):\n",
    "    rank1=''\n",
    "    rank5=''\n",
    "    rank10=''\n",
    "    for i in range(0, 11):\n",
    "        rank1 = rank1 + str(accuracy_cv10_with_avg[i][0])\n",
    "        rank5 = rank5 + str(accuracy_cv10_with_avg[i][4])\n",
    "        rank10 = rank10 + str(accuracy_cv10_with_avg[i][9])\n",
    "\n",
    "        if i!=10:\n",
    "            rank1 = rank1 + '  '\n",
    "            rank5 = rank5 + '  '\n",
    "            rank10 = rank10 + '  '\n",
    "\n",
    "\n",
    "    return rank1, rank5, rank10"
   ]
  },
  {
   "cell_type": "code",
   "execution_count": 12,
   "id": "20478908",
   "metadata": {},
   "outputs": [],
   "source": [
    "def getProcessedDeepData(deep_data):\n",
    "    with open(deep_data) as data_file:\n",
    "        data = json.load(data_file, strict=False)\n",
    "\n",
    "    all_data = []\n",
    "    for item in data:\n",
    "\n",
    "        #1. Remove \\r\n",
    "        current_title = item['issue_title'].replace('\\r', ' ')\n",
    "        current_desc = item['description'].replace('\\r', ' ')\n",
    "\n",
    "        #2. Remove URLs\n",
    "        current_desc = re.sub(r'http[s]?://(?:[a-zA-Z]|[0-9]|[$-_@.&+]|[!*\\(\\),]|(?:%[0-9a-fA-F][0-9a-fA-F]))+', ' ', current_desc)\n",
    "\n",
    "        #3. Remove Stack Trace\n",
    "        start_loc = current_desc.find(\"Stack trace:\")\n",
    "        current_desc = current_desc[:start_loc]\n",
    "\n",
    "        #4. Change to lower case & Remove hex code\n",
    "        current_data = current_title.lower() + ' ' + current_desc.lower()\n",
    "        current_data = re.sub(r'(\\w+)0x\\w+', ' ', current_data)\n",
    " \n",
    "        current_data = re.sub(r'[^\\w\\s]', ' ', current_data)\n",
    "        \n",
    "        #5. Remove digits\n",
    "        current_data = re.sub(r'[0-9]', '', current_data)\n",
    "\n",
    "        #6. Tokenize\n",
    "        current_data_tokens = [w for w in nltk.word_tokenize(current_data) if contains_letters(w) and len(w) > 1]\n",
    "\n",
    "        #7. Remove stop words\n",
    "        stop_words = set(stopwords.words('english'))\n",
    "        current_data_filter = [w for w in current_data_tokens if not w in stop_words]\n",
    "\n",
    "        all_data.append(current_data_filter)\n",
    "\n",
    "    return all_data"
   ]
  },
  {
   "cell_type": "code",
   "execution_count": 13,
   "id": "701f422a",
   "metadata": {},
   "outputs": [],
   "source": [
    "def getSynonyms(word):\n",
    "    synonyms = []\n",
    "    synsets = wordnet.synsets(word)\n",
    "    if (len(synsets) == 0):\n",
    "        return []\n",
    "    synset = synsets[0]\n",
    "    lemma_names = synset.lemma_names()\n",
    "    for lemma_name in lemma_names:\n",
    "        lemma_name = lemma_name.lower().replace('_', ' ')\n",
    "        if (lemma_name != word and lemma_name not in synonyms):\n",
    "            synonyms.append(lemma_name)\n",
    "    return set(synonyms)"
   ]
  },
  {
   "cell_type": "code",
   "execution_count": 14,
   "id": "f3186ca9",
   "metadata": {},
   "outputs": [],
   "source": [
    "def makeFeatureVecWithWordNet(bugReport, model, num_features, list_of_syn_data):\n",
    "    # Function to average all of the word vectors in a given\n",
    "    # paragraph\n",
    "    #\n",
    "    # Pre-initialize an empty numpy array (for speed)\n",
    "    featureVec = np.zeros((num_features,),dtype=\"float32\")\n",
    "    #\n",
    "    nwords = 0\n",
    "    synCounter = 0\n",
    "    norCounter = 0\n",
    "    elseTest = 0\n",
    "    # \n",
    "    # Index2word is a list that contains the names of the words in \n",
    "    # the model's vocabulary. Convert it to a set, for speed \n",
    "    index2word_set = set(model.wv.index_to_key)\n",
    "    #\n",
    "    # Loop over each word in the bugreport and, if it is in the model's\n",
    "    # vocaublary, add its feature vector to the total\n",
    "    for word in bugReport:\n",
    "        found = False\n",
    "        if word in index2word_set: \n",
    "            norCounter = norCounter+1\n",
    "            nwords = nwords + 1\n",
    "            featureVec = np.add(featureVec,model.wv[word])\n",
    "            if nwords == max_sentence_len-1:\n",
    "                break\n",
    "        else:\n",
    "            elseTest = elseTest + 1\n",
    "            for synonym in getSynonyms(word):\n",
    "                if synonym in index2word_set:\n",
    "                    list_of_syn_data.append(word + ' : ' + synonym)\n",
    "                    synCounter = synCounter + 1\n",
    "                    nwords = nwords + 1\n",
    "                    featureVec = np.add(featureVec, model.wv[synonym])\n",
    "                    found = True\n",
    "                    break\n",
    "            if nwords == max_sentence_len-1:\n",
    "                break\n",
    "    # \n",
    "    # Divide the result by the number of words to get the average\n",
    "    featureVec = np.divide(featureVec,nwords)\n",
    "    return elseTest, synCounter, norCounter, featureVec\n",
    "\n",
    "\n",
    "def getAvgFeatureVecsWithWordNet(bugReports, model, num_features):\n",
    "    # Given a set of reviews (each one a list of words), calculate \n",
    "    # the average feature vector for each one and return a 2D numpy array \n",
    "    # \n",
    "    # Initialize a counter\n",
    "    counter = 0\n",
    "    synonymCounter = 0\n",
    "    normalCounter = 0\n",
    "    elseTest1=0\n",
    "    list_of_syn_data = []\n",
    "    # \n",
    "    # Preallocate a 2D numpy array, for speed\n",
    "    bugReportsVecs = np.zeros((len(bugReports),num_features),dtype=\"float32\")\n",
    "    # \n",
    "    # Loop through the reviews\n",
    "    for bugReport in bugReports:\n",
    "        # Call the function (defined above) that makes average feature vectors\n",
    "        elseTest, synCounter, norCounter, bugReportsVecs[counter] = makeFeatureVecWithWordNet(\n",
    "            bugReport, model, num_features, list_of_syn_data)\n",
    "        \n",
    "        synonymCounter = synonymCounter + synCounter \n",
    "        normalCounter = normalCounter + norCounter\n",
    "        elseTest1 = elseTest1 + elseTest\n",
    "        #\n",
    "        # Increment the counter\n",
    "        counter = counter + 1\n",
    "        \n",
    "    print('elseTest1,', elseTest1)\n",
    "#     print('list_of_syn_data,', list_of_syn_data)\n",
    "    return synonymCounter, normalCounter, bugReportsVecs\n"
   ]
  },
  {
   "cell_type": "code",
   "execution_count": 15,
   "id": "22840424",
   "metadata": {},
   "outputs": [],
   "source": [
    "def makeFeatureVec(bugReport, model, num_features):\n",
    "    # Function to average all of the word vectors in a given\n",
    "    # paragraph\n",
    "    #\n",
    "    # Pre-initialize an empty numpy array (for speed)\n",
    "    featureVec = np.zeros((num_features,),dtype=\"float32\")\n",
    "    #\n",
    "    nwords = 0.\n",
    "    # \n",
    "    # Index2word is a list that contains the names of the words in \n",
    "    # the model's vocabulary. Convert it to a set, for speed \n",
    "    index2word_set = set(model.wv.index_to_key)\n",
    "    #\n",
    "    # Loop over each word in the bugreport and, if it is in the model's\n",
    "    # vocaublary, add its feature vector to the total\n",
    "    for word in bugReport:\n",
    "        found = False\n",
    "        if word in index2word_set: \n",
    "            nwords = nwords + 1.\n",
    "            featureVec = np.add(featureVec,model.wv[word])\n",
    "            if nwords == max_sentence_len-1:\n",
    "                break\n",
    "    # \n",
    "    # Divide the result by the number of words to get the average\n",
    "    featureVec = np.divide(featureVec,nwords)\n",
    "    return featureVec\n",
    "\n",
    "\n",
    "def getAvgFeatureVecs(bugReports, model, num_features):\n",
    "    # Given a set of reviews (each one a list of words), calculate \n",
    "    # the average feature vector for each one and return a 2D numpy array \n",
    "    # \n",
    "    # Initialize a counter\n",
    "    counter = 0\n",
    "    # \n",
    "    # Preallocate a 2D numpy array, for speed\n",
    "    bugReportsVecs = np.zeros((len(bugReports),num_features),dtype=\"float32\")\n",
    "    # \n",
    "    # Loop through the bugreport\n",
    "    for bugReport in bugReports:\n",
    "        # Call the function (defined above) that makes average feature vectors\n",
    "        bugReportsVecs[counter] = makeFeatureVec(bugReport, model, num_features)\n",
    "        #\n",
    "        # Increment the counter\n",
    "        counter = counter + 1\n",
    "    return bugReportsVecs"
   ]
  },
  {
   "cell_type": "code",
   "execution_count": 17,
   "id": "e552c778",
   "metadata": {},
   "outputs": [],
   "source": [
    "deep_data_list = getProcessedDeepData(deep_data)"
   ]
  },
  {
   "cell_type": "code",
   "execution_count": 19,
   "id": "78106c2b",
   "metadata": {},
   "outputs": [],
   "source": [
    "def getFilteredDataForWordnet(train_data, test_data, vocabulary):\n",
    "    updated_raw_train_data = []\n",
    "    updated_raw_test_data = []\n",
    "    updated_train_data = []\n",
    "    updated_train_owner = []\n",
    "    final_raw_test_data = []\n",
    "    final_test_data = []\n",
    "    final_test_owner = []\n",
    "    train_word_count = 0\n",
    "    test_word_count = 0\n",
    "    updated_train_word_count = 0\n",
    "    updated_test_word_count = 0\n",
    "    \n",
    "    for j, item in enumerate(train_data):\n",
    "        train_word_count = train_word_count + len(item)\n",
    "        current_train_filter = [word for word in item if word in vocabulary or set(getSynonyms(word)).intersection(vocabulary)]\n",
    "        updated_train_word_count = updated_train_word_count + len(current_train_filter)\n",
    "        if len(current_train_filter)>=min_sentence_length:\n",
    "            updated_train_data.append(current_train_filter)\n",
    "            updated_train_owner.append(train_owner[j])\n",
    "            updated_raw_train_data.append(raw_train_data[j])\n",
    "\n",
    "    for j, item in enumerate(test_data):\n",
    "        test_word_count = test_word_count + len(item)\n",
    "        current_test_filter = [word for word in item if word in vocabulary or set(getSynonyms(word)).intersection(vocabulary)]\n",
    "        updated_test_word_count = updated_test_word_count + len(current_test_filter)\n",
    "        if len(current_test_filter)>=min_sentence_length:\n",
    "            final_test_data.append(current_test_filter)\n",
    "            final_test_owner.append(test_owner[j])\n",
    "            final_raw_test_data.append(raw_test_data[j])\n",
    "            \n",
    "    # Remove data from test set that is not there in train set\n",
    "    train_owner_unique = set(updated_train_owner)\n",
    "    test_owner_unique = set(final_test_owner)\n",
    "    unwanted_owner = list(test_owner_unique - train_owner_unique)\n",
    "    updated_raw_test_data = []\n",
    "    updated_test_data = []\n",
    "    updated_test_owner = []\n",
    "    for j in range(len(final_test_owner)):\n",
    "        if final_test_owner[j] not in unwanted_owner:\n",
    "            updated_test_data.append(final_test_data[j])\n",
    "            updated_test_owner.append(final_test_owner[j])\n",
    "            updated_raw_test_data.append(final_raw_test_data[j])\n",
    "\n",
    "    unique_train_label = list(set(updated_train_owner))\n",
    "    \n",
    "    return updated_raw_train_data, updated_train_data, updated_train_owner, updated_raw_test_data, updated_test_data, updated_test_owner, train_word_count, test_word_count, updated_train_word_count, updated_test_word_count\n"
   ]
  },
  {
   "cell_type": "code",
   "execution_count": 25,
   "id": "c9b4f5bd",
   "metadata": {},
   "outputs": [],
   "source": [
    "def getFilteredData(train_data, test_data, vocabulary):\n",
    "    updated_raw_train_data = []\n",
    "    updated_raw_test_data = []\n",
    "    updated_train_data = []\n",
    "    updated_train_owner = []\n",
    "    final_raw_test_data = []\n",
    "    final_test_data = []\n",
    "    final_test_owner = []\n",
    "    train_word_count = 0\n",
    "    test_word_count = 0\n",
    "    updated_train_word_count = 0\n",
    "    updated_test_word_count = 0\n",
    "    \n",
    "    for j, item in enumerate(train_data): \n",
    "        train_word_count = train_word_count + len(item)\n",
    "        current_train_filter = [word for word in item if word in vocabulary]\n",
    "        updated_train_word_count = updated_train_word_count + len(current_train_filter)\n",
    "        if len(current_train_filter)>=min_sentence_length:\n",
    "            updated_train_data.append(current_train_filter)\n",
    "            updated_train_owner.append(train_owner[j])\n",
    "            updated_raw_train_data.append(raw_train_data[j])\n",
    "\n",
    "    for j, item in enumerate(test_data):\n",
    "        test_word_count = test_word_count + len(item)\n",
    "        current_test_filter = [word for word in item if word in vocabulary]\n",
    "        updated_test_word_count = updated_test_word_count + len(current_test_filter)\n",
    "        if len(current_test_filter)>=min_sentence_length:\n",
    "            final_test_data.append(current_test_filter)\n",
    "            final_test_owner.append(test_owner[j])\n",
    "            final_raw_test_data.append(raw_test_data[j])\n",
    "            \n",
    "    # Remove data from test set that is not there in train set\n",
    "    train_owner_unique = set(updated_train_owner)\n",
    "    test_owner_unique = set(final_test_owner)\n",
    "    unwanted_owner = list(test_owner_unique - train_owner_unique)\n",
    "    updated_raw_test_data = []\n",
    "    updated_test_data = []\n",
    "    updated_test_owner = []\n",
    "    for j in range(len(final_test_owner)):\n",
    "        if final_test_owner[j] not in unwanted_owner:\n",
    "            updated_test_data.append(final_test_data[j])\n",
    "            updated_test_owner.append(final_test_owner[j])\n",
    "            updated_raw_test_data.append(final_raw_test_data[j])\n",
    "\n",
    "    unique_train_label = list(set(updated_train_owner))\n",
    "    \n",
    "    return updated_raw_train_data, updated_train_data, updated_train_owner, updated_raw_test_data, updated_test_data, updated_test_owner, train_word_count, test_word_count, updated_train_word_count, updated_test_word_count"
   ]
  },
  {
   "cell_type": "code",
   "execution_count": 26,
   "id": "9047c07d",
   "metadata": {},
   "outputs": [
    {
     "name": "stdout",
     "output_type": "stream",
     "text": [
      "1\n",
      "1856\n",
      "1856\n",
      "1856\n",
      "1856\n",
      "1856\n",
      "1856\n",
      "139949\n",
      "39758\n",
      "elseTest1, 54\n",
      "with wordnet\n",
      "train_word_count :  133846\n",
      "updated_train_word_count :  132180\n",
      "removed_train_word_count :  1666\n",
      "synonymCounter_training :  54\n",
      "normalCounter_training :  71725\n",
      "elseTest1, 60\n",
      "test_word_count :  91059\n",
      "updated_test_word_count :  89030\n",
      "removed_test_word_count :  2029\n",
      "synonymCounter_testing :  60\n",
      "normalCounter_testing :  52544\n",
      "Random Forest Classifier Accuracy(With Wordnet) :  [1.95, 5.91, 10.37, 16.28, 21.54, 25.94, 30.19, 33.79, 36.96, 39.34]\n",
      "without wordnet\n",
      "train_word_count :  133846\n",
      "updated_train_word_count :  132059\n",
      "removed_train_word_count :  1787\n",
      "test_word_count :  91059\n",
      "updated_test_word_count :  88919\n",
      "removed_test_word_count :  2140\n",
      "Random Forest Classifier Accuracy :  [2.09, 5.98, 10.52, 16.86, 21.97, 26.08, 29.97, 33.57, 36.82, 39.12]\n",
      "2\n",
      "3712\n",
      "1856\n",
      "3712\n",
      "1856\n",
      "3712\n",
      "1856\n",
      "141805\n",
      "39952\n",
      "elseTest1, 98\n",
      "with wordnet\n",
      "train_word_count :  224905\n",
      "updated_train_word_count :  221722\n",
      "removed_train_word_count :  3183\n",
      "synonymCounter_training :  98\n",
      "normalCounter_training :  131056\n",
      "elseTest1, 68\n",
      "test_word_count :  102609\n",
      "updated_test_word_count :  100474\n",
      "removed_test_word_count :  2135\n",
      "synonymCounter_testing :  68\n",
      "normalCounter_testing :  61612\n",
      "Random Forest Classifier Accuracy(With Wordnet) :  [7.72, 10.71, 14.03, 17.41, 20.85, 23.28, 26.28, 28.12, 29.78, 32.14]\n",
      "without wordnet\n",
      "train_word_count :  224905\n",
      "updated_train_word_count :  221534\n",
      "removed_train_word_count :  3371\n",
      "test_word_count :  102609\n",
      "updated_test_word_count :  100364\n",
      "removed_test_word_count :  2245\n",
      "Random Forest Classifier Accuracy :  [8.16, 11.54, 14.6, 18.37, 20.85, 23.47, 25.45, 27.42, 29.15, 31.89]\n",
      "3\n",
      "5568\n",
      "1856\n",
      "5568\n",
      "1856\n",
      "5568\n",
      "1856\n",
      "143661\n",
      "40181\n",
      "elseTest1, 147\n",
      "with wordnet\n",
      "train_word_count :  327514\n",
      "updated_train_word_count :  322906\n",
      "removed_train_word_count :  4608\n",
      "synonymCounter_training :  147\n",
      "normalCounter_training :  195028\n",
      "elseTest1, 69\n",
      "test_word_count :  103834\n",
      "updated_test_word_count :  101917\n",
      "removed_test_word_count :  1917\n",
      "synonymCounter_testing :  69\n",
      "normalCounter_testing :  53441\n",
      "Random Forest Classifier Accuracy(With Wordnet) :  [11.25, 19.21, 25.13, 30.09, 34.33, 38.2, 41.49, 43.83, 45.87, 46.97]\n",
      "without wordnet\n",
      "train_word_count :  327514\n",
      "updated_train_word_count :  322638\n",
      "removed_train_word_count :  4876\n",
      "test_word_count :  103834\n",
      "updated_test_word_count :  101802\n",
      "removed_test_word_count :  2032\n",
      "Random Forest Classifier Accuracy :  [11.91, 19.87, 26.52, 31.99, 36.23, 39.01, 41.64, 43.39, 45.22, 47.04]\n",
      "4\n",
      "7424\n",
      "1856\n",
      "7424\n",
      "1856\n",
      "7424\n",
      "1856\n",
      "145517\n",
      "40355\n",
      "elseTest1, 203\n",
      "with wordnet\n",
      "train_word_count :  431348\n",
      "updated_train_word_count :  425599\n",
      "removed_train_word_count :  5749\n",
      "synonymCounter_training :  203\n",
      "normalCounter_training :  254365\n",
      "elseTest1, 66\n",
      "test_word_count :  85050\n",
      "updated_test_word_count :  83114\n",
      "removed_test_word_count :  1936\n",
      "synonymCounter_testing :  66\n",
      "normalCounter_testing :  49415\n",
      "Random Forest Classifier Accuracy(With Wordnet) :  [15.04, 19.91, 23.89, 26.7, 29.57, 32.01, 34.44, 35.84, 37.39, 38.72]\n",
      "without wordnet\n",
      "train_word_count :  431348\n",
      "updated_train_word_count :  425247\n",
      "removed_train_word_count :  6101\n",
      "test_word_count :  85050\n",
      "updated_test_word_count :  83003\n",
      "removed_test_word_count :  2047\n",
      "Random Forest Classifier Accuracy :  [15.63, 20.13, 24.04, 26.99, 29.57, 32.3, 34.22, 35.62, 36.95, 38.57]\n",
      "5\n",
      "9280\n",
      "1856\n",
      "9280\n",
      "1856\n",
      "9280\n",
      "1856\n",
      "147373\n",
      "40539\n",
      "elseTest1, 267\n",
      "with wordnet\n",
      "train_word_count :  516398\n",
      "updated_train_word_count :  509369\n",
      "removed_train_word_count :  7029\n",
      "synonymCounter_training :  267\n",
      "normalCounter_training :  308679\n",
      "elseTest1, 53\n",
      "test_word_count :  90429\n",
      "updated_test_word_count :  88297\n",
      "removed_test_word_count :  2132\n",
      "synonymCounter_testing :  53\n",
      "normalCounter_testing :  49015\n",
      "Random Forest Classifier Accuracy(With Wordnet) :  [17.06, 23.24, 27.21, 30.22, 33.31, 35.07, 36.91, 38.01, 38.97, 40.15]\n",
      "without wordnet\n",
      "train_word_count :  516398\n",
      "updated_train_word_count :  508926\n",
      "removed_train_word_count :  7472\n",
      "test_word_count :  90429\n",
      "updated_test_word_count :  88221\n",
      "removed_test_word_count :  2208\n",
      "Random Forest Classifier Accuracy :  [17.5, 24.41, 28.01, 30.51, 33.31, 35.0, 36.4, 37.94, 39.63, 40.29]\n",
      "6\n",
      "11136\n",
      "1856\n",
      "11136\n",
      "1856\n",
      "11136\n",
      "1856\n",
      "149229\n",
      "40742\n",
      "elseTest1, 305\n",
      "with wordnet\n",
      "train_word_count :  606827\n",
      "updated_train_word_count :  598406\n",
      "removed_train_word_count :  8421\n",
      "synonymCounter_training :  305\n",
      "normalCounter_training :  361027\n",
      "elseTest1, 68\n",
      "test_word_count :  104961\n",
      "updated_test_word_count :  101452\n",
      "removed_test_word_count :  3509\n",
      "synonymCounter_testing :  68\n",
      "normalCounter_testing :  54581\n",
      "Random Forest Classifier Accuracy(With Wordnet) :  [10.79, 15.79, 20.05, 22.72, 25.12, 27.25, 29.71, 31.85, 32.91, 35.44]\n",
      "without wordnet\n",
      "train_word_count :  606827\n",
      "updated_train_word_count :  597910\n",
      "removed_train_word_count :  8917\n",
      "test_word_count :  104961\n",
      "updated_test_word_count :  101357\n",
      "removed_test_word_count :  3604\n",
      "Random Forest Classifier Accuracy :  [9.93, 15.4, 19.4, 22.53, 25.33, 27.93, 29.47, 32.13, 33.87, 35.2]\n",
      "7\n",
      "12992\n",
      "1856\n",
      "12992\n",
      "1856\n",
      "12992\n",
      "1856\n",
      "151085\n",
      "41007\n",
      "elseTest1, 360\n",
      "with wordnet\n",
      "train_word_count :  711788\n",
      "updated_train_word_count :  700952\n",
      "removed_train_word_count :  10836\n",
      "synonymCounter_training :  360\n",
      "normalCounter_training :  416268\n",
      "elseTest1, 52\n",
      "test_word_count :  110996\n",
      "updated_test_word_count :  108544\n",
      "removed_test_word_count :  2452\n",
      "synonymCounter_testing :  52\n",
      "normalCounter_testing :  54908\n",
      "Random Forest Classifier Accuracy(With Wordnet) :  [14.81, 22.86, 27.82, 32.64, 36.6, 39.34, 42.76, 45.71, 47.79, 50.07]\n",
      "without wordnet\n",
      "train_word_count :  711788\n",
      "updated_train_word_count :  700391\n",
      "removed_train_word_count :  11397\n",
      "test_word_count :  110996\n",
      "updated_test_word_count :  108453\n",
      "removed_test_word_count :  2543\n",
      "Random Forest Classifier Accuracy :  [14.42, 22.87, 28.5, 32.33, 36.22, 39.44, 41.72, 44.13, 46.55, 48.83]\n",
      "8\n",
      "14848\n",
      "1856\n",
      "14848\n",
      "1856\n",
      "14848\n",
      "1856\n",
      "152941\n",
      "41235\n",
      "elseTest1, 388\n",
      "with wordnet\n",
      "train_word_count :  822784\n",
      "updated_train_word_count :  810474\n",
      "removed_train_word_count :  12310\n",
      "synonymCounter_training :  388\n",
      "normalCounter_training :  473011\n",
      "elseTest1, 67\n",
      "test_word_count :  114300\n",
      "updated_test_word_count :  112109\n",
      "removed_test_word_count :  2191\n",
      "synonymCounter_testing :  67\n",
      "normalCounter_testing :  54519\n",
      "Random Forest Classifier Accuracy(With Wordnet) :  [11.05, 16.98, 20.08, 24.39, 27.22, 29.38, 32.28, 34.64, 36.05, 38.14]\n",
      "without wordnet\n",
      "train_word_count :  822784\n",
      "updated_train_word_count :  809862\n",
      "removed_train_word_count :  12922\n",
      "test_word_count :  114300\n",
      "updated_test_word_count :  111993\n",
      "removed_test_word_count :  2307\n",
      "Random Forest Classifier Accuracy :  [11.32, 17.25, 20.69, 23.65, 26.62, 28.98, 31.33, 33.96, 36.59, 38.34]\n",
      "9\n",
      "16704\n",
      "1856\n",
      "16704\n",
      "1856\n",
      "16704\n",
      "1856\n",
      "154797\n",
      "41469\n",
      "elseTest1, 431\n",
      "with wordnet\n",
      "train_word_count :  937084\n",
      "updated_train_word_count :  923364\n",
      "removed_train_word_count :  13720\n",
      "synonymCounter_training :  431\n",
      "normalCounter_training :  528733\n",
      "elseTest1, 76\n",
      "test_word_count :  106871\n",
      "updated_test_word_count :  104205\n",
      "removed_test_word_count :  2666\n",
      "synonymCounter_testing :  76\n",
      "normalCounter_testing :  53133\n",
      "Random Forest Classifier Accuracy(With Wordnet) :  [11.81, 20.73, 25.26, 29.24, 33.49, 36.86, 39.4, 41.94, 44.75, 46.81]\n",
      "without wordnet\n",
      "train_word_count :  937084\n",
      "updated_train_word_count :  922700\n",
      "removed_train_word_count :  14384\n",
      "test_word_count :  106871\n",
      "updated_test_word_count :  104103\n",
      "removed_test_word_count :  2768\n",
      "Random Forest Classifier Accuracy :  [12.3, 19.59, 24.4, 29.0, 32.37, 36.01, 39.66, 41.79, 44.54, 47.42]\n",
      "10\n",
      "18560\n",
      "1857\n",
      "18560\n",
      "1857\n",
      "18560\n",
      "1857\n",
      "156653\n",
      "41709\n",
      "elseTest1, 475\n",
      "with wordnet\n",
      "train_word_count :  1043955\n",
      "updated_train_word_count :  1028489\n",
      "removed_train_word_count :  15466\n",
      "synonymCounter_training :  475\n",
      "normalCounter_training :  582123\n",
      "elseTest1, 74\n",
      "test_word_count :  92581\n",
      "updated_test_word_count :  89984\n",
      "removed_test_word_count :  2597\n",
      "synonymCounter_testing :  74\n",
      "normalCounter_testing :  52849\n",
      "Random Forest Classifier Accuracy(With Wordnet) :  [12.25, 17.99, 24.58, 29.46, 33.0, 35.76, 37.75, 40.51, 42.35, 44.55]\n",
      "without wordnet\n",
      "train_word_count :  1043955\n",
      "updated_train_word_count :  1027763\n",
      "removed_train_word_count :  16192\n",
      "test_word_count :  92581\n",
      "updated_test_word_count :  89868\n",
      "removed_test_word_count :  2713\n",
      "Random Forest Classifier Accuracy :  [12.06, 19.01, 24.26, 28.16, 32.48, 36.88, 39.79, 41.84, 43.9, 45.39]\n"
     ]
    }
   ],
   "source": [
    "totalLength = len(all_data)\n",
    "trainingTestingLength = totalLength / (numCV + 1)\n",
    "\n",
    "rfc_accuracy_cv10 = []\n",
    "m_accuracy_cv10 = []\n",
    "nn_accuracy_cv10 = []\n",
    "rfc_accuracy_with_wordnet_cv10 = []\n",
    "m_accuracy_with_wordnet_cv10 = []\n",
    "nn_accuracy_with_wordnet_cv10 = []\n",
    "rfc_with_wordnet_elapsed_time_cv10 = []\n",
    "mlp_with_wordnet_elapsed_time_cv10 = []\n",
    "rfc_elapsed_time_cv10 = []\n",
    "mlp_elapsed_time_cv10 = []\n",
    "nn_elapsed_time_cv10 = []\n",
    "\n",
    "train_word_count_for_wordnet = []\n",
    "updated_train_word_count_for_wordnet = []\n",
    "test_word_count_for_wordnet = []\n",
    "updated_test_word_count_for_wordnet = []\n",
    "synonymCounter_training_for_wordnet = []\n",
    "normalCounter_training_for_wordnet = []\n",
    "synonymCounter_test_for_wordnet = []\n",
    "normalCounter_test_for_wordnet = []\n",
    "\n",
    "train_word_count_without_wordnet = []\n",
    "updated_train_word_count_without_wordnet = []\n",
    "test_word_count_without_wordnet = []\n",
    "updated_test_word_count_without_wordnet = []\n",
    "\n",
    "\n",
    "for i in range(1, numCV+1):\n",
    "    # Split cross validation set\n",
    "    print(i)\n",
    "    raw_train_data = raw_data[:int(i*trainingTestingLength)]\n",
    "    raw_test_data = raw_data[int(i*trainingTestingLength):int((i+1)*trainingTestingLength)]\n",
    "    train_data = all_data[:int(i*trainingTestingLength)]\n",
    "    test_data = all_data[int(i*trainingTestingLength):int((i+1)*trainingTestingLength)]\n",
    "    train_owner = all_owner[:int(i*trainingTestingLength)]\n",
    "    test_owner = all_owner[int(i*trainingTestingLength):int((i+1)*trainingTestingLength)]\n",
    "    \n",
    "    print(len(raw_train_data))\n",
    "    print(len(raw_test_data))\n",
    "    print(len(train_data))\n",
    "    print(len(test_data))\n",
    "    print(len(train_owner))\n",
    "    print(len(test_owner))\n",
    "    \n",
    "    data_for_word_2_vec = deep_data_list + train_data\n",
    "    \n",
    "    print(len(data_for_word_2_vec))\n",
    "    \n",
    "    wordvec_model = Word2Vec(data_for_word_2_vec, min_count=min_word_frequency, vector_size=embed_size_word2vec, window=context_window_word2vec)\n",
    "    vocabulary = set(wordvec_model.wv.index_to_key)\n",
    "    vocab_size = len(vocabulary)\n",
    "    \n",
    "    print(vocab_size)\n",
    "    \n",
    "    \n",
    "    updated_raw_train_data, updated_train_data, updated_train_owner, updated_raw_test_data, updated_test_data, updated_test_owner, train_word_count, test_word_count, updated_train_word_count, updated_test_word_count = getFilteredDataForWordnet(train_data, test_data, vocabulary)\n",
    "    \n",
    "    synonymCounter_training = 0\n",
    "    normalCounter_training = 0\n",
    "    \n",
    "    synonymCounter_training, normalCounter_training, X_matrix_train = getAvgFeatureVecsWithWordNet(updated_train_data, wordvec_model, embed_size_word2vec)\n",
    "    \n",
    "    print('with wordnet')\n",
    "    print('train_word_count : ', train_word_count)\n",
    "    print('updated_train_word_count : ', updated_train_word_count)\n",
    "    print('removed_train_word_count : ', train_word_count - updated_train_word_count)\n",
    "    print('synonymCounter_training : ', synonymCounter_training)\n",
    "    print('normalCounter_training : ', normalCounter_training)\n",
    "    \n",
    "    synonymCounter_testing = 0\n",
    "    normalCounter_testing = 0\n",
    "    \n",
    "    synonymCounter_testing, normalCounter_testing, X_matrix_test = getAvgFeatureVecsWithWordNet(updated_test_data, wordvec_model, embed_size_word2vec)\n",
    "    \n",
    "    print('test_word_count : ', test_word_count)\n",
    "    print('updated_test_word_count : ', updated_test_word_count)\n",
    "    print('removed_test_word_count : ', test_word_count - updated_test_word_count)\n",
    "    print('synonymCounter_testing : ', synonymCounter_testing)\n",
    "    print('normalCounter_testing : ', normalCounter_testing)\n",
    "    \n",
    "    train_word_count_for_wordnet.append(train_word_count)\n",
    "    updated_train_word_count_for_wordnet.append(updated_train_word_count)\n",
    "    test_word_count_for_wordnet.append(test_word_count)\n",
    "    updated_test_word_count_for_wordnet.append(updated_test_word_count)\n",
    "    synonymCounter_training_for_wordnet.append(synonymCounter_training)\n",
    "    normalCounter_training_for_wordnet.append(normalCounter_training)\n",
    "    synonymCounter_test_for_wordnet.append(synonymCounter_testing)\n",
    "    normalCounter_test_for_wordnet.append(normalCounter_testing)\n",
    "    \n",
    "    \n",
    "    randomForestClassifier, rfc_accuracy_with_wordnet, classes, rfc_index_with_wordnet_cv10, rfc_with_wordnet_elapsed_time = getRandomForestClassifierAccuracy(X_matrix_train, updated_train_owner, \n",
    "                                                                      X_matrix_test, updated_test_owner)\n",
    "    \n",
    "\n",
    "    print('Random Forest Classifier Accuracy(With Wordnet) : ', rfc_accuracy_with_wordnet)\n",
    "    \n",
    "    del randomForestClassifier\n",
    "    \n",
    "    updated_raw_train_data, updated_train_data, updated_train_owner, updated_raw_test_data, updated_test_data, updated_test_owner, train_word_count, test_word_count, updated_train_word_count, updated_test_word_count = getFilteredData(train_data, test_data, vocabulary)\n",
    "    \n",
    "    X_matrix_train = getAvgFeatureVecs(updated_train_data, wordvec_model, embed_size_word2vec)\n",
    "    X_matrix_test = getAvgFeatureVecs(updated_test_data, wordvec_model, embed_size_word2vec)\n",
    "    \n",
    "    print('without wordnet')\n",
    "    print('train_word_count : ', train_word_count)\n",
    "    print('updated_train_word_count : ', updated_train_word_count)\n",
    "    print('removed_train_word_count : ', train_word_count - updated_train_word_count)\n",
    "    print('test_word_count : ', test_word_count)\n",
    "    print('updated_test_word_count : ', updated_test_word_count)\n",
    "    print('removed_test_word_count : ', test_word_count - updated_test_word_count)\n",
    "    \n",
    "    train_word_count_without_wordnet.append(train_word_count)\n",
    "    updated_train_word_count_without_wordnet.append(updated_train_word_count)\n",
    "    test_word_count_without_wordnet.append(test_word_count)\n",
    "    updated_test_word_count_without_wordnet.append(updated_test_word_count)\n",
    "    \n",
    "    \n",
    "    randomForestClassifier, rfc_accuracy, classes, rfc_index_cv10, rfc_elapsed_time = getRandomForestClassifierAccuracy(X_matrix_train, \n",
    "                                                                              updated_train_owner, \n",
    "                                                                              X_matrix_test, \n",
    "                                                                              updated_test_owner)\n",
    "    \n",
    "\n",
    "    print('Random Forest Classifier Accuracy : ', rfc_accuracy)\n",
    "\n",
    "    del randomForestClassifier\n",
    "    \n",
    "    rfc_accuracy_cv10.append(rfc_accuracy)\n",
    "    rfc_accuracy_with_wordnet_cv10.append(rfc_accuracy_with_wordnet)\n",
    "    \n",
    "    \n",
    "    rfc_with_wordnet_elapsed_time_cv10.append(rfc_with_wordnet_elapsed_time)\n",
    "    rfc_elapsed_time_cv10.append(rfc_elapsed_time)\n",
    "    "
   ]
  },
  {
   "cell_type": "code",
   "execution_count": 27,
   "id": "653bd03e",
   "metadata": {},
   "outputs": [
    {
     "name": "stdout",
     "output_type": "stream",
     "text": [
      "train_word_count_for_wordnet:  [133846, 224905, 327514, 431348, 516398, 606827, 711788, 822784, 937084, 1043955]\n",
      "updated_train_word_count_for_wordnet:  [132180, 221722, 322906, 425599, 509369, 598406, 700952, 810474, 923364, 1028489]\n",
      "test_word_count_for_wordnet:  [91059, 102609, 103834, 85050, 90429, 104961, 110996, 114300, 106871, 92581]\n",
      "updated_test_word_count_for_wordnet:  [89030, 100474, 101917, 83114, 88297, 101452, 108544, 112109, 104205, 89984]\n",
      "synonymCounter_training_for_wordnet:  [54, 98, 147, 203, 267, 305, 360, 388, 431, 475]\n",
      "normalCounter_training_for_wordnet:  [71725, 131056, 195028, 254365, 308679, 361027, 416268, 473011, 528733, 582123]\n",
      "synonymCounter_test_for_wordnet:  [60, 68, 69, 66, 53, 68, 52, 67, 76, 74]\n",
      "normalCounter_test_for_wordnet:  [52544, 61612, 53441, 49415, 49015, 54581, 54908, 54519, 53133, 52849]\n",
      "train_word_count_without_wordnet:  [133846, 224905, 327514, 431348, 516398, 606827, 711788, 822784, 937084, 1043955]\n",
      "updated_train_word_count_without_wordnet:  [132059, 221534, 322638, 425247, 508926, 597910, 700391, 809862, 922700, 1027763]\n",
      "test_word_count_without_wordnet:  [91059, 102609, 103834, 85050, 90429, 104961, 110996, 114300, 106871, 92581]\n",
      "updated_test_word_count_without_wordnet:  [88919, 100364, 101802, 83003, 88221, 101357, 108453, 111993, 104103, 89868]\n"
     ]
    }
   ],
   "source": [
    "print('train_word_count_for_wordnet: ', train_word_count_for_wordnet)\n",
    "print('updated_train_word_count_for_wordnet: ', updated_train_word_count_for_wordnet)\n",
    "print('test_word_count_for_wordnet: ', test_word_count_for_wordnet)\n",
    "print('updated_test_word_count_for_wordnet: ', updated_test_word_count_for_wordnet)\n",
    "print('synonymCounter_training_for_wordnet: ', synonymCounter_training_for_wordnet)\n",
    "print('normalCounter_training_for_wordnet: ', normalCounter_training_for_wordnet)\n",
    "print('synonymCounter_test_for_wordnet: ', synonymCounter_test_for_wordnet)\n",
    "print('normalCounter_test_for_wordnet: ', normalCounter_test_for_wordnet)\n",
    "\n",
    "print('train_word_count_without_wordnet: ',train_word_count_without_wordnet)\n",
    "print('updated_train_word_count_without_wordnet: ', updated_train_word_count_without_wordnet)\n",
    "print('test_word_count_without_wordnet: ',test_word_count_without_wordnet)\n",
    "print('updated_test_word_count_without_wordnet: ', updated_test_word_count_without_wordnet)"
   ]
  },
  {
   "cell_type": "code",
   "execution_count": 28,
   "id": "d250872e",
   "metadata": {},
   "outputs": [
    {
     "name": "stdout",
     "output_type": "stream",
     "text": [
      "[[2.09, 5.98, 10.52, 16.86, 21.97, 26.08, 29.97, 33.57, 36.82, 39.12], [8.16, 11.54, 14.6, 18.37, 20.85, 23.47, 25.45, 27.42, 29.15, 31.89], [11.91, 19.87, 26.52, 31.99, 36.23, 39.01, 41.64, 43.39, 45.22, 47.04], [15.63, 20.13, 24.04, 26.99, 29.57, 32.3, 34.22, 35.62, 36.95, 38.57], [17.5, 24.41, 28.01, 30.51, 33.31, 35.0, 36.4, 37.94, 39.63, 40.29], [9.93, 15.4, 19.4, 22.53, 25.33, 27.93, 29.47, 32.13, 33.87, 35.2], [14.42, 22.87, 28.5, 32.33, 36.22, 39.44, 41.72, 44.13, 46.55, 48.83], [11.32, 17.25, 20.69, 23.65, 26.62, 28.98, 31.33, 33.96, 36.59, 38.34], [12.3, 19.59, 24.4, 29.0, 32.37, 36.01, 39.66, 41.79, 44.54, 47.42], [12.06, 19.01, 24.26, 28.16, 32.48, 36.88, 39.79, 41.84, 43.9, 45.39]]\n"
     ]
    }
   ],
   "source": [
    "print(rfc_accuracy_cv10)"
   ]
  },
  {
   "cell_type": "code",
   "execution_count": 29,
   "id": "c1e4a57d",
   "metadata": {},
   "outputs": [],
   "source": [
    "rfc_accuracy_cv10_with_avg = rfc_accuracy_cv10"
   ]
  },
  {
   "cell_type": "code",
   "execution_count": 30,
   "id": "850c7a32",
   "metadata": {},
   "outputs": [
    {
     "name": "stdout",
     "output_type": "stream",
     "text": [
      "[[1.95, 5.91, 10.37, 16.28, 21.54, 25.94, 30.19, 33.79, 36.96, 39.34], [7.72, 10.71, 14.03, 17.41, 20.85, 23.28, 26.28, 28.12, 29.78, 32.14], [11.25, 19.21, 25.13, 30.09, 34.33, 38.2, 41.49, 43.83, 45.87, 46.97], [15.04, 19.91, 23.89, 26.7, 29.57, 32.01, 34.44, 35.84, 37.39, 38.72], [17.06, 23.24, 27.21, 30.22, 33.31, 35.07, 36.91, 38.01, 38.97, 40.15], [10.79, 15.79, 20.05, 22.72, 25.12, 27.25, 29.71, 31.85, 32.91, 35.44], [14.81, 22.86, 27.82, 32.64, 36.6, 39.34, 42.76, 45.71, 47.79, 50.07], [11.05, 16.98, 20.08, 24.39, 27.22, 29.38, 32.28, 34.64, 36.05, 38.14], [11.81, 20.73, 25.26, 29.24, 33.49, 36.86, 39.4, 41.94, 44.75, 46.81], [12.25, 17.99, 24.58, 29.46, 33.0, 35.76, 37.75, 40.51, 42.35, 44.55]]\n"
     ]
    }
   ],
   "source": [
    "print(rfc_accuracy_with_wordnet_cv10)"
   ]
  },
  {
   "cell_type": "code",
   "execution_count": 31,
   "id": "b0323993",
   "metadata": {},
   "outputs": [],
   "source": [
    "rfc_accuracy_with_wordnet_cv10_with_avg = rfc_accuracy_with_wordnet_cv10"
   ]
  },
  {
   "cell_type": "code",
   "execution_count": 32,
   "id": "0cf8c64f",
   "metadata": {},
   "outputs": [],
   "source": [
    "rfc_accuracy_avg = [float('{0:.2f}'.format(float(sum(l))/len(l))) for l in zip(*rfc_accuracy_cv10)]\n",
    "rfc_accuracy_with_wordnet_avg = [float('{0:.2f}'.format(float(sum(l))/len(l))) for l in zip(*rfc_accuracy_with_wordnet_cv10)]"
   ]
  },
  {
   "cell_type": "code",
   "execution_count": 33,
   "id": "2d20678e",
   "metadata": {},
   "outputs": [
    {
     "name": "stdout",
     "output_type": "stream",
     "text": [
      "[11.53, 17.6, 22.09, 26.04, 29.49, 32.51, 34.97, 37.18, 39.32, 41.21]\n"
     ]
    }
   ],
   "source": [
    "print(rfc_accuracy_avg)"
   ]
  },
  {
   "cell_type": "code",
   "execution_count": 34,
   "id": "807f392d",
   "metadata": {},
   "outputs": [
    {
     "name": "stdout",
     "output_type": "stream",
     "text": [
      "[11.37, 17.33, 21.84, 25.91, 29.5, 32.31, 35.12, 37.42, 39.28, 41.23]\n"
     ]
    }
   ],
   "source": [
    "print(rfc_accuracy_with_wordnet_avg)"
   ]
  },
  {
   "cell_type": "code",
   "execution_count": 35,
   "id": "e0abc60f",
   "metadata": {},
   "outputs": [],
   "source": [
    "rfc_accuracy_cv10_with_avg.append(rfc_accuracy_avg)"
   ]
  },
  {
   "cell_type": "code",
   "execution_count": 36,
   "id": "b97d8be0",
   "metadata": {},
   "outputs": [],
   "source": [
    "rfc_accuracy_with_wordnet_cv10_with_avg.append(rfc_accuracy_with_wordnet_avg)"
   ]
  },
  {
   "cell_type": "code",
   "execution_count": 37,
   "id": "23c24880",
   "metadata": {},
   "outputs": [
    {
     "name": "stdout",
     "output_type": "stream",
     "text": [
      "2.09  8.16  11.91  15.63  17.5  9.93  14.42  11.32  12.3  12.06  11.53\n",
      "21.97  20.85  36.23  29.57  33.31  25.33  36.22  26.62  32.37  32.48  29.49\n",
      "39.12  31.89  47.04  38.57  40.29  35.2  48.83  38.34  47.42  45.39  41.21\n"
     ]
    }
   ],
   "source": [
    "rfc_accuracy_cv10_with_avg_rank1, rfc_accuracy_cv10_with_avg_rank5, rfc_accuracy_cv10_with_avg_rank10 = getRank1_5_10_data(rfc_accuracy_cv10_with_avg)         \n",
    "    \n",
    "print(rfc_accuracy_cv10_with_avg_rank1)\n",
    "print(rfc_accuracy_cv10_with_avg_rank5)\n",
    "print(rfc_accuracy_cv10_with_avg_rank10)"
   ]
  },
  {
   "cell_type": "code",
   "execution_count": 38,
   "id": "43201462",
   "metadata": {},
   "outputs": [
    {
     "name": "stdout",
     "output_type": "stream",
     "text": [
      "2.09  8.16  11.91  15.63  17.5  9.93  14.42  11.32  12.3  12.06  11.53\n",
      "21.97  20.85  36.23  29.57  33.31  25.33  36.22  26.62  32.37  32.48  29.49\n",
      "39.12  31.89  47.04  38.57  40.29  35.2  48.83  38.34  47.42  45.39  41.21\n"
     ]
    }
   ],
   "source": [
    "print(rfc_accuracy_cv10_with_avg_rank1)\n",
    "print(rfc_accuracy_cv10_with_avg_rank5)\n",
    "print(rfc_accuracy_cv10_with_avg_rank10)"
   ]
  },
  {
   "cell_type": "code",
   "execution_count": 39,
   "id": "3063643c",
   "metadata": {},
   "outputs": [
    {
     "name": "stdout",
     "output_type": "stream",
     "text": [
      "1.95  7.72  11.25  15.04  17.06  10.79  14.81  11.05  11.81  12.25  11.37\n",
      "21.54  20.85  34.33  29.57  33.31  25.12  36.6  27.22  33.49  33.0  29.5\n",
      "39.34  32.14  46.97  38.72  40.15  35.44  50.07  38.14  46.81  44.55  41.23\n"
     ]
    }
   ],
   "source": [
    "rfc_accuracy_with_wordnet_cv10_with_avg_rank1, rfc_accuracy_with_wordnet_cv10_with_avg_rank5, rfc_accuracy_with_wordnet_cv10_with_avg_rank10 = getRank1_5_10_data(rfc_accuracy_with_wordnet_cv10_with_avg)         \n",
    "    \n",
    "print(rfc_accuracy_with_wordnet_cv10_with_avg_rank1)\n",
    "print(rfc_accuracy_with_wordnet_cv10_with_avg_rank5)\n",
    "print(rfc_accuracy_with_wordnet_cv10_with_avg_rank10)"
   ]
  },
  {
   "cell_type": "code",
   "execution_count": 40,
   "id": "b9763f3c",
   "metadata": {},
   "outputs": [
    {
     "data": {
      "text/plain": [
       "[4.744169235229492,\n",
       " 12.642484903335571,\n",
       " 22.055479049682617,\n",
       " 33.93336486816406,\n",
       " 47.04664492607117,\n",
       " 59.604910135269165,\n",
       " 77.38635015487671,\n",
       " 106.41853785514832,\n",
       " 116.62117671966553,\n",
       " 146.05640983581543]"
      ]
     },
     "execution_count": 40,
     "metadata": {},
     "output_type": "execute_result"
    }
   ],
   "source": [
    "rfc_with_wordnet_elapsed_time_cv10"
   ]
  },
  {
   "cell_type": "code",
   "execution_count": 41,
   "id": "b1672837",
   "metadata": {},
   "outputs": [
    {
     "name": "stdout",
     "output_type": "stream",
     "text": [
      "62.65095276832581\n"
     ]
    }
   ],
   "source": [
    "print(np.mean(rfc_with_wordnet_elapsed_time_cv10))"
   ]
  },
  {
   "cell_type": "code",
   "execution_count": 42,
   "id": "9511548e",
   "metadata": {},
   "outputs": [
    {
     "data": {
      "text/plain": [
       "[4.848268985748291,\n",
       " 11.939496994018555,\n",
       " 19.885749101638794,\n",
       " 33.38644504547119,\n",
       " 46.16716480255127,\n",
       " 57.85920262336731,\n",
       " 79.41079664230347,\n",
       " 104.99325513839722,\n",
       " 147.12989115715027,\n",
       " 163.09511399269104]"
      ]
     },
     "execution_count": 42,
     "metadata": {},
     "output_type": "execute_result"
    }
   ],
   "source": [
    "rfc_elapsed_time_cv10"
   ]
  },
  {
   "cell_type": "code",
   "execution_count": 43,
   "id": "d69ab58d",
   "metadata": {},
   "outputs": [
    {
     "name": "stdout",
     "output_type": "stream",
     "text": [
      "66.87153844833374\n"
     ]
    }
   ],
   "source": [
    "print(np.mean(rfc_elapsed_time_cv10))"
   ]
  },
  {
   "cell_type": "code",
   "execution_count": 44,
   "id": "2b359993",
   "metadata": {},
   "outputs": [
    {
     "name": "stdout",
     "output_type": "stream",
     "text": [
      "[11.53, 17.6, 22.09, 26.04, 29.49, 32.51, 34.97, 37.18, 39.32, 41.21]\n"
     ]
    }
   ],
   "source": [
    "print(rfc_accuracy_avg)"
   ]
  },
  {
   "cell_type": "code",
   "execution_count": 45,
   "id": "7079255c",
   "metadata": {},
   "outputs": [
    {
     "name": "stdout",
     "output_type": "stream",
     "text": [
      "[11.37, 17.33, 21.84, 25.91, 29.5, 32.31, 35.12, 37.42, 39.28, 41.23]\n"
     ]
    }
   ],
   "source": [
    "print(rfc_accuracy_with_wordnet_avg)"
   ]
  },
  {
   "cell_type": "code",
   "execution_count": 46,
   "id": "1f525997",
   "metadata": {},
   "outputs": [],
   "source": [
    "[11.53, 17.6, 22.09, 26.04, 29.49, 32.51, 34.97, 37.18, 39.32, 41.21]\n",
    "[11.37, 17.33, 21.84, 25.91, 29.5, 32.31, 35.12, 37.42, 39.28, 41.23]"
   ]
  },
  {
   "cell_type": "code",
   "execution_count": 47,
   "id": "1475a498",
   "metadata": {},
   "outputs": [
    {
     "data": {
      "image/png": "[encoded data removed]",
      "text/plain": [
       "<Figure size 432x288 with 1 Axes>"
      ]
     },
     "metadata": {
      "needs_background": "light"
     },
     "output_type": "display_data"
    }
   ],
   "source": [
    "# x = range(1,12)\n",
    "y = range(0,70)\n",
    "\n",
    "plt.plot(rfc_accuracy_avg, color='red',label ='Without Wordnet')\n",
    "plt.plot(rfc_accuracy_with_wordnet_avg, color='green',label ='With Wordnet')\n",
    "plt.title('Mozilla Firefox : With Wordnet Vs Without Wordnet.')\n",
    "plt.xlabel('Rank')\n",
    "plt.ylabel('Accuracy(%)')\n",
    "plt.xticks([r for r in range(10)],\n",
    "        ['1', '2', '3', '4', '5','6', '7', '8', '9', '10'])\n",
    "plt.yticks(np.arange(0, 80, 10))\n",
    "plt.legend()\n",
    "# plt.show()\n",
    "\n",
    "plt.savefig('rf_word2vec_mf_with_or_without_wordnet.png')"
   ]
  },
  {
   "cell_type": "code",
   "execution_count": 52,
   "id": "cd5d9b1c",
   "metadata": {},
   "outputs": [
    {
     "data": {
      "image/png": "[encoded data removed]",
      "text/plain": [
       "<Figure size 864x864 with 1 Axes>"
      ]
     },
     "metadata": {
      "needs_background": "light"
     },
     "output_type": "display_data"
    }
   ],
   "source": [
    "y = range(0,70)\n",
    "# set width of bar\n",
    "barWidth = 0.20\n",
    "fig = plt.subplots(figsize =(12, 12))\n",
    " \n",
    "# Set position of bar on X axis\n",
    "br1 = np.arange(10)\n",
    "br2 = [x + barWidth for x in br1]\n",
    "\n",
    "# Make the plot\n",
    "plt.bar(br1, rfc_accuracy_avg, color ='b', width = barWidth,\n",
    "        edgecolor ='grey', label ='Without Wordnet')\n",
    "plt.bar(br2, rfc_accuracy_with_wordnet_avg, color ='g', width = barWidth,\n",
    "        edgecolor ='grey', label ='With Wordnet')\n",
    " \n",
    "# Adding Xticks\n",
    "plt.xlabel('Rank')\n",
    "plt.ylabel('Accuracy(%)')\n",
    "plt.xticks([r + barWidth for r in range(10)],\n",
    "       ['K=1', 'K=2', 'K=3', 'K=4', 'K=5', 'K=6', 'K=7', 'K=8', 'K=9', 'K=10'])\n",
    "plt.yticks(np.arange(0, 60, 10))\n",
    "\n",
    "plt.title('Mozilla Firefox: With Wordnet Vs Without Wordnet.')\n",
    " \n",
    "plt.legend()\n",
    "\n",
    "# plt.show()\n",
    "\n",
    "plt.savefig('mf_rf_with_or_without_wordnet.png')"
   ]
  },
  {
   "cell_type": "code",
   "execution_count": 49,
   "id": "d6bf1ffc",
   "metadata": {},
   "outputs": [],
   "source": [
    "rfc_accuracy_avg_rank = []\n",
    "rfc_accuracy_with_wordnet_avg_rank = []\n",
    "\n",
    "rfc_accuracy_avg_rank.append(rfc_accuracy_avg[0])\n",
    "rfc_accuracy_avg_rank.append(rfc_accuracy_avg[4])\n",
    "rfc_accuracy_avg_rank.append(rfc_accuracy_avg[9])\n",
    "\n",
    "rfc_accuracy_with_wordnet_avg_rank.append(rfc_accuracy_with_wordnet_avg[0])\n",
    "rfc_accuracy_with_wordnet_avg_rank.append(rfc_accuracy_with_wordnet_avg[4])\n",
    "rfc_accuracy_with_wordnet_avg_rank.append(rfc_accuracy_with_wordnet_avg[9])"
   ]
  },
  {
   "cell_type": "code",
   "execution_count": 50,
   "id": "4d169a16",
   "metadata": {},
   "outputs": [
    {
     "name": "stdout",
     "output_type": "stream",
     "text": [
      "[11.53, 29.49, 41.21]\n",
      "[11.37, 29.5, 41.23]\n"
     ]
    }
   ],
   "source": [
    "print(rfc_accuracy_avg_rank)\n",
    "print(rfc_accuracy_with_wordnet_avg_rank)"
   ]
  },
  {
   "cell_type": "code",
   "execution_count": 51,
   "id": "134d89b0",
   "metadata": {},
   "outputs": [
    {
     "data": {
      "image/png": "[encoded data removed]",
      "text/plain": [
       "<Figure size 432x576 with 1 Axes>"
      ]
     },
     "metadata": {
      "needs_background": "light"
     },
     "output_type": "display_data"
    }
   ],
   "source": [
    "# set width of bar\n",
    "barWidth = 0.15\n",
    "fig = plt.subplots(figsize =(6, 8))\n",
    " \n",
    "# Set position of bar on X axis\n",
    "br1 = np.arange(3)\n",
    "br2 = [x + barWidth for x in br1]\n",
    "\n",
    "\n",
    "# Make the plot\n",
    "plt.bar(br1, rfc_accuracy_avg_rank, color ='b', width = barWidth,\n",
    "        edgecolor ='grey', label ='rfc_accuracy')\n",
    "plt.bar(br2, rfc_accuracy_with_wordnet_avg_rank, color ='g', width = barWidth,\n",
    "        edgecolor ='grey', label ='rfc_accuracy_with_wordnet')\n",
    " \n",
    "# Adding Xticks\n",
    "plt.xlabel('X-axis', fontweight ='bold', fontsize = 15)\n",
    "plt.ylabel('Y-axis', fontweight ='bold', fontsize = 15)\n",
    "plt.xticks([r + barWidth for r in range(3)],\n",
    "        ['K=1', 'K=5', 'K=10'])\n",
    "\n",
    "# plt.title('Accuracy with or without wordnet (Rank 1, 5 and 10): BiDirectional Neural Network')\n",
    " \n",
    "plt.legend()\n",
    "\n",
    "# plt.show()\n",
    "\n",
    "plt.savefig('Accuracy_Random_Forest_with_or_without_wordnet_bar_rank.png')"
   ]
  }
 ],
 "metadata": {
  "kernelspec": {
   "display_name": "Python 3 (ipykernel)",
   "language": "python",
   "name": "python3"
  },
  "language_info": {
   "codemirror_mode": {
    "name": "ipython",
    "version": 3
   },
   "file_extension": ".py",
   "mimetype": "text/x-python",
   "name": "python",
   "nbconvert_exporter": "python",
   "pygments_lexer": "ipython3",
   "version": "3.7.13"
  }
 },
 "nbformat": 4,
 "nbformat_minor": 5
}
