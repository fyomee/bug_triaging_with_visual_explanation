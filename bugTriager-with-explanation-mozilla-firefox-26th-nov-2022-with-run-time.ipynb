{
 "cells": [
  {
   "cell_type": "code",
   "execution_count": 147,
   "id": "f00b496e",
   "metadata": {},
   "outputs": [],
   "source": [
    "# !pip3 install shap\n",
    "# !pip3 install pyexplainer\n",
    "# !pip3 install lime\n",
    "# !pip3 install gensim\n",
    "# !pip3 install keras\n",
    "# !pip3 install tensorflow\n",
    "# !pip3 install sklearn\n",
    "# !pip3 install nltk\n",
    "# import nltk\n",
    "# nltk.download('omw-1.4')\n",
    "# nltk.download('punkt')\n",
    "# nltk.download('wordnet')\n",
    "# nltk.download('stopwords')\n",
    "# !pip install wordcloud"
   ]
  },
  {
   "cell_type": "code",
   "execution_count": 148,
   "id": "cad976b8",
   "metadata": {},
   "outputs": [],
   "source": [
    "import numpy as np\n",
    "import json, re, nltk, string, os, sys\n",
    "from os.path import abspath\n",
    "from sklearn.feature_extraction.text import TfidfVectorizer\n",
    "from nltk.corpus import wordnet\n",
    "from gensim.models import Word2Vec\n",
    "from keras.preprocessing import sequence\n",
    "from keras.models import Model,Sequential\n",
    "from keras.layers import Dense, Dropout, LSTM, Bidirectional\n",
    "from tensorflow.keras.optimizers import RMSprop\n",
    "from keras.utils import np_utils\n",
    "from nltk.corpus import stopwords\n",
    "from nltk.stem import PorterStemmer\n",
    "from nltk.stem import WordNetLemmatizer\n",
    "from sklearn.ensemble import RandomForestClassifier\n",
    "from sklearn.metrics import classification_report, confusion_matrix, accuracy_score\n",
    "from sklearn.neural_network import MLPClassifier\n",
    "\n",
    "from sklearn.pipeline import Pipeline\n",
    "\n",
    "from lime import lime_tabular\n",
    "from lime import lime_text\n",
    "from lime.lime_text import LimeTextExplainer\n",
    "import matplotlib.pyplot as plt\n",
    "import time"
   ]
  },
  {
   "cell_type": "code",
   "execution_count": 149,
   "id": "01a43f9a",
   "metadata": {},
   "outputs": [],
   "source": [
    "bug_reports = os.path.join(sys.path[0],\"data/MozillaFirefox/train_test_json/classifier_data_20.json\")\n",
    "deep_data = os.path.join(sys.path[0],\"data/MozillaFirefox/deep_data.json\")"
   ]
  },
  {
   "cell_type": "code",
   "execution_count": 150,
   "id": "b7e50417",
   "metadata": {},
   "outputs": [],
   "source": [
    "#========================================================================================\n",
    "# Initializing Hyper parameter\n",
    "#========================================================================================\n",
    "#1. Word2vec parameters\n",
    "min_word_frequency = 5\n",
    "embed_size_word2vec = 300\n",
    "context_window_word2vec = 5\n",
    "\n",
    "#2. Classifier hyperparameters\n",
    "numCV = 10\n",
    "max_sentence_len = 50\n",
    "min_sentence_length = 15\n",
    "rankK = 10\n",
    "batch_size = 32"
   ]
  },
  {
   "cell_type": "code",
   "execution_count": 151,
   "id": "77663291",
   "metadata": {},
   "outputs": [],
   "source": [
    "def contains_letters(phrase):\n",
    "    return bool(re.search('[a-zA-Z]', phrase))"
   ]
  },
  {
   "cell_type": "code",
   "execution_count": 152,
   "id": "ce20291e",
   "metadata": {},
   "outputs": [],
   "source": [
    "def getProcessedData(bug_reports):\n",
    "    with open(bug_reports) as data_file:\n",
    "        data = json.load(data_file, strict=False)\n",
    "\n",
    "#     i = 0\n",
    "    \n",
    "    raw_data = []\n",
    "    all_data = []\n",
    "    all_owner = []\n",
    "    for item in data:\n",
    "        \n",
    "        data = 'Title:' + item['issue_title'] + '\\n Description: ' + item['description']\n",
    "        raw_data.append(data) \n",
    "\n",
    "        #1. Remove \\r\n",
    "        current_title = item['issue_title'].replace('\\r', ' ')\n",
    "        current_desc = item['description'].replace('\\r', ' ')\n",
    "\n",
    "        #2. Remove URLs\n",
    "        current_desc = re.sub(r'http[s]?://(?:[a-zA-Z]|[0-9]|[$-_@.&+]|[!*\\(\\),]|(?:%[0-9a-fA-F][0-9a-fA-F]))+', ' ', current_desc)\n",
    "\n",
    "        #3. Remove Stack Trace\n",
    "        start_loc = current_desc.find(\"Stack trace:\")\n",
    "        current_desc = current_desc[:start_loc]\n",
    "\n",
    "        #4. Change to lower case & Remove hex code\n",
    "        current_data = current_title.lower() + ' ' + current_desc.lower()\n",
    "        current_data = re.sub(r'(\\w+)0x\\w+', ' ', current_data)\n",
    "        current_data = re.sub(r'[^\\w\\s]', ' ', current_data)\n",
    "        \n",
    "        #5. Remove digits\n",
    "        current_data = re.sub(r'[0-9]', '', current_data)\n",
    "\n",
    "        #6. Tokenize\n",
    "        current_data_tokens = [w for w in nltk.word_tokenize(current_data) if contains_letters(w) and len(w) > 1]\n",
    "\n",
    "        #7. Remove stop words\n",
    "        stop_words = set(stopwords.words('english'))\n",
    "        current_data_filter = [w for w in current_data_tokens if not w in stop_words]\n",
    "\n",
    "        all_data.append(current_data_filter)\n",
    "        all_owner.append(item['owner'])\n",
    "        \n",
    "#         i = i + 1\n",
    "#         if i == 20000:\n",
    "#             break\n",
    "\n",
    "    return raw_data, all_data, all_owner"
   ]
  },
  {
   "cell_type": "code",
   "execution_count": 153,
   "id": "f00c50fb",
   "metadata": {},
   "outputs": [],
   "source": [
    "raw_data, all_data, all_owner = getProcessedData(bug_reports)"
   ]
  },
  {
   "cell_type": "code",
   "execution_count": 154,
   "id": "c34b36ac",
   "metadata": {},
   "outputs": [
    {
     "data": {
      "text/plain": [
       "20417"
      ]
     },
     "execution_count": 154,
     "metadata": {},
     "output_type": "execute_result"
    }
   ],
   "source": [
    "len(raw_data)\n",
    "len(all_data)\n",
    "len(all_owner)"
   ]
  },
  {
   "cell_type": "code",
   "execution_count": 155,
   "id": "90859705",
   "metadata": {},
   "outputs": [],
   "source": [
    "def getRandomForestClassifierAccuracy(X_train, Y_train, X_test, Y_test):\n",
    "    start = time.time()\n",
    "\n",
    "    rfc_model = RandomForestClassifier(n_estimators = 1000, max_depth = 300, n_jobs = -1, random_state=1)\n",
    "    \n",
    "    rfc_model.fit(X_train, Y_train) \n",
    "    \n",
    "    y_pred = rfc_model.predict_proba(X_test)\n",
    "    \n",
    "    end = time.time()\n",
    "    \n",
    "    elapsedTime = end - start\n",
    "    \n",
    "    classes = rfc_model.classes_\n",
    "    sortedIndices = []\n",
    "    pred_classes = []\n",
    "    index_pred_classes = []\n",
    "    rfc_accuracy = []\n",
    "    index = 0  \n",
    "    for ll in y_pred:\n",
    "        sortedIndices.append(sorted(range(len(ll)), key=lambda ii: ll[ii], reverse=True))  \n",
    "    for k in range(1, rankK+1):\n",
    "        id = 0\n",
    "        trueNum = 0\n",
    "        pred_class_no=0\n",
    "        for sortedInd in sortedIndices:\n",
    "            if Y_test[id] in classes[sortedInd[:k]]:\n",
    "                trueNum += 1\n",
    "                pred_classes.append(classes[sortedInd[:k]])\n",
    "                pred_class_no = trueNum\n",
    "                if index < 9 and k == 1:\n",
    "                    index = id\n",
    "                    index_pred_classes.append(classes[sortedInd[:k]])\n",
    "            id += 1\n",
    "        rfc_accuracy.append(float('{0:.2f}'.format((float(trueNum) / len(y_pred)) * 100)))\n",
    "\n",
    "    return rfc_model, rfc_accuracy, classes, index, elapsedTime"
   ]
  },
  {
   "cell_type": "code",
   "execution_count": 156,
   "id": "d5f205ca",
   "metadata": {},
   "outputs": [],
   "source": [
    "def getMLPClassifierAccuracy(X_train, Y_train, X_test, Y_test):\n",
    "    start = time.time()\n",
    "    \n",
    "    mlp_classifier = MLPClassifier(solver='adam', hidden_layer_sizes=(150,), random_state=1)\n",
    "    \n",
    "    mlp_classifier.fit(X_train, Y_train)\n",
    "    \n",
    "    y_pred = mlp_classifier.predict(X_test)\n",
    "#     print('MLP Accuracy Score : {0:0.2f}'.format(accuracy_score(Y_test, y_pred)))\n",
    "    \n",
    "    y_pred_proba = mlp_classifier.predict_proba(X_test)\n",
    "    \n",
    "    end = time.time()\n",
    "    \n",
    "    elapsedTime = end - start\n",
    "\n",
    "    classes = mlp_classifier.classes_\n",
    "    sortedIndices = []\n",
    "    pred_classes = []\n",
    "    m_accuracy = []\n",
    "    index = 0  \n",
    "    for ll in y_pred_proba:\n",
    "        sortedIndices.append(sorted(range(len(ll)), key=lambda ii: ll[ii], reverse=True))  \n",
    "    for k in range(1, rankK+1):\n",
    "        id = 0\n",
    "        trueNum = 0\n",
    "        for sortedInd in sortedIndices:\n",
    "            if Y_test[id] in classes[sortedInd[:k]]:\n",
    "                trueNum += 1\n",
    "                pred_classes.append(classes[sortedInd[:k]])\n",
    "                if index == 0:\n",
    "                    index = id\n",
    "            id += 1\n",
    "        m_accuracy.append(float('{0:.2f}'.format((float(trueNum) / len(y_pred_proba)) * 100)))\n",
    "\n",
    "    return mlp_classifier, m_accuracy, classes, index, elapsedTime"
   ]
  },
  {
   "cell_type": "code",
   "execution_count": 157,
   "id": "ef1c0ecd",
   "metadata": {},
   "outputs": [],
   "source": [
    "def getBiDirectionalNeuralNetworkAccuracy(X_train, Y_train, X_test, Y_test, unique_train_label):\n",
    "    start = time.time()\n",
    "    \n",
    "    model = Sequential()\n",
    "\n",
    "    model.add(Bidirectional(LSTM(1024)))\n",
    "    model.add(Dropout(0.5))\n",
    "    model.add(Dense(len(unique_train_label), activation='softmax'))\n",
    "\n",
    "    # learning_rate: A Tensor, floating point value, or a schedule that is a \n",
    "    #     tf.keras.optimizers.schedules.LearningRateSchedule, or a callable \n",
    "    #     that takes no arguments and returns the actual value to use. \n",
    "    #     The learning rate. Defaults to 0.001.\n",
    "    # rho: Discounting factor for the history/coming gradient. Defaults to 0.9.\n",
    "    rms = RMSprop(epsilon=1e-08)\n",
    "\n",
    "    model.compile(optimizer=rms, loss='categorical_crossentropy', metrics=['accuracy'])\n",
    "\n",
    "    hist = model.fit(X_train, Y_train, batch_size=batch_size, epochs=6)\n",
    "\n",
    "    predict = model.predict(X_test)\n",
    "\n",
    "    end = time.time()\n",
    "    \n",
    "    elapsedTime = end - start\n",
    "    \n",
    "    y_pred=np.argmax(predict, axis=1)\n",
    "    y_test=np.argmax(Y_test, axis=1)\n",
    "\n",
    "#     print('Neural Network Accuracy Score : {0:0.2f}'.format(accuracy_score(y_test, y_pred)))\n",
    "\n",
    "    classes = np.array(unique_train_label)\n",
    "    nn_accuracy = []\n",
    "    sortedIndices = []\n",
    "    pred_classes = []\n",
    "    index_pred_classes = []\n",
    "    index = 0\n",
    "    for ll in predict:\n",
    "        sortedIndices.append(sorted(range(len(ll)), key=lambda ii: ll[ii], reverse=True))\n",
    "\n",
    "    for k in range(1, rankK + 1):\n",
    "        id = 0\n",
    "        trueNum = 0\n",
    "        for sortedInd in sortedIndices:\n",
    "            pred_classes.append(classes[sortedInd[:k]])\n",
    "            if np.argmax(Y_test[id]) in sortedInd[:k]:\n",
    "                if index < 6 and k == 1:\n",
    "                    index = id\n",
    "                    index_pred_classes.append(classes[sortedInd[:k]])\n",
    "                trueNum += 1\n",
    "            id += 1\n",
    "        nn_accuracy.append(float('{0:.2f}'.format((float(trueNum) / len(y_pred)) * 100)))\n",
    "\n",
    "\n",
    "    train_result = hist.history\n",
    "    print(train_result)\n",
    "    \n",
    "    return model, nn_accuracy, classes, index, elapsedTime\n"
   ]
  },
  {
   "cell_type": "code",
   "execution_count": 158,
   "id": "26db4507",
   "metadata": {},
   "outputs": [],
   "source": [
    "def explainWithLimeTebular(X_train, Y_train, X_test, Y_test, model, feature_names, classes, index, num_features, fileName):\n",
    "    \n",
    "    # LIME Step 1 - Construct an explainer\n",
    "    lime_tabular_explainer = lime_tabular.LimeTabularExplainer(\n",
    "                                training_data = X_train,  \n",
    "                                mode = 'classification',\n",
    "                                training_labels = Y_train,\n",
    "                                feature_names = feature_names,\n",
    "                                class_names = classes)\n",
    "    \n",
    "    predict_fn = lambda x: model.predict_proba(x).astype(float)\n",
    "    \n",
    "    lime_local_explanation_of_an_instance = lime_tabular_explainer.explain_instance(\n",
    "                            data_row = X_test[index], \n",
    "                            predict_fn = predict_fn, \n",
    "                            num_features = num_features, \n",
    "                            top_labels = 1)    \n",
    "    \n",
    "    lime_local_explanation_of_an_instance.show_in_notebook()\n",
    "    \n",
    "    lime_local_explanation_of_an_instance.save_to_file(fileName)\n",
    "    \n",
    "    filename_html = fileName + '.txt'\n",
    "\n",
    "    file = open(filename_html, \"w\")\n",
    "    file.writelines(lime_local_explanation_of_an_instance.as_html())\n",
    "    file.close()"
   ]
  },
  {
   "cell_type": "code",
   "execution_count": 159,
   "id": "ba0a4d23",
   "metadata": {},
   "outputs": [],
   "source": [
    "def explainWithLimeRecurrent(X_train, Y_train, X_test, Y_test, model, feature_names, classes, index, num_features, fileName):\n",
    "\n",
    "    # LIME Step 1 - Construct an explainer\n",
    "    explainer = lime_tabular.RecurrentTabularExplainer(\n",
    "                                training_data = X_train,\n",
    "                                mode = 'classification',\n",
    "                                training_labels = Y_train,\n",
    "                                feature_names = feature_names,\n",
    "                                class_names = classes,\n",
    "                                discretize_continuous = True)\n",
    "\n",
    "    # LIME Step 2 - Use the constructed explainer with the predict function\n",
    "    # of your predictive model to explain any instance\n",
    "    exp = explainer.explain_instance(X_test[index], model.predict, num_features = num_features, top_labels = 1)\n",
    "\n",
    "    # Please use the code below to visualise the generated LIME explanation.\n",
    "    exp.show_in_notebook()\n",
    "\n",
    "    exp.save_to_file(fileName)\n",
    "    \n",
    "    filename_html = fileName + '.txt'\n",
    "\n",
    "    file = open(filename_html, \"w\")\n",
    "    file.writelines(exp.as_html())\n",
    "    file.close()"
   ]
  },
  {
   "cell_type": "code",
   "execution_count": 160,
   "id": "b55cfea7",
   "metadata": {},
   "outputs": [],
   "source": [
    "def average(lst):\n",
    "    return sum(lst) / len(lst)"
   ]
  },
  {
   "cell_type": "code",
   "execution_count": 161,
   "id": "6fc45465",
   "metadata": {
    "scrolled": true
   },
   "outputs": [
    {
     "name": "stdout",
     "output_type": "stream",
     "text": [
      "1\n",
      "1856\n",
      "1856\n",
      "1856\n",
      "1856\n",
      "1856\n",
      "1856\n",
      "Random Forest Classifier Accuracy(Tf-Idf) :  [3.21, 7.12, 11.32, 17.45, 21.51, 26.0, 30.34, 33.97, 37.54, 40.1]\n",
      "MLP Classifier Accuracy (Tf-Idf):  [5.41, 11.61, 17.74, 22.29, 26.28, 29.56, 32.34, 36.11, 39.53, 41.03]\n",
      "Epoch 1/6\n",
      "53/53 [==============================] - 18s 193ms/step - loss: 3.1874 - accuracy: 0.2271\n",
      "Epoch 2/6\n",
      "53/53 [==============================] - 10s 195ms/step - loss: 2.6834 - accuracy: 0.2425\n",
      "Epoch 3/6\n",
      "53/53 [==============================] - 10s 195ms/step - loss: 2.4762 - accuracy: 0.3217\n",
      "Epoch 4/6\n",
      "53/53 [==============================] - 10s 194ms/step - loss: 2.2285 - accuracy: 0.3992\n",
      "Epoch 5/6\n",
      "53/53 [==============================] - 10s 194ms/step - loss: 1.9617 - accuracy: 0.4766\n",
      "Epoch 6/6\n",
      "53/53 [==============================] - 13s 239ms/step - loss: 1.6961 - accuracy: 0.5535\n",
      "{'loss': [3.1874327659606934, 2.6833786964416504, 2.4761950969696045, 2.2284717559814453, 1.9616889953613281, 1.696121096611023], 'accuracy': [0.22708456218242645, 0.24246008694171906, 0.32170313596725464, 0.3991720974445343, 0.4766410291194916, 0.5535186529159546]}\n",
      "Neural Network Accuracy Score (TF-IDF) : [4.2, 10.11, 17.38, 23.65, 27.56, 30.91, 34.12, 36.61, 38.53, 39.96]\n",
      "2\n",
      "3712\n",
      "1856\n",
      "3712\n",
      "1856\n",
      "3712\n",
      "1856\n",
      "Random Forest Classifier Accuracy(Tf-Idf) :  [9.5, 14.29, 17.87, 20.58, 23.91, 26.94, 29.52, 31.53, 33.54, 35.43]\n",
      "MLP Classifier Accuracy (Tf-Idf):  [9.19, 14.66, 19.45, 23.47, 27.06, 30.84, 33.92, 37.13, 40.84, 43.49]\n",
      "Epoch 1/6\n",
      "103/103 [==============================] - 35s 267ms/step - loss: 3.6355 - accuracy: 0.1298\n",
      "Epoch 2/6\n",
      "103/103 [==============================] - 27s 258ms/step - loss: 3.2340 - accuracy: 0.2127\n",
      "Epoch 3/6\n",
      "103/103 [==============================] - 27s 263ms/step - loss: 2.8589 - accuracy: 0.3071\n",
      "Epoch 4/6\n",
      "103/103 [==============================] - 26s 246ms/step - loss: 2.4242 - accuracy: 0.4177\n",
      "Epoch 5/6\n",
      "103/103 [==============================] - 25s 247ms/step - loss: 2.0329 - accuracy: 0.5046\n",
      "Epoch 6/6\n",
      "103/103 [==============================] - 25s 248ms/step - loss: 1.7015 - accuracy: 0.5917\n",
      "{'loss': [3.6355133056640625, 3.2339742183685303, 2.8589255809783936, 2.424173593521118, 2.0329113006591797, 1.7014572620391846], 'accuracy': [0.12979890406131744, 0.21267519891262054, 0.30712980031967163, 0.4177331030368805, 0.5045703649520874, 0.5917123556137085]}\n",
      "Neural Network Accuracy Score (TF-IDF) : [9.94, 14.6, 18.5, 22.66, 25.99, 28.82, 30.9, 33.1, 35.05, 36.88]\n",
      "3\n",
      "5568\n",
      "1856\n",
      "5568\n",
      "1856\n",
      "5568\n",
      "1856\n",
      "Random Forest Classifier Accuracy(Tf-Idf) :  [13.43, 21.66, 27.73, 33.14, 37.04, 41.08, 43.68, 46.35, 48.3, 50.4]\n",
      "MLP Classifier Accuracy (Tf-Idf):  [14.44, 23.9, 29.6, 34.22, 38.05, 41.81, 44.55, 46.5, 48.23, 50.54]\n",
      "Epoch 1/6\n",
      "155/155 [==============================] - 54s 309ms/step - loss: 3.8107 - accuracy: 0.1343\n",
      "Epoch 2/6\n",
      "155/155 [==============================] - 46s 295ms/step - loss: 3.3149 - accuracy: 0.2018\n",
      "Epoch 3/6\n",
      "155/155 [==============================] - 46s 297ms/step - loss: 2.7807 - accuracy: 0.3568\n",
      "Epoch 4/6\n",
      "155/155 [==============================] - 47s 300ms/step - loss: 2.2842 - accuracy: 0.4651\n",
      "Epoch 5/6\n",
      "155/155 [==============================] - 46s 296ms/step - loss: 1.8758 - accuracy: 0.5540\n",
      "Epoch 6/6\n",
      "155/155 [==============================] - 47s 303ms/step - loss: 1.5269 - accuracy: 0.6327\n",
      "{'loss': [3.8107497692108154, 3.3149213790893555, 2.780681848526001, 2.2841567993164062, 1.8757576942443848, 1.5268737077713013], 'accuracy': [0.13427992165088654, 0.2018255591392517, 0.35679513216018677, 0.46511155366897583, 0.5539553761482239, 0.6326572299003601]}\n",
      "Neural Network Accuracy Score (TF-IDF) : [19.86, 27.29, 32.78, 37.11, 41.59, 45.05, 47.36, 49.46, 51.05, 53.21]\n",
      "4\n",
      "7424\n",
      "1856\n",
      "7424\n",
      "1856\n",
      "7424\n",
      "1856\n",
      "Random Forest Classifier Accuracy(Tf-Idf) :  [17.17, 25.35, 29.8, 33.16, 35.28, 37.33, 39.08, 40.83, 42.29, 43.9]\n",
      "MLP Classifier Accuracy (Tf-Idf):  [15.19, 21.4, 27.39, 31.78, 35.21, 37.03, 39.3, 40.98, 42.88, 44.05]\n",
      "Epoch 1/6\n",
      "203/203 [==============================] - 76s 332ms/step - loss: 3.9266 - accuracy: 0.1306\n",
      "Epoch 2/6\n",
      "203/203 [==============================] - 69s 339ms/step - loss: 3.3193 - accuracy: 0.2546\n",
      "Epoch 3/6\n",
      "203/203 [==============================] - 70s 347ms/step - loss: 2.7374 - accuracy: 0.3788\n",
      "Epoch 4/6\n",
      "203/203 [==============================] - 68s 337ms/step - loss: 2.2617 - accuracy: 0.4747\n",
      "Epoch 5/6\n",
      "203/203 [==============================] - 69s 340ms/step - loss: 1.8576 - accuracy: 0.5609\n",
      "Epoch 6/6\n",
      "203/203 [==============================] - 71s 351ms/step - loss: 1.5128 - accuracy: 0.6430\n",
      "{'loss': [3.926593542098999, 3.319284200668335, 2.737396001815796, 2.261737823486328, 1.857590913772583, 1.5128124952316284], 'accuracy': [0.13062924146652222, 0.2546267807483673, 0.37877851724624634, 0.4747069776058197, 0.5609191656112671, 0.6429672837257385]}\n",
      "Neural Network Accuracy Score (TF-IDF) : [17.38, 25.13, 29.29, 32.72, 34.48, 35.94, 37.76, 39.3, 40.32, 41.56]\n",
      "5\n",
      "9280\n",
      "1856\n",
      "9280\n",
      "1856\n",
      "9280\n",
      "1856\n",
      "Random Forest Classifier Accuracy(Tf-Idf) :  [24.66, 31.89, 36.37, 39.62, 40.93, 43.17, 44.61, 45.99, 47.51, 48.81]\n",
      "MLP Classifier Accuracy (Tf-Idf):  [19.31, 27.26, 31.96, 36.37, 39.19, 42.15, 44.47, 46.28, 47.94, 49.96]\n",
      "Epoch 1/6\n",
      "250/250 [==============================] - 114s 427ms/step - loss: 4.0764 - accuracy: 0.1288\n",
      "Epoch 2/6\n",
      "250/250 [==============================] - 105s 418ms/step - loss: 3.3559 - accuracy: 0.2710\n",
      "Epoch 3/6\n",
      "250/250 [==============================] - 102s 409ms/step - loss: 2.7275 - accuracy: 0.3879\n",
      "Epoch 4/6\n",
      "250/250 [==============================] - 99s 397ms/step - loss: 2.2468 - accuracy: 0.4885\n",
      "Epoch 5/6\n",
      "250/250 [==============================] - 95s 381ms/step - loss: 1.8523 - accuracy: 0.5779\n",
      "Epoch 6/6\n",
      "250/250 [==============================] - 93s 370ms/step - loss: 1.5073 - accuracy: 0.6511\n",
      "{'loss': [4.076449871063232, 3.3558614253997803, 2.7275004386901855, 2.246774435043335, 1.8523435592651367, 1.5073003768920898], 'accuracy': [0.1288021057844162, 0.2709976136684418, 0.38790836930274963, 0.488546758890152, 0.5779196619987488, 0.651145339012146]}\n",
      "Neural Network Accuracy Score (TF-IDF) : [22.34, 30.73, 35.79, 38.54, 41.14, 42.44, 43.38, 44.54, 45.26, 45.77]\n",
      "6\n",
      "11136\n",
      "1856\n",
      "11136\n",
      "1856\n",
      "11136\n",
      "1856\n",
      "Random Forest Classifier Accuracy(Tf-Idf) :  [15.08, 22.05, 26.6, 31.07, 33.31, 36.21, 38.31, 40.49, 42.2, 43.84]\n"
     ]
    },
    {
     "name": "stderr",
     "output_type": "stream",
     "text": [
      "/usr/local/lib/python3.7/site-packages/sklearn/neural_network/_multilayer_perceptron.py:617: ConvergenceWarning: Stochastic Optimizer: Maximum iterations (200) reached and the optimization hasn't converged yet.\n",
      "  % self.max_iter, ConvergenceWarning)\n"
     ]
    },
    {
     "name": "stdout",
     "output_type": "stream",
     "text": [
      "MLP Classifier Accuracy (Tf-Idf):  [16.0, 24.49, 29.1, 33.97, 37.72, 41.21, 42.86, 45.03, 46.87, 48.72]\n",
      "Epoch 1/6\n",
      "296/296 [==============================] - 128s 400ms/step - loss: 4.1554 - accuracy: 0.1305\n",
      "Epoch 2/6\n",
      "296/296 [==============================] - 119s 403ms/step - loss: 3.3205 - accuracy: 0.2916\n",
      "Epoch 3/6\n",
      "296/296 [==============================] - 118s 399ms/step - loss: 2.6817 - accuracy: 0.4064\n",
      "Epoch 4/6\n",
      "296/296 [==============================] - 117s 396ms/step - loss: 2.2083 - accuracy: 0.5038\n",
      "Epoch 5/6\n",
      "296/296 [==============================] - 118s 398ms/step - loss: 1.8106 - accuracy: 0.5852\n",
      "Epoch 6/6\n",
      "296/296 [==============================] - 118s 399ms/step - loss: 1.4718 - accuracy: 0.6652\n",
      "{'loss': [4.155425071716309, 3.3204798698425293, 2.6816978454589844, 2.2083067893981934, 1.8106354475021362, 1.4717848300933838], 'accuracy': [0.13048535585403442, 0.29163581132888794, 0.40636566281318665, 0.5037538409233093, 0.5851749777793884, 0.6652215123176575]}\n",
      "Neural Network Accuracy Score (TF-IDF) : [17.05, 25.35, 31.01, 34.96, 37.92, 40.22, 42.26, 44.44, 46.41, 47.47]\n",
      "7\n",
      "12992\n",
      "1856\n",
      "12992\n",
      "1856\n",
      "12992\n",
      "1856\n",
      "Random Forest Classifier Accuracy(Tf-Idf) :  [20.73, 30.07, 35.8, 41.4, 44.73, 48.0, 50.87, 54.07, 56.0, 58.0]\n"
     ]
    },
    {
     "name": "stderr",
     "output_type": "stream",
     "text": [
      "/usr/local/lib/python3.7/site-packages/sklearn/neural_network/_multilayer_perceptron.py:617: ConvergenceWarning: Stochastic Optimizer: Maximum iterations (200) reached and the optimization hasn't converged yet.\n",
      "  % self.max_iter, ConvergenceWarning)\n"
     ]
    },
    {
     "name": "stdout",
     "output_type": "stream",
     "text": [
      "MLP Classifier Accuracy (Tf-Idf):  [19.07, 29.73, 35.0, 40.33, 44.4, 47.87, 50.47, 52.6, 55.0, 57.07]\n",
      "Epoch 1/6\n",
      "344/344 [==============================] - 156s 435ms/step - loss: 4.1927 - accuracy: 0.1269\n",
      "Epoch 2/6\n",
      "344/344 [==============================] - 149s 433ms/step - loss: 3.2786 - accuracy: 0.3000\n",
      "Epoch 3/6\n",
      "344/344 [==============================] - 149s 432ms/step - loss: 2.6365 - accuracy: 0.4184\n",
      "Epoch 4/6\n",
      "344/344 [==============================] - 148s 431ms/step - loss: 2.1618 - accuracy: 0.5132\n",
      "Epoch 5/6\n",
      "344/344 [==============================] - 149s 433ms/step - loss: 1.7676 - accuracy: 0.5954\n",
      "Epoch 6/6\n",
      "344/344 [==============================] - 148s 431ms/step - loss: 1.4397 - accuracy: 0.6721\n",
      "{'loss': [4.192665100097656, 3.278627395629883, 2.6364798545837402, 2.1618292331695557, 1.7676163911819458, 1.439661979675293], 'accuracy': [0.12688876688480377, 0.30001819133758545, 0.4183506369590759, 0.5131986141204834, 0.5953941345214844, 0.6721281409263611]}\n",
      "Neural Network Accuracy Score (TF-IDF) : [21.87, 32.13, 39.93, 45.4, 49.07, 51.47, 53.47, 55.8, 57.07, 58.27]\n",
      "8\n",
      "14848\n",
      "1856\n",
      "14848\n",
      "1856\n",
      "14848\n",
      "1856\n",
      "Random Forest Classifier Accuracy(Tf-Idf) :  [17.53, 27.27, 33.13, 37.67, 41.13, 43.73, 46.87, 48.8, 50.27, 52.27]\n"
     ]
    },
    {
     "name": "stderr",
     "output_type": "stream",
     "text": [
      "/usr/local/lib/python3.7/site-packages/sklearn/neural_network/_multilayer_perceptron.py:617: ConvergenceWarning: Stochastic Optimizer: Maximum iterations (200) reached and the optimization hasn't converged yet.\n",
      "  % self.max_iter, ConvergenceWarning)\n"
     ]
    },
    {
     "name": "stdout",
     "output_type": "stream",
     "text": [
      "MLP Classifier Accuracy (Tf-Idf):  [15.93, 24.2, 30.67, 35.4, 38.6, 41.8, 45.0, 46.67, 48.33, 50.07]\n",
      "Epoch 1/6\n",
      "392/392 [==============================] - 190s 457ms/step - loss: 4.2055 - accuracy: 0.1333\n",
      "Epoch 2/6\n",
      "392/392 [==============================] - 179s 458ms/step - loss: 3.2436 - accuracy: 0.3120\n",
      "Epoch 3/6\n",
      "392/392 [==============================] - 179s 457ms/step - loss: 2.6188 - accuracy: 0.4241\n",
      "Epoch 4/6\n",
      "392/392 [==============================] - 179s 457ms/step - loss: 2.1598 - accuracy: 0.5138\n",
      "Epoch 5/6\n",
      "392/392 [==============================] - 179s 456ms/step - loss: 1.7700 - accuracy: 0.5993\n",
      "Epoch 6/6\n",
      "392/392 [==============================] - 179s 456ms/step - loss: 1.4407 - accuracy: 0.6702\n",
      "{'loss': [4.205460071563721, 3.2436411380767822, 2.6187803745269775, 2.1597723960876465, 1.7699730396270752, 1.440688133239746], 'accuracy': [0.1332642138004303, 0.3119865953922272, 0.42411676049232483, 0.5138368010520935, 0.5993300676345825, 0.670228898525238]}\n",
      "Neural Network Accuracy Score (TF-IDF) : [18.6, 29.2, 35.73, 40.0, 42.47, 45.0, 47.0, 49.53, 51.6, 53.33]\n",
      "9\n",
      "16704\n",
      "1856\n",
      "16704\n",
      "1856\n",
      "16704\n",
      "1856\n",
      "Random Forest Classifier Accuracy(Tf-Idf) :  [17.3, 27.72, 33.99, 38.49, 43.32, 46.87, 50.27, 52.66, 55.04, 57.63]\n"
     ]
    },
    {
     "name": "stderr",
     "output_type": "stream",
     "text": [
      "/usr/local/lib/python3.7/site-packages/sklearn/neural_network/_multilayer_perceptron.py:617: ConvergenceWarning: Stochastic Optimizer: Maximum iterations (200) reached and the optimization hasn't converged yet.\n",
      "  % self.max_iter, ConvergenceWarning)\n"
     ]
    },
    {
     "name": "stdout",
     "output_type": "stream",
     "text": [
      "MLP Classifier Accuracy (Tf-Idf):  [16.96, 25.75, 31.88, 36.24, 39.58, 42.64, 45.44, 48.02, 49.93, 52.11]\n",
      "Epoch 1/6\n",
      "440/440 [==============================] - 220s 485ms/step - loss: 4.2333 - accuracy: 0.1275\n",
      "Epoch 2/6\n",
      "440/440 [==============================] - 213s 484ms/step - loss: 3.2411 - accuracy: 0.3119\n",
      "Epoch 3/6\n",
      "440/440 [==============================] - 214s 486ms/step - loss: 2.6144 - accuracy: 0.4282\n",
      "Epoch 4/6\n",
      "440/440 [==============================] - 214s 485ms/step - loss: 2.1473 - accuracy: 0.5199\n",
      "Epoch 5/6\n",
      "440/440 [==============================] - 214s 486ms/step - loss: 1.7593 - accuracy: 0.6000\n",
      "Epoch 6/6\n",
      "440/440 [==============================] - 213s 484ms/step - loss: 1.4315 - accuracy: 0.6764\n",
      "{'loss': [4.23325777053833, 3.24106502532959, 2.614363193511963, 2.1472561359405518, 1.7592642307281494, 1.4314841032028198], 'accuracy': [0.12746143341064453, 0.3119357228279114, 0.42823630571365356, 0.5198692083358765, 0.5999857783317566, 0.6764057874679565]}\n",
      "Neural Network Accuracy Score (TF-IDF) : [19.69, 28.47, 35.83, 41.08, 44.89, 48.3, 51.36, 53.27, 54.84, 57.15]\n",
      "10\n",
      "18560\n",
      "1857\n",
      "18560\n",
      "1857\n",
      "18560\n",
      "1857\n",
      "Random Forest Classifier Accuracy(Tf-Idf) :  [16.9, 27.51, 34.22, 40.36, 44.2, 47.49, 50.28, 52.51, 54.61, 57.12]\n"
     ]
    },
    {
     "name": "stderr",
     "output_type": "stream",
     "text": [
      "/usr/local/lib/python3.7/site-packages/sklearn/neural_network/_multilayer_perceptron.py:617: ConvergenceWarning: Stochastic Optimizer: Maximum iterations (200) reached and the optimization hasn't converged yet.\n",
      "  % self.max_iter, ConvergenceWarning)\n"
     ]
    },
    {
     "name": "stdout",
     "output_type": "stream",
     "text": [
      "MLP Classifier Accuracy (Tf-Idf):  [17.04, 24.79, 30.94, 35.75, 39.66, 42.74, 45.39, 47.7, 49.86, 51.12]\n",
      "Epoch 1/6\n",
      "486/486 [==============================] - 258s 517ms/step - loss: 4.2307 - accuracy: 0.1294\n",
      "Epoch 2/6\n",
      "486/486 [==============================] - 254s 522ms/step - loss: 3.2194 - accuracy: 0.3209\n",
      "Epoch 3/6\n",
      "486/486 [==============================] - 253s 520ms/step - loss: 2.5909 - accuracy: 0.4329\n",
      "Epoch 4/6\n",
      "486/486 [==============================] - 254s 522ms/step - loss: 2.1362 - accuracy: 0.5224\n",
      "Epoch 5/6\n",
      "486/486 [==============================] - 253s 521ms/step - loss: 1.7519 - accuracy: 0.6041\n",
      "Epoch 6/6\n",
      "486/486 [==============================] - 254s 522ms/step - loss: 1.4278 - accuracy: 0.6769\n",
      "{'loss': [4.230720520019531, 3.219435214996338, 2.590855121612549, 2.1361758708953857, 1.7519035339355469, 1.4277739524841309], 'accuracy': [0.12937693297863007, 0.320867657661438, 0.43292996287345886, 0.5223996043205261, 0.604080855846405, 0.6768795251846313]}\n",
      "Neural Network Accuracy Score (TF-IDF) : [19.76, 29.75, 34.99, 39.04, 42.32, 45.88, 48.6, 50.77, 52.16, 54.75]\n"
     ]
    }
   ],
   "source": [
    "totalLength = len(all_data)\n",
    "trainingTestingLength = totalLength / (numCV + 1)\n",
    "\n",
    "rfc_accuracy_tf_idf_cv10 = []\n",
    "m_accuracy_tf_idf_cv10 = []\n",
    "nn_accuracy_tf_idf_cv10 = []\n",
    "rfc_elapsed_time_cv10 = []\n",
    "mlp_elapsed_time_cv10 = []\n",
    "nn_elapsed_time_cv10 = []\n",
    "\n",
    "for i in range(1, numCV+1):\n",
    "    # Split cross validation set\n",
    "    print(i)\n",
    "    raw_train_data = raw_data[:int(i*trainingTestingLength)]\n",
    "    raw_test_data = raw_data[int(i*trainingTestingLength):int((i+1)*trainingTestingLength)]\n",
    "    train_data = all_data[:int(i*trainingTestingLength)]\n",
    "    test_data = all_data[int(i*trainingTestingLength):int((i+1)*trainingTestingLength)]\n",
    "    train_owner = all_owner[:int(i*trainingTestingLength)]\n",
    "    test_owner = all_owner[int(i*trainingTestingLength):int((i+1)*trainingTestingLength)]\n",
    "    \n",
    "    print(len(raw_train_data))\n",
    "    print(len(raw_test_data))\n",
    "    print(len(train_data))\n",
    "    print(len(test_data))\n",
    "    print(len(train_owner))\n",
    "    print(len(test_owner))\n",
    "    \n",
    "    # check sentence length\n",
    "    updated_raw_train_data = []\n",
    "    updated_raw_test_data = []\n",
    "    updated_train_data = []\n",
    "    updated_train_owner = []\n",
    "    final_raw_test_data = []\n",
    "    final_test_data = []\n",
    "    final_test_owner = []\n",
    "    for j, current_train_filter in enumerate(train_data):\n",
    "        if len(current_train_filter)>=min_sentence_length:\n",
    "            updated_train_data.append(current_train_filter)\n",
    "            updated_train_owner.append(train_owner[j])\n",
    "            updated_raw_train_data.append(raw_train_data[j])\n",
    "\n",
    "    for j, current_test_filter in enumerate(test_data):\n",
    "        if len(current_test_filter)>=min_sentence_length:\n",
    "            final_test_data.append(current_test_filter)\n",
    "            final_test_owner.append(test_owner[j])\n",
    "            final_raw_test_data.append(raw_test_data[j])\n",
    "\n",
    "    # Remove data from test set that is not there in train set\n",
    "    train_owner_unique = set(updated_train_owner)\n",
    "    test_owner_unique = set(final_test_owner)\n",
    "    unwanted_owner = list(test_owner_unique - train_owner_unique)\n",
    "    updated_raw_test_data = []\n",
    "    updated_test_data = []\n",
    "    updated_test_owner = []\n",
    "    for j in range(len(final_test_owner)):\n",
    "        if final_test_owner[j] not in unwanted_owner:\n",
    "            updated_test_data.append(final_test_data[j])\n",
    "            updated_test_owner.append(final_test_owner[j])\n",
    "            updated_raw_test_data.append(final_raw_test_data[j])\n",
    "\n",
    "    unique_train_label = list(set(updated_train_owner))\n",
    "\n",
    "    x_train_data = []\n",
    "    for item in updated_train_data:\n",
    "        x_train_data.append(' '.join(item))\n",
    "\n",
    "    x_test_data = []\n",
    "    for item in updated_test_data:\n",
    "        x_test_data.append(' '.join(item))\n",
    "\n",
    "    tfidf_vectorizer = TfidfVectorizer(min_df = min_word_frequency, use_idf=True)\n",
    "    X_train_vectors_tfidf = tfidf_vectorizer.fit_transform(x_train_data) \n",
    "    X_test_vectors_tfidf = tfidf_vectorizer.transform(x_test_data)\n",
    "    \n",
    "    feature_names = tfidf_vectorizer.get_feature_names()\n",
    "    \n",
    "    rfc_model_tf_idf, rfc_accuracy_tf_idf, classes, rfc_index_tf_idf, rfc_elapsed_time = getRandomForestClassifierAccuracy(X_train_vectors_tfidf, \n",
    "                                                                              updated_train_owner, \n",
    "                                                                              X_test_vectors_tfidf, \n",
    "                                                                              updated_test_owner)\n",
    "    \n",
    "\n",
    "    print('Random Forest Classifier Accuracy(Tf-Idf) : ', rfc_accuracy_tf_idf)\n",
    "    \n",
    "    \n",
    "# #     if i == 2:\n",
    "#     num_features = len(set(updated_test_data[rfc_index_tf_idf]))\n",
    "#     print(num_features)\n",
    "#     print(rfc_index_tf_idf)\n",
    "#     print(updated_test_owner[rfc_index_tf_idf])\n",
    "#     print(updated_raw_test_data[rfc_index_tf_idf])\n",
    "#     print(set(updated_test_data[rfc_index_tf_idf]))\n",
    "\n",
    "#     explainWithLimeTebular(X_train_vectors_tfidf, updated_train_owner, X_test_vectors_tfidf, updated_test_owner, \n",
    "#                            rfc_model_tf_idf, feature_names, classes, rfc_index_tf_idf, num_features,\n",
    "#                            'rfc_accuracy_tf_idf_tebular_'+str(i)+'.html')\n",
    "\n",
    "    \n",
    "    mlp_classifier_tf_idf, m_accuracy_tf_idf, classes, mlp_index_tf_idf, mlp_elapsed_time = getMLPClassifierAccuracy(X_train_vectors_tfidf, \n",
    "                                                                              updated_train_owner, \n",
    "                                                                              X_test_vectors_tfidf, \n",
    "                                                                              updated_test_owner)\n",
    "    \n",
    "    print('MLP Classifier Accuracy (Tf-Idf): ', m_accuracy_tf_idf)\n",
    "    \n",
    "    \n",
    "# #     if i == 1:\n",
    "#     num_features = len(set(updated_test_data[mlp_index_tf_idf]))\n",
    "#     print(mlp_index_tf_idf)\n",
    "#     print(updated_test_owner[mlp_index_tf_idf])\n",
    "#     print(updated_raw_test_data[mlp_index_tf_idf])\n",
    "#     print(set(updated_test_data[mlp_index_tf_idf]))\n",
    "\n",
    "#     explainWithLimeTebular(X_train_vectors_tfidf, updated_train_owner, X_test_vectors_tfidf, updated_test_owner, \n",
    "#                        mlp_classifier_tf_idf, feature_names, classes, mlp_index_tf_idf, num_features, 'm_accuracy_tf_idf_tebular_'+str(i)+'.html')\n",
    "\n",
    "\n",
    "    X_train = np.expand_dims(X_train_vectors_tfidf.todense(), axis = 1)\n",
    "    X_test = np.expand_dims(X_test_vectors_tfidf.todense(), axis = 1)\n",
    "\n",
    "    y_train = np.empty(shape=[len(updated_train_owner),1], dtype='int32')\n",
    "    y_test = np.empty(shape=[len(updated_test_owner),1], dtype='int32')\n",
    "\n",
    "    for j, curr_row in enumerate(updated_train_owner):\n",
    "        y_train[j,0] = unique_train_label.index(updated_train_owner[j])\n",
    "\n",
    "    for j, curr_row in enumerate(updated_test_owner):\n",
    "        y_test[j,0] = unique_train_label.index(updated_test_owner[j])\n",
    "\n",
    "    Y_train = np_utils.to_categorical(y_train, len(unique_train_label))\n",
    "    Y_test = np_utils.to_categorical(y_test, len(unique_train_label))\n",
    "\n",
    "\n",
    "    model, nn_accuracy_tf_idf, classes, nn_index_tf_idf, nn_elapsed_time = getBiDirectionalNeuralNetworkAccuracy(\n",
    "        X_train, Y_train, X_test, Y_test, unique_train_label)\n",
    "\n",
    "    print('Neural Network Accuracy Score (TF-IDF) :', nn_accuracy_tf_idf)\n",
    "    \n",
    "# #     if i == 3:\n",
    "#     num_features = len(set(updated_test_data[nn_index_tf_idf]))\n",
    "#     print(nn_index_tf_idf)\n",
    "#     print(updated_test_owner[nn_index_tf_idf])\n",
    "#     print(updated_raw_test_data[nn_index_tf_idf])\n",
    "#     print(set(updated_test_data[nn_index_tf_idf]))\n",
    "\n",
    "#     explainWithLimeRecurrent(X_train, Y_train, X_test, Y_test, model, feature_names, classes, \n",
    "#                              nn_index_tf_idf, num_features, 'nn_accuracy_tf_idf_recurrent_tebular_'+str(i)+'.html')\n",
    "\n",
    "    \n",
    "    rfc_accuracy_tf_idf_cv10.append(rfc_accuracy_tf_idf)\n",
    "    m_accuracy_tf_idf_cv10.append(m_accuracy_tf_idf)\n",
    "    nn_accuracy_tf_idf_cv10.append(nn_accuracy_tf_idf)\n",
    "    \n",
    "    rfc_elapsed_time_cv10.append(rfc_elapsed_time)\n",
    "    mlp_elapsed_time_cv10.append(mlp_elapsed_time)\n",
    "    nn_elapsed_time_cv10.append(nn_elapsed_time)\n",
    "    \n",
    "    del model\n",
    "    del mlp_classifier_tf_idf\n",
    "    del rfc_model_tf_idf\n"
   ]
  },
  {
   "cell_type": "code",
   "execution_count": 162,
   "id": "f2761884",
   "metadata": {},
   "outputs": [
    {
     "name": "stdout",
     "output_type": "stream",
     "text": [
      "[[3.21, 7.12, 11.32, 17.45, 21.51, 26.0, 30.34, 33.97, 37.54, 40.1], [9.5, 14.29, 17.87, 20.58, 23.91, 26.94, 29.52, 31.53, 33.54, 35.43], [13.43, 21.66, 27.73, 33.14, 37.04, 41.08, 43.68, 46.35, 48.3, 50.4], [17.17, 25.35, 29.8, 33.16, 35.28, 37.33, 39.08, 40.83, 42.29, 43.9], [24.66, 31.89, 36.37, 39.62, 40.93, 43.17, 44.61, 45.99, 47.51, 48.81], [15.08, 22.05, 26.6, 31.07, 33.31, 36.21, 38.31, 40.49, 42.2, 43.84], [20.73, 30.07, 35.8, 41.4, 44.73, 48.0, 50.87, 54.07, 56.0, 58.0], [17.53, 27.27, 33.13, 37.67, 41.13, 43.73, 46.87, 48.8, 50.27, 52.27], [17.3, 27.72, 33.99, 38.49, 43.32, 46.87, 50.27, 52.66, 55.04, 57.63], [16.9, 27.51, 34.22, 40.36, 44.2, 47.49, 50.28, 52.51, 54.61, 57.12]]\n"
     ]
    }
   ],
   "source": [
    "print(rfc_accuracy_tf_idf_cv10)"
   ]
  },
  {
   "cell_type": "code",
   "execution_count": 163,
   "id": "f5d97dc8",
   "metadata": {},
   "outputs": [],
   "source": [
    "rfc_accuracy_tf_idf_cv10_with_avg = rfc_accuracy_tf_idf_cv10"
   ]
  },
  {
   "cell_type": "code",
   "execution_count": 164,
   "id": "3a207290",
   "metadata": {},
   "outputs": [
    {
     "name": "stdout",
     "output_type": "stream",
     "text": [
      "[[5.41, 11.61, 17.74, 22.29, 26.28, 29.56, 32.34, 36.11, 39.53, 41.03], [9.19, 14.66, 19.45, 23.47, 27.06, 30.84, 33.92, 37.13, 40.84, 43.49], [14.44, 23.9, 29.6, 34.22, 38.05, 41.81, 44.55, 46.5, 48.23, 50.54], [15.19, 21.4, 27.39, 31.78, 35.21, 37.03, 39.3, 40.98, 42.88, 44.05], [19.31, 27.26, 31.96, 36.37, 39.19, 42.15, 44.47, 46.28, 47.94, 49.96], [16.0, 24.49, 29.1, 33.97, 37.72, 41.21, 42.86, 45.03, 46.87, 48.72], [19.07, 29.73, 35.0, 40.33, 44.4, 47.87, 50.47, 52.6, 55.0, 57.07], [15.93, 24.2, 30.67, 35.4, 38.6, 41.8, 45.0, 46.67, 48.33, 50.07], [16.96, 25.75, 31.88, 36.24, 39.58, 42.64, 45.44, 48.02, 49.93, 52.11], [17.04, 24.79, 30.94, 35.75, 39.66, 42.74, 45.39, 47.7, 49.86, 51.12]]\n"
     ]
    }
   ],
   "source": [
    "print(m_accuracy_tf_idf_cv10)"
   ]
  },
  {
   "cell_type": "code",
   "execution_count": 165,
   "id": "a250ae5f",
   "metadata": {},
   "outputs": [],
   "source": [
    "m_accuracy_tf_idf_cv10_with_avg = m_accuracy_tf_idf_cv10"
   ]
  },
  {
   "cell_type": "code",
   "execution_count": 166,
   "id": "bdb1db4b",
   "metadata": {},
   "outputs": [
    {
     "name": "stdout",
     "output_type": "stream",
     "text": [
      "[[4.2, 10.11, 17.38, 23.65, 27.56, 30.91, 34.12, 36.61, 38.53, 39.96], [9.94, 14.6, 18.5, 22.66, 25.99, 28.82, 30.9, 33.1, 35.05, 36.88], [19.86, 27.29, 32.78, 37.11, 41.59, 45.05, 47.36, 49.46, 51.05, 53.21], [17.38, 25.13, 29.29, 32.72, 34.48, 35.94, 37.76, 39.3, 40.32, 41.56], [22.34, 30.73, 35.79, 38.54, 41.14, 42.44, 43.38, 44.54, 45.26, 45.77], [17.05, 25.35, 31.01, 34.96, 37.92, 40.22, 42.26, 44.44, 46.41, 47.47], [21.87, 32.13, 39.93, 45.4, 49.07, 51.47, 53.47, 55.8, 57.07, 58.27], [18.6, 29.2, 35.73, 40.0, 42.47, 45.0, 47.0, 49.53, 51.6, 53.33], [19.69, 28.47, 35.83, 41.08, 44.89, 48.3, 51.36, 53.27, 54.84, 57.15], [19.76, 29.75, 34.99, 39.04, 42.32, 45.88, 48.6, 50.77, 52.16, 54.75]]\n"
     ]
    }
   ],
   "source": [
    "print(nn_accuracy_tf_idf_cv10)"
   ]
  },
  {
   "cell_type": "code",
   "execution_count": 167,
   "id": "01a609e9",
   "metadata": {},
   "outputs": [],
   "source": [
    "nn_accuracy_tf_idf_cv10_with_avg = nn_accuracy_tf_idf_cv10"
   ]
  },
  {
   "cell_type": "code",
   "execution_count": 168,
   "id": "828f66e1",
   "metadata": {},
   "outputs": [],
   "source": [
    "rfc_accuracy_tf_idf_avg = [float('{0:.2f}'.format(float(sum(l))/len(l))) for l in zip(*rfc_accuracy_tf_idf_cv10)]\n",
    "m_accuracy_tf_idf_avg = [float('{0:.2f}'.format(float(sum(l))/len(l))) for l in zip(*m_accuracy_tf_idf_cv10)]\n",
    "nn_accuracy_tf_idf_avg = [float('{0:.2f}'.format(float(sum(l))/len(l))) for l in zip(*nn_accuracy_tf_idf_cv10)]"
   ]
  },
  {
   "cell_type": "code",
   "execution_count": 169,
   "id": "ae9ed903",
   "metadata": {},
   "outputs": [
    {
     "name": "stdout",
     "output_type": "stream",
     "text": [
      "[15.55, 23.49, 28.68, 33.29, 36.54, 39.68, 42.38, 44.72, 46.73, 48.75]\n"
     ]
    }
   ],
   "source": [
    "print(rfc_accuracy_tf_idf_avg)"
   ]
  },
  {
   "cell_type": "code",
   "execution_count": 170,
   "id": "646ab1f0",
   "metadata": {},
   "outputs": [
    {
     "name": "stdout",
     "output_type": "stream",
     "text": [
      "[14.85, 22.78, 28.37, 32.98, 36.58, 39.77, 42.37, 44.7, 46.94, 48.82]\n"
     ]
    }
   ],
   "source": [
    "print(m_accuracy_tf_idf_avg)"
   ]
  },
  {
   "cell_type": "code",
   "execution_count": 171,
   "id": "75624672",
   "metadata": {},
   "outputs": [
    {
     "name": "stdout",
     "output_type": "stream",
     "text": [
      "[17.07, 25.28, 31.12, 35.52, 38.74, 41.4, 43.62, 45.68, 47.23, 48.83]\n"
     ]
    }
   ],
   "source": [
    "print(nn_accuracy_tf_idf_avg)"
   ]
  },
  {
   "cell_type": "code",
   "execution_count": 172,
   "id": "455bbaf5",
   "metadata": {},
   "outputs": [],
   "source": [
    "rfc_accuracy_tf_idf_cv10_with_avg.append(rfc_accuracy_tf_idf_avg)"
   ]
  },
  {
   "cell_type": "code",
   "execution_count": 173,
   "id": "ea6c7ca7",
   "metadata": {},
   "outputs": [],
   "source": [
    "m_accuracy_tf_idf_cv10_with_avg.append(m_accuracy_tf_idf_avg)"
   ]
  },
  {
   "cell_type": "code",
   "execution_count": 174,
   "id": "f91372b8",
   "metadata": {},
   "outputs": [],
   "source": [
    "nn_accuracy_tf_idf_cv10_with_avg.append(nn_accuracy_tf_idf_avg)"
   ]
  },
  {
   "cell_type": "code",
   "execution_count": 175,
   "id": "b68435b8",
   "metadata": {},
   "outputs": [],
   "source": [
    "def getRank1_5_10_data(accuracy_cv10_with_avg):\n",
    "    rank1=''\n",
    "    rank5=''\n",
    "    rank10=''\n",
    "    for i in range(0, 11):\n",
    "        rank1 = rank1 + str(accuracy_cv10_with_avg[i][0])\n",
    "        rank5 = rank5 + str(accuracy_cv10_with_avg[i][4])\n",
    "        rank10 = rank10 + str(accuracy_cv10_with_avg[i][9])\n",
    "\n",
    "        if i!=10:\n",
    "            rank1 = rank1 + '  '\n",
    "            rank5 = rank5 + '  '\n",
    "            rank10 = rank10 + '  '\n",
    "\n",
    "\n",
    "    return rank1, rank5, rank10"
   ]
  },
  {
   "cell_type": "code",
   "execution_count": 176,
   "id": "161828a9",
   "metadata": {},
   "outputs": [
    {
     "name": "stdout",
     "output_type": "stream",
     "text": [
      "3.21  9.5  13.43  17.17  24.66  15.08  20.73  17.53  17.3  16.9  15.55\n",
      "21.51  23.91  37.04  35.28  40.93  33.31  44.73  41.13  43.32  44.2  36.54\n",
      "40.1  35.43  50.4  43.9  48.81  43.84  58.0  52.27  57.63  57.12  48.75\n"
     ]
    }
   ],
   "source": [
    "rfc_accuracy_tf_idf_cv10_with_avg_rank1, rfc_accuracy_tf_idf_cv10_with_avg_rank5, rfc_accuracy_tf_idf_cv10_with_avg_rank10 = getRank1_5_10_data(rfc_accuracy_tf_idf_cv10_with_avg)         \n",
    "    \n",
    "print(rfc_accuracy_tf_idf_cv10_with_avg_rank1)\n",
    "print(rfc_accuracy_tf_idf_cv10_with_avg_rank5)\n",
    "print(rfc_accuracy_tf_idf_cv10_with_avg_rank10)"
   ]
  },
  {
   "cell_type": "code",
   "execution_count": 177,
   "id": "9f5dae60",
   "metadata": {},
   "outputs": [
    {
     "name": "stdout",
     "output_type": "stream",
     "text": [
      "5.41  9.19  14.44  15.19  19.31  16.0  19.07  15.93  16.96  17.04  14.85\n",
      "26.28  27.06  38.05  35.21  39.19  37.72  44.4  38.6  39.58  39.66  36.58\n",
      "41.03  43.49  50.54  44.05  49.96  48.72  57.07  50.07  52.11  51.12  48.82\n"
     ]
    }
   ],
   "source": [
    "m_accuracy_tf_idf_cv10_with_avg_rank1, m_accuracy_tf_idf_cv10_with_avg_rank5, m_accuracy_tf_idf_cv10_with_avg_rank10 = getRank1_5_10_data(m_accuracy_tf_idf_cv10_with_avg)         \n",
    "    \n",
    "print(m_accuracy_tf_idf_cv10_with_avg_rank1)\n",
    "print(m_accuracy_tf_idf_cv10_with_avg_rank5)\n",
    "print(m_accuracy_tf_idf_cv10_with_avg_rank10)"
   ]
  },
  {
   "cell_type": "code",
   "execution_count": 178,
   "id": "f7876c4a",
   "metadata": {},
   "outputs": [
    {
     "name": "stdout",
     "output_type": "stream",
     "text": [
      "4.2  9.94  19.86  17.38  22.34  17.05  21.87  18.6  19.69  19.76  17.07\n",
      "27.56  25.99  41.59  34.48  41.14  37.92  49.07  42.47  44.89  42.32  38.74\n",
      "39.96  36.88  53.21  41.56  45.77  47.47  58.27  53.33  57.15  54.75  48.83\n"
     ]
    }
   ],
   "source": [
    "nn_accuracy_tf_idf_cv10_with_avg_rank1, nn_accuracy_tf_idf_cv10_with_avg_rank5, nn_accuracy_tf_idf_cv10_with_avg_rank10 = getRank1_5_10_data(nn_accuracy_tf_idf_cv10_with_avg)         \n",
    "    \n",
    "print(nn_accuracy_tf_idf_cv10_with_avg_rank1)\n",
    "print(nn_accuracy_tf_idf_cv10_with_avg_rank5)\n",
    "print(nn_accuracy_tf_idf_cv10_with_avg_rank10)"
   ]
  },
  {
   "cell_type": "code",
   "execution_count": 179,
   "id": "114c05d1",
   "metadata": {},
   "outputs": [
    {
     "name": "stdout",
     "output_type": "stream",
     "text": [
      "3.21  9.5  13.43  17.17  24.66  15.08  20.73  17.53  17.3  16.9  15.55\n",
      "21.51  23.91  37.04  35.28  40.93  33.31  44.73  41.13  43.32  44.2  36.54\n",
      "40.1  35.43  50.4  43.9  48.81  43.84  58.0  52.27  57.63  57.12  48.75\n",
      "5.41  9.19  14.44  15.19  19.31  16.0  19.07  15.93  16.96  17.04  14.85\n",
      "26.28  27.06  38.05  35.21  39.19  37.72  44.4  38.6  39.58  39.66  36.58\n",
      "41.03  43.49  50.54  44.05  49.96  48.72  57.07  50.07  52.11  51.12  48.82\n",
      "4.2  9.94  19.86  17.38  22.34  17.05  21.87  18.6  19.69  19.76  17.07\n",
      "27.56  25.99  41.59  34.48  41.14  37.92  49.07  42.47  44.89  42.32  38.74\n",
      "39.96  36.88  53.21  41.56  45.77  47.47  58.27  53.33  57.15  54.75  48.83\n"
     ]
    }
   ],
   "source": [
    "print(rfc_accuracy_tf_idf_cv10_with_avg_rank1)\n",
    "print(rfc_accuracy_tf_idf_cv10_with_avg_rank5)\n",
    "print(rfc_accuracy_tf_idf_cv10_with_avg_rank10)\n",
    "\n",
    "print(m_accuracy_tf_idf_cv10_with_avg_rank1)\n",
    "print(m_accuracy_tf_idf_cv10_with_avg_rank5)\n",
    "print(m_accuracy_tf_idf_cv10_with_avg_rank10)\n",
    "\n",
    "print(nn_accuracy_tf_idf_cv10_with_avg_rank1)\n",
    "print(nn_accuracy_tf_idf_cv10_with_avg_rank5)\n",
    "print(nn_accuracy_tf_idf_cv10_with_avg_rank10)"
   ]
  },
  {
   "cell_type": "code",
   "execution_count": 180,
   "id": "bdd74b8d",
   "metadata": {},
   "outputs": [
    {
     "data": {
      "text/plain": [
       "[3.2317311763763428,\n",
       " 6.335797071456909,\n",
       " 10.51416301727295,\n",
       " 15.101764678955078,\n",
       " 24.417057037353516,\n",
       " 30.865734815597534,\n",
       " 36.51238512992859,\n",
       " 42.20646619796753,\n",
       " 49.12150287628174,\n",
       " 54.58704590797424]"
      ]
     },
     "execution_count": 180,
     "metadata": {},
     "output_type": "execute_result"
    }
   ],
   "source": [
    "rfc_elapsed_time_cv10"
   ]
  },
  {
   "cell_type": "code",
   "execution_count": 181,
   "id": "e6c57773",
   "metadata": {},
   "outputs": [
    {
     "name": "stdout",
     "output_type": "stream",
     "text": [
      "27.289364790916444\n"
     ]
    }
   ],
   "source": [
    "print(np.mean(rfc_elapsed_time_cv10))"
   ]
  },
  {
   "cell_type": "code",
   "execution_count": 182,
   "id": "1ba5006c",
   "metadata": {},
   "outputs": [
    {
     "data": {
      "text/plain": [
       "[12.326089143753052,\n",
       " 26.06207799911499,\n",
       " 37.75380992889404,\n",
       " 45.46763491630554,\n",
       " 79.77251291275024,\n",
       " 121.26570320129395,\n",
       " 188.58936715126038,\n",
       " 232.91851806640625,\n",
       " 279.0256247520447,\n",
       " 326.730819940567]"
      ]
     },
     "execution_count": 182,
     "metadata": {},
     "output_type": "execute_result"
    }
   ],
   "source": [
    "mlp_elapsed_time_cv10"
   ]
  },
  {
   "cell_type": "code",
   "execution_count": 183,
   "id": "572e5b35",
   "metadata": {},
   "outputs": [
    {
     "name": "stdout",
     "output_type": "stream",
     "text": [
      "134.991215801239\n"
     ]
    }
   ],
   "source": [
    "print(np.mean(mlp_elapsed_time_cv10))"
   ]
  },
  {
   "cell_type": "code",
   "execution_count": 184,
   "id": "b9083622",
   "metadata": {},
   "outputs": [
    {
     "data": {
      "text/plain": [
       "[72.91786789894104,\n",
       " 166.25263595581055,\n",
       " 286.460088968277,\n",
       " 425.2391550540924,\n",
       " 609.2197029590607,\n",
       " 720.1799402236938,\n",
       " 900.7099370956421,\n",
       " 1086.7614181041718,\n",
       " 1289.4707860946655,\n",
       " 1531.8878388404846]"
      ]
     },
     "execution_count": 184,
     "metadata": {},
     "output_type": "execute_result"
    }
   ],
   "source": [
    "nn_elapsed_time_cv10"
   ]
  },
  {
   "cell_type": "code",
   "execution_count": 185,
   "id": "72f6fc2b",
   "metadata": {},
   "outputs": [
    {
     "name": "stdout",
     "output_type": "stream",
     "text": [
      "708.909937119484\n"
     ]
    }
   ],
   "source": [
    "print(np.mean(nn_elapsed_time_cv10))"
   ]
  },
  {
   "cell_type": "code",
   "execution_count": 186,
   "id": "20478908",
   "metadata": {},
   "outputs": [],
   "source": [
    "def getProcessedDeepData(deep_data):\n",
    "    with open(deep_data) as data_file:\n",
    "        data = json.load(data_file, strict=False)\n",
    "\n",
    "    all_data = []\n",
    "    for item in data:\n",
    "\n",
    "        #1. Remove \\r\n",
    "        current_title = item['issue_title'].replace('\\r', ' ')\n",
    "        current_desc = item['description'].replace('\\r', ' ')\n",
    "\n",
    "        #2. Remove URLs\n",
    "        current_desc = re.sub(r'http[s]?://(?:[a-zA-Z]|[0-9]|[$-_@.&+]|[!*\\(\\),]|(?:%[0-9a-fA-F][0-9a-fA-F]))+', ' ', current_desc)\n",
    "\n",
    "        #3. Remove Stack Trace\n",
    "        start_loc = current_desc.find(\"Stack trace:\")\n",
    "        current_desc = current_desc[:start_loc]\n",
    "\n",
    "        #4. Change to lower case & Remove hex code\n",
    "        current_data = current_title.lower() + ' ' + current_desc.lower()\n",
    "        current_data = re.sub(r'(\\w+)0x\\w+', ' ', current_data)\n",
    " \n",
    "        current_data = re.sub(r'[^\\w\\s]', ' ', current_data)\n",
    "        \n",
    "        #5. Remove digits\n",
    "        current_data = re.sub(r'[0-9]', '', current_data)\n",
    "\n",
    "        #6. Tokenize\n",
    "        current_data_tokens = [w for w in nltk.word_tokenize(current_data) if contains_letters(w) and len(w) > 1]\n",
    "\n",
    "        #7. Remove stop words\n",
    "        stop_words = set(stopwords.words('english'))\n",
    "        current_data_filter = [w for w in current_data_tokens if not w in stop_words]\n",
    "\n",
    "        all_data.append(current_data_filter)\n",
    "\n",
    "    return all_data"
   ]
  },
  {
   "cell_type": "code",
   "execution_count": 187,
   "id": "701f422a",
   "metadata": {},
   "outputs": [],
   "source": [
    "def getSynonyms(word):\n",
    "    synonyms = []\n",
    "    synsets = wordnet.synsets(word)\n",
    "    if (len(synsets) == 0):\n",
    "        return []\n",
    "    synset = synsets[0]\n",
    "    lemma_names = synset.lemma_names()\n",
    "    for lemma_name in lemma_names:\n",
    "        lemma_name = lemma_name.lower().replace('_', ' ')\n",
    "        if (lemma_name != word and lemma_name not in synonyms):\n",
    "            synonyms.append(lemma_name)\n",
    "    return synonyms"
   ]
  },
  {
   "cell_type": "code",
   "execution_count": 188,
   "id": "f3186ca9",
   "metadata": {},
   "outputs": [],
   "source": [
    "def makeFeatureVecWithWordNet(bugReport, model, num_features, synonymCounter, normalCounter):\n",
    "    # Function to average all of the word vectors in a given\n",
    "    # paragraph\n",
    "    #\n",
    "    # Pre-initialize an empty numpy array (for speed)\n",
    "    featureVec = np.zeros((num_features,),dtype=\"float32\")\n",
    "    #\n",
    "    nwords = 0\n",
    "    # \n",
    "    # Index2word is a list that contains the names of the words in \n",
    "    # the model's vocabulary. Convert it to a set, for speed \n",
    "    index2word_set = set(model.wv.index_to_key)\n",
    "    #\n",
    "    # Loop over each word in the bugreport and, if it is in the model's\n",
    "    # vocaublary, add its feature vector to the total\n",
    "    for word in bugReport:\n",
    "        found = False\n",
    "        if word in index2word_set: \n",
    "            normalCounter = normalCounter+1\n",
    "            nwords = nwords + 1\n",
    "            featureVec = np.add(featureVec,model.wv[word])\n",
    "            if nwords == max_sentence_len-1:\n",
    "                break\n",
    "        else:\n",
    "            for synonym in getSynonyms(word):\n",
    "                if synonym in index2word_set:\n",
    "                    synonymCounter = synonymCounter + 1\n",
    "                    nwords = nwords + 1\n",
    "                    featureVec = np.add(featureVec, model.wv[synonym])\n",
    "                    found = True\n",
    "                    break\n",
    "            if nwords == max_sentence_len-1:\n",
    "                break\n",
    "            if not found:\n",
    "                bugReport.remove(word)\n",
    "    # \n",
    "    # Divide the result by the number of words to get the average\n",
    "    featureVec = np.divide(featureVec,nwords)\n",
    "    return featureVec\n",
    "\n",
    "\n",
    "def getAvgFeatureVecsWithWordNet(bugReports, model, num_features, synonymCounter, normalCounter):\n",
    "    # Given a set of reviews (each one a list of words), calculate \n",
    "    # the average feature vector for each one and return a 2D numpy array \n",
    "    # \n",
    "    # Initialize a counter\n",
    "    counter = 0\n",
    "    # \n",
    "    # Preallocate a 2D numpy array, for speed\n",
    "    bugReportsVecs = np.zeros((len(bugReports),num_features),dtype=\"float32\")\n",
    "    # \n",
    "    # Loop through the reviews\n",
    "    for bugReport in bugReports:\n",
    "        synCounter = 0\n",
    "        norCounter = 0\n",
    "        # Call the function (defined above) that makes average feature vectors\n",
    "        bugReportsVecs[counter] = makeFeatureVecWithWordNet(bugReport, model, num_features, \n",
    "                                                            synCounter, norCounter)\n",
    "        \n",
    "        synonymCounter = synonymCounter + synCounter \n",
    "        normalCounter = normalCounter + norCounter\n",
    "        #\n",
    "        # Increment the counter\n",
    "        counter = counter + 1\n",
    "    return bugReportsVecs\n"
   ]
  },
  {
   "cell_type": "code",
   "execution_count": 189,
   "id": "22840424",
   "metadata": {},
   "outputs": [],
   "source": [
    "def makeFeatureVec(bugReport, model, num_features):\n",
    "    # Function to average all of the word vectors in a given\n",
    "    # paragraph\n",
    "    #\n",
    "    # Pre-initialize an empty numpy array (for speed)\n",
    "    featureVec = np.zeros((num_features,),dtype=\"float32\")\n",
    "    #\n",
    "    nwords = 0.\n",
    "    # \n",
    "    # Index2word is a list that contains the names of the words in \n",
    "    # the model's vocabulary. Convert it to a set, for speed \n",
    "    index2word_set = set(model.wv.index_to_key)\n",
    "    #\n",
    "    # Loop over each word in the bugreport and, if it is in the model's\n",
    "    # vocaublary, add its feature vector to the total\n",
    "    for word in bugReport:\n",
    "        found = False\n",
    "        if word in index2word_set: \n",
    "            nwords = nwords + 1.\n",
    "            featureVec = np.add(featureVec,model.wv[word])\n",
    "            if nwords == max_sentence_len-1:\n",
    "                break\n",
    "    # \n",
    "    # Divide the result by the number of words to get the average\n",
    "    featureVec = np.divide(featureVec,nwords)\n",
    "    return featureVec\n",
    "\n",
    "\n",
    "def getAvgFeatureVecs(bugReports, model, num_features):\n",
    "    # Given a set of reviews (each one a list of words), calculate \n",
    "    # the average feature vector for each one and return a 2D numpy array \n",
    "    # \n",
    "    # Initialize a counter\n",
    "    counter = 0\n",
    "    # \n",
    "    # Preallocate a 2D numpy array, for speed\n",
    "    bugReportsVecs = np.zeros((len(bugReports),num_features),dtype=\"float32\")\n",
    "    # \n",
    "    # Loop through the bugreport\n",
    "    for bugReport in bugReports:\n",
    "        # Call the function (defined above) that makes average feature vectors\n",
    "        bugReportsVecs[counter] = makeFeatureVec(bugReport, model, num_features)\n",
    "        #\n",
    "        # Increment the counter\n",
    "        counter = counter + 1\n",
    "    return bugReportsVecs"
   ]
  },
  {
   "cell_type": "code",
   "execution_count": 190,
   "id": "3a6adf2d",
   "metadata": {},
   "outputs": [],
   "source": [
    "def preporcessedBidirectionalNNData(updated_train_data, updated_train_owner, updated_test_data, updated_test_owner, unique_train_label, vocabulary, wordvec_model):\n",
    "    \n",
    "    # Create train and test data for deep learning + softmax\n",
    "    X_train = np.empty(shape=[len(updated_train_data), max_sentence_len, embed_size_word2vec], dtype='float32')\n",
    "    Y_train = np.empty(shape=[len(updated_train_owner),1], dtype='int32')\n",
    "    # 1 - start of sentence, # 2 - end of sentence, # 0 - zero padding. Hence, word indices start with 3\n",
    "    for j, curr_row in enumerate(updated_train_data):\n",
    "        sequence_cnt = 0\n",
    "        for item in curr_row:\n",
    "            found = False\n",
    "            if item in vocabulary:\n",
    "                X_train[j, sequence_cnt, :] = wordvec_model.wv[item]\n",
    "                sequence_cnt = sequence_cnt + 1\n",
    "                if sequence_cnt == max_sentence_len-1:\n",
    "                    break\n",
    "\n",
    "        for k in range(sequence_cnt, max_sentence_len):\n",
    "            X_train[j, k, :] = np.zeros((1,embed_size_word2vec))\n",
    "        Y_train[j,0] = unique_train_label.index(updated_train_owner[j])\n",
    "\n",
    "    X_test = np.empty(shape=[len(updated_test_data), max_sentence_len, embed_size_word2vec], dtype='float32')\n",
    "    Y_test = np.empty(shape=[len(updated_test_owner),1], dtype='int32')\n",
    "    # 1 - start of sentence, # 2 - end of sentence, # 0 - zero padding. Hence, word indices start with 3\n",
    "    for j, curr_row in enumerate(updated_test_data):\n",
    "        sequence_cnt = 0\n",
    "        for item in curr_row:\n",
    "            if item in vocabulary:\n",
    "                X_test[j, sequence_cnt, :] = wordvec_model.wv[item]\n",
    "                sequence_cnt = sequence_cnt + 1\n",
    "                if sequence_cnt == max_sentence_len-1:\n",
    "                    break\n",
    "\n",
    "        for k in range(sequence_cnt, max_sentence_len):\n",
    "            X_test[j, k, :] = np.zeros((1,embed_size_word2vec))\n",
    "        Y_test[j,0] = unique_train_label.index(updated_test_owner[j])\n",
    "\n",
    "    y_train = np_utils.to_categorical(Y_train, len(unique_train_label))\n",
    "    y_test = np_utils.to_categorical(Y_test, len(unique_train_label))\n",
    "    \n",
    "    return X_train, y_train, X_test, y_test"
   ]
  },
  {
   "cell_type": "code",
   "execution_count": 191,
   "id": "e552c778",
   "metadata": {},
   "outputs": [],
   "source": [
    "deep_data_list = getProcessedDeepData(deep_data)"
   ]
  },
  {
   "cell_type": "code",
   "execution_count": 231,
   "id": "d26b3dd6",
   "metadata": {},
   "outputs": [
    {
     "name": "stdout",
     "output_type": "stream",
     "text": [
      "1\n",
      "1856\n",
      "1856\n",
      "1856\n",
      "1856\n",
      "1856\n",
      "1856\n",
      "139949\n",
      "Random Forest Classifier Accuracy(With Wordnet) :  [2.81, 6.27, 10.66, 16.35, 21.25, 25.79, 29.9, 33.86, 36.96, 39.27]\n"
     ]
    },
    {
     "name": "stderr",
     "output_type": "stream",
     "text": [
      "/usr/local/lib/python3.7/site-packages/sklearn/neural_network/_multilayer_perceptron.py:617: ConvergenceWarning: Stochastic Optimizer: Maximum iterations (200) reached and the optimization hasn't converged yet.\n",
      "  % self.max_iter, ConvergenceWarning)\n"
     ]
    },
    {
     "name": "stdout",
     "output_type": "stream",
     "text": [
      "MLP Classifier Accuracy (with wordnet) :  [6.84, 10.81, 16.07, 19.81, 24.86, 28.75, 31.84, 34.58, 38.26, 40.56]\n",
      "Random Forest Classifier Accuracy :  [2.81, 6.27, 10.66, 16.35, 21.25, 25.79, 29.9, 33.86, 36.96, 39.27]\n"
     ]
    },
    {
     "name": "stderr",
     "output_type": "stream",
     "text": [
      "/usr/local/lib/python3.7/site-packages/sklearn/neural_network/_multilayer_perceptron.py:617: ConvergenceWarning: Stochastic Optimizer: Maximum iterations (200) reached and the optimization hasn't converged yet.\n",
      "  % self.max_iter, ConvergenceWarning)\n"
     ]
    },
    {
     "name": "stdout",
     "output_type": "stream",
     "text": [
      "MLP Classifier Accuracy :  [6.84, 10.81, 16.07, 19.81, 24.86, 28.75, 31.84, 34.58, 38.26, 40.56]\n",
      "Epoch 1/6\n",
      "53/53 [==============================] - 103s 2s/step - loss: 2.9504 - accuracy: 0.2450\n",
      "Epoch 2/6\n",
      "53/53 [==============================] - 115s 2s/step - loss: 2.2715 - accuracy: 0.3511\n",
      "Epoch 3/6\n",
      "53/53 [==============================] - 84s 2s/step - loss: 1.8390 - accuracy: 0.4632\n",
      "Epoch 4/6\n",
      "53/53 [==============================] - 74s 1s/step - loss: 1.3939 - accuracy: 0.5747\n",
      "Epoch 5/6\n",
      "53/53 [==============================] - 61s 1s/step - loss: 0.9090 - accuracy: 0.7307\n",
      "Epoch 6/6\n",
      "53/53 [==============================] - 81s 2s/step - loss: 0.5391 - accuracy: 0.8434\n",
      "{'loss': [2.95043683052063, 2.2715048789978027, 1.8389636278152466, 1.393941879272461, 0.9090270400047302, 0.5391330718994141], 'accuracy': [0.24495847523212433, 0.35112693905830383, 0.4632265865802765, 0.5747330784797668, 0.7307236194610596, 0.8434163928031921]}\n",
      "Neural Network Accuracy Score : [5.84, 10.09, 14.12, 18.88, 22.84, 26.37, 30.12, 33.0, 35.95, 37.97]\n",
      "2\n",
      "3712\n",
      "1856\n",
      "3712\n",
      "1856\n",
      "3712\n",
      "1856\n",
      "141805\n",
      "Random Forest Classifier Accuracy(With Wordnet) :  [7.27, 11.29, 14.73, 17.73, 20.66, 23.09, 25.57, 27.49, 30.04, 32.21]\n"
     ]
    },
    {
     "name": "stderr",
     "output_type": "stream",
     "text": [
      "/usr/local/lib/python3.7/site-packages/sklearn/neural_network/_multilayer_perceptron.py:617: ConvergenceWarning: Stochastic Optimizer: Maximum iterations (200) reached and the optimization hasn't converged yet.\n",
      "  % self.max_iter, ConvergenceWarning)\n"
     ]
    },
    {
     "name": "stdout",
     "output_type": "stream",
     "text": [
      "MLP Classifier Accuracy (with wordnet) :  [8.23, 14.03, 18.62, 22.32, 25.32, 28.76, 31.82, 34.82, 37.5, 40.31]\n",
      "Random Forest Classifier Accuracy :  [7.27, 11.29, 14.73, 17.73, 20.66, 23.09, 25.57, 27.49, 30.04, 32.21]\n"
     ]
    },
    {
     "name": "stderr",
     "output_type": "stream",
     "text": [
      "/usr/local/lib/python3.7/site-packages/sklearn/neural_network/_multilayer_perceptron.py:617: ConvergenceWarning: Stochastic Optimizer: Maximum iterations (200) reached and the optimization hasn't converged yet.\n",
      "  % self.max_iter, ConvergenceWarning)\n"
     ]
    },
    {
     "name": "stdout",
     "output_type": "stream",
     "text": [
      "MLP Classifier Accuracy :  [8.23, 14.03, 18.62, 22.32, 25.32, 28.76, 31.82, 34.82, 37.5, 40.31]\n",
      "Epoch 1/6\n",
      "102/102 [==============================] - 161s 2s/step - loss: 3.4107 - accuracy: 0.1713\n",
      "Epoch 2/6\n",
      "102/102 [==============================] - 125s 1s/step - loss: 2.7418 - accuracy: 0.2884\n",
      "Epoch 3/6\n",
      "102/102 [==============================] - 154s 2s/step - loss: 2.2648 - accuracy: 0.3895\n",
      "Epoch 4/6\n",
      "102/102 [==============================] - 168s 2s/step - loss: 1.6908 - accuracy: 0.5274\n",
      "Epoch 5/6\n",
      "102/102 [==============================] - 124s 1s/step - loss: 1.1335 - accuracy: 0.6963\n",
      "Epoch 6/6\n",
      "102/102 [==============================] - 121s 1s/step - loss: 0.6700 - accuracy: 0.8253\n",
      "{'loss': [3.4107022285461426, 2.741819381713867, 2.2648186683654785, 1.6908499002456665, 1.1334871053695679, 0.670039176940918], 'accuracy': [0.17131474614143372, 0.28838491439819336, 0.3895188570022583, 0.5274287462234497, 0.6962917447090149, 0.8253141045570374]}\n",
      "Neural Network Accuracy Score : [7.72, 12.18, 16.84, 20.34, 24.11, 27.3, 29.72, 32.02, 34.57, 36.99]\n",
      "3\n",
      "5568\n",
      "1856\n",
      "5568\n",
      "1856\n",
      "5568\n",
      "1856\n",
      "143661\n",
      "Random Forest Classifier Accuracy(With Wordnet) :  [11.4, 19.5, 25.27, 30.09, 34.55, 37.4, 40.61, 42.95, 44.92, 46.6]\n"
     ]
    },
    {
     "name": "stderr",
     "output_type": "stream",
     "text": [
      "/usr/local/lib/python3.7/site-packages/sklearn/neural_network/_multilayer_perceptron.py:617: ConvergenceWarning: Stochastic Optimizer: Maximum iterations (200) reached and the optimization hasn't converged yet.\n",
      "  % self.max_iter, ConvergenceWarning)\n"
     ]
    },
    {
     "name": "stdout",
     "output_type": "stream",
     "text": [
      "MLP Classifier Accuracy (with wordnet) :  [13.81, 20.6, 26.44, 31.19, 35.28, 38.93, 41.78, 44.34, 46.46, 48.43]\n",
      "Random Forest Classifier Accuracy :  [11.4, 19.5, 25.27, 30.09, 34.55, 37.4, 40.61, 42.95, 44.92, 46.6]\n"
     ]
    },
    {
     "name": "stderr",
     "output_type": "stream",
     "text": [
      "/usr/local/lib/python3.7/site-packages/sklearn/neural_network/_multilayer_perceptron.py:617: ConvergenceWarning: Stochastic Optimizer: Maximum iterations (200) reached and the optimization hasn't converged yet.\n",
      "  % self.max_iter, ConvergenceWarning)\n"
     ]
    },
    {
     "name": "stdout",
     "output_type": "stream",
     "text": [
      "MLP Classifier Accuracy :  [13.81, 20.6, 26.44, 31.19, 35.28, 38.93, 41.78, 44.34, 46.46, 48.43]\n",
      "Epoch 1/6\n",
      "153/153 [==============================] - 232s 1s/step - loss: 3.4967 - accuracy: 0.1665\n",
      "Epoch 2/6\n",
      "153/153 [==============================] - 228s 1s/step - loss: 2.8484 - accuracy: 0.2735\n",
      "Epoch 3/6\n",
      "153/153 [==============================] - 213s 1s/step - loss: 2.3360 - accuracy: 0.3841\n",
      "Epoch 4/6\n",
      "153/153 [==============================] - 177s 1s/step - loss: 1.7570 - accuracy: 0.5228\n",
      "Epoch 5/6\n",
      "153/153 [==============================] - 187s 1s/step - loss: 1.1990 - accuracy: 0.6752\n",
      "Epoch 6/6\n",
      "153/153 [==============================] - 179s 1s/step - loss: 0.7213 - accuracy: 0.8133\n",
      "{'loss': [3.49665904045105, 2.8483829498291016, 2.3360354900360107, 1.7569688558578491, 1.199007511138916, 0.7212734222412109], 'accuracy': [0.1664964258670807, 0.27354443073272705, 0.3840653598308563, 0.522778332233429, 0.6751787662506104, 0.81327885389328]}\n",
      "Neural Network Accuracy Score : [11.54, 19.43, 24.91, 29.15, 32.51, 35.94, 37.98, 40.47, 43.02, 44.85]\n",
      "4\n",
      "7424\n",
      "1856\n",
      "7424\n",
      "1856\n",
      "7424\n",
      "1856\n",
      "145517\n",
      "Random Forest Classifier Accuracy(With Wordnet) :  [14.82, 20.28, 24.71, 27.73, 30.38, 32.23, 33.78, 35.4, 37.32, 38.05]\n"
     ]
    },
    {
     "name": "stderr",
     "output_type": "stream",
     "text": [
      "/usr/local/lib/python3.7/site-packages/sklearn/neural_network/_multilayer_perceptron.py:617: ConvergenceWarning: Stochastic Optimizer: Maximum iterations (200) reached and the optimization hasn't converged yet.\n",
      "  % self.max_iter, ConvergenceWarning)\n"
     ]
    },
    {
     "name": "stdout",
     "output_type": "stream",
     "text": [
      "MLP Classifier Accuracy (with wordnet) :  [12.91, 20.5, 24.78, 29.35, 32.37, 34.59, 36.5, 38.42, 40.49, 42.48]\n",
      "Random Forest Classifier Accuracy :  [14.82, 20.28, 24.71, 27.73, 30.38, 32.23, 33.78, 35.4, 37.32, 38.05]\n"
     ]
    },
    {
     "name": "stderr",
     "output_type": "stream",
     "text": [
      "/usr/local/lib/python3.7/site-packages/sklearn/neural_network/_multilayer_perceptron.py:617: ConvergenceWarning: Stochastic Optimizer: Maximum iterations (200) reached and the optimization hasn't converged yet.\n",
      "  % self.max_iter, ConvergenceWarning)\n"
     ]
    },
    {
     "name": "stdout",
     "output_type": "stream",
     "text": [
      "MLP Classifier Accuracy :  [12.91, 20.5, 24.78, 29.35, 32.37, 34.59, 36.5, 38.42, 40.49, 42.48]\n",
      "Epoch 1/6\n",
      "201/201 [==============================] - 281s 1s/step - loss: 3.6194 - accuracy: 0.1715\n",
      "Epoch 2/6\n",
      "201/201 [==============================] - 341s 2s/step - loss: 2.9321 - accuracy: 0.2838\n",
      "Epoch 3/6\n",
      "201/201 [==============================] - 281s 1s/step - loss: 2.4072 - accuracy: 0.3841\n",
      "Epoch 4/6\n",
      "201/201 [==============================] - 247s 1s/step - loss: 1.8443 - accuracy: 0.5272\n",
      "Epoch 5/6\n",
      "201/201 [==============================] - 262s 1s/step - loss: 1.2859 - accuracy: 0.6645\n",
      "Epoch 6/6\n",
      "201/201 [==============================] - 334s 2s/step - loss: 0.8088 - accuracy: 0.7966\n",
      "{'loss': [3.6193933486938477, 2.9320528507232666, 2.407151222229004, 1.8442641496658325, 1.285940408706665, 0.8088356852531433], 'accuracy': [0.17153966426849365, 0.2838258147239685, 0.3841368556022644, 0.5272161960601807, 0.6645411849021912, 0.7965785264968872]}\n",
      "Neural Network Accuracy Score : [14.38, 23.08, 28.17, 32.52, 35.47, 37.46, 39.09, 40.12, 41.3, 42.85]\n",
      "5\n",
      "9280\n",
      "1856\n",
      "9280\n",
      "1856\n",
      "9280\n",
      "1856\n",
      "147373\n",
      "Random Forest Classifier Accuracy(With Wordnet) :  [18.16, 23.16, 27.13, 29.85, 33.09, 35.29, 36.84, 38.82, 40.37, 41.47]\n"
     ]
    },
    {
     "name": "stderr",
     "output_type": "stream",
     "text": [
      "/usr/local/lib/python3.7/site-packages/sklearn/neural_network/_multilayer_perceptron.py:617: ConvergenceWarning: Stochastic Optimizer: Maximum iterations (200) reached and the optimization hasn't converged yet.\n",
      "  % self.max_iter, ConvergenceWarning)\n"
     ]
    },
    {
     "name": "stdout",
     "output_type": "stream",
     "text": [
      "MLP Classifier Accuracy (with wordnet) :  [16.47, 24.34, 29.56, 32.65, 34.85, 37.65, 40.0, 41.76, 43.01, 44.63]\n",
      "Random Forest Classifier Accuracy :  [18.16, 23.16, 27.13, 29.85, 33.09, 35.29, 36.84, 38.82, 40.37, 41.47]\n"
     ]
    },
    {
     "name": "stderr",
     "output_type": "stream",
     "text": [
      "/usr/local/lib/python3.7/site-packages/sklearn/neural_network/_multilayer_perceptron.py:617: ConvergenceWarning: Stochastic Optimizer: Maximum iterations (200) reached and the optimization hasn't converged yet.\n",
      "  % self.max_iter, ConvergenceWarning)\n"
     ]
    },
    {
     "name": "stdout",
     "output_type": "stream",
     "text": [
      "MLP Classifier Accuracy :  [16.47, 24.34, 29.56, 32.65, 34.85, 37.65, 40.0, 41.76, 43.01, 44.63]\n",
      "Epoch 1/6\n",
      "248/248 [==============================] - 422s 2s/step - loss: 3.6976 - accuracy: 0.1768\n",
      "Epoch 2/6\n",
      "248/248 [==============================] - 386s 2s/step - loss: 3.0004 - accuracy: 0.2907\n",
      "Epoch 3/6\n",
      "248/248 [==============================] - 386s 2s/step - loss: 2.4660 - accuracy: 0.3867\n",
      "Epoch 4/6\n",
      "248/248 [==============================] - 315s 1s/step - loss: 1.9468 - accuracy: 0.5033\n",
      "Epoch 5/6\n",
      "248/248 [==============================] - 334s 1s/step - loss: 1.3641 - accuracy: 0.6501\n",
      "Epoch 6/6\n",
      "248/248 [==============================] - 276s 1s/step - loss: 0.8862 - accuracy: 0.7801\n",
      "{'loss': [3.6975908279418945, 3.0003867149353027, 2.4660048484802246, 1.946799874305725, 1.3640812635421753, 0.8861600756645203], 'accuracy': [0.17682695388793945, 0.2906727194786072, 0.386722207069397, 0.503344714641571, 0.6501325368881226, 0.7801337838172913]}\n",
      "Neural Network Accuracy Score : [19.78, 27.13, 31.62, 34.56, 36.69, 39.56, 40.81, 41.84, 43.09, 43.97]\n",
      "6\n",
      "11136\n",
      "1856\n",
      "11136\n",
      "1856\n",
      "11136\n",
      "1856\n",
      "149229\n",
      "Random Forest Classifier Accuracy(With Wordnet) :  [10.4, 16.13, 19.6, 22.53, 25.2, 27.93, 30.13, 32.0, 33.87, 35.93]\n"
     ]
    },
    {
     "name": "stderr",
     "output_type": "stream",
     "text": [
      "/usr/local/lib/python3.7/site-packages/sklearn/neural_network/_multilayer_perceptron.py:617: ConvergenceWarning: Stochastic Optimizer: Maximum iterations (200) reached and the optimization hasn't converged yet.\n",
      "  % self.max_iter, ConvergenceWarning)\n"
     ]
    },
    {
     "name": "stdout",
     "output_type": "stream",
     "text": [
      "MLP Classifier Accuracy (with wordnet) :  [13.8, 20.6, 26.07, 29.53, 32.53, 35.0, 37.0, 39.0, 40.47, 42.27]\n",
      "Random Forest Classifier Accuracy :  [10.4, 16.13, 19.6, 22.53, 25.2, 27.93, 30.13, 32.0, 33.87, 35.93]\n"
     ]
    },
    {
     "name": "stderr",
     "output_type": "stream",
     "text": [
      "/usr/local/lib/python3.7/site-packages/sklearn/neural_network/_multilayer_perceptron.py:617: ConvergenceWarning: Stochastic Optimizer: Maximum iterations (200) reached and the optimization hasn't converged yet.\n",
      "  % self.max_iter, ConvergenceWarning)\n"
     ]
    },
    {
     "name": "stdout",
     "output_type": "stream",
     "text": [
      "MLP Classifier Accuracy :  [13.8, 20.6, 26.07, 29.53, 32.53, 35.0, 37.0, 39.0, 40.47, 42.27]\n",
      "Epoch 1/6\n",
      "294/294 [==============================] - 408s 1s/step - loss: 3.7289 - accuracy: 0.1858\n",
      "Epoch 2/6\n",
      "294/294 [==============================] - 442s 2s/step - loss: 3.0149 - accuracy: 0.2979\n",
      "Epoch 3/6\n",
      "294/294 [==============================] - 429s 1s/step - loss: 2.5337 - accuracy: 0.3848\n",
      "Epoch 4/6\n",
      "294/294 [==============================] - 454s 2s/step - loss: 2.0201 - accuracy: 0.5020\n",
      "Epoch 5/6\n",
      "294/294 [==============================] - 417s 1s/step - loss: 1.4688 - accuracy: 0.6282\n",
      "Epoch 6/6\n",
      "294/294 [==============================] - 419s 1s/step - loss: 0.9831 - accuracy: 0.7546\n",
      "{'loss': [3.728907585144043, 3.0148842334747314, 2.5337233543395996, 2.0200915336608887, 1.4687939882278442, 0.9830682277679443], 'accuracy': [0.18580108880996704, 0.2979426383972168, 0.3848203718662262, 0.5019720792770386, 0.6281846165657043, 0.7546103596687317]}\n",
      "Neural Network Accuracy Score : [14.0, 21.33, 25.47, 28.47, 31.0, 34.07, 36.07, 38.13, 39.87, 41.4]\n",
      "7\n",
      "12992\n",
      "1856\n",
      "12992\n",
      "1856\n",
      "12992\n",
      "1856\n",
      "151085\n",
      "Random Forest Classifier Accuracy(With Wordnet) :  [14.42, 22.13, 27.97, 32.93, 36.69, 39.84, 42.19, 44.27, 47.42, 49.5]\n"
     ]
    },
    {
     "name": "stderr",
     "output_type": "stream",
     "text": [
      "/usr/local/lib/python3.7/site-packages/sklearn/neural_network/_multilayer_perceptron.py:617: ConvergenceWarning: Stochastic Optimizer: Maximum iterations (200) reached and the optimization hasn't converged yet.\n",
      "  % self.max_iter, ConvergenceWarning)\n"
     ]
    },
    {
     "name": "stdout",
     "output_type": "stream",
     "text": [
      "MLP Classifier Accuracy (with wordnet) :  [16.5, 24.28, 30.05, 34.94, 39.44, 42.45, 45.88, 48.16, 50.03, 52.52]\n",
      "Random Forest Classifier Accuracy :  [14.42, 22.13, 27.97, 32.93, 36.69, 39.84, 42.19, 44.27, 47.42, 49.5]\n"
     ]
    },
    {
     "name": "stderr",
     "output_type": "stream",
     "text": [
      "/usr/local/lib/python3.7/site-packages/sklearn/neural_network/_multilayer_perceptron.py:617: ConvergenceWarning: Stochastic Optimizer: Maximum iterations (200) reached and the optimization hasn't converged yet.\n",
      "  % self.max_iter, ConvergenceWarning)\n"
     ]
    },
    {
     "name": "stdout",
     "output_type": "stream",
     "text": [
      "MLP Classifier Accuracy :  [16.5, 24.28, 30.05, 34.94, 39.44, 42.45, 45.88, 48.16, 50.03, 52.52]\n",
      "Epoch 1/6\n",
      "341/341 [==============================] - 414s 1s/step - loss: 3.7349 - accuracy: 0.1876\n",
      "Epoch 2/6\n",
      "341/341 [==============================] - 437s 1s/step - loss: 3.0371 - accuracy: 0.2938\n",
      "Epoch 3/6\n",
      "341/341 [==============================] - 413s 1s/step - loss: 2.5627 - accuracy: 0.3813\n",
      "Epoch 4/6\n",
      "341/341 [==============================] - 426s 1s/step - loss: 2.0446 - accuracy: 0.4888\n",
      "Epoch 5/6\n",
      "341/341 [==============================] - 405s 1s/step - loss: 1.5283 - accuracy: 0.6152\n",
      "Epoch 6/6\n",
      "341/341 [==============================] - 391s 1s/step - loss: 1.0388 - accuracy: 0.7401\n",
      "{'loss': [3.734853982925415, 3.0371298789978027, 2.5626866817474365, 2.0446486473083496, 1.528260350227356, 1.0387786626815796], 'accuracy': [0.187574565410614, 0.2938423454761505, 0.38129761815071106, 0.488758385181427, 0.6152151823043823, 0.7401119470596313]}\n",
      "Neural Network Accuracy Score : [20.66, 29.24, 36.62, 41.92, 45.27, 48.69, 51.58, 53.25, 54.86, 56.41]\n",
      "8\n",
      "14848\n",
      "1856\n",
      "14848\n",
      "1856\n",
      "14848\n",
      "1856\n",
      "152941\n",
      "Random Forest Classifier Accuracy(With Wordnet) :  [10.78, 17.18, 20.55, 24.26, 27.02, 29.45, 31.33, 33.96, 36.12, 38.75]\n"
     ]
    },
    {
     "name": "stderr",
     "output_type": "stream",
     "text": [
      "/usr/local/lib/python3.7/site-packages/sklearn/neural_network/_multilayer_perceptron.py:617: ConvergenceWarning: Stochastic Optimizer: Maximum iterations (200) reached and the optimization hasn't converged yet.\n",
      "  % self.max_iter, ConvergenceWarning)\n"
     ]
    },
    {
     "name": "stdout",
     "output_type": "stream",
     "text": [
      "MLP Classifier Accuracy (with wordnet) :  [12.67, 20.62, 26.08, 30.26, 33.56, 36.19, 38.21, 40.84, 43.53, 45.82]\n",
      "Random Forest Classifier Accuracy :  [10.78, 17.18, 20.55, 24.26, 27.02, 29.45, 31.33, 33.96, 36.12, 38.75]\n"
     ]
    },
    {
     "name": "stderr",
     "output_type": "stream",
     "text": [
      "/usr/local/lib/python3.7/site-packages/sklearn/neural_network/_multilayer_perceptron.py:617: ConvergenceWarning: Stochastic Optimizer: Maximum iterations (200) reached and the optimization hasn't converged yet.\n",
      "  % self.max_iter, ConvergenceWarning)\n"
     ]
    },
    {
     "name": "stdout",
     "output_type": "stream",
     "text": [
      "MLP Classifier Accuracy :  [12.67, 20.62, 26.08, 30.26, 33.56, 36.19, 38.21, 40.84, 43.53, 45.82]\n",
      "Epoch 1/6\n",
      "389/389 [==============================] - 459s 1s/step - loss: 3.7492 - accuracy: 0.1840\n",
      "Epoch 2/6\n",
      "389/389 [==============================] - 444s 1s/step - loss: 3.0670 - accuracy: 0.2907\n",
      "Epoch 3/6\n",
      "389/389 [==============================] - 469s 1s/step - loss: 2.5980 - accuracy: 0.3778\n",
      "Epoch 4/6\n",
      "389/389 [==============================] - 477s 1s/step - loss: 2.0934 - accuracy: 0.4859\n",
      "Epoch 5/6\n",
      "389/389 [==============================] - 479s 1s/step - loss: 1.5815 - accuracy: 0.6075\n",
      "Epoch 6/6\n",
      "389/389 [==============================] - 507s 1s/step - loss: 1.1106 - accuracy: 0.7270\n",
      "{'loss': [3.7491981983184814, 3.06697678565979, 2.5980429649353027, 2.0933783054351807, 1.5815244913101196, 1.1106175184249878], 'accuracy': [0.18397364020347595, 0.29070889949798584, 0.37783315777778625, 0.4858543574810028, 0.6074585914611816, 0.7269731760025024]}\n",
      "Neural Network Accuracy Score : [15.9, 24.19, 30.12, 34.64, 38.14, 41.64, 45.55, 47.78, 49.87, 51.35]\n",
      "9\n",
      "16704\n",
      "1856\n",
      "16704\n",
      "1856\n",
      "16704\n",
      "1856\n",
      "154797\n",
      "Random Forest Classifier Accuracy(With Wordnet) :  [12.1, 20.21, 25.43, 29.48, 33.4, 36.84, 40.0, 43.23, 45.5, 47.56]\n"
     ]
    },
    {
     "name": "stderr",
     "output_type": "stream",
     "text": [
      "/usr/local/lib/python3.7/site-packages/sklearn/neural_network/_multilayer_perceptron.py:617: ConvergenceWarning: Stochastic Optimizer: Maximum iterations (200) reached and the optimization hasn't converged yet.\n",
      "  % self.max_iter, ConvergenceWarning)\n"
     ]
    },
    {
     "name": "stdout",
     "output_type": "stream",
     "text": [
      "MLP Classifier Accuracy (with wordnet) :  [13.13, 21.03, 27.84, 32.85, 37.32, 41.1, 43.51, 45.84, 48.04, 50.1]\n",
      "Random Forest Classifier Accuracy :  [12.1, 20.21, 25.43, 29.48, 33.4, 36.84, 40.0, 43.23, 45.5, 47.56]\n"
     ]
    },
    {
     "name": "stderr",
     "output_type": "stream",
     "text": [
      "/usr/local/lib/python3.7/site-packages/sklearn/neural_network/_multilayer_perceptron.py:617: ConvergenceWarning: Stochastic Optimizer: Maximum iterations (200) reached and the optimization hasn't converged yet.\n",
      "  % self.max_iter, ConvergenceWarning)\n"
     ]
    },
    {
     "name": "stdout",
     "output_type": "stream",
     "text": [
      "MLP Classifier Accuracy :  [13.13, 21.03, 27.84, 32.85, 37.32, 41.1, 43.51, 45.84, 48.04, 50.1]\n",
      "Epoch 1/6\n",
      "437/437 [==============================] - 510s 1s/step - loss: 3.7806 - accuracy: 0.1834\n",
      "Epoch 2/6\n",
      "437/437 [==============================] - 496s 1s/step - loss: 3.1105 - accuracy: 0.2871\n",
      "Epoch 3/6\n",
      "437/437 [==============================] - 501s 1s/step - loss: 2.6599 - accuracy: 0.3683\n",
      "Epoch 4/6\n",
      "437/437 [==============================] - 496s 1s/step - loss: 2.1643 - accuracy: 0.4719\n",
      "Epoch 5/6\n",
      "437/437 [==============================] - 495s 1s/step - loss: 1.6302 - accuracy: 0.5968\n",
      "Epoch 6/6\n",
      "437/437 [==============================] - 496s 1s/step - loss: 1.1520 - accuracy: 0.7206\n",
      "{'loss': [3.7805519104003906, 3.1105308532714844, 2.6599347591400146, 2.164267063140869, 1.630173921585083, 1.1519548892974854], 'accuracy': [0.18342050909996033, 0.2870960831642151, 0.36834561824798584, 0.4719495475292206, 0.5968331098556519, 0.7206419706344604]}\n",
      "Neural Network Accuracy Score : [16.29, 27.01, 31.89, 36.49, 40.14, 42.61, 44.54, 46.46, 48.11, 49.83]\n",
      "10\n",
      "18560\n",
      "1857\n",
      "18560\n",
      "1857\n",
      "18560\n",
      "1857\n",
      "156653\n",
      "Random Forest Classifier Accuracy(With Wordnet) :  [11.99, 19.01, 23.55, 28.01, 32.41, 35.18, 37.59, 40.35, 42.91, 45.25]\n"
     ]
    },
    {
     "name": "stderr",
     "output_type": "stream",
     "text": [
      "/usr/local/lib/python3.7/site-packages/sklearn/neural_network/_multilayer_perceptron.py:617: ConvergenceWarning: Stochastic Optimizer: Maximum iterations (200) reached and the optimization hasn't converged yet.\n",
      "  % self.max_iter, ConvergenceWarning)\n"
     ]
    },
    {
     "name": "stdout",
     "output_type": "stream",
     "text": [
      "MLP Classifier Accuracy (with wordnet) :  [13.19, 20.43, 25.82, 30.5, 34.89, 38.87, 41.63, 44.47, 46.95, 48.72]\n",
      "Random Forest Classifier Accuracy :  [11.99, 19.01, 23.55, 28.01, 32.41, 35.18, 37.59, 40.35, 42.91, 45.25]\n"
     ]
    },
    {
     "name": "stderr",
     "output_type": "stream",
     "text": [
      "/usr/local/lib/python3.7/site-packages/sklearn/neural_network/_multilayer_perceptron.py:617: ConvergenceWarning: Stochastic Optimizer: Maximum iterations (200) reached and the optimization hasn't converged yet.\n",
      "  % self.max_iter, ConvergenceWarning)\n"
     ]
    },
    {
     "name": "stdout",
     "output_type": "stream",
     "text": [
      "MLP Classifier Accuracy :  [13.19, 20.43, 25.82, 30.5, 34.89, 38.87, 41.63, 44.47, 46.95, 48.72]\n",
      "Epoch 1/6\n",
      "482/482 [==============================] - 562s 1s/step - loss: 3.7933 - accuracy: 0.1805\n",
      "Epoch 2/6\n",
      "482/482 [==============================] - 543s 1s/step - loss: 3.1274 - accuracy: 0.2882\n",
      "Epoch 3/6\n",
      "482/482 [==============================] - 543s 1s/step - loss: 2.6776 - accuracy: 0.3669\n",
      "Epoch 4/6\n",
      "482/482 [==============================] - 543s 1s/step - loss: 2.2052 - accuracy: 0.4673\n",
      "Epoch 5/6\n",
      "482/482 [==============================] - 542s 1s/step - loss: 1.6715 - accuracy: 0.5921\n",
      "Epoch 6/6\n",
      "482/482 [==============================] - 543s 1s/step - loss: 1.2184 - accuracy: 0.7055\n",
      "{'loss': [3.793339490890503, 3.1274380683898926, 2.677640199661255, 2.205195903778076, 1.6714630126953125, 1.2183986902236938], 'accuracy': [0.18045015633106232, 0.2881883680820465, 0.3668677508831024, 0.467276394367218, 0.5921385288238525, 0.7055198550224304]}\n",
      "Neural Network Accuracy Score : [15.32, 22.13, 28.3, 32.13, 35.04, 37.59, 40.71, 42.91, 44.33, 46.03]\n"
     ]
    }
   ],
   "source": [
    "totalLength = len(all_data)\n",
    "trainingTestingLength = totalLength / (numCV + 1)\n",
    "\n",
    "rfc_accuracy_cv10 = []\n",
    "m_accuracy_cv10 = []\n",
    "nn_accuracy_cv10 = []\n",
    "rfc_accuracy_with_wordnet_cv10 = []\n",
    "m_accuracy_with_wordnet_cv10 = []\n",
    "nn_accuracy_with_wordnet_cv10 = []\n",
    "rfc_with_wordnet_elapsed_time_cv10 = []\n",
    "mlp_with_wordnet_elapsed_time_cv10 = []\n",
    "rfc_elapsed_time_cv10 = []\n",
    "mlp_elapsed_time_cv10 = []\n",
    "nn_elapsed_time_cv10 = []\n",
    "\n",
    "\n",
    "for i in range(1, numCV+1):\n",
    "    # Split cross validation set\n",
    "    print(i)\n",
    "    raw_train_data = raw_data[:int(i*trainingTestingLength)]\n",
    "    raw_test_data = raw_data[int(i*trainingTestingLength):int((i+1)*trainingTestingLength)]\n",
    "    train_data = all_data[:int(i*trainingTestingLength)]\n",
    "    test_data = all_data[int(i*trainingTestingLength):int((i+1)*trainingTestingLength)]\n",
    "    train_owner = all_owner[:int(i*trainingTestingLength)]\n",
    "    test_owner = all_owner[int(i*trainingTestingLength):int((i+1)*trainingTestingLength)]\n",
    "    \n",
    "    print(len(raw_train_data))\n",
    "    print(len(raw_test_data))\n",
    "    print(len(train_data))\n",
    "    print(len(test_data))\n",
    "    print(len(train_owner))\n",
    "    print(len(test_owner))\n",
    "    \n",
    "    data_for_word_2_vec = deep_data_list + train_data\n",
    "    \n",
    "    print(len(data_for_word_2_vec))\n",
    "    \n",
    "    wordvec_model = Word2Vec(data_for_word_2_vec, min_count=min_word_frequency, vector_size=embed_size_word2vec, window=context_window_word2vec)\n",
    "    vocabulary = wordvec_model.wv.index_to_key\n",
    "    vocab_size = len(vocabulary)\n",
    "\n",
    "    # Remove words outside the vocabulary\n",
    "    updated_raw_train_data = []\n",
    "    updated_raw_test_data = []\n",
    "    updated_train_data = []\n",
    "    updated_train_owner = []\n",
    "    final_raw_test_data = []\n",
    "    final_test_data = []\n",
    "    final_test_owner = []\n",
    "    for j, item in enumerate(train_data):\n",
    "        current_train_filter = [word for word in item if word in vocabulary]\n",
    "        if len(current_train_filter)>=min_sentence_length:\n",
    "            updated_train_data.append(current_train_filter)\n",
    "            updated_train_owner.append(train_owner[j])\n",
    "            updated_raw_train_data.append(raw_train_data[j])\n",
    "\n",
    "    for j, item in enumerate(test_data):\n",
    "        current_test_filter = [word for word in item if word in vocabulary]\n",
    "        if len(current_test_filter)>=min_sentence_length:\n",
    "            final_test_data.append(current_test_filter)\n",
    "            final_test_owner.append(test_owner[j])\n",
    "            final_raw_test_data.append(raw_test_data[j])\n",
    "\n",
    "    # Remove data from test set that is not there in train set\n",
    "    train_owner_unique = set(updated_train_owner)\n",
    "    test_owner_unique = set(final_test_owner)\n",
    "    unwanted_owner = list(test_owner_unique - train_owner_unique)\n",
    "    updated_raw_test_data = []\n",
    "    updated_test_data = []\n",
    "    updated_test_owner = []\n",
    "    for j in range(len(final_test_owner)):\n",
    "        if final_test_owner[j] not in unwanted_owner:\n",
    "            updated_test_data.append(final_test_data[j])\n",
    "            updated_test_owner.append(final_test_owner[j])\n",
    "            updated_raw_test_data.append(final_raw_test_data[j])\n",
    "\n",
    "    unique_train_label = list(set(updated_train_owner))\n",
    "    \n",
    "    synonymCounter_training = 0;\n",
    "    normalCounter_training = 0;\n",
    "    \n",
    "    synonymCounter_testing = 0;\n",
    "    normalCounter_testing = 0;\n",
    "    \n",
    "    X_matrix_train = getAvgFeatureVecsWithWordNet(updated_train_data, wordvec_model, embed_size_word2vec, \n",
    "                                                  synonymCounter_training, normalCounter_training)\n",
    "    X_matrix_test = getAvgFeatureVecsWithWordNet(updated_test_data, wordvec_model, embed_size_word2vec, \n",
    "                                                 synonymCounter_testing, normalCounter_testing)\n",
    "    \n",
    "    print(synonymCounter_training)\n",
    "    print(normalCounter_training)\n",
    "    print(synonymCounter_testing)\n",
    "    print(normalCounter_testing)\n",
    "    \n",
    "    \n",
    "    randomForestClassifier, rfc_accuracy_with_wordnet, classes, rfc_index_with_wordnet_cv10, \n",
    "    rfc_with_wordnet_elapsed_time = getRandomForestClassifierAccuracy(X_matrix_train, updated_train_owner, \n",
    "                                                                      X_matrix_test, updated_test_owner)\n",
    "    \n",
    "\n",
    "    print('Random Forest Classifier Accuracy(With Wordnet) : ', rfc_accuracy_with_wordnet)\n",
    "    \n",
    "#     if i == 4:\n",
    "#         num_features = len(set(updated_test_data[rfc_index_with_wordnet_cv10]))\n",
    "#         print(rfc_index_with_wordnet_cv10)\n",
    "#         print(updated_test_owner[rfc_index_with_wordnet_cv10])\n",
    "#         print(updated_raw_test_data[rfc_index_with_wordnet_cv10])\n",
    "#         print(set(updated_test_data[rfc_index_with_wordnet_cv10]))\n",
    "\n",
    "#         explainWithLimeTebular(X_matrix_train, updated_train_owner, X_matrix_test, updated_test_owner, \n",
    "#                                randomForestClassifier, vocabulary, classes, rfc_index_with_wordnet_cv10, num_features,\n",
    "#                                'rfc_accuracy_with_wordnet_tebular_'+str(i)+'.html')\n",
    "\n",
    "    \n",
    "#     mlp_classifier_with_wordnet, m_accuracy_with_wordnet, classes, m_index_with_wordnet_cv1, mlp_with_wordnet_elapsed_time = getMLPClassifierAccuracy(X_matrix_train, \n",
    "#                                                                               updated_train_owner, \n",
    "#                                                                               X_matrix_test, \n",
    "#                                                                               updated_test_owner)\n",
    "    \n",
    "\n",
    "#     print('MLP Classifier Accuracy (with wordnet) : ', m_accuracy_with_wordnet)\n",
    "    \n",
    "    \n",
    "#     if i == 5:\n",
    "#         num_features = len(set(updated_test_data[m_index_with_wordnet_cv10]))\n",
    "#         print(m_index_with_wordnet_cv10)\n",
    "#         print(updated_test_owner[m_index_with_wordnet_cv10])\n",
    "#         print(updated_raw_test_data[m_index_with_wordnet_cv10])\n",
    "#         print(set(updated_test_data[m_index_with_wordnet_cv10]))\n",
    "\n",
    "#         explainWithLimeTebular(X_matrix_train, updated_train_owner, X_matrix_test, updated_test_owner, \n",
    "#                                mlp_classifier_with_wordnet, vocabulary, classes, m_index_with_wordnet_cv10, num_features, \n",
    "#                                'm_accuracy_with_wordnet_tebular_'+str(i)+'.html')\n",
    "\n",
    "    \n",
    "    X_matrix_train = getAvgFeatureVecs(updated_train_data, wordvec_model, embed_size_word2vec)\n",
    "    X_matrix_test = getAvgFeatureVecs(updated_test_data, wordvec_model, embed_size_word2vec)\n",
    "    \n",
    "    randomForestClassifier, rfc_accuracy, classes, rfc_index_cv10, rfc_elapsed_time = getRandomForestClassifierAccuracy(X_matrix_train, \n",
    "                                                                              updated_train_owner, \n",
    "                                                                              X_matrix_test, \n",
    "                                                                              updated_test_owner)\n",
    "    \n",
    "\n",
    "    print('Random Forest Classifier Accuracy : ', rfc_accuracy)\n",
    "    \n",
    "    \n",
    "#     if i == 6:\n",
    "#         num_features = len(set(updated_test_data[rfc_index_cv10]))\n",
    "#         print(rfc_index_cv10)\n",
    "#         print(updated_test_owner[rfc_index_cv10])\n",
    "#         print(updated_raw_test_data[rfc_index_cv10])\n",
    "#         print(set(updated_test_data[rfc_index_cv10]))\n",
    "\n",
    "#         explainWithLimeTebular(X_matrix_train, updated_train_owner, X_matrix_test, updated_test_owner, \n",
    "#                                randomForestClassifier, vocabulary, classes, rfc_index_cv10, num_features,\n",
    "#                                'rfc_accuracy_tebular_'+str(i)+'.html')\n",
    "\n",
    "    \n",
    "#     mlp_classifier, m_accuracy, classes, m_index_cv10, mlp_elapsed_time = getMLPClassifierAccuracy(X_matrix_train, \n",
    "#                                                                               updated_train_owner, \n",
    "#                                                                               X_matrix_test, \n",
    "#                                                                               updated_test_owner)\n",
    "    \n",
    "\n",
    "#     print('MLP Classifier Accuracy : ', m_accuracy)  \n",
    "    \n",
    "#     if i == 7:\n",
    "#         num_features = len(set(updated_test_data[m_index_cv10]))\n",
    "#         print(m_index_cv10)\n",
    "#         print(updated_test_owner[m_index_cv10])\n",
    "#         print(updated_raw_test_data[m_index_cv10])\n",
    "#         print(set(updated_test_data[m_index_cv10]))\n",
    "\n",
    "#         explainWithLimeTebular(X_matrix_train, updated_train_owner, X_matrix_test, updated_test_owner, \n",
    "#                                mlp_classifier, vocabulary, classes, m_index_cv10, num_features,\n",
    "#                                'm_accuracy_tebular_'+str(i)+'.html')\n",
    "    \n",
    "    \n",
    "#     X_train, y_train, X_test, y_test = preporcessedBidirectionalNNData(updated_train_data, updated_train_owner, \n",
    "#                                                                        updated_test_data, updated_test_owner, \n",
    "#                                                                        unique_train_label, vocabulary, wordvec_model)\n",
    "    \n",
    "#     model, nn_accuracy, classes, nn_index_cv10, nn_elapsed_time = getBiDirectionalNeuralNetworkAccuracy(\n",
    "#         X_train, y_train, X_test, y_test, unique_train_label)\n",
    "\n",
    "#     print('Neural Network Accuracy Score :', nn_accuracy)\n",
    "    \n",
    "    \n",
    "#     if i == 9:\n",
    "#         num_features = len(set(updated_test_data[nn_index_cv10]))\n",
    "#         print(nn_index_cv10)\n",
    "#         print(updated_test_owner[nn_index_cv10])\n",
    "#         print(updated_raw_test_data[nn_index_cv10])\n",
    "#         print(set(updated_test_data[nn_index_cv10]))\n",
    "\n",
    "#         explainWithLimeRecurrent(X_train, y_train, X_test, y_test, model, vocabulary, classes, nn_index_cv10, num_features,\n",
    "#                              'nn_accuracy_recurrent_tebular_'+str(i)+'.html')\n",
    "    \n",
    "    \n",
    "    rfc_accuracy_cv10.append(rfc_accuracy)\n",
    "#     m_accuracy_cv10.append(m_accuracy)\n",
    "#     nn_accuracy_cv10.append(nn_accuracy)\n",
    "    rfc_accuracy_with_wordnet_cv10.append(rfc_accuracy_with_wordnet)\n",
    "#     m_accuracy_with_wordnet_cv10.append(m_accuracy_with_wordnet)\n",
    "    \n",
    "    \n",
    "    rfc_with_wordnet_elapsed_time_cv10.append(rfc_with_wordnet_elapsed_time)\n",
    "#     mlp_with_wordnet_elapsed_time_cv10.append(mlp_with_wordnet_elapsed_time)\n",
    "    rfc_elapsed_time_cv10.append(rfc_elapsed_time)\n",
    "#     mlp_elapsed_time_cv10.append(mlp_elapsed_time)\n",
    "#     nn_elapsed_time_cv10.append(nn_elapsed_time)\n",
    "\n",
    "    \n",
    "#     del model\n",
    "#     del mlp_classifier_with_wordnet\n",
    "#     del mlp_classifier\n",
    "    del randomForestClassifier"
   ]
  },
  {
   "cell_type": "code",
   "execution_count": 232,
   "id": "d250872e",
   "metadata": {},
   "outputs": [
    {
     "name": "stdout",
     "output_type": "stream",
     "text": [
      "[[2.81, 6.27, 10.66, 16.35, 21.25, 25.79, 29.9, 33.86, 36.96, 39.27], [7.27, 11.29, 14.73, 17.73, 20.66, 23.09, 25.57, 27.49, 30.04, 32.21], [11.4, 19.5, 25.27, 30.09, 34.55, 37.4, 40.61, 42.95, 44.92, 46.6], [14.82, 20.28, 24.71, 27.73, 30.38, 32.23, 33.78, 35.4, 37.32, 38.05], [18.16, 23.16, 27.13, 29.85, 33.09, 35.29, 36.84, 38.82, 40.37, 41.47], [10.4, 16.13, 19.6, 22.53, 25.2, 27.93, 30.13, 32.0, 33.87, 35.93], [14.42, 22.13, 27.97, 32.93, 36.69, 39.84, 42.19, 44.27, 47.42, 49.5], [10.78, 17.18, 20.55, 24.26, 27.02, 29.45, 31.33, 33.96, 36.12, 38.75], [12.1, 20.21, 25.43, 29.48, 33.4, 36.84, 40.0, 43.23, 45.5, 47.56], [11.99, 19.01, 23.55, 28.01, 32.41, 35.18, 37.59, 40.35, 42.91, 45.25]]\n"
     ]
    }
   ],
   "source": [
    "print(rfc_accuracy_cv10)"
   ]
  },
  {
   "cell_type": "code",
   "execution_count": 233,
   "id": "c1e4a57d",
   "metadata": {},
   "outputs": [],
   "source": [
    "rfc_accuracy_cv10_with_avg = rfc_accuracy_cv10"
   ]
  },
  {
   "cell_type": "code",
   "execution_count": 234,
   "id": "17105b00",
   "metadata": {},
   "outputs": [
    {
     "name": "stdout",
     "output_type": "stream",
     "text": [
      "[[6.84, 10.81, 16.07, 19.81, 24.86, 28.75, 31.84, 34.58, 38.26, 40.56], [8.23, 14.03, 18.62, 22.32, 25.32, 28.76, 31.82, 34.82, 37.5, 40.31], [13.81, 20.6, 26.44, 31.19, 35.28, 38.93, 41.78, 44.34, 46.46, 48.43], [12.91, 20.5, 24.78, 29.35, 32.37, 34.59, 36.5, 38.42, 40.49, 42.48], [16.47, 24.34, 29.56, 32.65, 34.85, 37.65, 40.0, 41.76, 43.01, 44.63], [13.8, 20.6, 26.07, 29.53, 32.53, 35.0, 37.0, 39.0, 40.47, 42.27], [16.5, 24.28, 30.05, 34.94, 39.44, 42.45, 45.88, 48.16, 50.03, 52.52], [12.67, 20.62, 26.08, 30.26, 33.56, 36.19, 38.21, 40.84, 43.53, 45.82], [13.13, 21.03, 27.84, 32.85, 37.32, 41.1, 43.51, 45.84, 48.04, 50.1], [13.19, 20.43, 25.82, 30.5, 34.89, 38.87, 41.63, 44.47, 46.95, 48.72]]\n"
     ]
    }
   ],
   "source": [
    "print(m_accuracy_cv10)"
   ]
  },
  {
   "cell_type": "code",
   "execution_count": 235,
   "id": "7b7e4590",
   "metadata": {},
   "outputs": [],
   "source": [
    "m_accuracy_cv10_with_avg = m_accuracy_cv10"
   ]
  },
  {
   "cell_type": "code",
   "execution_count": 236,
   "id": "d556d944",
   "metadata": {},
   "outputs": [
    {
     "name": "stdout",
     "output_type": "stream",
     "text": [
      "[[5.84, 10.09, 14.12, 18.88, 22.84, 26.37, 30.12, 33.0, 35.95, 37.97], [7.72, 12.18, 16.84, 20.34, 24.11, 27.3, 29.72, 32.02, 34.57, 36.99], [11.54, 19.43, 24.91, 29.15, 32.51, 35.94, 37.98, 40.47, 43.02, 44.85], [14.38, 23.08, 28.17, 32.52, 35.47, 37.46, 39.09, 40.12, 41.3, 42.85], [19.78, 27.13, 31.62, 34.56, 36.69, 39.56, 40.81, 41.84, 43.09, 43.97], [14.0, 21.33, 25.47, 28.47, 31.0, 34.07, 36.07, 38.13, 39.87, 41.4], [20.66, 29.24, 36.62, 41.92, 45.27, 48.69, 51.58, 53.25, 54.86, 56.41], [15.9, 24.19, 30.12, 34.64, 38.14, 41.64, 45.55, 47.78, 49.87, 51.35], [16.29, 27.01, 31.89, 36.49, 40.14, 42.61, 44.54, 46.46, 48.11, 49.83], [15.32, 22.13, 28.3, 32.13, 35.04, 37.59, 40.71, 42.91, 44.33, 46.03]]\n"
     ]
    }
   ],
   "source": [
    "print(nn_accuracy_cv10)"
   ]
  },
  {
   "cell_type": "code",
   "execution_count": 237,
   "id": "229d3859",
   "metadata": {},
   "outputs": [],
   "source": [
    "nn_accuracy_cv10_with_avg = nn_accuracy_cv10"
   ]
  },
  {
   "cell_type": "code",
   "execution_count": 238,
   "id": "850c7a32",
   "metadata": {},
   "outputs": [
    {
     "name": "stdout",
     "output_type": "stream",
     "text": [
      "[[2.81, 6.27, 10.66, 16.35, 21.25, 25.79, 29.9, 33.86, 36.96, 39.27], [7.27, 11.29, 14.73, 17.73, 20.66, 23.09, 25.57, 27.49, 30.04, 32.21], [11.4, 19.5, 25.27, 30.09, 34.55, 37.4, 40.61, 42.95, 44.92, 46.6], [14.82, 20.28, 24.71, 27.73, 30.38, 32.23, 33.78, 35.4, 37.32, 38.05], [18.16, 23.16, 27.13, 29.85, 33.09, 35.29, 36.84, 38.82, 40.37, 41.47], [10.4, 16.13, 19.6, 22.53, 25.2, 27.93, 30.13, 32.0, 33.87, 35.93], [14.42, 22.13, 27.97, 32.93, 36.69, 39.84, 42.19, 44.27, 47.42, 49.5], [10.78, 17.18, 20.55, 24.26, 27.02, 29.45, 31.33, 33.96, 36.12, 38.75], [12.1, 20.21, 25.43, 29.48, 33.4, 36.84, 40.0, 43.23, 45.5, 47.56], [11.99, 19.01, 23.55, 28.01, 32.41, 35.18, 37.59, 40.35, 42.91, 45.25]]\n"
     ]
    }
   ],
   "source": [
    "print(rfc_accuracy_with_wordnet_cv10)"
   ]
  },
  {
   "cell_type": "code",
   "execution_count": 239,
   "id": "b0323993",
   "metadata": {},
   "outputs": [],
   "source": [
    "rfc_accuracy_with_wordnet_cv10_with_avg = rfc_accuracy_with_wordnet_cv10"
   ]
  },
  {
   "cell_type": "code",
   "execution_count": 240,
   "id": "062eda4c",
   "metadata": {},
   "outputs": [
    {
     "name": "stdout",
     "output_type": "stream",
     "text": [
      "[[6.84, 10.81, 16.07, 19.81, 24.86, 28.75, 31.84, 34.58, 38.26, 40.56], [8.23, 14.03, 18.62, 22.32, 25.32, 28.76, 31.82, 34.82, 37.5, 40.31], [13.81, 20.6, 26.44, 31.19, 35.28, 38.93, 41.78, 44.34, 46.46, 48.43], [12.91, 20.5, 24.78, 29.35, 32.37, 34.59, 36.5, 38.42, 40.49, 42.48], [16.47, 24.34, 29.56, 32.65, 34.85, 37.65, 40.0, 41.76, 43.01, 44.63], [13.8, 20.6, 26.07, 29.53, 32.53, 35.0, 37.0, 39.0, 40.47, 42.27], [16.5, 24.28, 30.05, 34.94, 39.44, 42.45, 45.88, 48.16, 50.03, 52.52], [12.67, 20.62, 26.08, 30.26, 33.56, 36.19, 38.21, 40.84, 43.53, 45.82], [13.13, 21.03, 27.84, 32.85, 37.32, 41.1, 43.51, 45.84, 48.04, 50.1], [13.19, 20.43, 25.82, 30.5, 34.89, 38.87, 41.63, 44.47, 46.95, 48.72]]\n"
     ]
    }
   ],
   "source": [
    "print(m_accuracy_with_wordnet_cv10)"
   ]
  },
  {
   "cell_type": "code",
   "execution_count": 241,
   "id": "4cdcb221",
   "metadata": {},
   "outputs": [],
   "source": [
    "m_accuracy_with_wordnet_cv10_with_avg = m_accuracy_with_wordnet_cv10"
   ]
  },
  {
   "cell_type": "code",
   "execution_count": 242,
   "id": "0cf8c64f",
   "metadata": {},
   "outputs": [],
   "source": [
    "rfc_accuracy_avg = [float('{0:.2f}'.format(float(sum(l))/len(l))) for l in zip(*rfc_accuracy_cv10)]\n",
    "m_accuracy_avg = [float('{0:.2f}'.format(float(sum(l))/len(l))) for l in zip(*m_accuracy_cv10)]\n",
    "nn_accuracy_avg = [float('{0:.2f}'.format(float(sum(l))/len(l))) for l in zip(*nn_accuracy_cv10)]\n",
    "\n",
    "rfc_accuracy_with_wordnet_avg = [float('{0:.2f}'.format(float(sum(l))/len(l))) for l in zip(*rfc_accuracy_with_wordnet_cv10)]\n",
    "m_accuracy_with_wordnet_avg = [float('{0:.2f}'.format(float(sum(l))/len(l))) for l in zip(*m_accuracy_with_wordnet_cv10)]"
   ]
  },
  {
   "cell_type": "code",
   "execution_count": 243,
   "id": "2d20678e",
   "metadata": {},
   "outputs": [
    {
     "name": "stdout",
     "output_type": "stream",
     "text": [
      "[11.41, 17.52, 21.96, 25.9, 29.46, 32.3, 34.79, 37.23, 39.54, 41.46]\n"
     ]
    }
   ],
   "source": [
    "print(rfc_accuracy_avg)"
   ]
  },
  {
   "cell_type": "code",
   "execution_count": 244,
   "id": "0c0dd29b",
   "metadata": {},
   "outputs": [
    {
     "name": "stdout",
     "output_type": "stream",
     "text": [
      "[12.75, 19.72, 25.13, 29.34, 33.04, 36.23, 38.82, 41.22, 43.47, 45.58]\n"
     ]
    }
   ],
   "source": [
    "print(m_accuracy_avg)"
   ]
  },
  {
   "cell_type": "code",
   "execution_count": 245,
   "id": "46520b76",
   "metadata": {},
   "outputs": [
    {
     "name": "stdout",
     "output_type": "stream",
     "text": [
      "[14.14, 21.58, 26.81, 30.91, 34.12, 37.12, 39.62, 41.6, 43.5, 45.16]\n"
     ]
    }
   ],
   "source": [
    "print(nn_accuracy_avg)"
   ]
  },
  {
   "cell_type": "code",
   "execution_count": 246,
   "id": "807f392d",
   "metadata": {},
   "outputs": [
    {
     "name": "stdout",
     "output_type": "stream",
     "text": [
      "[11.41, 17.52, 21.96, 25.9, 29.46, 32.3, 34.79, 37.23, 39.54, 41.46]\n"
     ]
    }
   ],
   "source": [
    "print(rfc_accuracy_with_wordnet_avg)"
   ]
  },
  {
   "cell_type": "code",
   "execution_count": 247,
   "id": "5a976995",
   "metadata": {},
   "outputs": [
    {
     "name": "stdout",
     "output_type": "stream",
     "text": [
      "[12.75, 19.72, 25.13, 29.34, 33.04, 36.23, 38.82, 41.22, 43.47, 45.58]\n"
     ]
    }
   ],
   "source": [
    "print(m_accuracy_with_wordnet_avg)"
   ]
  },
  {
   "cell_type": "code",
   "execution_count": 248,
   "id": "e0abc60f",
   "metadata": {},
   "outputs": [],
   "source": [
    "rfc_accuracy_cv10_with_avg.append(rfc_accuracy_avg)"
   ]
  },
  {
   "cell_type": "code",
   "execution_count": 249,
   "id": "4b22fb7a",
   "metadata": {},
   "outputs": [],
   "source": [
    "m_accuracy_cv10_with_avg.append(m_accuracy_avg)"
   ]
  },
  {
   "cell_type": "code",
   "execution_count": 250,
   "id": "e4463769",
   "metadata": {},
   "outputs": [],
   "source": [
    "nn_accuracy_cv10_with_avg.append(nn_accuracy_avg)"
   ]
  },
  {
   "cell_type": "code",
   "execution_count": 251,
   "id": "b97d8be0",
   "metadata": {},
   "outputs": [],
   "source": [
    "rfc_accuracy_with_wordnet_cv10_with_avg.append(rfc_accuracy_with_wordnet_avg)"
   ]
  },
  {
   "cell_type": "code",
   "execution_count": 252,
   "id": "9b3fcc54",
   "metadata": {},
   "outputs": [],
   "source": [
    "m_accuracy_with_wordnet_cv10_with_avg.append(m_accuracy_with_wordnet_avg)"
   ]
  },
  {
   "cell_type": "code",
   "execution_count": 253,
   "id": "23c24880",
   "metadata": {},
   "outputs": [
    {
     "name": "stdout",
     "output_type": "stream",
     "text": [
      "2.81  7.27  11.4  14.82  18.16  10.4  14.42  10.78  12.1  11.99  11.41\n",
      "21.25  20.66  34.55  30.38  33.09  25.2  36.69  27.02  33.4  32.41  29.46\n",
      "39.27  32.21  46.6  38.05  41.47  35.93  49.5  38.75  47.56  45.25  41.46\n"
     ]
    }
   ],
   "source": [
    "rfc_accuracy_cv10_with_avg_rank1, rfc_accuracy_cv10_with_avg_rank5, rfc_accuracy_cv10_with_avg_rank10 = getRank1_5_10_data(rfc_accuracy_cv10_with_avg)         \n",
    "    \n",
    "print(rfc_accuracy_cv10_with_avg_rank1)\n",
    "print(rfc_accuracy_cv10_with_avg_rank5)\n",
    "print(rfc_accuracy_cv10_with_avg_rank10)"
   ]
  },
  {
   "cell_type": "code",
   "execution_count": 254,
   "id": "129fbec5",
   "metadata": {},
   "outputs": [
    {
     "name": "stdout",
     "output_type": "stream",
     "text": [
      "6.84  8.23  13.81  12.91  16.47  13.8  16.5  12.67  13.13  13.19  12.75\n",
      "24.86  25.32  35.28  32.37  34.85  32.53  39.44  33.56  37.32  34.89  33.04\n",
      "40.56  40.31  48.43  42.48  44.63  42.27  52.52  45.82  50.1  48.72  45.58\n"
     ]
    }
   ],
   "source": [
    "m_accuracy_cv10_with_avg_rank1, m_accuracy_cv10_with_avg_rank5, m_accuracy_cv10_with_avg_rank10 = getRank1_5_10_data(m_accuracy_cv10_with_avg)         \n",
    "    \n",
    "print(m_accuracy_cv10_with_avg_rank1)\n",
    "print(m_accuracy_cv10_with_avg_rank5)\n",
    "print(m_accuracy_cv10_with_avg_rank10)"
   ]
  },
  {
   "cell_type": "code",
   "execution_count": 255,
   "id": "31fc347e",
   "metadata": {},
   "outputs": [
    {
     "name": "stdout",
     "output_type": "stream",
     "text": [
      "5.84  7.72  11.54  14.38  19.78  14.0  20.66  15.9  16.29  15.32  14.14\n",
      "22.84  24.11  32.51  35.47  36.69  31.0  45.27  38.14  40.14  35.04  34.12\n",
      "37.97  36.99  44.85  42.85  43.97  41.4  56.41  51.35  49.83  46.03  45.16\n"
     ]
    }
   ],
   "source": [
    "nn_accuracy_cv10_with_avg_rank1, nn_accuracy_cv10_with_avg_rank5, nn_accuracy_cv10_with_avg_rank10 = getRank1_5_10_data(nn_accuracy_cv10_with_avg)         \n",
    "    \n",
    "print(nn_accuracy_cv10_with_avg_rank1)\n",
    "print(nn_accuracy_cv10_with_avg_rank5)\n",
    "print(nn_accuracy_cv10_with_avg_rank10)"
   ]
  },
  {
   "cell_type": "code",
   "execution_count": 256,
   "id": "43201462",
   "metadata": {},
   "outputs": [
    {
     "name": "stdout",
     "output_type": "stream",
     "text": [
      "2.81  7.27  11.4  14.82  18.16  10.4  14.42  10.78  12.1  11.99  11.41\n",
      "21.25  20.66  34.55  30.38  33.09  25.2  36.69  27.02  33.4  32.41  29.46\n",
      "39.27  32.21  46.6  38.05  41.47  35.93  49.5  38.75  47.56  45.25  41.46\n",
      "6.84  8.23  13.81  12.91  16.47  13.8  16.5  12.67  13.13  13.19  12.75\n",
      "24.86  25.32  35.28  32.37  34.85  32.53  39.44  33.56  37.32  34.89  33.04\n",
      "40.56  40.31  48.43  42.48  44.63  42.27  52.52  45.82  50.1  48.72  45.58\n",
      "5.84  7.72  11.54  14.38  19.78  14.0  20.66  15.9  16.29  15.32  14.14\n",
      "22.84  24.11  32.51  35.47  36.69  31.0  45.27  38.14  40.14  35.04  34.12\n",
      "37.97  36.99  44.85  42.85  43.97  41.4  56.41  51.35  49.83  46.03  45.16\n"
     ]
    }
   ],
   "source": [
    "print(rfc_accuracy_cv10_with_avg_rank1)\n",
    "print(rfc_accuracy_cv10_with_avg_rank5)\n",
    "print(rfc_accuracy_cv10_with_avg_rank10)\n",
    "\n",
    "print(m_accuracy_cv10_with_avg_rank1)\n",
    "print(m_accuracy_cv10_with_avg_rank5)\n",
    "print(m_accuracy_cv10_with_avg_rank10)\n",
    "\n",
    "print(nn_accuracy_cv10_with_avg_rank1)\n",
    "print(nn_accuracy_cv10_with_avg_rank5)\n",
    "print(nn_accuracy_cv10_with_avg_rank10)"
   ]
  },
  {
   "cell_type": "code",
   "execution_count": 257,
   "id": "3063643c",
   "metadata": {},
   "outputs": [
    {
     "name": "stdout",
     "output_type": "stream",
     "text": [
      "2.81  7.27  11.4  14.82  18.16  10.4  14.42  10.78  12.1  11.99  11.41\n",
      "21.25  20.66  34.55  30.38  33.09  25.2  36.69  27.02  33.4  32.41  29.46\n",
      "39.27  32.21  46.6  38.05  41.47  35.93  49.5  38.75  47.56  45.25  41.46\n"
     ]
    }
   ],
   "source": [
    "rfc_accuracy_with_wordnet_cv10_with_avg_rank1, rfc_accuracy_with_wordnet_cv10_with_avg_rank5, rfc_accuracy_with_wordnet_cv10_with_avg_rank10 = getRank1_5_10_data(rfc_accuracy_with_wordnet_cv10_with_avg)         \n",
    "    \n",
    "print(rfc_accuracy_with_wordnet_cv10_with_avg_rank1)\n",
    "print(rfc_accuracy_with_wordnet_cv10_with_avg_rank5)\n",
    "print(rfc_accuracy_with_wordnet_cv10_with_avg_rank10)"
   ]
  },
  {
   "cell_type": "code",
   "execution_count": 258,
   "id": "e51df065",
   "metadata": {},
   "outputs": [
    {
     "name": "stdout",
     "output_type": "stream",
     "text": [
      "6.84  8.23  13.81  12.91  16.47  13.8  16.5  12.67  13.13  13.19  12.75\n",
      "24.86  25.32  35.28  32.37  34.85  32.53  39.44  33.56  37.32  34.89  33.04\n",
      "40.56  40.31  48.43  42.48  44.63  42.27  52.52  45.82  50.1  48.72  45.58\n"
     ]
    }
   ],
   "source": [
    "m_accuracy_with_wordnet_cv10_with_avg_rank1, m_accuracy_with_wordnet_cv10_with_avg_rank5, m_accuracy_with_wordnet_cv10_with_avg_rank10 = getRank1_5_10_data(m_accuracy_with_wordnet_cv10_with_avg)         \n",
    "    \n",
    "print(m_accuracy_with_wordnet_cv10_with_avg_rank1)\n",
    "print(m_accuracy_with_wordnet_cv10_with_avg_rank5)\n",
    "print(m_accuracy_with_wordnet_cv10_with_avg_rank10)"
   ]
  },
  {
   "cell_type": "code",
   "execution_count": 259,
   "id": "21f69cb7",
   "metadata": {},
   "outputs": [
    {
     "name": "stdout",
     "output_type": "stream",
     "text": [
      "2.81  7.27  11.4  14.82  18.16  10.4  14.42  10.78  12.1  11.99  11.41\n",
      "21.25  20.66  34.55  30.38  33.09  25.2  36.69  27.02  33.4  32.41  29.46\n",
      "39.27  32.21  46.6  38.05  41.47  35.93  49.5  38.75  47.56  45.25  41.46\n",
      "6.84  8.23  13.81  12.91  16.47  13.8  16.5  12.67  13.13  13.19  12.75\n",
      "24.86  25.32  35.28  32.37  34.85  32.53  39.44  33.56  37.32  34.89  33.04\n",
      "40.56  40.31  48.43  42.48  44.63  42.27  52.52  45.82  50.1  48.72  45.58\n"
     ]
    }
   ],
   "source": [
    "print(rfc_accuracy_with_wordnet_cv10_with_avg_rank1)\n",
    "print(rfc_accuracy_with_wordnet_cv10_with_avg_rank5)\n",
    "print(rfc_accuracy_with_wordnet_cv10_with_avg_rank10)\n",
    "\n",
    "print(m_accuracy_with_wordnet_cv10_with_avg_rank1)\n",
    "print(m_accuracy_with_wordnet_cv10_with_avg_rank5)\n",
    "print(m_accuracy_with_wordnet_cv10_with_avg_rank10)"
   ]
  },
  {
   "cell_type": "code",
   "execution_count": 260,
   "id": "b9763f3c",
   "metadata": {},
   "outputs": [
    {
     "data": {
      "text/plain": [
       "[4.75555682182312,\n",
       " 11.123945951461792,\n",
       " 21.033111810684204,\n",
       " 31.359596967697144,\n",
       " 48.91248178482056,\n",
       " 63.175179958343506,\n",
       " 114.96408486366272,\n",
       " 99.36950397491455,\n",
       " 115.79929399490356,\n",
       " 128.7590470314026]"
      ]
     },
     "execution_count": 260,
     "metadata": {},
     "output_type": "execute_result"
    }
   ],
   "source": [
    "rfc_with_wordnet_elapsed_time_cv10"
   ]
  },
  {
   "cell_type": "code",
   "execution_count": 261,
   "id": "b1672837",
   "metadata": {},
   "outputs": [
    {
     "name": "stdout",
     "output_type": "stream",
     "text": [
      "63.925180315971375\n"
     ]
    }
   ],
   "source": [
    "print(np.mean(rfc_with_wordnet_elapsed_time_cv10))"
   ]
  },
  {
   "cell_type": "code",
   "execution_count": 262,
   "id": "e81ad601",
   "metadata": {},
   "outputs": [
    {
     "data": {
      "text/plain": [
       "[2.130218982696533,\n",
       " 4.7998857498168945,\n",
       " 6.710269212722778,\n",
       " 9.223091840744019,\n",
       " 12.747962951660156,\n",
       " 15.077182054519653,\n",
       " 20.808890104293823,\n",
       " 20.832914113998413,\n",
       " 22.92698907852173,\n",
       " 25.63930892944336]"
      ]
     },
     "execution_count": 262,
     "metadata": {},
     "output_type": "execute_result"
    }
   ],
   "source": [
    "mlp_with_wordnet_elapsed_time_cv10"
   ]
  },
  {
   "cell_type": "code",
   "execution_count": 263,
   "id": "42fdb950",
   "metadata": {},
   "outputs": [
    {
     "name": "stdout",
     "output_type": "stream",
     "text": [
      "14.089671301841737\n"
     ]
    }
   ],
   "source": [
    "print(np.mean(mlp_with_wordnet_elapsed_time_cv10))"
   ]
  },
  {
   "cell_type": "code",
   "execution_count": 264,
   "id": "9511548e",
   "metadata": {},
   "outputs": [
    {
     "data": {
      "text/plain": [
       "[5.093366861343384,\n",
       " 12.388759136199951,\n",
       " 23.3284170627594,\n",
       " 32.02983093261719,\n",
       " 48.150177001953125,\n",
       " 61.89612698554993,\n",
       " 97.7251513004303,\n",
       " 97.70576810836792,\n",
       " 112.29780197143555,\n",
       " 126.16736388206482]"
      ]
     },
     "execution_count": 264,
     "metadata": {},
     "output_type": "execute_result"
    }
   ],
   "source": [
    "rfc_elapsed_time_cv10"
   ]
  },
  {
   "cell_type": "code",
   "execution_count": 265,
   "id": "d69ab58d",
   "metadata": {},
   "outputs": [
    {
     "name": "stdout",
     "output_type": "stream",
     "text": [
      "61.678276324272154\n"
     ]
    }
   ],
   "source": [
    "print(np.mean(rfc_elapsed_time_cv10))"
   ]
  },
  {
   "cell_type": "code",
   "execution_count": 266,
   "id": "c2ec9654",
   "metadata": {},
   "outputs": [
    {
     "data": {
      "text/plain": [
       "[2.3499221801757812,\n",
       " 4.322695970535278,\n",
       " 6.679417848587036,\n",
       " 9.07250189781189,\n",
       " 21.809163093566895,\n",
       " 17.188920259475708,\n",
       " 30.490495920181274,\n",
       " 20.70636010169983,\n",
       " 22.31266975402832,\n",
       " 25.183241844177246]"
      ]
     },
     "execution_count": 266,
     "metadata": {},
     "output_type": "execute_result"
    }
   ],
   "source": [
    "mlp_elapsed_time_cv10"
   ]
  },
  {
   "cell_type": "code",
   "execution_count": 267,
   "id": "44d4be49",
   "metadata": {},
   "outputs": [
    {
     "name": "stdout",
     "output_type": "stream",
     "text": [
      "16.011538887023924\n"
     ]
    }
   ],
   "source": [
    "print(np.mean(mlp_elapsed_time_cv10))"
   ]
  },
  {
   "cell_type": "code",
   "execution_count": 268,
   "id": "0fecbffe",
   "metadata": {},
   "outputs": [
    {
     "data": {
      "text/plain": [
       "[528.1211650371552,\n",
       " 863.4960150718689,\n",
       " 1225.4517447948456,\n",
       " 1755.3294179439545,\n",
       " 2128.708724975586,\n",
       " 2581.952157974243,\n",
       " 2495.6599571704865,\n",
       " 2845.879124879837,\n",
       " 3002.3900141716003,\n",
       " 3285.0704910755157]"
      ]
     },
     "execution_count": 268,
     "metadata": {},
     "output_type": "execute_result"
    }
   ],
   "source": [
    "nn_elapsed_time_cv10"
   ]
  },
  {
   "cell_type": "code",
   "execution_count": 269,
   "id": "0575b591",
   "metadata": {},
   "outputs": [
    {
     "name": "stdout",
     "output_type": "stream",
     "text": [
      "2071.205881309509\n"
     ]
    }
   ],
   "source": [
    "print(np.mean(nn_elapsed_time_cv10))"
   ]
  },
  {
   "cell_type": "code",
   "execution_count": 69,
   "id": "5e306dbf",
   "metadata": {},
   "outputs": [
    {
     "data": {
      "image/png": "[encoded data removed]",
      "text/plain": [
       "<Figure size 864x576 with 1 Axes>"
      ]
     },
     "metadata": {
      "needs_background": "light"
     },
     "output_type": "display_data"
    }
   ],
   "source": [
    "# set width of bar\n",
    "barWidth = 0.25\n",
    "fig = plt.subplots(figsize =(12, 8))\n",
    "\n",
    "# Set position of bar on X axis\n",
    "br1 = np.arange(10)\n",
    "br2 = [x + barWidth for x in br1]\n",
    "br3 = [x + barWidth for x in br2]\n",
    "\n",
    "\n",
    "# Make the plot\n",
    "plt.bar(br1, rfc_accuracy_tf_idf_avg, color ='r', width = barWidth,\n",
    "        edgecolor ='grey', label ='rfc_accuracy_tf_idf')\n",
    "plt.bar(br2, rfc_accuracy_avg, color ='pink', width = barWidth,\n",
    "        edgecolor ='grey', label ='rfc_accuracy')\n",
    "plt.bar(br3, rfc_accuracy_with_wordnet_avg, color ='olive', width = barWidth,\n",
    "        edgecolor ='grey', label ='rfc_accuracy_with_wordnet')\n",
    "\n",
    "# Adding Xticks\n",
    "plt.xlabel('X-axis', fontweight ='bold', fontsize = 15)\n",
    "plt.ylabel('Y-axis', fontweight ='bold', fontsize = 15)\n",
    "plt.xticks([r + barWidth for r in range(10)],\n",
    "        ['K=1', 'K=2', 'K=3', 'K=4', 'K=5','K=6', 'K=7', 'K=8', 'K=9', 'K=10'])\n",
    "\n",
    "# plt.title('Accuracy : Random Forest - TF-IDF Vs Word2Vec with WordNet Vs Word2Vec without WordNet')\n",
    "\n",
    "plt.legend()\n",
    "\n",
    "# plt.show()\n",
    "\n",
    "plt.savefig('Accuracy_Random_Forest_TF-IDF_Vs_Word2Vec_with_or_without_WordNet_bar.png')"
   ]
  },
  {
   "cell_type": "code",
   "execution_count": 70,
   "id": "d6bf1ffc",
   "metadata": {},
   "outputs": [],
   "source": [
    "rfc_accuracy_tf_idf_avg_rank = []\n",
    "rfc_accuracy_avg_rank = []\n",
    "rfc_accuracy_with_wordnet_avg_rank = []\n",
    "\n",
    "rfc_accuracy_tf_idf_avg_rank.append(rfc_accuracy_tf_idf_avg[0])\n",
    "rfc_accuracy_tf_idf_avg_rank.append(rfc_accuracy_tf_idf_avg[4])\n",
    "rfc_accuracy_tf_idf_avg_rank.append(rfc_accuracy_tf_idf_avg[9])\n",
    "\n",
    "rfc_accuracy_avg_rank.append(rfc_accuracy_avg[0])\n",
    "rfc_accuracy_avg_rank.append(rfc_accuracy_avg[4])\n",
    "rfc_accuracy_avg_rank.append(rfc_accuracy_avg[9])\n",
    "\n",
    "rfc_accuracy_with_wordnet_avg_rank.append(rfc_accuracy_with_wordnet_avg[0])\n",
    "rfc_accuracy_with_wordnet_avg_rank.append(rfc_accuracy_with_wordnet_avg[4])\n",
    "rfc_accuracy_with_wordnet_avg_rank.append(rfc_accuracy_with_wordnet_avg[9])"
   ]
  },
  {
   "cell_type": "code",
   "execution_count": 71,
   "id": "9104ce9b",
   "metadata": {},
   "outputs": [
    {
     "data": {
      "image/png": "[encoded data removed]",
      "text/plain": [
       "<Figure size 432x576 with 1 Axes>"
      ]
     },
     "metadata": {
      "needs_background": "light"
     },
     "output_type": "display_data"
    }
   ],
   "source": [
    "# set width of bar\n",
    "barWidth = 0.25\n",
    "fig = plt.subplots(figsize =(6, 8))\n",
    "\n",
    "# Set position of bar on X axis\n",
    "br1 = np.arange(3)\n",
    "br2 = [x + barWidth for x in br1]\n",
    "br3 = [x + barWidth for x in br2]\n",
    "\n",
    "\n",
    "# Make the plot\n",
    "plt.bar(br1, rfc_accuracy_tf_idf_avg_rank, color ='r', width = barWidth,\n",
    "        edgecolor ='grey', label ='rfc_accuracy_tf_idf')\n",
    "plt.bar(br2, rfc_accuracy_avg_rank, color ='g', width = barWidth,\n",
    "        edgecolor ='grey', label ='rfc_accuracy')\n",
    "plt.bar(br3, rfc_accuracy_with_wordnet_avg_rank, color ='b', width = barWidth,\n",
    "        edgecolor ='grey', label ='rfc_accuracy_with_wordnet')\n",
    "\n",
    "# Adding Xticks\n",
    "plt.xlabel('X-axis', fontweight ='bold', fontsize = 15)\n",
    "plt.ylabel('Y-axis', fontweight ='bold', fontsize = 15)\n",
    "plt.xticks([r + barWidth for r in range(3)],\n",
    "        ['K=1','K=5', 'K=10'])\n",
    "\n",
    "# plt.title('Accuracy (Rank 1, 5 and 10): Random Forest - TF-IDF Vs Word2Vec with WordNet Vs Word2Vec without WordNet')\n",
    "\n",
    "plt.legend()\n",
    "\n",
    "# plt.show()\n",
    "\n",
    "plt.savefig('Accuracy_Random_Forest_TF-IDF_Vs_Word2Vec_with_or_without_WordNet_bar_rank.png')"
   ]
  },
  {
   "cell_type": "code",
   "execution_count": 72,
   "id": "92b9c934",
   "metadata": {},
   "outputs": [
    {
     "data": {
      "image/png": "[encoded data removed]",
      "text/plain": [
       "<Figure size 864x576 with 1 Axes>"
      ]
     },
     "metadata": {
      "needs_background": "light"
     },
     "output_type": "display_data"
    }
   ],
   "source": [
    "# set width of bar\n",
    "barWidth = 0.25\n",
    "fig = plt.subplots(figsize =(12, 8))\n",
    "\n",
    "# Set position of bar on X axis\n",
    "br1 = np.arange(10)\n",
    "br2 = [x + barWidth for x in br1]\n",
    "\n",
    "\n",
    "# Make the plot\n",
    "plt.bar(br1, nn_accuracy_tf_idf_avg, color ='r', width = barWidth,\n",
    "        edgecolor ='grey', label ='nn_accuracy_tf_idf')\n",
    "plt.bar(br2, nn_accuracy_avg, color ='g', width = barWidth,\n",
    "        edgecolor ='grey', label ='nn_accuracy')\n",
    "\n",
    "# Adding Xticks\n",
    "plt.xlabel('X-axis', fontweight ='bold', fontsize = 15)\n",
    "plt.ylabel('Y-axis', fontweight ='bold', fontsize = 15)\n",
    "plt.xticks([r + barWidth for r in range(10)],\n",
    "        ['K=1', 'K=2', 'K=3', 'K=4', 'K=5','K=6', 'K=7', 'K=8', 'K=9', 'K=10'])\n",
    "\n",
    "# plt.title('Accuracy : Bidirectional Neural Network - TF-IDF Vs Word2Vec with WordNet Vs Word2Vec without WordNet')\n",
    "\n",
    "plt.legend()\n",
    "\n",
    "# plt.show()\n",
    "\n",
    "plt.savefig('Accuracy_Bidirectional_Neural_Network_TF-IDF_Vs_Word2Vec_bar.png')"
   ]
  },
  {
   "cell_type": "code",
   "execution_count": 73,
   "id": "a881dbde",
   "metadata": {},
   "outputs": [],
   "source": [
    "nn_accuracy_tf_idf_avg_rank = []\n",
    "nn_accuracy_avg_rank = []\n",
    "\n",
    "nn_accuracy_tf_idf_avg_rank.append(nn_accuracy_tf_idf_avg[0])\n",
    "nn_accuracy_tf_idf_avg_rank.append(nn_accuracy_tf_idf_avg[4])\n",
    "nn_accuracy_tf_idf_avg_rank.append(nn_accuracy_tf_idf_avg[9])\n",
    "\n",
    "nn_accuracy_avg_rank.append(nn_accuracy_avg[0])\n",
    "nn_accuracy_avg_rank.append(nn_accuracy_avg[4])\n",
    "nn_accuracy_avg_rank.append(nn_accuracy_avg[9])"
   ]
  },
  {
   "cell_type": "code",
   "execution_count": 74,
   "id": "13461c9b",
   "metadata": {},
   "outputs": [
    {
     "data": {
      "image/png": "[encoded data removed]",
      "text/plain": [
       "<Figure size 432x576 with 1 Axes>"
      ]
     },
     "metadata": {
      "needs_background": "light"
     },
     "output_type": "display_data"
    }
   ],
   "source": [
    "# set width of bar\n",
    "barWidth = 0.25\n",
    "fig = plt.subplots(figsize =(6, 8))\n",
    "\n",
    "# Set position of bar on X axis\n",
    "br1 = np.arange(3)\n",
    "br2 = [x + barWidth for x in br1]\n",
    "\n",
    "\n",
    "# Make the plot\n",
    "plt.bar(br1, nn_accuracy_tf_idf_avg_rank, color ='r', width = barWidth,\n",
    "        edgecolor ='grey', label ='nn_accuracy_tf_idf')\n",
    "plt.bar(br2, nn_accuracy_avg_rank, color ='g', width = barWidth,\n",
    "        edgecolor ='grey', label ='nn_accuracy')\n",
    "\n",
    "# Adding Xticks\n",
    "plt.xlabel('X-axis', fontweight ='bold', fontsize = 15)\n",
    "plt.ylabel('Y-axis', fontweight ='bold', fontsize = 15)\n",
    "plt.xticks([r + barWidth for r in range(3)],\n",
    "        ['K=1', 'K=5', 'K=10'])\n",
    "\n",
    "# plt.title('Accuracy (Rank 1, 5 and 10 ) : Bidirectional Neural Network - TF-IDF Vs Word2Vec')\n",
    "\n",
    "plt.legend()\n",
    "\n",
    "# plt.show()\n",
    "\n",
    "plt.savefig('Accuracy_Bidirectional_Neural_Network_TF-IDF_Vs_Word2Vec_bar_rank.png')"
   ]
  },
  {
   "cell_type": "code",
   "execution_count": 75,
   "id": "98da878f",
   "metadata": {},
   "outputs": [
    {
     "data": {
      "image/png": "[encoded data removed]",
      "text/plain": [
       "<Figure size 864x576 with 1 Axes>"
      ]
     },
     "metadata": {
      "needs_background": "light"
     },
     "output_type": "display_data"
    }
   ],
   "source": [
    "# set width of bar\n",
    "barWidth = 0.25\n",
    "fig = plt.subplots(figsize =(12, 8))\n",
    "\n",
    "# Set position of bar on X axis\n",
    "br1 = np.arange(10)\n",
    "br2 = [x + barWidth for x in br1]\n",
    "br3 = [x + barWidth for x in br2]\n",
    "\n",
    "\n",
    "# Make the plot\n",
    "plt.bar(br1, m_accuracy_tf_idf_avg, color ='r', width = barWidth,\n",
    "        edgecolor ='grey', label ='m_accuracy_tf_idf')\n",
    "plt.bar(br2, m_accuracy_avg, color ='g', width = barWidth,\n",
    "        edgecolor ='grey', label ='m_accuracy')\n",
    "plt.bar(br3, m_accuracy_with_wordnet_avg, color ='b', width = barWidth,\n",
    "        edgecolor ='grey', label ='m_accuracy_with_wordnet')\n",
    "\n",
    "# Adding Xticks\n",
    "plt.xlabel('X-axis', fontweight ='bold', fontsize = 15)\n",
    "plt.ylabel('Y-axis', fontweight ='bold', fontsize = 15)\n",
    "plt.xticks([r + barWidth for r in range(10)],\n",
    "        ['K=1', 'K=2', 'K=3', 'K=4', 'K=5','K=6', 'K=7', 'K=8', 'K=9', 'K=10'])\n",
    "\n",
    "# plt.title('Accuracy : MLP Classifier - TF-IDF Vs Word2Vec with WordNet Vs Word2Vec without WordNet')\n",
    "\n",
    "plt.legend()\n",
    "\n",
    "# plt.show()\n",
    "\n",
    "plt.savefig('Accuracy_MLP_Classifier_TF-IDF_Vs_Word2Vec_with_or_without_WordNet_bar.png')"
   ]
  },
  {
   "cell_type": "code",
   "execution_count": 76,
   "id": "64ceab54",
   "metadata": {},
   "outputs": [],
   "source": [
    "m_accuracy_tf_idf_avg_rank = []\n",
    "m_accuracy_avg_rank = []\n",
    "m_accuracy_with_wordnet_avg_rank = []\n",
    "\n",
    "m_accuracy_tf_idf_avg_rank.append(m_accuracy_tf_idf_avg[0])\n",
    "m_accuracy_tf_idf_avg_rank.append(m_accuracy_tf_idf_avg[4])\n",
    "m_accuracy_tf_idf_avg_rank.append(m_accuracy_tf_idf_avg[9])\n",
    "\n",
    "m_accuracy_avg_rank.append(m_accuracy_avg[0])\n",
    "m_accuracy_avg_rank.append(m_accuracy_avg[4])\n",
    "m_accuracy_avg_rank.append(m_accuracy_avg[9])\n",
    "\n",
    "m_accuracy_with_wordnet_avg_rank.append(m_accuracy_with_wordnet_avg[0])\n",
    "m_accuracy_with_wordnet_avg_rank.append(m_accuracy_with_wordnet_avg[4])\n",
    "m_accuracy_with_wordnet_avg_rank.append(m_accuracy_with_wordnet_avg[9])"
   ]
  },
  {
   "cell_type": "code",
   "execution_count": 77,
   "id": "7ab20059",
   "metadata": {},
   "outputs": [
    {
     "data": {
      "image/png": "[encoded data removed]",
      "text/plain": [
       "<Figure size 432x576 with 1 Axes>"
      ]
     },
     "metadata": {
      "needs_background": "light"
     },
     "output_type": "display_data"
    }
   ],
   "source": [
    "# set width of bar\n",
    "barWidth = 0.25\n",
    "fig = plt.subplots(figsize =(6, 8))\n",
    "\n",
    "# Set position of bar on X axis\n",
    "br1 = np.arange(3)\n",
    "br2 = [x + barWidth for x in br1]\n",
    "br3 = [x + barWidth for x in br2]\n",
    "\n",
    "\n",
    "# Make the plot\n",
    "plt.bar(br1, m_accuracy_tf_idf_avg_rank, color ='r', width = barWidth,\n",
    "        edgecolor ='grey', label ='m_accuracy_tf_idf')\n",
    "plt.bar(br2, m_accuracy_avg_rank, color ='g', width = barWidth,\n",
    "        edgecolor ='grey', label ='m_accuracy')\n",
    "plt.bar(br3, m_accuracy_with_wordnet_avg_rank, color ='b', width = barWidth,\n",
    "        edgecolor ='grey', label ='m_accuracy_with_wordnet')\n",
    "\n",
    "# Adding Xticks\n",
    "plt.xlabel('X-axis', fontweight ='bold', fontsize = 15)\n",
    "plt.ylabel('Y-axis', fontweight ='bold', fontsize = 15)\n",
    "plt.xticks([r + barWidth for r in range(3)],\n",
    "        ['K=1', 'K=5', 'K=10'])\n",
    "\n",
    "# plt.title('Accuracy (Rank 1, 5 and 10): MLP Classifier - TF-IDF Vs Word2Vec with WordNet Vs Word2Vec without WordNet')\n",
    "\n",
    "plt.legend()\n",
    "\n",
    "# plt.show()\n",
    "\n",
    "plt.savefig('Accuracy_MLP_Classifier_TF-IDF_Vs_Word2Vec_with_or_without_WordNet_bar_rank.png')"
   ]
  },
  {
   "cell_type": "code",
   "execution_count": 78,
   "id": "6c7c850b",
   "metadata": {},
   "outputs": [
    {
     "data": {
      "image/png": "[encoded data removed]",
      "text/plain": [
       "<Figure size 864x576 with 1 Axes>"
      ]
     },
     "metadata": {
      "needs_background": "light"
     },
     "output_type": "display_data"
    }
   ],
   "source": [
    "# set width of bar\n",
    "barWidth = 0.25\n",
    "fig = plt.subplots(figsize =(12, 8))\n",
    "\n",
    "# Set position of bar on X axis\n",
    "br1 = np.arange(10)\n",
    "br2 = [x + barWidth for x in br1]\n",
    "br3 = [x + barWidth for x in br2]\n",
    "\n",
    "# Make the plot\n",
    "plt.bar(br1, rfc_accuracy_tf_idf_avg, color ='r', width = barWidth,\n",
    "        edgecolor ='grey', label ='rfc_accuracy_tf_idf')\n",
    "plt.bar(br2, m_accuracy_tf_idf_avg, color ='b', width = barWidth,\n",
    "        edgecolor ='grey', label ='m_accuracy_tf_idf')\n",
    "plt.bar(br3, nn_accuracy_tf_idf_avg, color ='g', width = barWidth,\n",
    "        edgecolor ='grey', label ='nn_accuracy_tf_idf')\n",
    "\n",
    "# Adding Xticks\n",
    "plt.xlabel('X-axis', fontweight ='bold', fontsize = 15)\n",
    "plt.ylabel('Y-axis', fontweight ='bold', fontsize = 15)\n",
    "plt.xticks([r + barWidth for r in range(10)],\n",
    "        ['K=1', 'K=2', 'K=3', 'K=4', 'K=5','K=6', 'K=7', 'K=8', 'K=9', 'K=10'])\n",
    "\n",
    "# plt.title('Accuracy: BiDirectional Neural Network Vs MLP Classifier Vs Random Forest')\n",
    "\n",
    "plt.legend()\n",
    "\n",
    "# plt.show()\n",
    "\n",
    "plt.savefig('Accuracy_BiDirectional_Neural_Network_Vs_MLP_Classifier_Vs_Random_Forest_tf_idf_bar.png')"
   ]
  },
  {
   "cell_type": "code",
   "execution_count": 79,
   "id": "8af82378",
   "metadata": {},
   "outputs": [
    {
     "data": {
      "image/png": "[encoded data removed]",
      "text/plain": [
       "<Figure size 432x576 with 1 Axes>"
      ]
     },
     "metadata": {
      "needs_background": "light"
     },
     "output_type": "display_data"
    }
   ],
   "source": [
    "# set width of bar\n",
    "barWidth = 0.25\n",
    "fig = plt.subplots(figsize =(6, 8))\n",
    "\n",
    "# Set position of bar on X axis\n",
    "br1 = np.arange(3)\n",
    "br2 = [x + barWidth for x in br1]\n",
    "br3 = [x + barWidth for x in br2]\n",
    "\n",
    "# Make the plot\n",
    "plt.bar(br1, rfc_accuracy_tf_idf_avg_rank, color ='r', width = barWidth,\n",
    "        edgecolor ='grey', label ='rfc_accuracy_tf_idf')\n",
    "plt.bar(br2, m_accuracy_tf_idf_avg_rank, color ='b', width = barWidth,\n",
    "        edgecolor ='grey', label ='m_accuracy_tf_idf')\n",
    "plt.bar(br3, nn_accuracy_tf_idf_avg_rank, color ='g', width = barWidth,\n",
    "        edgecolor ='grey', label ='nn_accuracy_tf_idf')\n",
    "\n",
    "# Adding Xticks\n",
    "plt.xlabel('X-axis', fontweight ='bold', fontsize = 15)\n",
    "plt.ylabel('Y-axis', fontweight ='bold', fontsize = 15)\n",
    "plt.xticks([r + barWidth for r in range(3)],\n",
    "        ['K=1', 'K=5', 'K=10'])\n",
    "\n",
    "# plt.title('Accuracy (Rank 1, 5 and 10): BiDirectional Neural Network Vs MLP Classifier Vs Random Forest')\n",
    "\n",
    "plt.legend()\n",
    "\n",
    "# plt.show()\n",
    "\n",
    "plt.savefig('Accuracy_BiDirectional_Neural_Network_Vs_MLP_Classifier_Vs_Random_Forest_tf_idf_bar_rank.png')"
   ]
  },
  {
   "cell_type": "code",
   "execution_count": 80,
   "id": "ffa5a998",
   "metadata": {},
   "outputs": [
    {
     "data": {
      "image/png": "[encoded data removed]",
      "text/plain": [
       "<Figure size 864x576 with 1 Axes>"
      ]
     },
     "metadata": {
      "needs_background": "light"
     },
     "output_type": "display_data"
    }
   ],
   "source": [
    "# set width of bar\n",
    "barWidth = 0.25\n",
    "fig = plt.subplots(figsize =(12, 8))\n",
    "\n",
    "# Set position of bar on X axis\n",
    "br1 = np.arange(10)\n",
    "br2 = [x + barWidth for x in br1]\n",
    "br3 = [x + barWidth for x in br2]\n",
    "\n",
    "# Make the plot\n",
    "plt.bar(br1, rfc_accuracy_avg, color ='r', width = barWidth,\n",
    "        edgecolor ='grey', label ='rfc_accuracy')\n",
    "plt.bar(br2, m_accuracy_avg, color ='b', width = barWidth,\n",
    "        edgecolor ='grey', label ='m_accuracy')\n",
    "plt.bar(br3, nn_accuracy_avg, color ='g', width = barWidth,\n",
    "        edgecolor ='grey', label ='nn_accuracy')\n",
    "\n",
    "\n",
    "# Adding Xticks\n",
    "plt.xlabel('X-axis', fontweight ='bold', fontsize = 15)\n",
    "plt.ylabel('Y-axis', fontweight ='bold', fontsize = 15)\n",
    "plt.xticks([r + barWidth for r in range(10)],\n",
    "        ['K=1', 'K=2', 'K=3', 'K=4', 'K=5','K=6', 'K=7', 'K=8', 'K=9', 'K=10'])\n",
    "\n",
    "# plt.title('Accuracy: BiDirectional Neural Network Vs MLP Classifier Vs Random Forest')\n",
    "\n",
    "plt.legend()\n",
    "\n",
    "# plt.show()\n",
    "\n",
    "plt.savefig('Accuracy_BiDirectional_Neural_Network_Vs_MLP_Classifier_Vs_Random_Forest_word2vec_bar.png')"
   ]
  },
  {
   "cell_type": "code",
   "execution_count": 81,
   "id": "c316bee4",
   "metadata": {},
   "outputs": [
    {
     "data": {
      "image/png": "[encoded data removed]",
      "text/plain": [
       "<Figure size 432x576 with 1 Axes>"
      ]
     },
     "metadata": {
      "needs_background": "light"
     },
     "output_type": "display_data"
    }
   ],
   "source": [
    "# set width of bar\n",
    "barWidth = 0.25\n",
    "fig = plt.subplots(figsize =(6, 8))\n",
    "\n",
    "# Set position of bar on X axis\n",
    "br1 = np.arange(3)\n",
    "br2 = [x + barWidth for x in br1]\n",
    "br3 = [x + barWidth for x in br2]\n",
    "\n",
    "# Make the plot\n",
    "plt.bar(br1, rfc_accuracy_avg_rank, color ='r', width = barWidth,\n",
    "        edgecolor ='grey', label ='rfc_accuracy')\n",
    "plt.bar(br2, m_accuracy_avg_rank, color ='b', width = barWidth,\n",
    "        edgecolor ='grey', label ='m_accuracy')\n",
    "plt.bar(br3, nn_accuracy_avg_rank, color ='g', width = barWidth,\n",
    "        edgecolor ='grey', label ='nn_accuracy')\n",
    "\n",
    "\n",
    "# Adding Xticks\n",
    "plt.xlabel('X-axis', fontweight ='bold', fontsize = 15)\n",
    "plt.ylabel('Y-axis', fontweight ='bold', fontsize = 15)\n",
    "plt.xticks([r + barWidth for r in range(3)],\n",
    "        ['K=1', 'K=5', 'K=10'])\n",
    "\n",
    "# plt.title('Accuracy (Rank 1, 5 and 10): BiDirectional Neural Network Vs MLP Classifier Vs Random Forest')\n",
    "\n",
    "plt.legend()\n",
    "\n",
    "# plt.show()\n",
    "\n",
    "plt.savefig('Accuracy_BiDirectional_Neural_Network_Vs_MLP_Classifier_Vs_Random_Forest_word2vec_bar_rank.png')"
   ]
  },
  {
   "cell_type": "code",
   "execution_count": 82,
   "id": "99b2bd5e",
   "metadata": {},
   "outputs": [
    {
     "data": {
      "image/png": "[encoded data removed]",
      "text/plain": [
       "<Figure size 864x576 with 1 Axes>"
      ]
     },
     "metadata": {
      "needs_background": "light"
     },
     "output_type": "display_data"
    }
   ],
   "source": [
    "# set width of bar\n",
    "barWidth = 0.25\n",
    "fig = plt.subplots(figsize =(12, 8))\n",
    " \n",
    "# Set position of bar on X axis\n",
    "br1 = np.arange(10)\n",
    "br2 = [x + barWidth for x in br1]\n",
    "\n",
    "# Make the plot\n",
    "plt.bar(br1, rfc_accuracy_with_wordnet_avg, color ='r', width = barWidth,\n",
    "        edgecolor ='grey', label ='rfc_accuracy_with_wordnet')\n",
    "plt.bar(br2, m_accuracy_with_wordnet_avg, color ='b', width = barWidth,\n",
    "        edgecolor ='grey', label ='m_accuracy_with_wordnet')\n",
    " \n",
    "# Adding Xticks\n",
    "plt.xlabel('X-axis', fontweight ='bold', fontsize = 15)\n",
    "plt.ylabel('Y-axis', fontweight ='bold', fontsize = 15)\n",
    "plt.xticks([r + barWidth for r in range(10)],\n",
    "        ['K=1', 'K=2', 'K=3', 'K=4', 'K=5','K=6', 'K=7', 'K=8', 'K=9', 'K=10'])\n",
    "\n",
    "# plt.title('Accuracy:MLP Classifier Vs Random Forest')\n",
    " \n",
    "plt.legend()\n",
    "\n",
    "# plt.show()\n",
    "\n",
    "plt.savefig('Accuracy_MLP_Classifier_Vs_Random_Forest_wordnet_bar.png')"
   ]
  },
  {
   "cell_type": "code",
   "execution_count": 83,
   "id": "d35cce64",
   "metadata": {},
   "outputs": [
    {
     "data": {
      "image/png": "[encoded data removed]",
      "text/plain": [
       "<Figure size 432x576 with 1 Axes>"
      ]
     },
     "metadata": {
      "needs_background": "light"
     },
     "output_type": "display_data"
    }
   ],
   "source": [
    "# set width of bar\n",
    "barWidth = 0.25\n",
    "fig = plt.subplots(figsize =(6, 8))\n",
    " \n",
    "# Set position of bar on X axis\n",
    "br1 = np.arange(3)\n",
    "br2 = [x + barWidth for x in br1]\n",
    "\n",
    "# Make the plot\n",
    "plt.bar(br1, rfc_accuracy_with_wordnet_avg_rank, color ='r', width = barWidth,\n",
    "        edgecolor ='grey', label ='rfc_accuracy_with_wordnet')\n",
    "plt.bar(br2, m_accuracy_with_wordnet_avg_rank, color ='b', width = barWidth,\n",
    "        edgecolor ='grey', label ='m_accuracy_with_wordnet')\n",
    " \n",
    "# Adding Xticks\n",
    "plt.xlabel('X-axis', fontweight ='bold', fontsize = 15)\n",
    "plt.ylabel('Y-axis', fontweight ='bold', fontsize = 15)\n",
    "plt.xticks([r + barWidth for r in range(3)],\n",
    "        ['K=1', 'K=5', 'K=10'])\n",
    "\n",
    "# plt.title('Accuracy (Rank 1, 5 and 10): MLP Classifier Vs Random Forest')\n",
    " \n",
    "plt.legend()\n",
    "\n",
    "# plt.show()\n",
    "\n",
    "plt.savefig('Accuracy_MLP_Classifier_Vs_Random_Forest_wordnet_bar_rank.png')"
   ]
  },
  {
   "cell_type": "code",
   "execution_count": 84,
   "id": "164cd5f8",
   "metadata": {},
   "outputs": [
    {
     "data": {
      "image/png": "[encoded data removed]",
      "text/plain": [
       "<Figure size 864x576 with 1 Axes>"
      ]
     },
     "metadata": {
      "needs_background": "light"
     },
     "output_type": "display_data"
    }
   ],
   "source": [
    "# set width of bar\n",
    "barWidth = 0.10\n",
    "fig = plt.subplots(figsize =(12, 8))\n",
    " \n",
    "# Set position of bar on X axis\n",
    "br1 = np.arange(10)\n",
    "br2 = [x + barWidth for x in br1]\n",
    "br3 = [x + barWidth for x in br2]\n",
    "br4 = [x + barWidth for x in br3]\n",
    "br5 = [x + barWidth for x in br4]\n",
    "br6 = [x + barWidth for x in br5]\n",
    "br7 = [x + barWidth for x in br6]\n",
    "br8 = [x + barWidth for x in br7]\n",
    "\n",
    "\n",
    "# Make the plot\n",
    "plt.bar(br1, rfc_accuracy_tf_idf_avg, color ='r', width = barWidth,\n",
    "        edgecolor ='grey', label ='rfc_accuracy_tf_idf')\n",
    "plt.bar(br2, m_accuracy_tf_idf_avg, color ='b', width = barWidth,\n",
    "        edgecolor ='grey', label ='m_accuracy_tf_idf')\n",
    "plt.bar(br3, nn_accuracy_tf_idf_avg, color ='g', width = barWidth,\n",
    "        edgecolor ='grey', label ='nn_accuracy_tf_idf')\n",
    "plt.bar(br4, rfc_accuracy_avg, color ='pink', width = barWidth,\n",
    "        edgecolor ='grey', label ='rfc_accuracy')\n",
    "plt.bar(br5, m_accuracy_avg, color ='brown', width = barWidth,\n",
    "        edgecolor ='grey', label ='m_accuracy')\n",
    "plt.bar(br6, nn_accuracy_avg, color ='violet', width = barWidth,\n",
    "        edgecolor ='grey', label ='nn_accuracy')\n",
    "plt.bar(br7, rfc_accuracy_with_wordnet_avg, color ='olive', width = barWidth,\n",
    "        edgecolor ='grey', label ='rfc_accuracy_with_wordnet')\n",
    "plt.bar(br8, m_accuracy_with_wordnet_avg, color ='purple', width = barWidth,\n",
    "        edgecolor ='grey', label ='m_accuracy_with_wordnet')\n",
    " \n",
    "# Adding Xticks\n",
    "plt.xlabel('X-axis', fontweight ='bold', fontsize = 15)\n",
    "plt.ylabel('Y-axis', fontweight ='bold', fontsize = 15)\n",
    "plt.xticks([r + barWidth for r in range(10)],\n",
    "        ['K=1', 'K=2', 'K=3', 'K=4', 'K=5','K=6', 'K=7', 'K=8', 'K=9', 'K=10'])\n",
    "\n",
    "# plt.title('Accuracy: BiDirectional Neural Network Vs MLP Classifier Vs Random Forest')\n",
    " \n",
    "plt.legend()\n",
    "\n",
    "# plt.show()\n",
    "\n",
    "plt.savefig('Accuracy_BiDirectional_Neural_Network_Vs_MLP_Classifier_Vs_Random_Forest_all_bar.png')"
   ]
  },
  {
   "cell_type": "code",
   "execution_count": 85,
   "id": "4b31e6d1",
   "metadata": {},
   "outputs": [
    {
     "data": {
      "image/png": "[encoded data removed]",
      "text/plain": [
       "<Figure size 864x576 with 1 Axes>"
      ]
     },
     "metadata": {
      "needs_background": "light"
     },
     "output_type": "display_data"
    }
   ],
   "source": [
    "# set width of bar\n",
    "barWidth = 0.10\n",
    "fig = plt.subplots(figsize =(12, 8))\n",
    " \n",
    "# Set position of bar on X axis\n",
    "br1 = np.arange(3)\n",
    "br2 = [x + barWidth for x in br1]\n",
    "br3 = [x + barWidth for x in br2]\n",
    "br4 = [x + barWidth for x in br3]\n",
    "br5 = [x + barWidth for x in br4]\n",
    "br6 = [x + barWidth for x in br5]\n",
    "br7 = [x + barWidth for x in br6]\n",
    "br8 = [x + barWidth for x in br7]\n",
    "\n",
    "\n",
    "# Make the plot\n",
    "plt.bar(br1, rfc_accuracy_tf_idf_avg_rank, color ='r', width = barWidth,\n",
    "        edgecolor ='grey', label ='rfc_accuracy_tf_idf')\n",
    "plt.bar(br2, m_accuracy_tf_idf_avg_rank, color ='b', width = barWidth,\n",
    "        edgecolor ='grey', label ='m_accuracy_tf_idf')\n",
    "plt.bar(br3, nn_accuracy_tf_idf_avg_rank, color ='g', width = barWidth,\n",
    "        edgecolor ='grey', label ='nn_accuracy_tf_idf')\n",
    "plt.bar(br4, rfc_accuracy_avg_rank, color ='pink', width = barWidth,\n",
    "        edgecolor ='grey', label ='rfc_accuracy')\n",
    "plt.bar(br5, m_accuracy_avg_rank, color ='brown', width = barWidth,\n",
    "        edgecolor ='grey', label ='m_accuracy')\n",
    "plt.bar(br6, nn_accuracy_avg_rank, color ='violet', width = barWidth,\n",
    "        edgecolor ='grey', label ='nn_accuracy')\n",
    "plt.bar(br7, rfc_accuracy_with_wordnet_avg_rank, color ='olive', width = barWidth,\n",
    "        edgecolor ='grey', label ='rfc_accuracy_with_wordnet')\n",
    "plt.bar(br8, m_accuracy_with_wordnet_avg_rank, color ='purple', width = barWidth,\n",
    "        edgecolor ='grey', label ='m_accuracy_with_wordnet')\n",
    " \n",
    "# Adding Xticks\n",
    "plt.xlabel('X-axis', fontweight ='bold', fontsize = 15)\n",
    "plt.ylabel('Y-axis', fontweight ='bold', fontsize = 15)\n",
    "plt.xticks([r + barWidth for r in range(3)],\n",
    "        ['K=1', 'K=5', 'K=10'])\n",
    "\n",
    "# plt.title('Accuracy (Rank 1, 5 and 10): BiDirectional Neural Network Vs MLP Classifier Vs Random Forest')\n",
    " \n",
    "plt.legend()\n",
    "\n",
    "# plt.show()\n",
    "\n",
    "plt.savefig('Accuracy_BiDirectional_Neural_Network_Vs_MLP_Classifier_Vs_Random_Forest_all_bar_rank.png')"
   ]
  },
  {
   "cell_type": "code",
   "execution_count": 86,
   "id": "a032d6a2",
   "metadata": {},
   "outputs": [
    {
     "data": {
      "image/png": "[encoded data removed]",
      "text/plain": [
       "<Figure size 432x576 with 1 Axes>"
      ]
     },
     "metadata": {
      "needs_background": "light"
     },
     "output_type": "display_data"
    }
   ],
   "source": [
    "# set width of bar\n",
    "barWidth = 0.25\n",
    "fig = plt.subplots(figsize =(6, 8))\n",
    " \n",
    "# Set position of bar on X axis\n",
    "br1 = np.arange(3)\n",
    "br2 = [x + barWidth for x in br1]\n",
    "\n",
    "\n",
    "# Make the plot\n",
    "plt.bar(br1, m_accuracy_avg_rank, color ='b', width = barWidth,\n",
    "        edgecolor ='grey', label ='m_accuracy')\n",
    "plt.bar(br2, m_accuracy_with_wordnet_avg_rank, color ='y', width = barWidth,\n",
    "        edgecolor ='grey', label ='m_accuracy_with_wordnet')\n",
    " \n",
    "# Adding Xticks\n",
    "plt.xlabel('X-axis', fontweight ='bold', fontsize = 15)\n",
    "plt.ylabel('Y-axis', fontweight ='bold', fontsize = 15)\n",
    "plt.xticks([r + barWidth for r in range(3)],\n",
    "        ['K=1', 'K=5', 'K=10'])\n",
    "\n",
    "# plt.title('Accuracy with or without wordnet (Rank 1, 5 and 10): MLP Classifier')\n",
    " \n",
    "plt.legend()\n",
    "\n",
    "# plt.show()\n",
    "plt.savefig('Accuracy_MLP_Classifier_with_or_without_wordnet_bar_rank.png')"
   ]
  },
  {
   "cell_type": "code",
   "execution_count": 87,
   "id": "134d89b0",
   "metadata": {},
   "outputs": [
    {
     "data": {
      "image/png": "[encoded data removed]",
      "text/plain": [
       "<Figure size 432x576 with 1 Axes>"
      ]
     },
     "metadata": {
      "needs_background": "light"
     },
     "output_type": "display_data"
    }
   ],
   "source": [
    "# set width of bar\n",
    "barWidth = 0.25\n",
    "fig = plt.subplots(figsize =(6, 8))\n",
    " \n",
    "# Set position of bar on X axis\n",
    "br1 = np.arange(3)\n",
    "br2 = [x + barWidth for x in br1]\n",
    "\n",
    "\n",
    "# Make the plot\n",
    "plt.bar(br1, rfc_accuracy_avg_rank, color ='b', width = barWidth,\n",
    "        edgecolor ='grey', label ='rfc_accuracy')\n",
    "plt.bar(br2, rfc_accuracy_with_wordnet_avg_rank, color ='y', width = barWidth,\n",
    "        edgecolor ='grey', label ='rfc_accuracy_with_wordnet')\n",
    " \n",
    "# Adding Xticks\n",
    "plt.xlabel('X-axis', fontweight ='bold', fontsize = 15)\n",
    "plt.ylabel('Y-axis', fontweight ='bold', fontsize = 15)\n",
    "plt.xticks([r + barWidth for r in range(3)],\n",
    "        ['K=1', 'K=5', 'K=10'])\n",
    "\n",
    "# plt.title('Accuracy with or without wordnet (Rank 1, 5 and 10): BiDirectional Neural Network')\n",
    " \n",
    "plt.legend()\n",
    "\n",
    "# plt.show()\n",
    "\n",
    "plt.savefig('Accuracy_Random_Forest_with_or_without_wordnet_bar_rank.png')"
   ]
  },
  {
   "cell_type": "code",
   "execution_count": 88,
   "id": "6f4bc31e",
   "metadata": {},
   "outputs": [
    {
     "data": {
      "image/png": "[encoded data removed]",
      "text/plain": [
       "<Figure size 576x576 with 1 Axes>"
      ]
     },
     "metadata": {
      "needs_background": "light"
     },
     "output_type": "display_data"
    }
   ],
   "source": [
    "# set width of bar\n",
    "barWidth = 0.20\n",
    "fig = plt.subplots(figsize =(8, 8))\n",
    " \n",
    "# Set position of bar on X axis\n",
    "br1 = np.arange(3)\n",
    "br2 = [x + barWidth for x in br1]\n",
    "br3 = [x + barWidth for x in br2]\n",
    "br4 = [x + barWidth for x in br3]\n",
    "\n",
    "\n",
    "# Make the plot\n",
    "plt.bar(br1, rfc_accuracy_avg_rank, color ='b', width = barWidth,\n",
    "        edgecolor ='grey', label ='rfc_accuracy')\n",
    "plt.bar(br2, rfc_accuracy_with_wordnet_avg_rank, color ='y', width = barWidth,\n",
    "        edgecolor ='grey', label ='rfc_accuracy_with_wordnet')\n",
    "\n",
    "plt.bar(br3, m_accuracy_avg_rank, color ='r', width = barWidth,\n",
    "        edgecolor ='grey', label ='m_accuracy')\n",
    "plt.bar(br4, m_accuracy_with_wordnet_avg_rank, color ='g', width = barWidth,\n",
    "        edgecolor ='grey', label ='m_accuracy_with_wordnet')\n",
    " \n",
    "# Adding Xticks\n",
    "plt.xlabel('X-axis', fontweight ='bold', fontsize = 15)\n",
    "plt.ylabel('Y-axis', fontweight ='bold', fontsize = 15)\n",
    "plt.xticks([r + barWidth for r in range(3)],\n",
    "        ['K=1', 'K=5', 'K=10'])\n",
    "\n",
    "# plt.title('Accuracy with or without wordnet (Rank 1, 5 and 10): BiDirectional Neural Network Vs MLP Classifier')\n",
    " \n",
    "plt.legend()\n",
    "\n",
    "# plt.show()\n",
    "\n",
    "plt.savefig('Accuracy_Random_Forest_Vs_MLP_Classifier_with_or_without_wordnet_bar_rank.png')"
   ]
  },
  {
   "cell_type": "code",
   "execution_count": 89,
   "id": "637b3240",
   "metadata": {},
   "outputs": [
    {
     "data": {
      "image/png": "[encoded data removed]",
      "text/plain": [
       "<Figure size 432x288 with 1 Axes>"
      ]
     },
     "metadata": {
      "needs_background": "light"
     },
     "output_type": "display_data"
    }
   ],
   "source": [
    "from wordcloud import WordCloud\n",
    "from matplotlib import pyplot as plt\n",
    "\n",
    "d = {w: f for w, f in\n",
    "     zip(['firefox', 'tab','window', 'icon','new','results','windows','open','rv','user','mozilla','id','agent',\n",
    "     'tooltip','build','audio','page','move','nt','indicator','gecko','video','also','correct','reproduce',\n",
    "     'wow64','expected','incorrect','displays','actual','43','0a1','run','42','steps','20100101','play',\n",
    "     'muted','0a2','mute'],\n",
    "    [0.08, 0.3, 0.2, 0.07, 0.23, 0.09, 0.04, 0.05, 0.04, 0.04, 0.04, 0.06, 0.05, 0.39, 0.04, 0.33, 0.05, 0.28, \n",
    "    0.05, 0.29, 0.04, 0.1, 0.05, 0.08, 0.04, 0.08, 0.04, 0.2, 0.18, 0.05, 0.35, 0.09, 0.07, 0.12, 0.04, 0.08, \n",
    "    0.11, 0.15, 0.1, 0.14])}\n",
    "wordcloud = WordCloud(background_color='turquoise', colormap='inferno', prefer_horizontal=1)\n",
    "wordcloud.generate_from_frequencies(frequencies=d)\n",
    "plt.imshow(wordcloud)\n",
    "plt.axis('off')\n",
    "plt.show()"
   ]
  },
  {
   "cell_type": "code",
   "execution_count": 90,
   "id": "6c41fcc5",
   "metadata": {},
   "outputs": [
    {
     "data": {
      "image/png": "[encoded data removed]",
      "text/plain": [
       "<Figure size 432x288 with 1 Axes>"
      ]
     },
     "metadata": {
      "needs_background": "light"
     },
     "output_type": "display_data"
    }
   ],
   "source": [
    "from wordcloud import WordCloud\n",
    "from matplotlib import pyplot as plt\n",
    "\n",
    "d = {w: f for w, f in\n",
    "     zip(['ubuntu', 'users', 'true', 'option', 'object', 'modules', 'bug','java', 'tab', 'input', 'us', 'use', \n",
    "          'x_', 'first', 'url'],\n",
    "    [0.03651848924087011, 0.029777380991612513, 0.025905891428369982, 0.024146471222285155, 0.024059586868839907, \n",
    "     0.02293035632761902, 0.021869748730702968, 0.020939467248671906, 0.020541274187440197, 0.020126839153104377, \n",
    "     0.018598075157426956, 0.017422983793982754, 0.01737882046718786, 0.017278595910240342,  0.017203761116098493])}\n",
    "wordcloud = WordCloud(background_color='turquoise', colormap='inferno', prefer_horizontal=1)\n",
    "wordcloud.generate_from_frequencies(frequencies=d)\n",
    "plt.imshow(wordcloud)\n",
    "plt.axis('off')\n",
    "plt.savefig('wordCloudResults.png')\n",
    "plt.show()"
   ]
  },
  {
   "cell_type": "code",
   "execution_count": 91,
   "id": "7c5e4477",
   "metadata": {},
   "outputs": [
    {
     "data": {
      "image/png": "[encoded data removed]",
      "text/plain": [
       "<Figure size 432x288 with 1 Axes>"
      ]
     },
     "metadata": {
      "needs_background": "light"
     },
     "output_type": "display_data"
    }
   ],
   "source": [
    "from wordcloud import WordCloud\n",
    "from matplotlib import pyplot as plt\n",
    "\n",
    "d = {w: f for w, f in\n",
    "     zip(['actor', 'app', 'device', 'last', 'get', 'selected', 'runtime', 'requests', 'webide', 'appear', 'fact', \n",
    "          'icons','connection', 'takes', 'toolbox', 'stuck', 'reopen', 'pull', 'connecting', 'seconds', 'quite', \n",
    "          'quickly', 'launching', 'due','request', 'toolboxes', 'queue', 'likely', '__int'],\n",
    "         [0.07071525923898643, 0.030279679873516752, 0.009689926550145507, 0.003793172051216064, 0.00254099704900428, \n",
    "          0.002441910521809218, 0.0021629162072491753, 0.0015443955144071341, 0.0014209360585410171, \n",
    "          0.0012662152892669654, 0.0010605925794445593, 0.000815286477851604, 0.0007331947705021759, \n",
    "          0.000673049499098092, 0.00067296601792968, 0.0006500024189134574, 0.0005913461011158607, \n",
    "          0.0005836965918540423,  0.0005426361497607821, 0.0005006002185978206, 0.0004927981545728546, \n",
    "          0.0004720169307970151, 0.0004624771621915017, 0.00039807685333888504, 0.00038233716349025634, \n",
    "          0.00038233716349025634, 0.00030960878631248274, 0.0002857327419832048, 0.0])}\n",
    "\n",
    "wordcloud = WordCloud(background_color='turquoise', colormap='inferno', prefer_horizontal=1)\n",
    "wordcloud.generate_from_frequencies(frequencies=d)\n",
    "plt.imshow(wordcloud)\n",
    "plt.axis('off')\n",
    "plt.savefig('wordCloudResults_mf_9_rf.png')\n",
    "plt.show()"
   ]
  },
  {
   "cell_type": "code",
   "execution_count": 92,
   "id": "5d393159",
   "metadata": {},
   "outputs": [
    {
     "data": {
      "image/png": "[encoded data removed]",
      "text/plain": [
       "<Figure size 432x288 with 1 Axes>"
      ]
     },
     "metadata": {
      "needs_background": "light"
     },
     "output_type": "display_data"
    }
   ],
   "source": [
    "from wordcloud import WordCloud\n",
    "from matplotlib import pyplot as plt\n",
    "\n",
    "d = {w: f for w, f in\n",
    "     zip(['netmonitor', 'bug', 'resource', 'promise', 'code', 'failed', 'jsm', 'component', 'rejection', 'xffff', 'failure', 'ns_error_unexpected',\n",
    "     'sidemenuwidget', '__int'],\n",
    "    [0.049106675439572506, 0.00597758691960389, 0.003736326694271512, 0.0031969263806178147, 0.0031038413204947683, 0.0020881101701336544,\n",
    "0.0015517746299717257, 0.0012956304593081823, 0.0008189400947799912, 0.0006260367715957016, 0.0005825481520243568, 0.0005196466356325949,\n",
    "0.0003243854369344503, 0.0])}\n",
    "\n",
    "wordcloud = WordCloud(background_color='turquoise', colormap='inferno', prefer_horizontal=1)\n",
    "wordcloud.generate_from_frequencies(frequencies=d)\n",
    "plt.imshow(wordcloud)\n",
    "plt.axis('off')\n",
    "plt.savefig('wordCloudResults_mf_8_rf.png')\n",
    "plt.show()"
   ]
  },
  {
   "cell_type": "code",
   "execution_count": 93,
   "id": "3b9c0c0f",
   "metadata": {},
   "outputs": [
    {
     "data": {
      "image/png": "[encoded data removed]",
      "text/plain": [
       "<Figure size 432x288 with 1 Axes>"
      ]
     },
     "metadata": {
      "needs_background": "light"
     },
     "output_type": "display_data"
    }
   ],
   "source": [
    "from wordcloud import WordCloud\n",
    "from matplotlib import pyplot as plt\n",
    "\n",
    "d = {w: f for w, f in\n",
    "     zip(['button', 'mode', 'back', 'bug', 'profile', 'code', 'first', 'added', 'ensure', 'exists', 'support', 'trigger', 'maximized',\n",
    "     'hitting', 'pushed', 'specifically', 'test', 'tryserver', 'fitts', 'law', 'regress', '__int'],\n",
    "    [0.07495776486310282, 0.04415322902016924, 0.016591924665485362, 0.010819248704126871, 0.008426058121659587, \n",
    "0.006014563302152848, 0.005059781028591117, 0.0032606624248911076, 0.0018468361354483011, 0.0016030293326104858, \n",
    "0.0015660229035456554, 0.0015177491719811221, 0.0011706862415966843, 0.0011592972800890163, 0.0010839195931284596, \n",
    "0.0009654796644435536, 0.0008752603174255275, 0.0007750979331746348,  0.0007367282728615663, 0.0006746321589445542,\n",
    "0.0005663453441475845, 0.0])}\n",
    "wordcloud = WordCloud(background_color='turquoise', colormap='inferno', prefer_horizontal=1)\n",
    "wordcloud.generate_from_frequencies(frequencies=d)\n",
    "plt.imshow(wordcloud)\n",
    "plt.axis('off')\n",
    "plt.savefig('wordCloudResults_mf_7_mlp.png')\n",
    "plt.show()"
   ]
  },
  {
   "cell_type": "code",
   "execution_count": 94,
   "id": "bfff6f1f",
   "metadata": {},
   "outputs": [
    {
     "data": {
      "image/png": "[encoded data removed]",
      "text/plain": [
       "<Figure size 432x288 with 1 Axes>"
      ]
     },
     "metadata": {
      "needs_background": "light"
     },
     "output_type": "display_data"
    }
   ],
   "source": [
    "from wordcloud import WordCloud\n",
    "from matplotlib import pyplot as plt\n",
    "\n",
    "d = {w: f for w, f in\n",
    "     zip(['properties', 'inspector', 'css', 'parent', 'property', 'match', 'elements','certain', 'sensitive', \n",
    "          'limited', '_clobber'],\n",
    "    [0.006902906801621644, 0.004891664152537237, 0.00482604781635709, 0.00449086261658101, 0.004203361815966984, \n",
    "     0.0036570495904032878, 0.002088192248238848, 0.001145774949174731, 0.001137856395409251, 0.0008520012534539346, \n",
    "     0.0006891470268743567, 0.0])}\n",
    "wordcloud = WordCloud(background_color='turquoise', colormap='inferno', prefer_horizontal=1)\n",
    "wordcloud.generate_from_frequencies(frequencies=d)\n",
    "plt.imshow(wordcloud)\n",
    "plt.axis('off')\n",
    "plt.savefig('wordCloudResults_mf_4_mlp.png')\n",
    "plt.show()"
   ]
  },
  {
   "cell_type": "code",
   "execution_count": 95,
   "id": "bcd4ce55",
   "metadata": {},
   "outputs": [
    {
     "data": {
      "image/png": "[encoded data removed]",
      "text/plain": [
       "<Figure size 432x288 with 1 Axes>"
      ]
     },
     "metadata": {
      "needs_background": "light"
     },
     "output_type": "display_data"
    }
   ],
   "source": [
    "from wordcloud import WordCloud\n",
    "from matplotlib import pyplot as plt\n",
    "\n",
    "d = {w: f for w, f in\n",
    "     zip(['piece', 'july', 'safebrowsing', 'spell', 'embedding', 'painful', 'prone', 'jquery', 'readme', 'rebuilt', \n",
    "          'costs', 'surprisingly', 'locking', 'snip', 'wins', 'accomplish', 'urlbarbindings', 'encodings'],\n",
    "    [0.03281542226186269, 0.03272765833859264, 0.032663635714616154, 0.026194802065582133, \n",
    "    0.026119825206737068, 0.025763154078276933, 0.024270109766512695, 0.02190240070661593, \n",
    "    0.021159489721821963, 0.01318943974631702, 0.011570324032240693, 0.011381094254297239, \n",
    "    0.01012543869291757, 0.009405631143557535])}\n",
    "wordcloud = WordCloud(background_color='turquoise', colormap='inferno', prefer_horizontal=1)\n",
    "wordcloud.generate_from_frequencies(frequencies=d)\n",
    "plt.imshow(wordcloud)\n",
    "plt.axis('off')\n",
    "plt.savefig('wordCloudResults_mf_5_nn.png')\n",
    "plt.show()"
   ]
  },
  {
   "cell_type": "code",
   "execution_count": 96,
   "id": "c3bd9d59",
   "metadata": {},
   "outputs": [
    {
     "data": {
      "image/png": "[encoded data removed]",
      "text/plain": [
       "<Figure size 432x288 with 1 Axes>"
      ]
     },
     "metadata": {
      "needs_background": "light"
     },
     "output_type": "display_data"
    }
   ],
   "source": [
    "from wordcloud import WordCloud\n",
    "from matplotlib import pyplot as plt\n",
    "\n",
    "d = {w: f for w, f in\n",
    "     zip(['console', 'devtools', 'results', 'chrome', 'open', 'option', 'expected', 'command', 'enabled', 'jsconsole', 'true'],\n",
    "    [0.3659577134182525, 0.019426130938377143, 0.008664038278078781, 0.007601786529601536, \n",
    "    0.005978618193476514, 0.0037095486926454224, 0.0019085297498435115, 0.0010724847224814996, \n",
    "    0.0009609244459471314, 0.0003236051109529047, 6.22470483717056e-05])}\n",
    "wordcloud = WordCloud(background_color='turquoise', colormap='inferno', prefer_horizontal=1)\n",
    "wordcloud.generate_from_frequencies(frequencies=d)\n",
    "plt.imshow(wordcloud)\n",
    "plt.axis('off')\n",
    "plt.savefig('wordCloudResults_mf_6_rf.png')\n",
    "plt.show()"
   ]
  },
  {
   "cell_type": "code",
   "execution_count": 97,
   "id": "347cd026",
   "metadata": {},
   "outputs": [
    {
     "data": {
      "image/png": "[encoded data removed]",
      "text/plain": [
       "<Figure size 432x288 with 1 Axes>"
      ]
     },
     "metadata": {
      "needs_background": "light"
     },
     "output_type": "display_data"
    }
   ],
   "source": [
    "from wordcloud import WordCloud\n",
    "from matplotlib import pyplot as plt\n",
    "\n",
    "d = {w: f for w, f in\n",
    "     zip(['browser', 'js', 'content', 'chrome', 'line', 'also', 'javascript', 'return', 'functions', 'never', \n",
    "    'strict', 'warning', 'returns', 'anonymous', 'looked', 'warnings', '_blank', '_clobber', '_depend'],\n",
    "    [0.1503642669116318, 0.02017315428491887, 0.007443139880641706, 0.00734954809461839, \n",
    "    0.0029358677087064143, 0.0015252601458839957, 0.001002833568741348,  0.0008518012894063532, \n",
    "    0.0005087359285396105, 0.0004544421314825656, 0.00024434100430898104, 0.00020477398763340475, \n",
    "    0.00017813619611110418, 0.00011836197701944449, 9.17419894243273e-05, 1.0259385551573711e-05, 0.0, 0.0, 0.0])}\n",
    "wordcloud = WordCloud(background_color='turquoise', colormap='inferno', prefer_horizontal=1)\n",
    "wordcloud.generate_from_frequencies(frequencies=d)\n",
    "plt.imshow(wordcloud)\n",
    "plt.axis('off')\n",
    "plt.savefig('wordCloudResults_mf_5_rf.png')\n",
    "plt.show()"
   ]
  }
 ],
 "metadata": {
  "kernelspec": {
   "display_name": "Python 3 (ipykernel)",
   "language": "python",
   "name": "python3"
  },
  "language_info": {
   "codemirror_mode": {
    "name": "ipython",
    "version": 3
   },
   "file_extension": ".py",
   "mimetype": "text/x-python",
   "name": "python",
   "nbconvert_exporter": "python",
   "pygments_lexer": "ipython3",
   "version": "3.7.13"
  }
 },
 "nbformat": 4,
 "nbformat_minor": 5
}
