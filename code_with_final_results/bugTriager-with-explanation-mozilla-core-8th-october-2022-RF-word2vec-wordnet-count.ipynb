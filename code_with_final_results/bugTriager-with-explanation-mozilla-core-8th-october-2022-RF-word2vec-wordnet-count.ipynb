{
 "cells": [
  {
   "cell_type": "code",
   "execution_count": 1,
   "id": "f00b496e",
   "metadata": {},
   "outputs": [],
   "source": [
    "# !pip3 install shap\n",
    "# !pip3 install pyexplainer\n",
    "# !pip3 install lime\n",
    "# !pip3 install gensim\n",
    "# !pip3 install keras\n",
    "# !pip3 install tensorflow\n",
    "# !pip3 install sklearn\n",
    "# !pip3 install nltk\n",
    "# import nltk\n",
    "# nltk.download('omw-1.4')\n",
    "# nltk.download('punkt')\n",
    "# nltk.download('wordnet')\n",
    "# nltk.download('stopwords')\n",
    "# !pip install wordcloud"
   ]
  },
  {
   "cell_type": "code",
   "execution_count": 2,
   "id": "cad976b8",
   "metadata": {},
   "outputs": [],
   "source": [
    "import numpy as np\n",
    "import json, re, nltk, string, os, sys\n",
    "from os.path import abspath\n",
    "from sklearn.feature_extraction.text import TfidfVectorizer\n",
    "from nltk.corpus import wordnet\n",
    "from gensim.models import Word2Vec\n",
    "from keras.utils import np_utils\n",
    "from nltk.corpus import stopwords\n",
    "from sklearn.ensemble import RandomForestClassifier\n",
    "from sklearn.metrics import accuracy_score\n",
    "\n",
    "import matplotlib.pyplot as plt\n",
    "import time"
   ]
  },
  {
   "cell_type": "code",
   "execution_count": 3,
   "id": "01a43f9a",
   "metadata": {},
   "outputs": [],
   "source": [
    "bug_reports = os.path.join(sys.path[0],\"data/MozillaCore/train_test_json/classifier_data_20.json\")\n",
    "deep_data = os.path.join(sys.path[0],\"data/MozillaCore/deep_data.json\")"
   ]
  },
  {
   "cell_type": "code",
   "execution_count": 4,
   "id": "b7e50417",
   "metadata": {},
   "outputs": [],
   "source": [
    "#========================================================================================\n",
    "# Initializing Hyper parameter\n",
    "#========================================================================================\n",
    "#1. Word2vec parameters\n",
    "min_word_frequency = 5\n",
    "embed_size_word2vec = 300\n",
    "context_window_word2vec = 5\n",
    "\n",
    "#2. Classifier hyperparameters\n",
    "numCV = 10\n",
    "max_sentence_len = 50\n",
    "min_sentence_length = 15\n",
    "rankK = 10\n",
    "batch_size = 32"
   ]
  },
  {
   "cell_type": "code",
   "execution_count": 5,
   "id": "77663291",
   "metadata": {},
   "outputs": [],
   "source": [
    "def contains_letters(phrase):\n",
    "    return bool(re.search('[a-zA-Z]', phrase))"
   ]
  },
  {
   "cell_type": "code",
   "execution_count": 6,
   "id": "ce20291e",
   "metadata": {},
   "outputs": [],
   "source": [
    "def getProcessedData(bug_reports):\n",
    "    with open(bug_reports) as data_file:\n",
    "        data = json.load(data_file, strict=False)\n",
    "\n",
    "    i = 0\n",
    "    \n",
    "    raw_data = []\n",
    "    all_data = []\n",
    "    all_owner = []\n",
    "    for item in data:\n",
    "        \n",
    "        data = 'Title:' + item['issue_title'] + '\\n Description: ' + item['description']\n",
    "        raw_data.append(data) \n",
    "\n",
    "        #1. Remove \\r\n",
    "        current_title = item['issue_title'].replace('\\r', ' ')\n",
    "        current_desc = item['description'].replace('\\r', ' ')\n",
    "\n",
    "        #2. Remove URLs\n",
    "        current_desc = re.sub(r'http[s]?://(?:[a-zA-Z]|[0-9]|[$-_@.&+]|[!*\\(\\),]|(?:%[0-9a-fA-F][0-9a-fA-F]))+', ' ', current_desc)\n",
    "\n",
    "        #3. Remove Stack Trace\n",
    "        start_loc = current_desc.find(\"Stack trace:\")\n",
    "        current_desc = current_desc[:start_loc]\n",
    "\n",
    "        #4. Change to lower case & Remove hex code\n",
    "        current_data = current_title.lower() + ' ' + current_desc.lower()\n",
    "        current_data = re.sub(r'(\\w+)0x\\w+', ' ', current_data)\n",
    "        current_data = re.sub(r'[^\\w\\s]', ' ', current_data)\n",
    "        \n",
    "        #5. Remove digits\n",
    "        current_data = re.sub(r'[0-9]', '', current_data)\n",
    "\n",
    "        #6. Tokenize\n",
    "        current_data_tokens = [w for w in nltk.word_tokenize(current_data) if contains_letters(w) and len(w) > 1]\n",
    "\n",
    "        #7. Remove stop words\n",
    "        stop_words = set(stopwords.words('english'))\n",
    "        current_data_filter = [w for w in current_data_tokens if not w in stop_words]\n",
    "\n",
    "        all_data.append(current_data_filter)\n",
    "        all_owner.append(item['owner'])\n",
    "        \n",
    "        i = i + 1\n",
    "        if i == 35000:\n",
    "            break\n",
    "\n",
    "    return raw_data, all_data, all_owner"
   ]
  },
  {
   "cell_type": "code",
   "execution_count": 7,
   "id": "f00c50fb",
   "metadata": {},
   "outputs": [],
   "source": [
    "raw_data, all_data, all_owner = getProcessedData(bug_reports)"
   ]
  },
  {
   "cell_type": "code",
   "execution_count": 8,
   "id": "c34b36ac",
   "metadata": {},
   "outputs": [
    {
     "data": {
      "text/plain": [
       "35000"
      ]
     },
     "execution_count": 8,
     "metadata": {},
     "output_type": "execute_result"
    }
   ],
   "source": [
    "len(raw_data)\n",
    "len(all_data)\n",
    "len(all_owner)"
   ]
  },
  {
   "cell_type": "code",
   "execution_count": 9,
   "id": "90859705",
   "metadata": {},
   "outputs": [],
   "source": [
    "def getRandomForestClassifierAccuracy(X_train, Y_train, X_test, Y_test):\n",
    "    start = time.time()\n",
    "\n",
    "    rfc_model = RandomForestClassifier(n_estimators = 1000, max_depth = 300, n_jobs = -1, random_state=1)\n",
    "    \n",
    "    rfc_model.fit(X_train, Y_train) \n",
    "    \n",
    "    y_pred = rfc_model.predict_proba(X_test)\n",
    "    \n",
    "    end = time.time()\n",
    "    \n",
    "    elapsedTime = end - start\n",
    "    \n",
    "    classes = rfc_model.classes_\n",
    "    sortedIndices = []\n",
    "    pred_classes = []\n",
    "    index_pred_classes = []\n",
    "    rfc_accuracy = []\n",
    "    index = 0  \n",
    "    for ll in y_pred:\n",
    "        sortedIndices.append(sorted(range(len(ll)), key=lambda ii: ll[ii], reverse=True))  \n",
    "    for k in range(1, rankK+1):\n",
    "        id = 0\n",
    "        trueNum = 0\n",
    "        pred_class_no=0\n",
    "        for sortedInd in sortedIndices:\n",
    "            if Y_test[id] in classes[sortedInd[:k]]:\n",
    "                trueNum += 1\n",
    "                pred_classes.append(classes[sortedInd[:k]])\n",
    "                pred_class_no = trueNum\n",
    "                if index < 9 and k == 1:\n",
    "                    index = id\n",
    "                    index_pred_classes.append(classes[sortedInd[:k]])\n",
    "            id += 1\n",
    "        rfc_accuracy.append(float('{0:.2f}'.format((float(trueNum) / len(y_pred)) * 100)))\n",
    "\n",
    "    return rfc_model, rfc_accuracy, classes, index, elapsedTime"
   ]
  },
  {
   "cell_type": "code",
   "execution_count": 10,
   "id": "b55cfea7",
   "metadata": {},
   "outputs": [],
   "source": [
    "def average(lst):\n",
    "    return sum(lst) / len(lst)"
   ]
  },
  {
   "cell_type": "code",
   "execution_count": 11,
   "id": "b68435b8",
   "metadata": {},
   "outputs": [],
   "source": [
    "def getRank1_5_10_data(accuracy_cv10_with_avg):\n",
    "    rank1=''\n",
    "    rank5=''\n",
    "    rank10=''\n",
    "    for i in range(0, 11):\n",
    "        rank1 = rank1 + str(accuracy_cv10_with_avg[i][0])\n",
    "        rank5 = rank5 + str(accuracy_cv10_with_avg[i][4])\n",
    "        rank10 = rank10 + str(accuracy_cv10_with_avg[i][9])\n",
    "\n",
    "        if i!=10:\n",
    "            rank1 = rank1 + '  '\n",
    "            rank5 = rank5 + '  '\n",
    "            rank10 = rank10 + '  '\n",
    "\n",
    "\n",
    "    return rank1, rank5, rank10"
   ]
  },
  {
   "cell_type": "code",
   "execution_count": 12,
   "id": "20478908",
   "metadata": {},
   "outputs": [],
   "source": [
    "def getProcessedDeepData(deep_data):\n",
    "    with open(deep_data) as data_file:\n",
    "        data = json.load(data_file, strict=False)\n",
    "\n",
    "    all_data = []\n",
    "    for item in data:\n",
    "\n",
    "        #1. Remove \\r\n",
    "        current_title = item['issue_title'].replace('\\r', ' ')\n",
    "        current_desc = item['description'].replace('\\r', ' ')\n",
    "\n",
    "        #2. Remove URLs\n",
    "        current_desc = re.sub(r'http[s]?://(?:[a-zA-Z]|[0-9]|[$-_@.&+]|[!*\\(\\),]|(?:%[0-9a-fA-F][0-9a-fA-F]))+', ' ', current_desc)\n",
    "\n",
    "        #3. Remove Stack Trace\n",
    "        start_loc = current_desc.find(\"Stack trace:\")\n",
    "        current_desc = current_desc[:start_loc]\n",
    "\n",
    "        #4. Change to lower case & Remove hex code\n",
    "        current_data = current_title.lower() + ' ' + current_desc.lower()\n",
    "        current_data = re.sub(r'(\\w+)0x\\w+', ' ', current_data)\n",
    " \n",
    "        current_data = re.sub(r'[^\\w\\s]', ' ', current_data)\n",
    "        \n",
    "        #5. Remove digits\n",
    "        current_data = re.sub(r'[0-9]', '', current_data)\n",
    "\n",
    "        #6. Tokenize\n",
    "        current_data_tokens = [w for w in nltk.word_tokenize(current_data) if contains_letters(w) and len(w) > 1]\n",
    "\n",
    "        #7. Remove stop words\n",
    "        stop_words = set(stopwords.words('english'))\n",
    "        current_data_filter = [w for w in current_data_tokens if not w in stop_words]\n",
    "\n",
    "        all_data.append(current_data_filter)\n",
    "\n",
    "    return all_data"
   ]
  },
  {
   "cell_type": "code",
   "execution_count": 13,
   "id": "701f422a",
   "metadata": {},
   "outputs": [],
   "source": [
    "def getSynonyms(word):\n",
    "    synonyms = []\n",
    "    synsets = wordnet.synsets(word)\n",
    "    if (len(synsets) == 0):\n",
    "        return []\n",
    "    synset = synsets[0]\n",
    "    lemma_names = synset.lemma_names()\n",
    "    for lemma_name in lemma_names:\n",
    "        lemma_name = lemma_name.lower().replace('_', ' ')\n",
    "        if (lemma_name != word and lemma_name not in synonyms):\n",
    "            synonyms.append(lemma_name)\n",
    "    return set(synonyms)"
   ]
  },
  {
   "cell_type": "code",
   "execution_count": 14,
   "id": "f3186ca9",
   "metadata": {},
   "outputs": [],
   "source": [
    "def makeFeatureVecWithWordNet(bugReport, model, num_features, list_of_syn_data):\n",
    "    # Function to average all of the word vectors in a given\n",
    "    # paragraph\n",
    "    #\n",
    "    # Pre-initialize an empty numpy array (for speed)\n",
    "    featureVec = np.zeros((num_features,),dtype=\"float32\")\n",
    "    #\n",
    "    nwords = 0\n",
    "    synCounter = 0\n",
    "    norCounter = 0\n",
    "    elseTest = 0\n",
    "    # \n",
    "    # Index2word is a list that contains the names of the words in \n",
    "    # the model's vocabulary. Convert it to a set, for speed \n",
    "    index2word_set = set(model.wv.index_to_key)\n",
    "    #\n",
    "    # Loop over each word in the bugreport and, if it is in the model's\n",
    "    # vocaublary, add its feature vector to the total\n",
    "    for word in bugReport:\n",
    "        found = False\n",
    "        if word in index2word_set: \n",
    "            norCounter = norCounter+1\n",
    "            nwords = nwords + 1\n",
    "            featureVec = np.add(featureVec,model.wv[word])\n",
    "            if nwords == max_sentence_len-1:\n",
    "                break\n",
    "        else:\n",
    "            elseTest = elseTest + 1\n",
    "            for synonym in getSynonyms(word):\n",
    "                if synonym in index2word_set:\n",
    "                    list_of_syn_data.append(word + ' : ' + synonym)\n",
    "                    synCounter = synCounter + 1\n",
    "                    nwords = nwords + 1\n",
    "                    featureVec = np.add(featureVec, model.wv[synonym])\n",
    "                    found = True\n",
    "                    break\n",
    "            if nwords == max_sentence_len-1:\n",
    "                break\n",
    "    # \n",
    "    # Divide the result by the number of words to get the average\n",
    "    featureVec = np.divide(featureVec,nwords)\n",
    "    return elseTest, synCounter, norCounter, featureVec\n",
    "\n",
    "\n",
    "def getAvgFeatureVecsWithWordNet(bugReports, model, num_features):\n",
    "    # Given a set of reviews (each one a list of words), calculate \n",
    "    # the average feature vector for each one and return a 2D numpy array \n",
    "    # \n",
    "    # Initialize a counter\n",
    "    counter = 0\n",
    "    synonymCounter = 0\n",
    "    normalCounter = 0\n",
    "    elseTest1=0\n",
    "    list_of_syn_data = []\n",
    "    # \n",
    "    # Preallocate a 2D numpy array, for speed\n",
    "    bugReportsVecs = np.zeros((len(bugReports),num_features),dtype=\"float32\")\n",
    "    # \n",
    "    # Loop through the reviews\n",
    "    for bugReport in bugReports:\n",
    "        # Call the function (defined above) that makes average feature vectors\n",
    "        elseTest, synCounter, norCounter, bugReportsVecs[counter] = makeFeatureVecWithWordNet(\n",
    "            bugReport, model, num_features, list_of_syn_data)\n",
    "        \n",
    "        synonymCounter = synonymCounter + synCounter \n",
    "        normalCounter = normalCounter + norCounter\n",
    "        elseTest1 = elseTest1 + elseTest\n",
    "        #\n",
    "        # Increment the counter\n",
    "        counter = counter + 1\n",
    "        \n",
    "    print('elseTest1,', elseTest1)\n",
    "#     print('list_of_syn_data,', list_of_syn_data)\n",
    "    return synonymCounter, normalCounter, bugReportsVecs\n"
   ]
  },
  {
   "cell_type": "code",
   "execution_count": 15,
   "id": "22840424",
   "metadata": {},
   "outputs": [],
   "source": [
    "def makeFeatureVec(bugReport, model, num_features):\n",
    "    # Function to average all of the word vectors in a given\n",
    "    # paragraph\n",
    "    #\n",
    "    # Pre-initialize an empty numpy array (for speed)\n",
    "    featureVec = np.zeros((num_features,),dtype=\"float32\")\n",
    "    #\n",
    "    nwords = 0.\n",
    "    # \n",
    "    # Index2word is a list that contains the names of the words in \n",
    "    # the model's vocabulary. Convert it to a set, for speed \n",
    "    index2word_set = set(model.wv.index_to_key)\n",
    "    #\n",
    "    # Loop over each word in the bugreport and, if it is in the model's\n",
    "    # vocaublary, add its feature vector to the total\n",
    "    for word in bugReport:\n",
    "        found = False\n",
    "        if word in index2word_set: \n",
    "            nwords = nwords + 1.\n",
    "            featureVec = np.add(featureVec,model.wv[word])\n",
    "            if nwords == max_sentence_len-1:\n",
    "                break\n",
    "    # \n",
    "    # Divide the result by the number of words to get the average\n",
    "    featureVec = np.divide(featureVec,nwords)\n",
    "    return featureVec\n",
    "\n",
    "\n",
    "def getAvgFeatureVecs(bugReports, model, num_features):\n",
    "    # Given a set of reviews (each one a list of words), calculate \n",
    "    # the average feature vector for each one and return a 2D numpy array \n",
    "    # \n",
    "    # Initialize a counter\n",
    "    counter = 0\n",
    "    # \n",
    "    # Preallocate a 2D numpy array, for speed\n",
    "    bugReportsVecs = np.zeros((len(bugReports),num_features),dtype=\"float32\")\n",
    "    # \n",
    "    # Loop through the bugreport\n",
    "    for bugReport in bugReports:\n",
    "        # Call the function (defined above) that makes average feature vectors\n",
    "        bugReportsVecs[counter] = makeFeatureVec(bugReport, model, num_features)\n",
    "        #\n",
    "        # Increment the counter\n",
    "        counter = counter + 1\n",
    "    return bugReportsVecs"
   ]
  },
  {
   "cell_type": "code",
   "execution_count": 16,
   "id": "e552c778",
   "metadata": {},
   "outputs": [],
   "source": [
    "deep_data_list = getProcessedDeepData(deep_data)"
   ]
  },
  {
   "cell_type": "code",
   "execution_count": 17,
   "id": "02389e86",
   "metadata": {},
   "outputs": [],
   "source": [
    "def getFilteredDataForWordnet(train_data, test_data, vocabulary):\n",
    "    updated_raw_train_data = []\n",
    "    updated_raw_test_data = []\n",
    "    updated_train_data = []\n",
    "    updated_train_owner = []\n",
    "    final_raw_test_data = []\n",
    "    final_test_data = []\n",
    "    final_test_owner = []\n",
    "    train_word_count = 0\n",
    "    test_word_count = 0\n",
    "    updated_train_word_count = 0\n",
    "    updated_test_word_count = 0\n",
    "    \n",
    "    for j, item in enumerate(train_data):\n",
    "        train_word_count = train_word_count + len(item)\n",
    "        current_train_filter = [word for word in item if word in vocabulary or set(getSynonyms(word)).intersection(vocabulary)]\n",
    "        updated_train_word_count = updated_train_word_count + len(current_train_filter)\n",
    "        if len(current_train_filter)>=min_sentence_length:\n",
    "            updated_train_data.append(current_train_filter)\n",
    "            updated_train_owner.append(train_owner[j])\n",
    "            updated_raw_train_data.append(raw_train_data[j])\n",
    "\n",
    "    for j, item in enumerate(test_data):\n",
    "        test_word_count = test_word_count + len(item)\n",
    "        current_test_filter = [word for word in item if word in vocabulary or set(getSynonyms(word)).intersection(vocabulary)]\n",
    "        updated_test_word_count = updated_test_word_count + len(current_test_filter)\n",
    "        if len(current_test_filter)>=min_sentence_length:\n",
    "            final_test_data.append(current_test_filter)\n",
    "            final_test_owner.append(test_owner[j])\n",
    "            final_raw_test_data.append(raw_test_data[j])\n",
    "            \n",
    "    # Remove data from test set that is not there in train set\n",
    "    train_owner_unique = set(updated_train_owner)\n",
    "    test_owner_unique = set(final_test_owner)\n",
    "    unwanted_owner = list(test_owner_unique - train_owner_unique)\n",
    "    updated_raw_test_data = []\n",
    "    updated_test_data = []\n",
    "    updated_test_owner = []\n",
    "    for j in range(len(final_test_owner)):\n",
    "        if final_test_owner[j] not in unwanted_owner:\n",
    "            updated_test_data.append(final_test_data[j])\n",
    "            updated_test_owner.append(final_test_owner[j])\n",
    "            updated_raw_test_data.append(final_raw_test_data[j])\n",
    "\n",
    "    unique_train_label = list(set(updated_train_owner))\n",
    "    \n",
    "    return updated_raw_train_data, updated_train_data, updated_train_owner, updated_raw_test_data, updated_test_data, updated_test_owner, train_word_count, test_word_count, updated_train_word_count, updated_test_word_count\n"
   ]
  },
  {
   "cell_type": "code",
   "execution_count": 18,
   "id": "d9a569c0",
   "metadata": {},
   "outputs": [],
   "source": [
    "def getFilteredData(train_data, test_data, vocabulary):\n",
    "    updated_raw_train_data = []\n",
    "    updated_raw_test_data = []\n",
    "    updated_train_data = []\n",
    "    updated_train_owner = []\n",
    "    final_raw_test_data = []\n",
    "    final_test_data = []\n",
    "    final_test_owner = []\n",
    "    train_word_count = 0\n",
    "    test_word_count = 0\n",
    "    updated_train_word_count = 0\n",
    "    updated_test_word_count = 0\n",
    "    \n",
    "    for j, item in enumerate(train_data): \n",
    "        train_word_count = train_word_count + len(item)\n",
    "        current_train_filter = [word for word in item if word in vocabulary]\n",
    "        updated_train_word_count = updated_train_word_count + len(current_train_filter)\n",
    "        if len(current_train_filter)>=min_sentence_length:\n",
    "            updated_train_data.append(current_train_filter)\n",
    "            updated_train_owner.append(train_owner[j])\n",
    "            updated_raw_train_data.append(raw_train_data[j])\n",
    "\n",
    "    for j, item in enumerate(test_data):\n",
    "        test_word_count = test_word_count + len(item)\n",
    "        current_test_filter = [word for word in item if word in vocabulary]\n",
    "        updated_test_word_count = updated_test_word_count + len(current_test_filter)\n",
    "        if len(current_test_filter)>=min_sentence_length:\n",
    "            final_test_data.append(current_test_filter)\n",
    "            final_test_owner.append(test_owner[j])\n",
    "            final_raw_test_data.append(raw_test_data[j])\n",
    "            \n",
    "    # Remove data from test set that is not there in train set\n",
    "    train_owner_unique = set(updated_train_owner)\n",
    "    test_owner_unique = set(final_test_owner)\n",
    "    unwanted_owner = list(test_owner_unique - train_owner_unique)\n",
    "    updated_raw_test_data = []\n",
    "    updated_test_data = []\n",
    "    updated_test_owner = []\n",
    "    for j in range(len(final_test_owner)):\n",
    "        if final_test_owner[j] not in unwanted_owner:\n",
    "            updated_test_data.append(final_test_data[j])\n",
    "            updated_test_owner.append(final_test_owner[j])\n",
    "            updated_raw_test_data.append(final_raw_test_data[j])\n",
    "\n",
    "    unique_train_label = list(set(updated_train_owner))\n",
    "    \n",
    "    return updated_raw_train_data, updated_train_data, updated_train_owner, updated_raw_test_data, updated_test_data, updated_test_owner, train_word_count, test_word_count, updated_train_word_count, updated_test_word_count"
   ]
  },
  {
   "cell_type": "code",
   "execution_count": 19,
   "id": "9047c07d",
   "metadata": {},
   "outputs": [
    {
     "name": "stdout",
     "output_type": "stream",
     "text": [
      "1\n",
      "3181\n",
      "3182\n",
      "3181\n",
      "3182\n",
      "3181\n",
      "3182\n",
      "189354\n",
      "73229\n",
      "elseTest1, 117\n",
      "with wordnet\n",
      "train_word_count :  219089\n",
      "updated_train_word_count :  213774\n",
      "removed_train_word_count :  5315\n",
      "synonymCounter_training :  117\n",
      "normalCounter_training :  108051\n",
      "elseTest1, 84\n",
      "test_word_count :  226746\n",
      "updated_test_word_count :  220245\n",
      "removed_test_word_count :  6501\n",
      "synonymCounter_testing :  84\n",
      "normalCounter_testing :  108336\n",
      "Random Forest Classifier Accuracy(With Wordnet) :  [13.89, 22.39, 27.79, 33.32, 38.0, 41.64, 45.5, 48.07, 50.79, 52.89]\n",
      "without wordnet\n",
      "train_word_count :  219089\n",
      "updated_train_word_count :  213579\n",
      "removed_train_word_count :  5510\n",
      "test_word_count :  226746\n",
      "updated_test_word_count :  220096\n",
      "removed_test_word_count :  6650\n",
      "Random Forest Classifier Accuracy :  [13.65, 22.4, 28.01, 33.23, 38.05, 41.66, 44.59, 47.66, 50.3, 52.52]\n",
      "2\n",
      "6363\n",
      "3182\n",
      "6363\n",
      "3182\n",
      "6363\n",
      "3182\n",
      "192536\n",
      "73836\n",
      "elseTest1, 194\n",
      "with wordnet\n",
      "train_word_count :  445835\n",
      "updated_train_word_count :  436356\n",
      "removed_train_word_count :  9479\n",
      "synonymCounter_training :  194\n",
      "normalCounter_training :  219097\n",
      "elseTest1, 102\n",
      "test_word_count :  219136\n",
      "updated_test_word_count :  213389\n",
      "removed_test_word_count :  5747\n",
      "synonymCounter_testing :  102\n",
      "normalCounter_testing :  111322\n",
      "Random Forest Classifier Accuracy(With Wordnet) :  [17.72, 26.7, 33.98, 39.67, 44.14, 47.55, 50.64, 52.91, 54.79, 56.96]\n",
      "without wordnet\n",
      "train_word_count :  445835\n",
      "updated_train_word_count :  436035\n",
      "removed_train_word_count :  9800\n",
      "test_word_count :  219136\n",
      "updated_test_word_count :  213194\n",
      "removed_test_word_count :  5942\n",
      "Random Forest Classifier Accuracy :  [17.86, 27.41, 34.02, 39.49, 43.79, 47.59, 50.28, 52.59, 54.97, 57.24]\n",
      "3\n",
      "9545\n",
      "3182\n",
      "9545\n",
      "3182\n",
      "9545\n",
      "3182\n",
      "195718\n",
      "74408\n",
      "elseTest1, 269\n",
      "with wordnet\n",
      "train_word_count :  664971\n",
      "updated_train_word_count :  651751\n",
      "removed_train_word_count :  13220\n",
      "synonymCounter_training :  269\n",
      "normalCounter_training :  333025\n",
      "elseTest1, 125\n",
      "test_word_count :  232159\n",
      "updated_test_word_count :  225844\n",
      "removed_test_word_count :  6315\n",
      "synonymCounter_testing :  125\n",
      "normalCounter_testing :  116425\n",
      "Random Forest Classifier Accuracy(With Wordnet) :  [15.81, 23.85, 29.35, 34.14, 37.56, 40.61, 43.0, 45.36, 47.66, 49.54]\n",
      "without wordnet\n",
      "train_word_count :  664971\n",
      "updated_train_word_count :  651285\n",
      "removed_train_word_count :  13686\n",
      "test_word_count :  232159\n",
      "updated_test_word_count :  225635\n",
      "removed_test_word_count :  6524\n",
      "Random Forest Classifier Accuracy :  [15.54, 23.89, 29.23, 33.54, 37.61, 40.31, 43.09, 45.55, 47.5, 49.04]\n",
      "4\n",
      "12727\n",
      "3182\n",
      "12727\n",
      "3182\n",
      "12727\n",
      "3182\n",
      "198900\n",
      "74972\n",
      "elseTest1, 355\n",
      "with wordnet\n",
      "train_word_count :  897130\n",
      "updated_train_word_count :  879998\n",
      "removed_train_word_count :  17132\n",
      "synonymCounter_training :  355\n",
      "normalCounter_training :  452248\n",
      "elseTest1, 97\n",
      "test_word_count :  200431\n",
      "updated_test_word_count :  194402\n",
      "removed_test_word_count :  6029\n",
      "synonymCounter_testing :  97\n",
      "normalCounter_testing :  108722\n",
      "Random Forest Classifier Accuracy(With Wordnet) :  [14.63, 23.01, 27.76, 31.97, 35.11, 37.92, 40.17, 42.74, 44.74, 46.24]\n",
      "without wordnet\n",
      "train_word_count :  897130\n",
      "updated_train_word_count :  879391\n",
      "removed_train_word_count :  17739\n",
      "test_word_count :  200431\n",
      "updated_test_word_count :  194216\n",
      "removed_test_word_count :  6215\n",
      "Random Forest Classifier Accuracy :  [14.28, 22.63, 28.49, 32.56, 35.45, 38.31, 40.99, 43.41, 44.88, 46.34]\n",
      "5\n",
      "15909\n",
      "3181\n",
      "15909\n",
      "3181\n",
      "15909\n",
      "3181\n",
      "202082\n",
      "75521\n",
      "elseTest1, 431\n",
      "with wordnet\n",
      "train_word_count :  1097561\n",
      "updated_train_word_count :  1076318\n",
      "removed_train_word_count :  21243\n",
      "synonymCounter_training :  431\n",
      "normalCounter_training :  563208\n",
      "elseTest1, 110\n",
      "test_word_count :  220587\n",
      "updated_test_word_count :  213848\n",
      "removed_test_word_count :  6739\n",
      "synonymCounter_testing :  110\n",
      "normalCounter_testing :  112193\n",
      "Random Forest Classifier Accuracy(With Wordnet) :  [16.61, 25.27, 30.53, 34.49, 37.47, 39.92, 42.55, 44.51, 46.51, 48.16]\n",
      "without wordnet\n",
      "train_word_count :  1097561\n",
      "updated_train_word_count :  1075579\n",
      "removed_train_word_count :  21982\n",
      "test_word_count :  220587\n",
      "updated_test_word_count :  213565\n",
      "removed_test_word_count :  7022\n",
      "Random Forest Classifier Accuracy :  [17.01, 25.42, 31.38, 35.41, 38.22, 40.85, 43.16, 45.13, 46.98, 48.39]\n",
      "6\n",
      "19090\n",
      "3182\n",
      "19090\n",
      "3182\n",
      "19090\n",
      "3182\n",
      "205263\n",
      "76148\n",
      "elseTest1, 514\n",
      "with wordnet\n",
      "train_word_count :  1318148\n",
      "updated_train_word_count :  1292634\n",
      "removed_train_word_count :  25514\n",
      "synonymCounter_training :  514\n",
      "normalCounter_training :  677267\n",
      "elseTest1, 113\n",
      "test_word_count :  225682\n",
      "updated_test_word_count :  218302\n",
      "removed_test_word_count :  7380\n",
      "synonymCounter_testing :  113\n",
      "normalCounter_testing :  109792\n",
      "Random Forest Classifier Accuracy(With Wordnet) :  [14.41, 20.98, 25.94, 28.86, 32.0, 34.82, 36.75, 38.92, 40.99, 42.95]\n",
      "without wordnet\n",
      "train_word_count :  1318148\n",
      "updated_train_word_count :  1291696\n",
      "removed_train_word_count :  26452\n",
      "test_word_count :  225682\n",
      "updated_test_word_count :  218046\n",
      "removed_test_word_count :  7636\n",
      "Random Forest Classifier Accuracy :  [14.41, 21.55, 25.79, 29.4, 32.14, 34.82, 37.25, 38.82, 40.71, 43.03]\n",
      "7\n",
      "22272\n",
      "3182\n",
      "22272\n",
      "3182\n",
      "22272\n",
      "3182\n",
      "208445\n",
      "76833\n",
      "elseTest1, 588\n",
      "with wordnet\n",
      "train_word_count :  1543830\n",
      "updated_train_word_count :  1513627\n",
      "removed_train_word_count :  30203\n",
      "synonymCounter_training :  588\n",
      "normalCounter_training :  788413\n",
      "elseTest1, 110\n",
      "test_word_count :  240050\n",
      "updated_test_word_count :  233094\n",
      "removed_test_word_count :  6956\n",
      "synonymCounter_testing :  110\n",
      "normalCounter_testing :  114300\n",
      "Random Forest Classifier Accuracy(With Wordnet) :  [13.87, 20.2, 25.18, 29.2, 32.35, 35.01, 37.29, 39.04, 41.42, 43.03]\n",
      "without wordnet\n",
      "train_word_count :  1543830\n",
      "updated_train_word_count :  1512521\n",
      "removed_train_word_count :  31309\n",
      "test_word_count :  240050\n",
      "updated_test_word_count :  232906\n",
      "removed_test_word_count :  7144\n",
      "Random Forest Classifier Accuracy :  [13.8, 19.96, 24.8, 28.72, 32.05, 34.57, 36.95, 39.09, 41.4, 42.63]\n",
      "8\n",
      "25454\n",
      "3182\n",
      "25454\n",
      "3182\n",
      "25454\n",
      "3182\n",
      "211627\n",
      "77445\n",
      "elseTest1, 670\n",
      "with wordnet\n",
      "train_word_count :  1783880\n",
      "updated_train_word_count :  1749250\n",
      "removed_train_word_count :  34630\n",
      "synonymCounter_training :  670\n",
      "normalCounter_training :  904377\n",
      "elseTest1, 97\n",
      "test_word_count :  241954\n",
      "updated_test_word_count :  234888\n",
      "removed_test_word_count :  7066\n",
      "synonymCounter_testing :  97\n",
      "normalCounter_testing :  114414\n",
      "Random Forest Classifier Accuracy(With Wordnet) :  [10.81, 16.56, 20.94, 24.5, 28.56, 31.82, 33.76, 35.81, 38.11, 39.83]\n",
      "without wordnet\n",
      "train_word_count :  1783880\n",
      "updated_train_word_count :  1748005\n",
      "removed_train_word_count :  35875\n",
      "test_word_count :  241954\n",
      "updated_test_word_count :  234703\n",
      "removed_test_word_count :  7251\n",
      "Random Forest Classifier Accuracy :  [11.0, 16.17, 21.31, 24.65, 28.31, 31.37, 34.35, 37.01, 38.81, 40.68]\n",
      "9\n",
      "28636\n",
      "3182\n",
      "28636\n",
      "3182\n",
      "28636\n",
      "3182\n",
      "214809\n",
      "78067\n",
      "elseTest1, 735\n",
      "with wordnet\n",
      "train_word_count :  2025834\n",
      "updated_train_word_count :  1986449\n",
      "removed_train_word_count :  39385\n",
      "synonymCounter_training :  735\n",
      "normalCounter_training :  1020593\n",
      "elseTest1, 79\n",
      "test_word_count :  251131\n",
      "updated_test_word_count :  244594\n",
      "removed_test_word_count :  6537\n",
      "synonymCounter_testing :  79\n",
      "normalCounter_testing :  108348\n",
      "Random Forest Classifier Accuracy(With Wordnet) :  [11.78, 19.67, 25.17, 29.58, 32.98, 35.34, 37.85, 40.05, 42.03, 43.42]\n",
      "without wordnet\n",
      "train_word_count :  2025834\n",
      "updated_train_word_count :  1985094\n",
      "removed_train_word_count :  40740\n",
      "test_word_count :  251131\n",
      "updated_test_word_count :  244413\n",
      "removed_test_word_count :  6718\n",
      "Random Forest Classifier Accuracy :  [12.23, 19.63, 25.69, 29.58, 33.02, 36.09, 37.92, 40.31, 42.0, 43.72]\n",
      "10\n",
      "31818\n",
      "3182\n",
      "31818\n",
      "3182\n",
      "31818\n",
      "3182\n",
      "217991\n",
      "78668\n",
      "elseTest1, 779\n",
      "with wordnet\n",
      "train_word_count :  2276965\n",
      "updated_train_word_count :  2233042\n",
      "removed_train_word_count :  43923\n",
      "synonymCounter_training :  779\n",
      "normalCounter_training :  1131747\n",
      "elseTest1, 70\n",
      "test_word_count :  241093\n",
      "updated_test_word_count :  235142\n",
      "removed_test_word_count :  5951\n",
      "synonymCounter_testing :  70\n",
      "normalCounter_testing :  108906\n",
      "Random Forest Classifier Accuracy(With Wordnet) :  [14.82, 21.98, 27.51, 31.06, 33.48, 36.08, 38.47, 40.35, 42.01, 43.56]\n",
      "without wordnet\n",
      "train_word_count :  2276965\n",
      "updated_train_word_count :  2231573\n",
      "removed_train_word_count :  45392\n",
      "test_word_count :  241093\n",
      "updated_test_word_count :  235004\n",
      "removed_test_word_count :  6089\n"
     ]
    },
    {
     "name": "stdout",
     "output_type": "stream",
     "text": [
      "Random Forest Classifier Accuracy :  [15.15, 21.66, 26.57, 30.48, 33.95, 35.86, 37.85, 40.13, 41.72, 43.09]\n"
     ]
    }
   ],
   "source": [
    "totalLength = len(all_data)\n",
    "trainingTestingLength = totalLength / (numCV + 1)\n",
    "\n",
    "rfc_accuracy_cv10 = []\n",
    "m_accuracy_cv10 = []\n",
    "nn_accuracy_cv10 = []\n",
    "rfc_accuracy_with_wordnet_cv10 = []\n",
    "m_accuracy_with_wordnet_cv10 = []\n",
    "nn_accuracy_with_wordnet_cv10 = []\n",
    "rfc_with_wordnet_elapsed_time_cv10 = []\n",
    "mlp_with_wordnet_elapsed_time_cv10 = []\n",
    "rfc_elapsed_time_cv10 = []\n",
    "mlp_elapsed_time_cv10 = []\n",
    "nn_elapsed_time_cv10 = []\n",
    "\n",
    "train_word_count_for_wordnet = []\n",
    "updated_train_word_count_for_wordnet = []\n",
    "test_word_count_for_wordnet = []\n",
    "updated_test_word_count_for_wordnet = []\n",
    "synonymCounter_training_for_wordnet = []\n",
    "normalCounter_training_for_wordnet = []\n",
    "synonymCounter_test_for_wordnet = []\n",
    "normalCounter_test_for_wordnet = []\n",
    "\n",
    "train_word_count_without_wordnet = []\n",
    "updated_train_word_count_without_wordnet = []\n",
    "test_word_count_without_wordnet = []\n",
    "updated_test_word_count_without_wordnet = []\n",
    "\n",
    "\n",
    "for i in range(1, numCV+1):\n",
    "    # Split cross validation set\n",
    "    print(i)\n",
    "    raw_train_data = raw_data[:int(i*trainingTestingLength)]\n",
    "    raw_test_data = raw_data[int(i*trainingTestingLength):int((i+1)*trainingTestingLength)]\n",
    "    train_data = all_data[:int(i*trainingTestingLength)]\n",
    "    test_data = all_data[int(i*trainingTestingLength):int((i+1)*trainingTestingLength)]\n",
    "    train_owner = all_owner[:int(i*trainingTestingLength)]\n",
    "    test_owner = all_owner[int(i*trainingTestingLength):int((i+1)*trainingTestingLength)]\n",
    "    \n",
    "    print(len(raw_train_data))\n",
    "    print(len(raw_test_data))\n",
    "    print(len(train_data))\n",
    "    print(len(test_data))\n",
    "    print(len(train_owner))\n",
    "    print(len(test_owner))\n",
    "    \n",
    "    data_for_word_2_vec = deep_data_list + train_data\n",
    "    \n",
    "    print(len(data_for_word_2_vec))\n",
    "    \n",
    "    wordvec_model = Word2Vec(data_for_word_2_vec, min_count=min_word_frequency, vector_size=embed_size_word2vec, window=context_window_word2vec)\n",
    "    vocabulary = set(wordvec_model.wv.index_to_key)\n",
    "    vocab_size = len(vocabulary)\n",
    "    \n",
    "    print(vocab_size)\n",
    "    \n",
    "    \n",
    "    updated_raw_train_data, updated_train_data, updated_train_owner, updated_raw_test_data, updated_test_data, updated_test_owner, train_word_count, test_word_count, updated_train_word_count, updated_test_word_count = getFilteredDataForWordnet(train_data, test_data, vocabulary)\n",
    "    \n",
    "    synonymCounter_training = 0\n",
    "    normalCounter_training = 0\n",
    "    \n",
    "    synonymCounter_training, normalCounter_training, X_matrix_train = getAvgFeatureVecsWithWordNet(updated_train_data, wordvec_model, embed_size_word2vec)\n",
    "    \n",
    "    print('with wordnet')\n",
    "    print('train_word_count : ', train_word_count)\n",
    "    print('updated_train_word_count : ', updated_train_word_count)\n",
    "    print('removed_train_word_count : ', train_word_count - updated_train_word_count)\n",
    "    print('synonymCounter_training : ', synonymCounter_training)\n",
    "    print('normalCounter_training : ', normalCounter_training)\n",
    "    \n",
    "    synonymCounter_testing = 0\n",
    "    normalCounter_testing = 0\n",
    "    \n",
    "    synonymCounter_testing, normalCounter_testing, X_matrix_test = getAvgFeatureVecsWithWordNet(updated_test_data, wordvec_model, embed_size_word2vec)\n",
    "    \n",
    "    print('test_word_count : ', test_word_count)\n",
    "    print('updated_test_word_count : ', updated_test_word_count)\n",
    "    print('removed_test_word_count : ', test_word_count - updated_test_word_count)\n",
    "    print('synonymCounter_testing : ', synonymCounter_testing)\n",
    "    print('normalCounter_testing : ', normalCounter_testing)\n",
    "    \n",
    "    train_word_count_for_wordnet.append(train_word_count)\n",
    "    updated_train_word_count_for_wordnet.append(updated_train_word_count)\n",
    "    test_word_count_for_wordnet.append(test_word_count)\n",
    "    updated_test_word_count_for_wordnet.append(updated_test_word_count)\n",
    "    synonymCounter_training_for_wordnet.append(synonymCounter_training)\n",
    "    normalCounter_training_for_wordnet.append(normalCounter_training)\n",
    "    synonymCounter_test_for_wordnet.append(synonymCounter_testing)\n",
    "    normalCounter_test_for_wordnet.append(normalCounter_testing)\n",
    "    \n",
    "    \n",
    "    randomForestClassifier, rfc_accuracy_with_wordnet, classes, rfc_index_with_wordnet_cv10, rfc_with_wordnet_elapsed_time = getRandomForestClassifierAccuracy(X_matrix_train, updated_train_owner, \n",
    "                                                                      X_matrix_test, updated_test_owner)\n",
    "    \n",
    "\n",
    "    print('Random Forest Classifier Accuracy(With Wordnet) : ', rfc_accuracy_with_wordnet)\n",
    "    \n",
    "    del randomForestClassifier\n",
    "    \n",
    "    updated_raw_train_data, updated_train_data, updated_train_owner, updated_raw_test_data, updated_test_data, updated_test_owner, train_word_count, test_word_count, updated_train_word_count, updated_test_word_count = getFilteredData(train_data, test_data, vocabulary)\n",
    "    \n",
    "    X_matrix_train = getAvgFeatureVecs(updated_train_data, wordvec_model, embed_size_word2vec)\n",
    "    X_matrix_test = getAvgFeatureVecs(updated_test_data, wordvec_model, embed_size_word2vec)\n",
    "    \n",
    "    print('without wordnet')\n",
    "    print('train_word_count : ', train_word_count)\n",
    "    print('updated_train_word_count : ', updated_train_word_count)\n",
    "    print('removed_train_word_count : ', train_word_count - updated_train_word_count)\n",
    "    print('test_word_count : ', test_word_count)\n",
    "    print('updated_test_word_count : ', updated_test_word_count)\n",
    "    print('removed_test_word_count : ', test_word_count - updated_test_word_count)\n",
    "    \n",
    "    train_word_count_without_wordnet.append(train_word_count)\n",
    "    updated_train_word_count_without_wordnet.append(updated_train_word_count)\n",
    "    test_word_count_without_wordnet.append(test_word_count)\n",
    "    updated_test_word_count_without_wordnet.append(updated_test_word_count)\n",
    "    \n",
    "    \n",
    "    randomForestClassifier, rfc_accuracy, classes, rfc_index_cv10, rfc_elapsed_time = getRandomForestClassifierAccuracy(X_matrix_train, \n",
    "                                                                              updated_train_owner, \n",
    "                                                                              X_matrix_test, \n",
    "                                                                              updated_test_owner)\n",
    "    \n",
    "\n",
    "    print('Random Forest Classifier Accuracy : ', rfc_accuracy)\n",
    "\n",
    "    del randomForestClassifier\n",
    "    \n",
    "    rfc_accuracy_cv10.append(rfc_accuracy)\n",
    "    rfc_accuracy_with_wordnet_cv10.append(rfc_accuracy_with_wordnet)\n",
    "    \n",
    "    \n",
    "    rfc_with_wordnet_elapsed_time_cv10.append(rfc_with_wordnet_elapsed_time)\n",
    "    rfc_elapsed_time_cv10.append(rfc_elapsed_time)\n",
    "    "
   ]
  },
  {
   "cell_type": "code",
   "execution_count": 20,
   "id": "2363480d",
   "metadata": {},
   "outputs": [
    {
     "name": "stdout",
     "output_type": "stream",
     "text": [
      "train_word_count_for_wordnet:  [219089, 445835, 664971, 897130, 1097561, 1318148, 1543830, 1783880, 2025834, 2276965]\n",
      "updated_train_word_count_for_wordnet:  [213774, 436356, 651751, 879998, 1076318, 1292634, 1513627, 1749250, 1986449, 2233042]\n",
      "test_word_count_for_wordnet:  [226746, 219136, 232159, 200431, 220587, 225682, 240050, 241954, 251131, 241093]\n",
      "updated_test_word_count_for_wordnet:  [220245, 213389, 225844, 194402, 213848, 218302, 233094, 234888, 244594, 235142]\n",
      "synonymCounter_training_for_wordnet:  [117, 194, 269, 355, 431, 514, 588, 670, 735, 779]\n",
      "normalCounter_training_for_wordnet:  [108051, 219097, 333025, 452248, 563208, 677267, 788413, 904377, 1020593, 1131747]\n",
      "synonymCounter_test_for_wordnet:  [84, 102, 125, 97, 110, 113, 110, 97, 79, 70]\n",
      "normalCounter_test_for_wordnet:  [108336, 111322, 116425, 108722, 112193, 109792, 114300, 114414, 108348, 108906]\n",
      "train_word_count_without_wordnet:  [219089, 445835, 664971, 897130, 1097561, 1318148, 1543830, 1783880, 2025834, 2276965]\n",
      "updated_train_word_count_without_wordnet:  [213579, 436035, 651285, 879391, 1075579, 1291696, 1512521, 1748005, 1985094, 2231573]\n",
      "test_word_count_without_wordnet:  [226746, 219136, 232159, 200431, 220587, 225682, 240050, 241954, 251131, 241093]\n",
      "updated_test_word_count_without_wordnet:  [220096, 213194, 225635, 194216, 213565, 218046, 232906, 234703, 244413, 235004]\n"
     ]
    }
   ],
   "source": [
    "print('train_word_count_for_wordnet: ', train_word_count_for_wordnet)\n",
    "print('updated_train_word_count_for_wordnet: ', updated_train_word_count_for_wordnet)\n",
    "print('test_word_count_for_wordnet: ', test_word_count_for_wordnet)\n",
    "print('updated_test_word_count_for_wordnet: ', updated_test_word_count_for_wordnet)\n",
    "print('synonymCounter_training_for_wordnet: ', synonymCounter_training_for_wordnet)\n",
    "print('normalCounter_training_for_wordnet: ', normalCounter_training_for_wordnet)\n",
    "print('synonymCounter_test_for_wordnet: ', synonymCounter_test_for_wordnet)\n",
    "print('normalCounter_test_for_wordnet: ', normalCounter_test_for_wordnet)\n",
    "\n",
    "print('train_word_count_without_wordnet: ',train_word_count_without_wordnet)\n",
    "print('updated_train_word_count_without_wordnet: ', updated_train_word_count_without_wordnet)\n",
    "print('test_word_count_without_wordnet: ',test_word_count_without_wordnet)\n",
    "print('updated_test_word_count_without_wordnet: ', updated_test_word_count_without_wordnet)"
   ]
  },
  {
   "cell_type": "code",
   "execution_count": 21,
   "id": "d250872e",
   "metadata": {},
   "outputs": [
    {
     "name": "stdout",
     "output_type": "stream",
     "text": [
      "[[13.65, 22.4, 28.01, 33.23, 38.05, 41.66, 44.59, 47.66, 50.3, 52.52], [17.86, 27.41, 34.02, 39.49, 43.79, 47.59, 50.28, 52.59, 54.97, 57.24], [15.54, 23.89, 29.23, 33.54, 37.61, 40.31, 43.09, 45.55, 47.5, 49.04], [14.28, 22.63, 28.49, 32.56, 35.45, 38.31, 40.99, 43.41, 44.88, 46.34], [17.01, 25.42, 31.38, 35.41, 38.22, 40.85, 43.16, 45.13, 46.98, 48.39], [14.41, 21.55, 25.79, 29.4, 32.14, 34.82, 37.25, 38.82, 40.71, 43.03], [13.8, 19.96, 24.8, 28.72, 32.05, 34.57, 36.95, 39.09, 41.4, 42.63], [11.0, 16.17, 21.31, 24.65, 28.31, 31.37, 34.35, 37.01, 38.81, 40.68], [12.23, 19.63, 25.69, 29.58, 33.02, 36.09, 37.92, 40.31, 42.0, 43.72], [15.15, 21.66, 26.57, 30.48, 33.95, 35.86, 37.85, 40.13, 41.72, 43.09]]\n"
     ]
    }
   ],
   "source": [
    "print(rfc_accuracy_cv10)"
   ]
  },
  {
   "cell_type": "code",
   "execution_count": 22,
   "id": "c1e4a57d",
   "metadata": {},
   "outputs": [],
   "source": [
    "rfc_accuracy_cv10_with_avg = rfc_accuracy_cv10"
   ]
  },
  {
   "cell_type": "code",
   "execution_count": 23,
   "id": "850c7a32",
   "metadata": {},
   "outputs": [
    {
     "name": "stdout",
     "output_type": "stream",
     "text": [
      "[[13.89, 22.39, 27.79, 33.32, 38.0, 41.64, 45.5, 48.07, 50.79, 52.89], [17.72, 26.7, 33.98, 39.67, 44.14, 47.55, 50.64, 52.91, 54.79, 56.96], [15.81, 23.85, 29.35, 34.14, 37.56, 40.61, 43.0, 45.36, 47.66, 49.54], [14.63, 23.01, 27.76, 31.97, 35.11, 37.92, 40.17, 42.74, 44.74, 46.24], [16.61, 25.27, 30.53, 34.49, 37.47, 39.92, 42.55, 44.51, 46.51, 48.16], [14.41, 20.98, 25.94, 28.86, 32.0, 34.82, 36.75, 38.92, 40.99, 42.95], [13.87, 20.2, 25.18, 29.2, 32.35, 35.01, 37.29, 39.04, 41.42, 43.03], [10.81, 16.56, 20.94, 24.5, 28.56, 31.82, 33.76, 35.81, 38.11, 39.83], [11.78, 19.67, 25.17, 29.58, 32.98, 35.34, 37.85, 40.05, 42.03, 43.42], [14.82, 21.98, 27.51, 31.06, 33.48, 36.08, 38.47, 40.35, 42.01, 43.56]]\n"
     ]
    }
   ],
   "source": [
    "print(rfc_accuracy_with_wordnet_cv10)"
   ]
  },
  {
   "cell_type": "code",
   "execution_count": 24,
   "id": "b0323993",
   "metadata": {},
   "outputs": [],
   "source": [
    "rfc_accuracy_with_wordnet_cv10_with_avg = rfc_accuracy_with_wordnet_cv10"
   ]
  },
  {
   "cell_type": "code",
   "execution_count": 25,
   "id": "0cf8c64f",
   "metadata": {},
   "outputs": [],
   "source": [
    "rfc_accuracy_avg = [float('{0:.2f}'.format(float(sum(l))/len(l))) for l in zip(*rfc_accuracy_cv10)]\n",
    "rfc_accuracy_with_wordnet_avg = [float('{0:.2f}'.format(float(sum(l))/len(l))) for l in zip(*rfc_accuracy_with_wordnet_cv10)]"
   ]
  },
  {
   "cell_type": "code",
   "execution_count": 26,
   "id": "2d20678e",
   "metadata": {},
   "outputs": [
    {
     "name": "stdout",
     "output_type": "stream",
     "text": [
      "[14.49, 22.07, 27.53, 31.71, 35.26, 38.14, 40.64, 42.97, 44.93, 46.67]\n"
     ]
    }
   ],
   "source": [
    "print(rfc_accuracy_avg)"
   ]
  },
  {
   "cell_type": "code",
   "execution_count": 27,
   "id": "807f392d",
   "metadata": {},
   "outputs": [
    {
     "name": "stdout",
     "output_type": "stream",
     "text": [
      "[14.43, 22.06, 27.42, 31.68, 35.17, 38.07, 40.6, 42.78, 44.91, 46.66]\n"
     ]
    }
   ],
   "source": [
    "print(rfc_accuracy_with_wordnet_avg)"
   ]
  },
  {
   "cell_type": "code",
   "execution_count": 28,
   "id": "e0abc60f",
   "metadata": {},
   "outputs": [],
   "source": [
    "rfc_accuracy_cv10_with_avg.append(rfc_accuracy_avg)"
   ]
  },
  {
   "cell_type": "code",
   "execution_count": 29,
   "id": "b97d8be0",
   "metadata": {},
   "outputs": [],
   "source": [
    "rfc_accuracy_with_wordnet_cv10_with_avg.append(rfc_accuracy_with_wordnet_avg)"
   ]
  },
  {
   "cell_type": "code",
   "execution_count": 30,
   "id": "23c24880",
   "metadata": {},
   "outputs": [
    {
     "name": "stdout",
     "output_type": "stream",
     "text": [
      "13.65  17.86  15.54  14.28  17.01  14.41  13.8  11.0  12.23  15.15  14.49\n",
      "38.05  43.79  37.61  35.45  38.22  32.14  32.05  28.31  33.02  33.95  35.26\n",
      "52.52  57.24  49.04  46.34  48.39  43.03  42.63  40.68  43.72  43.09  46.67\n"
     ]
    }
   ],
   "source": [
    "rfc_accuracy_cv10_with_avg_rank1, rfc_accuracy_cv10_with_avg_rank5, rfc_accuracy_cv10_with_avg_rank10 = getRank1_5_10_data(rfc_accuracy_cv10_with_avg)         \n",
    "    \n",
    "print(rfc_accuracy_cv10_with_avg_rank1)\n",
    "print(rfc_accuracy_cv10_with_avg_rank5)\n",
    "print(rfc_accuracy_cv10_with_avg_rank10)"
   ]
  },
  {
   "cell_type": "code",
   "execution_count": 31,
   "id": "43201462",
   "metadata": {},
   "outputs": [
    {
     "name": "stdout",
     "output_type": "stream",
     "text": [
      "13.65  17.86  15.54  14.28  17.01  14.41  13.8  11.0  12.23  15.15  14.49\n",
      "38.05  43.79  37.61  35.45  38.22  32.14  32.05  28.31  33.02  33.95  35.26\n",
      "52.52  57.24  49.04  46.34  48.39  43.03  42.63  40.68  43.72  43.09  46.67\n"
     ]
    }
   ],
   "source": [
    "print(rfc_accuracy_cv10_with_avg_rank1)\n",
    "print(rfc_accuracy_cv10_with_avg_rank5)\n",
    "print(rfc_accuracy_cv10_with_avg_rank10)"
   ]
  },
  {
   "cell_type": "code",
   "execution_count": 32,
   "id": "3063643c",
   "metadata": {},
   "outputs": [
    {
     "name": "stdout",
     "output_type": "stream",
     "text": [
      "13.89  17.72  15.81  14.63  16.61  14.41  13.87  10.81  11.78  14.82  14.43\n",
      "38.0  44.14  37.56  35.11  37.47  32.0  32.35  28.56  32.98  33.48  35.17\n",
      "52.89  56.96  49.54  46.24  48.16  42.95  43.03  39.83  43.42  43.56  46.66\n"
     ]
    }
   ],
   "source": [
    "rfc_accuracy_with_wordnet_cv10_with_avg_rank1, rfc_accuracy_with_wordnet_cv10_with_avg_rank5, rfc_accuracy_with_wordnet_cv10_with_avg_rank10 = getRank1_5_10_data(rfc_accuracy_with_wordnet_cv10_with_avg)         \n",
    "    \n",
    "print(rfc_accuracy_with_wordnet_cv10_with_avg_rank1)\n",
    "print(rfc_accuracy_with_wordnet_cv10_with_avg_rank5)\n",
    "print(rfc_accuracy_with_wordnet_cv10_with_avg_rank10)"
   ]
  },
  {
   "cell_type": "code",
   "execution_count": 33,
   "id": "b9763f3c",
   "metadata": {},
   "outputs": [
    {
     "data": {
      "text/plain": [
       "[12.417125225067139,\n",
       " 32.98961091041565,\n",
       " 59.76059579849243,\n",
       " 102.79658007621765,\n",
       " 143.92229413986206,\n",
       " 191.65159511566162,\n",
       " 251.03402304649353,\n",
       " 301.61003279685974,\n",
       " 358.9955208301544,\n",
       " 427.446270942688]"
      ]
     },
     "execution_count": 33,
     "metadata": {},
     "output_type": "execute_result"
    }
   ],
   "source": [
    "rfc_with_wordnet_elapsed_time_cv10"
   ]
  },
  {
   "cell_type": "code",
   "execution_count": 34,
   "id": "b1672837",
   "metadata": {},
   "outputs": [
    {
     "name": "stdout",
     "output_type": "stream",
     "text": [
      "188.26236488819123\n"
     ]
    }
   ],
   "source": [
    "print(np.mean(rfc_with_wordnet_elapsed_time_cv10))"
   ]
  },
  {
   "cell_type": "code",
   "execution_count": 35,
   "id": "9511548e",
   "metadata": {},
   "outputs": [
    {
     "data": {
      "text/plain": [
       "[11.774103164672852,\n",
       " 33.103240966796875,\n",
       " 59.983924865722656,\n",
       " 100.78099298477173,\n",
       " 142.5953769683838,\n",
       " 189.5070149898529,\n",
       " 251.4755880832672,\n",
       " 300.1940047740936,\n",
       " 356.40717482566833,\n",
       " 427.16994881629944]"
      ]
     },
     "execution_count": 35,
     "metadata": {},
     "output_type": "execute_result"
    }
   ],
   "source": [
    "rfc_elapsed_time_cv10"
   ]
  },
  {
   "cell_type": "code",
   "execution_count": 36,
   "id": "d69ab58d",
   "metadata": {},
   "outputs": [
    {
     "name": "stdout",
     "output_type": "stream",
     "text": [
      "187.29913704395295\n"
     ]
    }
   ],
   "source": [
    "print(np.mean(rfc_elapsed_time_cv10))"
   ]
  },
  {
   "cell_type": "code",
   "execution_count": 37,
   "id": "2b359993",
   "metadata": {},
   "outputs": [
    {
     "name": "stdout",
     "output_type": "stream",
     "text": [
      "[14.49, 22.07, 27.53, 31.71, 35.26, 38.14, 40.64, 42.97, 44.93, 46.67]\n"
     ]
    }
   ],
   "source": [
    "print(rfc_accuracy_avg)"
   ]
  },
  {
   "cell_type": "code",
   "execution_count": 38,
   "id": "7079255c",
   "metadata": {},
   "outputs": [
    {
     "name": "stdout",
     "output_type": "stream",
     "text": [
      "[14.43, 22.06, 27.42, 31.68, 35.17, 38.07, 40.6, 42.78, 44.91, 46.66]\n"
     ]
    }
   ],
   "source": [
    "print(rfc_accuracy_with_wordnet_avg)"
   ]
  },
  {
   "cell_type": "code",
   "execution_count": 39,
   "id": "1f525997",
   "metadata": {},
   "outputs": [],
   "source": [
    "rfc_accuracy_avg = [14.49, 22.07, 27.53, 31.71, 35.26, 38.14, 40.64, 42.97, 44.93, 46.67]\n",
    "rfc_accuracy_with_wordnet_avg = [14.43, 22.06, 27.42, 31.68, 35.17, 38.07, 40.6, 42.78, 44.91, 46.66]"
   ]
  },
  {
   "cell_type": "code",
   "execution_count": 40,
   "id": "1475a498",
   "metadata": {},
   "outputs": [
    {
     "data": {
      "image/png": "[encoded data removed]",
      "text/plain": [
       "<Figure size 432x288 with 1 Axes>"
      ]
     },
     "metadata": {
      "needs_background": "light"
     },
     "output_type": "display_data"
    }
   ],
   "source": [
    "# x = range(1,12)\n",
    "y = range(0,70)\n",
    "\n",
    "plt.plot(rfc_accuracy_avg, color='red',label ='Without Wordnet')\n",
    "plt.plot(rfc_accuracy_with_wordnet_avg, color='green',label ='With Wordnet')\n",
    "plt.title('Mozilla Core : With Wordnet Vs Without Wordnet.')\n",
    "plt.xlabel('Rank')\n",
    "plt.ylabel('Accuracy(%)')\n",
    "plt.xticks([r for r in range(10)],\n",
    "        ['1', '2', '3', '4', '5','6', '7', '8', '9', '10'])\n",
    "plt.yticks(np.arange(0, 80, 10))\n",
    "plt.legend()\n",
    "# plt.show()\n",
    "\n",
    "plt.savefig('rf_word2vec_mc_with_or_without_wordnet.png')"
   ]
  },
  {
   "cell_type": "code",
   "execution_count": 41,
   "id": "cd5d9b1c",
   "metadata": {},
   "outputs": [
    {
     "data": {
      "image/png": "[encoded data removed]",
      "text/plain": [
       "<Figure size 864x864 with 1 Axes>"
      ]
     },
     "metadata": {
      "needs_background": "light"
     },
     "output_type": "display_data"
    }
   ],
   "source": [
    "y = range(0,70)\n",
    "# set width of bar\n",
    "barWidth = 0.20\n",
    "fig = plt.subplots(figsize =(12, 12))\n",
    " \n",
    "# Set position of bar on X axis\n",
    "br1 = np.arange(10)\n",
    "br2 = [x + barWidth for x in br1]\n",
    "\n",
    "# Make the plot\n",
    "plt.bar(br1, rfc_accuracy_avg, color ='b', width = barWidth,\n",
    "        edgecolor ='grey', label ='Without Wordnet')\n",
    "plt.bar(br2, rfc_accuracy_with_wordnet_avg, color ='g', width = barWidth,\n",
    "        edgecolor ='grey', label ='With Wordnet')\n",
    " \n",
    "# Adding Xticks\n",
    "plt.xlabel('Rank')\n",
    "plt.ylabel('Accuracy(%)')\n",
    "plt.xticks([r + barWidth for r in range(10)],\n",
    "       ['K=1', 'K=2', 'K=3', 'K=4', 'K=5', 'K=6', 'K=7', 'K=8', 'K=9', 'K=10'])\n",
    "plt.yticks(np.arange(0, 70, 10))\n",
    "\n",
    "plt.title('Mozilla Core: With Wordnet Vs Without Wordnet.')\n",
    " \n",
    "plt.legend()\n",
    "\n",
    "# plt.show()\n",
    "\n",
    "plt.savefig('mc_rf_with_or_without_wordnet.png')"
   ]
  },
  {
   "cell_type": "code",
   "execution_count": 42,
   "id": "d6bf1ffc",
   "metadata": {},
   "outputs": [],
   "source": [
    "rfc_accuracy_avg_rank = []\n",
    "rfc_accuracy_with_wordnet_avg_rank = []\n",
    "\n",
    "rfc_accuracy_avg_rank.append(rfc_accuracy_avg[0])\n",
    "rfc_accuracy_avg_rank.append(rfc_accuracy_avg[4])\n",
    "rfc_accuracy_avg_rank.append(rfc_accuracy_avg[9])\n",
    "\n",
    "rfc_accuracy_with_wordnet_avg_rank.append(rfc_accuracy_with_wordnet_avg[0])\n",
    "rfc_accuracy_with_wordnet_avg_rank.append(rfc_accuracy_with_wordnet_avg[4])\n",
    "rfc_accuracy_with_wordnet_avg_rank.append(rfc_accuracy_with_wordnet_avg[9])"
   ]
  },
  {
   "cell_type": "code",
   "execution_count": 43,
   "id": "4d169a16",
   "metadata": {},
   "outputs": [
    {
     "name": "stdout",
     "output_type": "stream",
     "text": [
      "[14.49, 35.26, 46.67]\n",
      "[14.43, 35.17, 46.66]\n"
     ]
    }
   ],
   "source": [
    "print(rfc_accuracy_avg_rank)\n",
    "print(rfc_accuracy_with_wordnet_avg_rank)"
   ]
  },
  {
   "cell_type": "code",
   "execution_count": 44,
   "id": "134d89b0",
   "metadata": {},
   "outputs": [
    {
     "data": {
      "image/png": "[encoded data removed]",
      "text/plain": [
       "<Figure size 432x576 with 1 Axes>"
      ]
     },
     "metadata": {
      "needs_background": "light"
     },
     "output_type": "display_data"
    }
   ],
   "source": [
    "# set width of bar\n",
    "barWidth = 0.15\n",
    "fig = plt.subplots(figsize =(6, 8))\n",
    " \n",
    "# Set position of bar on X axis\n",
    "br1 = np.arange(3)\n",
    "br2 = [x + barWidth for x in br1]\n",
    "\n",
    "\n",
    "# Make the plot\n",
    "plt.bar(br1, rfc_accuracy_avg_rank, color ='b', width = barWidth,\n",
    "        edgecolor ='grey', label ='rfc_accuracy')\n",
    "plt.bar(br2, rfc_accuracy_with_wordnet_avg_rank, color ='g', width = barWidth,\n",
    "        edgecolor ='grey', label ='rfc_accuracy_with_wordnet')\n",
    " \n",
    "# Adding Xticks\n",
    "plt.xlabel('X-axis', fontweight ='bold', fontsize = 15)\n",
    "plt.ylabel('Y-axis', fontweight ='bold', fontsize = 15)\n",
    "plt.xticks([r + barWidth for r in range(3)],\n",
    "        ['K=1', 'K=5', 'K=10'])\n",
    "\n",
    "# plt.title('Accuracy with or without wordnet (Rank 1, 5 and 10): BiDirectional Neural Network')\n",
    " \n",
    "plt.legend()\n",
    "\n",
    "# plt.show()\n",
    "\n",
    "plt.savefig('Accuracy_Random_Forest_with_or_without_wordnet_bar_rank_mc.png')"
   ]
  }
 ],
 "metadata": {
  "kernelspec": {
   "display_name": "Python 3 (ipykernel)",
   "language": "python",
   "name": "python3"
  },
  "language_info": {
   "codemirror_mode": {
    "name": "ipython",
    "version": 3
   },
   "file_extension": ".py",
   "mimetype": "text/x-python",
   "name": "python",
   "nbconvert_exporter": "python",
   "pygments_lexer": "ipython3",
   "version": "3.7.13"
  }
 },
 "nbformat": 4,
 "nbformat_minor": 5
}
